{
 "cells": [
  {
   "cell_type": "markdown",
   "metadata": {},
   "source": [
    "**We will try 3 types of models - **\n",
    "1. BOW model, Tf-idf\n",
    "2. Word embeddings (GLOVE, Word2Vec, FastText)\n",
    "3. RNN, LSTM, BiDirectional GRU, SImple RNN, Stacked LSTM\n",
    "\n",
    "**Experiment 1 **\n",
    "\n",
    "1. Mix all the paragraphs and split the data to a 80-20 split\n",
    "2. Build the 3 models listed earlier and compute the confusion matrix for the training and testing datasets.\n",
    "3. Discuss how your models perform.\n"
   ]
  },
  {
   "cell_type": "code",
   "execution_count": 2,
   "metadata": {},
   "outputs": [],
   "source": [
    "import pandas as pd\n",
    "import keras \n",
    "from keras.preprocessing.text import text_to_word_sequence\n",
    "from keras.preprocessing.text import Tokenizer\n",
    "from keras.activations import relu\n",
    "from keras.optimizers import adam, adadelta\n",
    "from keras.layers import Dense, Dropout\n",
    "from keras.preprocessing.sequence import pad_sequences\n",
    "from nltk.tokenize import word_tokenize"
   ]
  },
  {
   "cell_type": "code",
   "execution_count": 15,
   "metadata": {},
   "outputs": [
    {
     "data": {
      "text/html": [
       "<div>\n",
       "<style scoped>\n",
       "    .dataframe tbody tr th:only-of-type {\n",
       "        vertical-align: middle;\n",
       "    }\n",
       "\n",
       "    .dataframe tbody tr th {\n",
       "        vertical-align: top;\n",
       "    }\n",
       "\n",
       "    .dataframe thead th {\n",
       "        text-align: right;\n",
       "    }\n",
       "</style>\n",
       "<table border=\"1\" class=\"dataframe\">\n",
       "  <thead>\n",
       "    <tr style=\"text-align: right;\">\n",
       "      <th></th>\n",
       "      <th>sentiment</th>\n",
       "      <th>text</th>\n",
       "    </tr>\n",
       "  </thead>\n",
       "  <tbody>\n",
       "    <tr>\n",
       "      <th>0</th>\n",
       "      <td>positive</td>\n",
       "      <td>thank good welcome conference call fourth quar...</td>\n",
       "    </tr>\n",
       "    <tr>\n",
       "      <th>1</th>\n",
       "      <td>positive</td>\n",
       "      <td>look past expect channel inventory correction ...</td>\n",
       "    </tr>\n",
       "    <tr>\n",
       "      <th>2</th>\n",
       "      <td>neutral</td>\n",
       "      <td>last question come line harlan sur jp</td>\n",
       "    </tr>\n",
       "    <tr>\n",
       "      <th>3</th>\n",
       "      <td>negative</td>\n",
       "      <td>china game slow economic environment governmen...</td>\n",
       "    </tr>\n",
       "    <tr>\n",
       "      <th>4</th>\n",
       "      <td>negative</td>\n",
       "      <td>know could tear tease know consumer market rel...</td>\n",
       "    </tr>\n",
       "  </tbody>\n",
       "</table>\n",
       "</div>"
      ],
      "text/plain": [
       "  sentiment                                               text\n",
       "0  positive  thank good welcome conference call fourth quar...\n",
       "1  positive  look past expect channel inventory correction ...\n",
       "2   neutral              last question come line harlan sur jp\n",
       "3  negative  china game slow economic environment governmen...\n",
       "4  negative  know could tear tease know consumer market rel..."
      ]
     },
     "execution_count": 15,
     "metadata": {},
     "output_type": "execute_result"
    }
   ],
   "source": [
    "transcript = pd.read_csv('Earnings_Call_Transcript.csv')\n",
    "transcript.drop(columns='Unnamed: 0', axis=1).head()"
   ]
  },
  {
   "cell_type": "code",
   "execution_count": 17,
   "metadata": {},
   "outputs": [],
   "source": [
    "transcript['text'] = transcript['text'].astype(str)"
   ]
  },
  {
   "cell_type": "code",
   "execution_count": 5,
   "metadata": {},
   "outputs": [
    {
     "data": {
      "text/plain": [
       "neutral     833\n",
       "positive    654\n",
       "negative    157\n",
       "Name: sentiment, dtype: int64"
      ]
     },
     "execution_count": 5,
     "metadata": {},
     "output_type": "execute_result"
    }
   ],
   "source": [
    "transcript['sentiment'].value_counts()"
   ]
  },
  {
   "cell_type": "code",
   "execution_count": 6,
   "metadata": {},
   "outputs": [
    {
     "data": {
      "text/plain": [
       "['thank',\n",
       " 'good',\n",
       " 'welcome',\n",
       " 'conference',\n",
       " 'call',\n",
       " 'fourth',\n",
       " 'quarter',\n",
       " 'fiscal',\n",
       " 'call',\n",
       " 'today',\n",
       " 'nvidia',\n",
       " 'president',\n",
       " 'chief',\n",
       " 'executive',\n",
       " 'officer',\n",
       " 'colette',\n",
       " 'executive',\n",
       " 'vice',\n",
       " 'president',\n",
       " 'chief',\n",
       " 'financial',\n",
       " 'like',\n",
       " 'remind',\n",
       " 'call',\n",
       " 'webcast',\n",
       " 'live',\n",
       " 'investor',\n",
       " 'relation',\n",
       " 'web']"
      ]
     },
     "execution_count": 6,
     "metadata": {},
     "output_type": "execute_result"
    }
   ],
   "source": [
    "tokens = text_to_word_sequence(transcript['text'][0])\n",
    "tokens"
   ]
  },
  {
   "cell_type": "code",
   "execution_count": 11,
   "metadata": {},
   "outputs": [
    {
     "data": {
      "text/plain": [
       "str"
      ]
     },
     "execution_count": 11,
     "metadata": {},
     "output_type": "execute_result"
    }
   ],
   "source": [
    "type(transcript['text'][0])"
   ]
  },
  {
   "cell_type": "code",
   "execution_count": 13,
   "metadata": {},
   "outputs": [],
   "source": [
    "tokenizer = Tokenizer(num_words=10000)\n",
    "tokenizer.fit_on_texts(transcript['text'].astype('str'))"
   ]
  },
  {
   "cell_type": "code",
   "execution_count": 29,
   "metadata": {
    "scrolled": true
   },
   "outputs": [
    {
     "data": {
      "text/plain": [
       "array([[   0,    0,    0, ...,  314,  808, 1105],\n",
       "       [ 354, 1566,  929, ..., 2383,  366,   73],\n",
       "       [   0,    0,    0, ..., 2384, 2385, 1840],\n",
       "       ...,\n",
       "       [   0,    0,    0, ...,    0,  927, 1550],\n",
       "       [   0,    0,    0, ...,   28,   96, 1902],\n",
       "       [   0,    0,    0, ...,    0,  353,  482]])"
      ]
     },
     "execution_count": 29,
     "metadata": {},
     "output_type": "execute_result"
    }
   ],
   "source": [
    "sequence = tokenizer.texts_to_sequences(transcript['text'])\n",
    "data = pad_sequences(sequence, maxlen= 50)\n",
    "data"
   ]
  },
  {
   "cell_type": "code",
   "execution_count": 30,
   "metadata": {},
   "outputs": [
    {
     "data": {
      "text/plain": [
       "(1644, 50)"
      ]
     },
     "execution_count": 30,
     "metadata": {},
     "output_type": "execute_result"
    }
   ],
   "source": [
    "data.shape"
   ]
  },
  {
   "cell_type": "code",
   "execution_count": 33,
   "metadata": {},
   "outputs": [
    {
     "data": {
      "text/plain": [
       "array([2, 2, 1, ..., 1, 0, 1], dtype=int64)"
      ]
     },
     "execution_count": 33,
     "metadata": {},
     "output_type": "execute_result"
    }
   ],
   "source": [
    "from sklearn.preprocessing import LabelEncoder\n",
    "\n",
    "le = LabelEncoder()\n",
    "labels = le.fit_transform(transcript['sentiment'])\n",
    "labels"
   ]
  },
  {
   "cell_type": "code",
   "execution_count": 34,
   "metadata": {},
   "outputs": [
    {
     "data": {
      "text/plain": [
       "(1644,)"
      ]
     },
     "execution_count": 34,
     "metadata": {},
     "output_type": "execute_result"
    }
   ],
   "source": [
    "labels.shape"
   ]
  },
  {
   "cell_type": "markdown",
   "metadata": {},
   "source": [
    "Lets us start building our first model using Logistic Regression"
   ]
  },
  {
   "cell_type": "code",
   "execution_count": 35,
   "metadata": {},
   "outputs": [],
   "source": [
    "from sklearn.model_selection import train_test_split\n",
    "\n",
    "x_train, x_test, y_train, y_test = train_test_split(data, labels, test_size=0.2, random_state=42)"
   ]
  },
  {
   "cell_type": "code",
   "execution_count": 37,
   "metadata": {},
   "outputs": [],
   "source": [
    "from keras.utils import to_categorical\n",
    "\n",
    "y_train = to_categorical(y_train,3)\n",
    "y_test = to_categorical(y_test, 3)"
   ]
  },
  {
   "cell_type": "code",
   "execution_count": 41,
   "metadata": {},
   "outputs": [
    {
     "data": {
      "text/plain": [
       "array([[0., 1., 0.],\n",
       "       [0., 1., 0.],\n",
       "       [0., 0., 1.],\n",
       "       ...,\n",
       "       [0., 0., 1.],\n",
       "       [0., 1., 0.],\n",
       "       [0., 1., 0.]], dtype=float32)"
      ]
     },
     "execution_count": 41,
     "metadata": {},
     "output_type": "execute_result"
    }
   ],
   "source": [
    "y_train"
   ]
  },
  {
   "cell_type": "code",
   "execution_count": 47,
   "metadata": {},
   "outputs": [
    {
     "name": "stdout",
     "output_type": "stream",
     "text": [
      "_________________________________________________________________\n",
      "Layer (type)                 Output Shape              Param #   \n",
      "=================================================================\n",
      "embedding_3 (Embedding)      (None, 50, 64)            640000    \n",
      "_________________________________________________________________\n",
      "flatten_3 (Flatten)          (None, 3200)              0         \n",
      "_________________________________________________________________\n",
      "dense_5 (Dense)              (None, 64)                204864    \n",
      "_________________________________________________________________\n",
      "dropout_3 (Dropout)          (None, 64)                0         \n",
      "_________________________________________________________________\n",
      "dense_6 (Dense)              (None, 3)                 195       \n",
      "=================================================================\n",
      "Total params: 845,059\n",
      "Trainable params: 845,059\n",
      "Non-trainable params: 0\n",
      "_________________________________________________________________\n"
     ]
    }
   ],
   "source": [
    "from keras.layers import Embedding\n",
    "from keras.layers import Flatten\n",
    "from keras.models import Sequential\n",
    "\n",
    "maxlen = 50\n",
    "\n",
    "model_fc = Sequential()\n",
    "model_fc.add(Embedding(10000, 64, input_length=maxlen))\n",
    "model_fc.add(Flatten())\n",
    "model_fc.add(Dense(64, activation='relu'))\n",
    "model_fc.add(Dropout(0.35))\n",
    "model_fc.add(Dense(3, activation='softmax'))\n",
    "\n",
    "model_fc.summary()\n",
    "model_fc.compile(optimizer= adam(0.0001), loss='categorical_crossentropy', metrics=['accuracy'])\n",
    "\n"
   ]
  },
  {
   "cell_type": "code",
   "execution_count": 48,
   "metadata": {},
   "outputs": [
    {
     "name": "stdout",
     "output_type": "stream",
     "text": [
      "Train on 1052 samples, validate on 263 samples\n",
      "Epoch 1/10\n",
      "1052/1052 [==============================] - 3s 3ms/step - loss: 0.9352 - acc: 0.5076 - val_loss: 0.8750 - val_acc: 0.5475\n",
      "Epoch 2/10\n",
      "1052/1052 [==============================] - 2s 2ms/step - loss: 0.8342 - acc: 0.6492 - val_loss: 0.8483 - val_acc: 0.5551\n",
      "Epoch 3/10\n",
      "1052/1052 [==============================] - 3s 3ms/step - loss: 0.7941 - acc: 0.7101 - val_loss: 0.8404 - val_acc: 0.5589\n",
      "Epoch 4/10\n",
      "1052/1052 [==============================] - 3s 3ms/step - loss: 0.7713 - acc: 0.7348 - val_loss: 0.8364 - val_acc: 0.5475\n",
      "Epoch 5/10\n",
      "1052/1052 [==============================] - 3s 3ms/step - loss: 0.7386 - acc: 0.7652 - val_loss: 0.8308 - val_acc: 0.5741 0.7508 - acc: 0.75 - ETA: 0s - loss: 0.7487 - \n",
      "Epoch 6/10\n",
      "1052/1052 [==============================] - 4s 4ms/step - loss: 0.6842 - acc: 0.8051 - val_loss: 0.8240 - val_acc: 0.5779\n",
      "Epoch 7/10\n",
      "1052/1052 [==============================] - 3s 3ms/step - loss: 0.6253 - acc: 0.8451 - val_loss: 0.8265 - val_acc: 0.5894\n",
      "Epoch 8/10\n",
      "1052/1052 [==============================] - 3s 3ms/step - loss: 0.5668 - acc: 0.8764 - val_loss: 0.8172 - val_acc: 0.5970\n",
      "Epoch 9/10\n",
      "1052/1052 [==============================] - 5s 4ms/step - loss: 0.4957 - acc: 0.8916 - val_loss: 0.8088 - val_acc: 0.5932\n",
      "Epoch 10/10\n",
      "1052/1052 [==============================] - 5s 4ms/step - loss: 0.4179 - acc: 0.9249 - val_loss: 0.8076 - val_acc: 0.6046\n"
     ]
    }
   ],
   "source": [
    "history = model_fc.fit(x_train, y_train, batch_size=5, epochs= 10, validation_split=0.2)"
   ]
  },
  {
   "cell_type": "code",
   "execution_count": 49,
   "metadata": {},
   "outputs": [
    {
     "name": "stdout",
     "output_type": "stream",
     "text": [
      "dict_keys(['val_loss', 'val_acc', 'loss', 'acc'])\n"
     ]
    },
    {
     "data": {
      "image/png": "[encoded data removed]",
      "text/plain": [
       "<Figure size 432x288 with 1 Axes>"
      ]
     },
     "metadata": {},
     "output_type": "display_data"
    },
    {
     "data": {
      "image/png": "[encoded data removed]",
      "text/plain": [
       "<Figure size 432x288 with 1 Axes>"
      ]
     },
     "metadata": {},
     "output_type": "display_data"
    }
   ],
   "source": [
    "print(history.history.keys())\n",
    "# summarize history for accuracy\n",
    "import matplotlib.pyplot as plt\n",
    "%matplotlib inline\n",
    "\n",
    "plt.plot(history.history['acc'])\n",
    "plt.plot(history.history['val_acc'])\n",
    "plt.title('Model Accuracy')\n",
    "plt.ylabel('accuracy')\n",
    "plt.xlabel('epoch')\n",
    "plt.legend(['train', 'test'], loc='upper left')\n",
    "plt.show()\n",
    "# summarize history for loss\n",
    "plt.plot(history.history['loss'])\n",
    "plt.plot(history.history['val_loss'])\n",
    "plt.title('Model Loss')\n",
    "plt.ylabel('loss')\n",
    "plt.xlabel('epoch')\n",
    "plt.legend(['train', 'test'], loc='upper left')\n",
    "plt.show()\n"
   ]
  },
  {
   "cell_type": "code",
   "execution_count": 50,
   "metadata": {},
   "outputs": [
    {
     "data": {
      "text/plain": [
       "array([[0.07986826, 0.36650303, 0.55362874],\n",
       "       [0.01272761, 0.9109222 , 0.07635027],\n",
       "       [0.00662958, 0.96799904, 0.02537141],\n",
       "       [0.01225212, 0.9214258 , 0.06632202],\n",
       "       [0.11515717, 0.3800054 , 0.5048375 ],\n",
       "       [0.08105598, 0.41998404, 0.49896005],\n",
       "       [0.09691606, 0.30806246, 0.5950215 ],\n",
       "       [0.13428032, 0.22814491, 0.63757473],\n",
       "       [0.0092449 , 0.9488796 , 0.04187546],\n",
       "       [0.11807398, 0.22526267, 0.65666336],\n",
       "       [0.21880488, 0.39336523, 0.38782993],\n",
       "       [0.13278277, 0.34683806, 0.5203791 ],\n",
       "       [0.08629051, 0.35385135, 0.55985814],\n",
       "       [0.05936605, 0.68010443, 0.26052958],\n",
       "       [0.01372334, 0.89855003, 0.08772667],\n",
       "       [0.17079338, 0.23768501, 0.5915216 ],\n",
       "       [0.16148375, 0.23542719, 0.60308903],\n",
       "       [0.00829866, 0.95871997, 0.03298134],\n",
       "       [0.08364436, 0.5471383 , 0.3692173 ],\n",
       "       [0.08109477, 0.23396382, 0.6849415 ],\n",
       "       [0.01068577, 0.9339569 , 0.05535736],\n",
       "       [0.13081755, 0.3412974 , 0.5278851 ],\n",
       "       [0.02513191, 0.87365454, 0.10121357],\n",
       "       [0.0090315 , 0.9499959 , 0.04097259],\n",
       "       [0.16199745, 0.4987908 , 0.33921173],\n",
       "       [0.01818956, 0.8825541 , 0.09925633],\n",
       "       [0.17953682, 0.35840917, 0.46205395],\n",
       "       [0.27538434, 0.4064363 , 0.31817934],\n",
       "       [0.00662958, 0.96799904, 0.02537141],\n",
       "       [0.29804227, 0.24036445, 0.4615933 ],\n",
       "       [0.11699901, 0.41357696, 0.46942407],\n",
       "       [0.09470429, 0.14521812, 0.76007754],\n",
       "       [0.13827811, 0.33814254, 0.5235794 ],\n",
       "       [0.13736486, 0.33492634, 0.5277088 ],\n",
       "       [0.21017319, 0.37366003, 0.4161668 ],\n",
       "       [0.01040515, 0.9298817 , 0.05971317],\n",
       "       [0.09932791, 0.5296201 , 0.371052  ],\n",
       "       [0.13399917, 0.35461438, 0.5113865 ],\n",
       "       [0.16484882, 0.37529323, 0.459858  ],\n",
       "       [0.08582634, 0.41793022, 0.49624342],\n",
       "       [0.12946567, 0.20699102, 0.6635432 ],\n",
       "       [0.17980674, 0.31261042, 0.5075829 ],\n",
       "       [0.21755017, 0.23422675, 0.548223  ],\n",
       "       [0.15187694, 0.40195152, 0.44617155],\n",
       "       [0.10739045, 0.22163594, 0.6709736 ],\n",
       "       [0.00662958, 0.96799904, 0.02537141],\n",
       "       [0.1460635 , 0.27741322, 0.5765233 ],\n",
       "       [0.3031529 , 0.40132555, 0.29552156],\n",
       "       [0.14736727, 0.31077695, 0.5418558 ],\n",
       "       [0.24538867, 0.20439026, 0.5502211 ],\n",
       "       [0.19602987, 0.20290357, 0.6010665 ],\n",
       "       [0.11352143, 0.3389556 , 0.5475229 ],\n",
       "       [0.01203861, 0.9137748 , 0.0741865 ],\n",
       "       [0.16095074, 0.38619766, 0.45285168],\n",
       "       [0.12715888, 0.23246245, 0.64037865],\n",
       "       [0.11399461, 0.35498732, 0.5310181 ],\n",
       "       [0.01726987, 0.9020739 , 0.08065621],\n",
       "       [0.2219206 , 0.27473342, 0.503346  ],\n",
       "       [0.09293719, 0.35868326, 0.54837954],\n",
       "       [0.12043932, 0.5297426 , 0.3498181 ],\n",
       "       [0.09465739, 0.3400655 , 0.5652771 ],\n",
       "       [0.0161405 , 0.9004992 , 0.0833602 ],\n",
       "       [0.01132192, 0.9228305 , 0.06584752],\n",
       "       [0.11566547, 0.40356803, 0.4807665 ],\n",
       "       [0.01226047, 0.9442777 , 0.04346186],\n",
       "       [0.18425587, 0.547293  , 0.26845115],\n",
       "       [0.10349187, 0.17902713, 0.71748096],\n",
       "       [0.12851025, 0.31521994, 0.5562698 ],\n",
       "       [0.15646528, 0.2082667 , 0.63526803],\n",
       "       [0.22142167, 0.3319418 , 0.44663656],\n",
       "       [0.08874502, 0.2736955 , 0.6375594 ],\n",
       "       [0.00966983, 0.9430644 , 0.04726575],\n",
       "       [0.10712259, 0.3158453 , 0.57703215],\n",
       "       [0.01163518, 0.9099828 , 0.07838204],\n",
       "       [0.01212997, 0.91543114, 0.07243884],\n",
       "       [0.11855967, 0.1368817 , 0.7445586 ],\n",
       "       [0.14048733, 0.23603512, 0.6234776 ],\n",
       "       [0.15963885, 0.3448232 , 0.495538  ],\n",
       "       [0.3217303 , 0.30319875, 0.3750709 ],\n",
       "       [0.05187122, 0.6548666 , 0.2932622 ],\n",
       "       [0.1913742 , 0.23951192, 0.56911385],\n",
       "       [0.00787856, 0.962679  , 0.02944246],\n",
       "       [0.12288906, 0.25559428, 0.62151664],\n",
       "       [0.02498894, 0.8571173 , 0.1178937 ],\n",
       "       [0.11270761, 0.34030843, 0.546984  ],\n",
       "       [0.00855418, 0.9540603 , 0.03738542],\n",
       "       [0.00805993, 0.9588342 , 0.0331059 ],\n",
       "       [0.10089875, 0.15026136, 0.7488399 ],\n",
       "       [0.09103762, 0.19943453, 0.70952785],\n",
       "       [0.09014295, 0.61760646, 0.2922505 ],\n",
       "       [0.037025  , 0.732109  , 0.23086599],\n",
       "       [0.16048452, 0.21211614, 0.6273994 ],\n",
       "       [0.12664163, 0.41644487, 0.4569136 ],\n",
       "       [0.16642845, 0.45770663, 0.3758649 ],\n",
       "       [0.18595055, 0.19368413, 0.6203653 ],\n",
       "       [0.18686312, 0.19739634, 0.61574054],\n",
       "       [0.00805993, 0.9588342 , 0.0331059 ],\n",
       "       [0.14944047, 0.44769403, 0.4028655 ],\n",
       "       [0.07278507, 0.47108877, 0.45612618],\n",
       "       [0.00855418, 0.9540603 , 0.03738542],\n",
       "       [0.17932996, 0.49058247, 0.33008754],\n",
       "       [0.00971293, 0.9458702 , 0.04441679],\n",
       "       [0.12654759, 0.2166269 , 0.65682554],\n",
       "       [0.05680855, 0.5441903 , 0.39900115],\n",
       "       [0.12369678, 0.28297985, 0.5933234 ],\n",
       "       [0.0090924 , 0.95216274, 0.03874483],\n",
       "       [0.11738015, 0.48143864, 0.4011812 ],\n",
       "       [0.15929314, 0.29195255, 0.54875433],\n",
       "       [0.08707861, 0.43147486, 0.48144647],\n",
       "       [0.14650749, 0.2871308 , 0.5663617 ],\n",
       "       [0.16232596, 0.35168132, 0.48599273],\n",
       "       [0.05944681, 0.65005803, 0.29049522],\n",
       "       [0.01759405, 0.88825226, 0.09415371],\n",
       "       [0.02005544, 0.8637971 , 0.1161474 ],\n",
       "       [0.00662958, 0.96799904, 0.02537141],\n",
       "       [0.09587005, 0.4661798 , 0.43795013],\n",
       "       [0.00855418, 0.9540603 , 0.03738542],\n",
       "       [0.03166152, 0.77205455, 0.19628394],\n",
       "       [0.09147201, 0.11707929, 0.7914488 ],\n",
       "       [0.09547399, 0.44426554, 0.46026048],\n",
       "       [0.25845325, 0.3309511 , 0.41059566],\n",
       "       [0.01127052, 0.95060325, 0.03812625],\n",
       "       [0.2691347 , 0.4737269 , 0.25713843],\n",
       "       [0.09523695, 0.27447248, 0.63029057],\n",
       "       [0.0555848 , 0.66635513, 0.27806008],\n",
       "       [0.1569394 , 0.21137938, 0.6316812 ],\n",
       "       [0.14387056, 0.20839171, 0.64773774],\n",
       "       [0.09767844, 0.3353122 , 0.5670094 ],\n",
       "       [0.0172631 , 0.8940186 , 0.0887183 ],\n",
       "       [0.11488616, 0.33653072, 0.54858315],\n",
       "       [0.10962626, 0.23496903, 0.6554047 ],\n",
       "       [0.12243004, 0.26044026, 0.6171297 ],\n",
       "       [0.01007985, 0.9464797 , 0.04344045],\n",
       "       [0.16099171, 0.4439808 , 0.39502752],\n",
       "       [0.01634881, 0.89159226, 0.09205894],\n",
       "       [0.19073391, 0.5191866 , 0.29007947],\n",
       "       [0.14986482, 0.2738828 , 0.5762524 ],\n",
       "       [0.22774975, 0.30776948, 0.46448088],\n",
       "       [0.06805312, 0.5781716 , 0.35377526],\n",
       "       [0.10279275, 0.40720916, 0.4899981 ],\n",
       "       [0.1582727 , 0.1801485 , 0.66157883],\n",
       "       [0.14412801, 0.27546513, 0.5804069 ],\n",
       "       [0.02337079, 0.8818151 , 0.09481411],\n",
       "       [0.20481803, 0.2787503 , 0.5164316 ],\n",
       "       [0.14851019, 0.08776227, 0.76372755],\n",
       "       [0.15620796, 0.24154064, 0.6022514 ],\n",
       "       [0.02793762, 0.8318527 , 0.14020967],\n",
       "       [0.1845606 , 0.662966  , 0.15247335],\n",
       "       [0.22523454, 0.3530364 , 0.4217291 ],\n",
       "       [0.00855418, 0.9540603 , 0.03738542],\n",
       "       [0.1196117 , 0.14450239, 0.7358859 ],\n",
       "       [0.11661358, 0.28306916, 0.60031724],\n",
       "       [0.14192332, 0.29593876, 0.5621379 ],\n",
       "       [0.21298629, 0.18554498, 0.60146874],\n",
       "       [0.16011894, 0.35916126, 0.48071977],\n",
       "       [0.25981906, 0.40108   , 0.33910096],\n",
       "       [0.1266225 , 0.16937862, 0.7039989 ],\n",
       "       [0.12366682, 0.21995404, 0.6563791 ],\n",
       "       [0.07184014, 0.68101126, 0.24714854],\n",
       "       [0.10645703, 0.2617812 , 0.63176185],\n",
       "       [0.06222349, 0.6917695 , 0.24600698],\n",
       "       [0.19140221, 0.44091207, 0.36768574],\n",
       "       [0.06103834, 0.68301183, 0.2559498 ],\n",
       "       [0.0158951 , 0.89708215, 0.0870228 ],\n",
       "       [0.24890684, 0.38837627, 0.3627169 ],\n",
       "       [0.03309328, 0.85156894, 0.11533776],\n",
       "       [0.0099984 , 0.92885906, 0.06114262],\n",
       "       [0.0112582 , 0.9226883 , 0.06605345],\n",
       "       [0.01381848, 0.89323854, 0.09294296],\n",
       "       [0.00662958, 0.96799904, 0.02537141],\n",
       "       [0.05299409, 0.7303061 , 0.21669985],\n",
       "       [0.31265235, 0.26670307, 0.42064464],\n",
       "       [0.20671272, 0.41547126, 0.37781602],\n",
       "       [0.15775034, 0.23055148, 0.61169815],\n",
       "       [0.21285063, 0.25165564, 0.53549373],\n",
       "       [0.01163518, 0.9099828 , 0.07838204],\n",
       "       [0.02031219, 0.8705043 , 0.10918353],\n",
       "       [0.33115584, 0.3036044 , 0.36523977],\n",
       "       [0.02264748, 0.8614029 , 0.11594962],\n",
       "       [0.05673024, 0.6831839 , 0.2600859 ],\n",
       "       [0.01113515, 0.925941  , 0.06292387],\n",
       "       [0.02134874, 0.87821823, 0.10043301],\n",
       "       [0.02887863, 0.8051744 , 0.165947  ],\n",
       "       [0.1708829 , 0.18145521, 0.6476619 ],\n",
       "       [0.09071682, 0.34946078, 0.5598224 ],\n",
       "       [0.17240907, 0.30812132, 0.5194697 ],\n",
       "       [0.17884864, 0.40329334, 0.4178581 ],\n",
       "       [0.0224926 , 0.8381159 , 0.13939145],\n",
       "       [0.14510527, 0.32493666, 0.52995807],\n",
       "       [0.18106358, 0.3824834 , 0.436453  ],\n",
       "       [0.1156106 , 0.43871507, 0.4456744 ],\n",
       "       [0.00824789, 0.955834  , 0.03591824],\n",
       "       [0.0110513 , 0.92981565, 0.05913301],\n",
       "       [0.1184165 , 0.1793397 , 0.70224375],\n",
       "       [0.13987106, 0.4422055 , 0.41792345],\n",
       "       [0.1383018 , 0.36193836, 0.4997599 ],\n",
       "       [0.01163518, 0.9099828 , 0.07838204],\n",
       "       [0.11062437, 0.30039468, 0.5889809 ],\n",
       "       [0.14723168, 0.23515603, 0.61761224],\n",
       "       [0.14149338, 0.27517915, 0.5833275 ],\n",
       "       [0.13017148, 0.07905132, 0.7907772 ],\n",
       "       [0.19776635, 0.33728966, 0.46494395],\n",
       "       [0.01007985, 0.9464797 , 0.04344045],\n",
       "       [0.1276671 , 0.24501936, 0.6273136 ],\n",
       "       [0.03633758, 0.8100989 , 0.15356351],\n",
       "       [0.01476584, 0.9270278 , 0.05820639],\n",
       "       [0.22504638, 0.26727414, 0.5076795 ],\n",
       "       [0.12500118, 0.6012039 , 0.27379486],\n",
       "       [0.08971518, 0.24141975, 0.6688651 ],\n",
       "       [0.13529046, 0.13980907, 0.7249005 ],\n",
       "       [0.1335116 , 0.3756273 , 0.49086103],\n",
       "       [0.14984548, 0.27585045, 0.57430404],\n",
       "       [0.00985602, 0.9488401 , 0.04130395],\n",
       "       [0.07939478, 0.5505095 , 0.37009573],\n",
       "       [0.01808979, 0.8935338 , 0.0883764 ],\n",
       "       [0.16374618, 0.24410369, 0.5921502 ],\n",
       "       [0.1257679 , 0.41486284, 0.4593693 ],\n",
       "       [0.20756105, 0.2794618 , 0.5129771 ],\n",
       "       [0.14001518, 0.24998754, 0.6099973 ],\n",
       "       [0.12182084, 0.47529894, 0.4028802 ],\n",
       "       [0.10742644, 0.57125133, 0.32132223],\n",
       "       [0.08972083, 0.4633644 , 0.4469148 ],\n",
       "       [0.01093215, 0.9337321 , 0.05533571],\n",
       "       [0.1713103 , 0.32047603, 0.5082137 ],\n",
       "       [0.28007802, 0.42302215, 0.2968998 ],\n",
       "       [0.06688526, 0.561926  , 0.3711888 ],\n",
       "       [0.11472318, 0.17010911, 0.7151677 ],\n",
       "       [0.00855418, 0.9540603 , 0.03738542],\n",
       "       [0.1840571 , 0.22296317, 0.59297967],\n",
       "       [0.12883362, 0.24597202, 0.6251943 ],\n",
       "       [0.02208218, 0.8404087 , 0.13750914],\n",
       "       [0.00824789, 0.955834  , 0.03591824],\n",
       "       [0.1862877 , 0.2358552 , 0.5778571 ],\n",
       "       [0.01765871, 0.884777  , 0.09756426],\n",
       "       [0.01381848, 0.89323854, 0.09294296],\n",
       "       [0.12241729, 0.24579935, 0.63178337],\n",
       "       [0.17121734, 0.24122989, 0.5875527 ],\n",
       "       [0.09845714, 0.2962369 , 0.6053059 ],\n",
       "       [0.27336526, 0.39096826, 0.33566648],\n",
       "       [0.10733841, 0.24971636, 0.64294523],\n",
       "       [0.10410629, 0.21504812, 0.6808457 ],\n",
       "       [0.11373727, 0.3298272 , 0.5564356 ],\n",
       "       [0.06011717, 0.6932483 , 0.2466345 ],\n",
       "       [0.09280869, 0.37621552, 0.5309758 ],\n",
       "       [0.11757981, 0.09423877, 0.7881814 ],\n",
       "       [0.16352491, 0.11184265, 0.72463244],\n",
       "       [0.27125028, 0.4016919 , 0.32705778],\n",
       "       [0.20962344, 0.30627623, 0.4841004 ],\n",
       "       [0.12133148, 0.33682564, 0.5418429 ],\n",
       "       [0.00805993, 0.9588342 , 0.0331059 ],\n",
       "       [0.00805993, 0.9588342 , 0.0331059 ],\n",
       "       [0.14242458, 0.32422012, 0.5333553 ],\n",
       "       [0.195679  , 0.53949696, 0.26482403],\n",
       "       [0.06039469, 0.47101888, 0.46858644],\n",
       "       [0.0090315 , 0.9499959 , 0.04097259],\n",
       "       [0.01161562, 0.92433894, 0.06404544],\n",
       "       [0.16485757, 0.51379675, 0.32134572],\n",
       "       [0.16062991, 0.19494049, 0.6444296 ],\n",
       "       [0.0090315 , 0.9499959 , 0.04097259],\n",
       "       [0.02329725, 0.8229005 , 0.1538023 ],\n",
       "       [0.13963702, 0.3520207 , 0.50834227],\n",
       "       [0.21831685, 0.5247418 , 0.25694132],\n",
       "       [0.260619  , 0.29673576, 0.44264525],\n",
       "       [0.01808979, 0.8935338 , 0.0883764 ],\n",
       "       [0.24384265, 0.3790917 , 0.3770657 ],\n",
       "       [0.00787856, 0.962679  , 0.02944246],\n",
       "       [0.13214864, 0.28508464, 0.5827668 ],\n",
       "       [0.08214182, 0.3404428 , 0.57741535],\n",
       "       [0.00805993, 0.9588342 , 0.0331059 ],\n",
       "       [0.26732734, 0.35648632, 0.37618634],\n",
       "       [0.1437972 , 0.12723266, 0.72897017],\n",
       "       [0.15394497, 0.1461569 , 0.6998981 ],\n",
       "       [0.09050541, 0.31249467, 0.5969999 ],\n",
       "       [0.01975995, 0.8862438 , 0.09399616],\n",
       "       [0.14457455, 0.22397411, 0.6314513 ],\n",
       "       [0.01554069, 0.9202938 , 0.06416542],\n",
       "       [0.26391986, 0.3844521 , 0.35162807],\n",
       "       [0.04754677, 0.75208503, 0.20036826],\n",
       "       [0.01336424, 0.92060006, 0.06603575],\n",
       "       [0.08670679, 0.3634218 , 0.54987144],\n",
       "       [0.23829587, 0.40444374, 0.35726038],\n",
       "       [0.12238177, 0.49035117, 0.38726705],\n",
       "       [0.14709021, 0.31756684, 0.535343  ],\n",
       "       [0.1581303 , 0.16958414, 0.6722855 ],\n",
       "       [0.12454516, 0.2988236 , 0.5766312 ],\n",
       "       [0.0090315 , 0.9499959 , 0.04097259],\n",
       "       [0.22378503, 0.35769314, 0.41852182],\n",
       "       [0.13101609, 0.24710517, 0.6218788 ],\n",
       "       [0.23487514, 0.3183005 , 0.4468244 ],\n",
       "       [0.08684611, 0.46514067, 0.4480132 ],\n",
       "       [0.21975376, 0.20478824, 0.575458  ],\n",
       "       [0.20175341, 0.29891866, 0.49932784],\n",
       "       [0.10498863, 0.2767853 , 0.61822605],\n",
       "       [0.01062089, 0.92890173, 0.06047736],\n",
       "       [0.2427562 , 0.14937188, 0.6078719 ],\n",
       "       [0.0905313 , 0.37373853, 0.5357302 ],\n",
       "       [0.07988107, 0.4428935 , 0.47722545],\n",
       "       [0.1838207 , 0.48034135, 0.335838  ],\n",
       "       [0.23282604, 0.4661393 , 0.3010347 ],\n",
       "       [0.24391879, 0.21682754, 0.5392537 ],\n",
       "       [0.16831264, 0.2417182 , 0.5899692 ],\n",
       "       [0.01738746, 0.9315544 , 0.05105822],\n",
       "       [0.00805993, 0.9588342 , 0.0331059 ],\n",
       "       [0.2044948 , 0.26961032, 0.5258949 ],\n",
       "       [0.19066036, 0.14885767, 0.660482  ],\n",
       "       [0.20152514, 0.34228897, 0.45618588],\n",
       "       [0.10628986, 0.43544307, 0.45826706],\n",
       "       [0.01673077, 0.90028954, 0.08297974],\n",
       "       [0.13572171, 0.33819115, 0.52608716],\n",
       "       [0.2196241 , 0.2363582 , 0.5440177 ],\n",
       "       [0.14166723, 0.19248448, 0.6658483 ],\n",
       "       [0.01659009, 0.91843975, 0.06497017],\n",
       "       [0.0090315 , 0.9499959 , 0.04097259],\n",
       "       [0.00805993, 0.9588342 , 0.0331059 ],\n",
       "       [0.22347096, 0.2789308 , 0.4975982 ],\n",
       "       [0.16947995, 0.42430705, 0.40621305],\n",
       "       [0.01826063, 0.88500786, 0.09673153],\n",
       "       [0.01497331, 0.88905966, 0.09596693],\n",
       "       [0.01718272, 0.90794706, 0.07487023],\n",
       "       [0.13616881, 0.41761547, 0.44621575],\n",
       "       [0.08312216, 0.38519725, 0.5316806 ],\n",
       "       [0.27830416, 0.38410565, 0.3375901 ],\n",
       "       [0.1573045 , 0.48742396, 0.35527155],\n",
       "       [0.10836367, 0.34916022, 0.5424761 ],\n",
       "       [0.26241872, 0.40095636, 0.3366249 ],\n",
       "       [0.22584164, 0.46779022, 0.3063681 ],\n",
       "       [0.10974709, 0.26908413, 0.6211688 ],\n",
       "       [0.01094313, 0.9314802 , 0.05757672],\n",
       "       [0.16225132, 0.29466748, 0.5430813 ]], dtype=float32)"
      ]
     },
     "execution_count": 50,
     "metadata": {},
     "output_type": "execute_result"
    }
   ],
   "source": [
    "model_fc.predict(x_test)"
   ]
  },
  {
   "cell_type": "code",
   "execution_count": 51,
   "metadata": {},
   "outputs": [
    {
     "data": {
      "text/plain": [
       "array([2, 1, 1, 1, 2, 2, 2, 2, 1, 2, 1, 2, 2, 1, 1, 2, 2, 1, 1, 2, 1, 2,\n",
       "       1, 1, 1, 1, 2, 1, 1, 2, 2, 2, 2, 2, 2, 1, 1, 2, 2, 2, 2, 2, 2, 2,\n",
       "       2, 1, 2, 1, 2, 2, 2, 2, 1, 2, 2, 2, 1, 2, 2, 1, 2, 1, 1, 2, 1, 1,\n",
       "       2, 2, 2, 2, 2, 1, 2, 1, 1, 2, 2, 2, 2, 1, 2, 1, 2, 1, 2, 1, 1, 2,\n",
       "       2, 1, 1, 2, 2, 1, 2, 2, 1, 1, 1, 1, 1, 1, 2, 1, 2, 1, 1, 2, 2, 2,\n",
       "       2, 1, 1, 1, 1, 1, 1, 1, 2, 2, 2, 1, 1, 2, 1, 2, 2, 2, 1, 2, 2, 2,\n",
       "       1, 1, 1, 1, 2, 2, 1, 2, 2, 2, 1, 2, 2, 2, 1, 1, 2, 1, 2, 2, 2, 2,\n",
       "       2, 1, 2, 2, 1, 2, 1, 1, 1, 1, 1, 1, 1, 1, 1, 1, 1, 2, 1, 2, 2, 1,\n",
       "       1, 2, 1, 1, 1, 1, 1, 2, 2, 2, 2, 1, 2, 2, 2, 1, 1, 2, 1, 2, 1, 2,\n",
       "       2, 2, 2, 2, 1, 2, 1, 1, 2, 1, 2, 2, 2, 2, 1, 1, 1, 2, 2, 2, 2, 1,\n",
       "       1, 1, 1, 2, 1, 1, 2, 1, 2, 2, 1, 1, 2, 1, 1, 2, 2, 2, 1, 2, 2, 2,\n",
       "       1, 2, 2, 2, 1, 2, 2, 1, 1, 2, 1, 1, 1, 1, 1, 2, 1, 1, 2, 1, 2, 1,\n",
       "       1, 1, 2, 2, 1, 2, 2, 2, 2, 1, 2, 1, 1, 1, 1, 2, 1, 1, 2, 2, 2, 1,\n",
       "       2, 2, 2, 1, 2, 2, 2, 1, 2, 2, 2, 1, 1, 2, 2, 1, 1, 2, 2, 2, 2, 1,\n",
       "       2, 2, 2, 1, 1, 1, 2, 1, 1, 1, 1, 2, 2, 1, 1, 2, 1, 1, 2, 1, 2],\n",
       "      dtype=int64)"
      ]
     },
     "execution_count": 51,
     "metadata": {},
     "output_type": "execute_result"
    }
   ],
   "source": [
    "y_pred = model_fc.predict_classes(x_test)\n",
    "y_pred"
   ]
  },
  {
   "cell_type": "code",
   "execution_count": 57,
   "metadata": {},
   "outputs": [
    {
     "data": {
      "text/plain": [
       "array([2, 1, 1, 2, 2, 2, 2, 2, 1, 1, 2, 2, 2, 0, 1, 1, 1, 1, 1, 2, 1, 1,\n",
       "       1, 1, 0, 1, 1, 2, 1, 0, 2, 1, 2, 1, 1, 1, 2, 0, 1, 2, 2, 2, 1, 1,\n",
       "       2, 1, 2, 2, 0, 2, 2, 1, 1, 2, 2, 1, 1, 2, 1, 2, 2, 1, 1, 1, 1, 1,\n",
       "       2, 1, 1, 2, 1, 1, 2, 2, 1, 2, 2, 2, 2, 0, 0, 2, 1, 1, 1, 1, 1, 2,\n",
       "       2, 2, 2, 1, 2, 0, 1, 1, 1, 1, 1, 1, 1, 1, 2, 0, 1, 1, 0, 2, 2, 2,\n",
       "       2, 2, 1, 1, 1, 1, 1, 1, 2, 2, 2, 1, 1, 1, 1, 2, 2, 1, 1, 2, 1, 2,\n",
       "       1, 1, 1, 2, 2, 1, 2, 0, 2, 0, 1, 2, 2, 2, 1, 1, 2, 1, 0, 2, 2, 1,\n",
       "       1, 1, 2, 1, 1, 2, 1, 2, 1, 1, 2, 1, 1, 1, 1, 1, 1, 2, 2, 1, 0, 2,\n",
       "       1, 2, 1, 2, 1, 1, 2, 1, 2, 0, 1, 1, 2, 1, 1, 1, 1, 1, 1, 0, 1, 2,\n",
       "       1, 2, 2, 1, 1, 2, 2, 1, 2, 1, 2, 2, 2, 2, 1, 2, 1, 2, 2, 1, 1, 0,\n",
       "       1, 1, 1, 2, 1, 2, 0, 1, 1, 2, 1, 1, 2, 1, 1, 2, 1, 2, 2, 1, 2, 2,\n",
       "       1, 1, 1, 1, 2, 0, 2, 1, 1, 1, 1, 1, 1, 1, 1, 2, 1, 1, 2, 0, 2, 1,\n",
       "       2, 1, 1, 1, 1, 2, 2, 2, 1, 1, 2, 1, 2, 1, 1, 2, 2, 0, 0, 2, 2, 1,\n",
       "       2, 2, 2, 1, 1, 0, 1, 2, 2, 2, 1, 2, 2, 0, 2, 1, 1, 2, 2, 1, 2, 1,\n",
       "       0, 1, 1, 1, 1, 1, 1, 1, 0, 1, 1, 1, 2, 2, 0, 1, 0, 1, 0, 1, 0],\n",
       "      dtype=int64)"
      ]
     },
     "execution_count": 57,
     "metadata": {},
     "output_type": "execute_result"
    }
   ],
   "source": [
    "y_test_new = y_test.argmax(axis=1)\n",
    "y_test_new"
   ]
  },
  {
   "cell_type": "code",
   "execution_count": 58,
   "metadata": {},
   "outputs": [
    {
     "data": {
      "image/png": "[encoded data removed]",
      "text/plain": [
       "<Figure size 432x288 with 2 Axes>"
      ]
     },
     "metadata": {},
     "output_type": "display_data"
    }
   ],
   "source": [
    "import matplotlib.pyplot as plt     \n",
    "import seaborn as sns\n",
    "from sklearn.metrics import confusion_matrix\n",
    "\n",
    "ax= plt.subplot()\n",
    "sns.heatmap(confusion_matrix(y_test_new, y_pred), annot=True, ax = ax, fmt='g'); #annot=True to annotate cells\n",
    "\n",
    "# labels, title and ticks\n",
    "ax.set_xlabel('Predicted labels');ax.set_ylabel('True labels'); \n",
    "ax.set_title('Confusion Matrix'); \n",
    "ax.xaxis.set_ticklabels(['Negative','Neutral', 'Positive']); \n",
    "ax.yaxis.set_ticklabels(['Negative','Neutral', 'Positive']);"
   ]
  },
  {
   "cell_type": "code",
   "execution_count": 60,
   "metadata": {},
   "outputs": [
    {
     "name": "stdout",
     "output_type": "stream",
     "text": [
      "             precision    recall  f1-score   support\n",
      "\n",
      "          0       0.00      0.00      0.00        30\n",
      "          1       0.72      0.65      0.69       172\n",
      "          2       0.55      0.76      0.64       127\n",
      "\n",
      "avg / total       0.59      0.63      0.60       329\n",
      "\n"
     ]
    },
    {
     "name": "stderr",
     "output_type": "stream",
     "text": [
      "C:\\Users\\nikhi\\Anaconda3\\lib\\site-packages\\sklearn\\metrics\\classification.py:1135: UndefinedMetricWarning: Precision and F-score are ill-defined and being set to 0.0 in labels with no predicted samples.\n",
      "  'precision', 'predicted', average, warn_for)\n"
     ]
    }
   ],
   "source": [
    "from sklearn.metrics import classification_report\n",
    "print(classification_report(y_test_new, y_pred))"
   ]
  },
  {
   "cell_type": "code",
   "execution_count": null,
   "metadata": {},
   "outputs": [],
   "source": []
  },
  {
   "cell_type": "markdown",
   "metadata": {},
   "source": [
    "** SimpleRNN **"
   ]
  },
  {
   "cell_type": "code",
   "execution_count": 52,
   "metadata": {},
   "outputs": [],
   "source": [
    "#from keras.utils import to_categorical\n",
    "\n",
    "#y_train = keras.utils.to_categorical(y_train , num_classes=3).astype('float32')\n",
    "#y_test = keras.utils.to_categorical(y_test , num_classes=3).astype('float32')"
   ]
  },
  {
   "cell_type": "code",
   "execution_count": 61,
   "metadata": {},
   "outputs": [
    {
     "data": {
      "text/plain": [
       "array([[0., 1., 0.],\n",
       "       [0., 1., 0.],\n",
       "       [0., 0., 1.],\n",
       "       ...,\n",
       "       [0., 0., 1.],\n",
       "       [0., 1., 0.],\n",
       "       [0., 1., 0.]], dtype=float32)"
      ]
     },
     "execution_count": 61,
     "metadata": {},
     "output_type": "execute_result"
    }
   ],
   "source": [
    "y_train"
   ]
  },
  {
   "cell_type": "code",
   "execution_count": 62,
   "metadata": {},
   "outputs": [
    {
     "data": {
      "text/plain": [
       "(1315, 3)"
      ]
     },
     "execution_count": 62,
     "metadata": {},
     "output_type": "execute_result"
    }
   ],
   "source": [
    "y_train.shape"
   ]
  },
  {
   "cell_type": "code",
   "execution_count": 68,
   "metadata": {},
   "outputs": [
    {
     "name": "stdout",
     "output_type": "stream",
     "text": [
      "_________________________________________________________________\n",
      "Layer (type)                 Output Shape              Param #   \n",
      "=================================================================\n",
      "embedding_6 (Embedding)      (None, 50, 64)            640000    \n",
      "_________________________________________________________________\n",
      "simple_rnn_5 (SimpleRNN)     (None, 50, 64)            8256      \n",
      "_________________________________________________________________\n",
      "simple_rnn_6 (SimpleRNN)     (None, 64)                8256      \n",
      "_________________________________________________________________\n",
      "dense_8 (Dense)              (None, 3)                 195       \n",
      "=================================================================\n",
      "Total params: 656,707\n",
      "Trainable params: 656,707\n",
      "Non-trainable params: 0\n",
      "_________________________________________________________________\n"
     ]
    }
   ],
   "source": [
    "from keras.models import Sequential\n",
    "from keras.layers import SimpleRNN\n",
    "\n",
    "max_features = 10000\n",
    "\n",
    "model_sr = Sequential()\n",
    "\n",
    "model_sr.add(Embedding(max_features, 64, input_length= maxlen))\n",
    "model_sr.add(SimpleRNN(64, dropout=0.2, recurrent_dropout=0.2, activation='tanh', return_sequences=True))\n",
    "model_sr.add(SimpleRNN(64, dropout=0.2, recurrent_dropout=0.2, activation='tanh'))\n",
    "model_sr.add(Dense(3, activation='softmax'))\n",
    "\n",
    "model_sr.summary()\n",
    "model_sr.compile(optimizer= adam(0.0001), loss='categorical_crossentropy', metrics=['accuracy'])\n"
   ]
  },
  {
   "cell_type": "code",
   "execution_count": 69,
   "metadata": {},
   "outputs": [
    {
     "name": "stdout",
     "output_type": "stream",
     "text": [
      "Train on 1052 samples, validate on 263 samples\n",
      "Epoch 1/20\n",
      "1052/1052 [==============================] - 12s 12ms/step - loss: 1.2055 - acc: 0.3394 - val_loss: 0.9784 - val_acc: 0.5285\n",
      "Epoch 2/20\n",
      "1052/1052 [==============================] - 14s 13ms/step - loss: 1.0918 - acc: 0.4392 - val_loss: 0.9297 - val_acc: 0.4981\n",
      "Epoch 3/20\n",
      "1052/1052 [==============================] - 15s 14ms/step - loss: 1.0397 - acc: 0.4781 - val_loss: 0.9659 - val_acc: 0.5019\n",
      "Epoch 4/20\n",
      "1052/1052 [==============================] - 16s 15ms/step - loss: 1.0022 - acc: 0.4781 - val_loss: 0.9677 - val_acc: 0.5019\n",
      "Epoch 5/20\n",
      "1052/1052 [==============================] - 15s 15ms/step - loss: 0.9821 - acc: 0.4962 - val_loss: 0.9681 - val_acc: 0.4981\n",
      "Epoch 6/20\n",
      "1052/1052 [==============================] - 17s 16ms/step - loss: 0.9525 - acc: 0.5133 - val_loss: 0.9599 - val_acc: 0.5019\n",
      "Epoch 7/20\n",
      "1052/1052 [==============================] - 16s 15ms/step - loss: 0.9539 - acc: 0.4962 - val_loss: 0.9555 - val_acc: 0.4981\n",
      "Epoch 8/20\n",
      "1052/1052 [==============================] - 14s 14ms/step - loss: 0.9366 - acc: 0.5219 - val_loss: 0.9559 - val_acc: 0.4981\n",
      "Epoch 9/20\n",
      "1052/1052 [==============================] - 15s 14ms/step - loss: 0.9359 - acc: 0.5304 - val_loss: 0.9447 - val_acc: 0.4981\n",
      "Epoch 10/20\n",
      "1052/1052 [==============================] - 13s 12ms/step - loss: 0.9122 - acc: 0.5475 - val_loss: 0.9424 - val_acc: 0.4981\n",
      "Epoch 11/20\n",
      "1052/1052 [==============================] - 13s 13ms/step - loss: 0.9139 - acc: 0.5409 - val_loss: 0.9260 - val_acc: 0.5019\n",
      "Epoch 12/20\n",
      "1052/1052 [==============================] - 13s 13ms/step - loss: 0.8994 - acc: 0.5523 - val_loss: 0.9149 - val_acc: 0.5171\n",
      "Epoch 13/20\n",
      "1052/1052 [==============================] - 13s 13ms/step - loss: 0.8758 - acc: 0.5922 - val_loss: 0.9093 - val_acc: 0.5323\n",
      "Epoch 14/20\n",
      "1052/1052 [==============================] - 14s 13ms/step - loss: 0.8662 - acc: 0.5960 - val_loss: 0.8965 - val_acc: 0.5703\n",
      "Epoch 15/20\n",
      "1052/1052 [==============================] - 14s 13ms/step - loss: 0.8173 - acc: 0.6350 - val_loss: 0.8894 - val_acc: 0.5627\n",
      "Epoch 16/20\n",
      "1052/1052 [==============================] - 14s 13ms/step - loss: 0.7847 - acc: 0.6740 - val_loss: 0.8815 - val_acc: 0.5703\n",
      "Epoch 17/20\n",
      "1052/1052 [==============================] - 14s 13ms/step - loss: 0.7707 - acc: 0.6987 - val_loss: 0.8631 - val_acc: 0.5779\n",
      "Epoch 18/20\n",
      "1052/1052 [==============================] - 14s 13ms/step - loss: 0.7265 - acc: 0.6968 - val_loss: 0.8506 - val_acc: 0.5627\n",
      "Epoch 19/20\n",
      "1052/1052 [==============================] - 14s 13ms/step - loss: 0.6731 - acc: 0.7481 - val_loss: 0.8526 - val_acc: 0.5551\n",
      "Epoch 20/20\n",
      "1052/1052 [==============================] - 14s 13ms/step - loss: 0.6365 - acc: 0.7586 - val_loss: 0.8531 - val_acc: 0.5932\n"
     ]
    }
   ],
   "source": [
    "history = model_sr.fit(x_train, y_train, validation_split = 0.2, epochs=20, batch_size=2)"
   ]
  },
  {
   "cell_type": "code",
   "execution_count": 70,
   "metadata": {},
   "outputs": [
    {
     "name": "stdout",
     "output_type": "stream",
     "text": [
      "dict_keys(['val_loss', 'val_acc', 'loss', 'acc'])\n"
     ]
    },
    {
     "data": {
      "image/png": "[encoded data removed]",
      "text/plain": [
       "<Figure size 432x288 with 1 Axes>"
      ]
     },
     "metadata": {},
     "output_type": "display_data"
    },
    {
     "data": {
      "image/png": "[encoded data removed]",
      "text/plain": [
       "<Figure size 432x288 with 1 Axes>"
      ]
     },
     "metadata": {},
     "output_type": "display_data"
    }
   ],
   "source": [
    "print(history.history.keys())\n",
    "# summarize history for accuracy\n",
    "plt.plot(history.history['acc'])\n",
    "plt.plot(history.history['val_acc'])\n",
    "plt.title('Model Accuracy')\n",
    "plt.ylabel('accuracy')\n",
    "plt.xlabel('epoch')\n",
    "plt.legend(['train', 'test'], loc='upper left')\n",
    "plt.show()\n",
    "# summarize history for loss\n",
    "plt.plot(history.history['loss'])\n",
    "plt.plot(history.history['val_loss'])\n",
    "plt.title('Model Loss')\n",
    "plt.ylabel('loss')\n",
    "plt.xlabel('epoch')\n",
    "plt.legend(['train', 'test'], loc='upper left')\n",
    "plt.show()\n"
   ]
  },
  {
   "cell_type": "code",
   "execution_count": 71,
   "metadata": {},
   "outputs": [
    {
     "data": {
      "text/plain": [
       "array([[0.070812  , 0.663006  , 0.266182  ],\n",
       "       [0.03858693, 0.79912615, 0.16228692],\n",
       "       [0.01383046, 0.97484845, 0.01132103],\n",
       "       [0.03845609, 0.7725454 , 0.18899843],\n",
       "       [0.10021282, 0.5670142 , 0.3327729 ],\n",
       "       [0.06664679, 0.3092317 , 0.62412155],\n",
       "       [0.08013   , 0.57012534, 0.3497447 ],\n",
       "       [0.05364554, 0.29751185, 0.6488427 ],\n",
       "       [0.02803905, 0.91035557, 0.06160537],\n",
       "       [0.08220486, 0.34981447, 0.5679807 ],\n",
       "       [0.06304465, 0.3977889 , 0.53916645],\n",
       "       [0.07888456, 0.64375967, 0.27735585],\n",
       "       [0.12858878, 0.48678398, 0.38462716],\n",
       "       [0.0767717 , 0.5963235 , 0.32690483],\n",
       "       [0.04684265, 0.8342808 , 0.11887661],\n",
       "       [0.0674135 , 0.38515517, 0.5474313 ],\n",
       "       [0.06363107, 0.7603772 , 0.17599168],\n",
       "       [0.01729022, 0.96242356, 0.02028617],\n",
       "       [0.07563712, 0.27458978, 0.6497731 ],\n",
       "       [0.06093457, 0.20557949, 0.73348594],\n",
       "       [0.03540618, 0.8102762 , 0.15431762],\n",
       "       [0.06332757, 0.63396746, 0.30270496],\n",
       "       [0.05256564, 0.76232654, 0.18510781],\n",
       "       [0.01856423, 0.96248454, 0.01895125],\n",
       "       [0.04003932, 0.12398961, 0.835971  ],\n",
       "       [0.04908764, 0.679294  , 0.2716184 ],\n",
       "       [0.07515835, 0.25094503, 0.6738966 ],\n",
       "       [0.12286144, 0.6039709 , 0.27316776],\n",
       "       [0.01383046, 0.97484845, 0.01132103],\n",
       "       [0.08046678, 0.41492325, 0.50461006],\n",
       "       [0.08810908, 0.3084405 , 0.6034504 ],\n",
       "       [0.04585532, 0.21120179, 0.74294287],\n",
       "       [0.07579434, 0.48727444, 0.43693125],\n",
       "       [0.09595829, 0.22817115, 0.67587054],\n",
       "       [0.10091414, 0.15650763, 0.74257827],\n",
       "       [0.03514892, 0.8362154 , 0.12863573],\n",
       "       [0.07390781, 0.2982219 , 0.6278703 ],\n",
       "       [0.06233083, 0.37884542, 0.55882376],\n",
       "       [0.10158626, 0.61482036, 0.28359333],\n",
       "       [0.12358038, 0.36232308, 0.51409656],\n",
       "       [0.07657906, 0.45255253, 0.47086838],\n",
       "       [0.0780756 , 0.45688525, 0.46503922],\n",
       "       [0.08497801, 0.17230389, 0.7427181 ],\n",
       "       [0.04693465, 0.4374895 , 0.5155759 ],\n",
       "       [0.0381339 , 0.06132388, 0.9005422 ],\n",
       "       [0.01383046, 0.97484845, 0.01132103],\n",
       "       [0.08087362, 0.48523098, 0.4338954 ],\n",
       "       [0.07266757, 0.5469594 , 0.38037306],\n",
       "       [0.05895271, 0.24309887, 0.6979485 ],\n",
       "       [0.08590647, 0.47113538, 0.44295818],\n",
       "       [0.14609602, 0.5510401 , 0.3028638 ],\n",
       "       [0.06473557, 0.5101845 , 0.4250799 ],\n",
       "       [0.04444003, 0.7703108 , 0.18524915],\n",
       "       [0.121742  , 0.30279148, 0.5754665 ],\n",
       "       [0.07393663, 0.36990884, 0.5561545 ],\n",
       "       [0.14253114, 0.43336117, 0.42410767],\n",
       "       [0.06813513, 0.64458597, 0.28727898],\n",
       "       [0.05305375, 0.3686463 , 0.57829994],\n",
       "       [0.09420106, 0.36118484, 0.54461414],\n",
       "       [0.15121727, 0.24765044, 0.6011323 ],\n",
       "       [0.09344675, 0.19753598, 0.7090173 ],\n",
       "       [0.03952095, 0.86049765, 0.09998143],\n",
       "       [0.05266726, 0.719025  , 0.22830777],\n",
       "       [0.05036289, 0.5135681 , 0.436069  ],\n",
       "       [0.02083606, 0.9497356 , 0.02942839],\n",
       "       [0.15722266, 0.50945   , 0.33332726],\n",
       "       [0.08317579, 0.23025441, 0.6865698 ],\n",
       "       [0.0676949 , 0.5837442 , 0.3485608 ],\n",
       "       [0.09048403, 0.4300817 , 0.47943428],\n",
       "       [0.04602009, 0.09006931, 0.86391056],\n",
       "       [0.03545759, 0.09620162, 0.8683408 ],\n",
       "       [0.03170869, 0.8582691 , 0.11002228],\n",
       "       [0.08716848, 0.5123064 , 0.40052512],\n",
       "       [0.032074  , 0.8606716 , 0.10725444],\n",
       "       [0.03742263, 0.79160315, 0.17097425],\n",
       "       [0.057847  , 0.1043186 , 0.8378345 ],\n",
       "       [0.05269666, 0.9079253 , 0.03937799],\n",
       "       [0.06670389, 0.5397182 , 0.3935779 ],\n",
       "       [0.07808127, 0.5313302 , 0.39058846],\n",
       "       [0.06244417, 0.5553794 , 0.3821765 ],\n",
       "       [0.07615051, 0.542208  , 0.38164148],\n",
       "       [0.01163054, 0.98233956, 0.00602986],\n",
       "       [0.08712806, 0.5883352 , 0.3245367 ],\n",
       "       [0.06754176, 0.70490456, 0.2275537 ],\n",
       "       [0.10275467, 0.2789153 , 0.61833006],\n",
       "       [0.02999653, 0.89161736, 0.07838619],\n",
       "       [0.01790066, 0.9675878 , 0.01451155],\n",
       "       [0.04886302, 0.04462512, 0.9065119 ],\n",
       "       [0.07652329, 0.43953755, 0.48393908],\n",
       "       [0.12754624, 0.5606386 , 0.31181523],\n",
       "       [0.06481219, 0.6252713 , 0.3099165 ],\n",
       "       [0.10516848, 0.3095413 , 0.5852902 ],\n",
       "       [0.06591902, 0.35211217, 0.58196884],\n",
       "       [0.05012654, 0.2623997 , 0.6874738 ],\n",
       "       [0.0691018 , 0.23508379, 0.69581443],\n",
       "       [0.06899792, 0.2400868 , 0.6909152 ],\n",
       "       [0.01790066, 0.9675878 , 0.01451155],\n",
       "       [0.07646419, 0.1607012 , 0.76283455],\n",
       "       [0.06694815, 0.4401945 , 0.4928573 ],\n",
       "       [0.02999653, 0.89161736, 0.07838619],\n",
       "       [0.11137629, 0.48408142, 0.4045423 ],\n",
       "       [0.02472676, 0.9317709 , 0.04350231],\n",
       "       [0.05598402, 0.24284628, 0.7011697 ],\n",
       "       [0.06206406, 0.60760754, 0.33032843],\n",
       "       [0.07105964, 0.21848524, 0.7104551 ],\n",
       "       [0.02506568, 0.93833184, 0.0366025 ],\n",
       "       [0.07901812, 0.58792853, 0.33305338],\n",
       "       [0.08395651, 0.56803715, 0.34800637],\n",
       "       [0.04557174, 0.17133312, 0.7830952 ],\n",
       "       [0.07583898, 0.3876786 , 0.5364824 ],\n",
       "       [0.08728946, 0.6274777 , 0.28523278],\n",
       "       [0.04389158, 0.5810199 , 0.37508854],\n",
       "       [0.04729784, 0.79930556, 0.1533966 ],\n",
       "       [0.05752915, 0.6312385 , 0.31123233],\n",
       "       [0.01383046, 0.97484845, 0.01132103],\n",
       "       [0.06532963, 0.42648107, 0.5081893 ],\n",
       "       [0.02999653, 0.89161736, 0.07838619],\n",
       "       [0.07281307, 0.5949016 , 0.33228528],\n",
       "       [0.0460863 , 0.29141423, 0.6624995 ],\n",
       "       [0.06610525, 0.51971114, 0.41418356],\n",
       "       [0.11395252, 0.48787206, 0.39817542],\n",
       "       [0.02590613, 0.93538654, 0.03870729],\n",
       "       [0.07057566, 0.2194404 , 0.70998394],\n",
       "       [0.07698772, 0.09624546, 0.82676685],\n",
       "       [0.07463966, 0.2817548 , 0.64360553],\n",
       "       [0.08274577, 0.34340784, 0.5738464 ],\n",
       "       [0.07750931, 0.30991545, 0.61257523],\n",
       "       [0.06229327, 0.28001648, 0.6576903 ],\n",
       "       [0.05588723, 0.8000779 , 0.14403488],\n",
       "       [0.08135145, 0.41580498, 0.5028436 ],\n",
       "       [0.08724999, 0.29691008, 0.6158399 ],\n",
       "       [0.06630527, 0.33405745, 0.59963727],\n",
       "       [0.049715  , 0.78534883, 0.16493608],\n",
       "       [0.10890776, 0.45895973, 0.43213254],\n",
       "       [0.04991733, 0.8231103 , 0.12697247],\n",
       "       [0.10601759, 0.58058506, 0.31339735],\n",
       "       [0.10807997, 0.5637229 , 0.3281971 ],\n",
       "       [0.06838004, 0.6679378 , 0.2636822 ],\n",
       "       [0.0447579 , 0.6392243 , 0.31601784],\n",
       "       [0.08299381, 0.33811367, 0.5788925 ],\n",
       "       [0.05333133, 0.2120356 , 0.7346331 ],\n",
       "       [0.07691894, 0.44204587, 0.48103523],\n",
       "       [0.04805451, 0.8207887 , 0.13115682],\n",
       "       [0.08392221, 0.627368  , 0.28870985],\n",
       "       [0.03554747, 0.09263837, 0.87181413],\n",
       "       [0.04852557, 0.32381243, 0.62766194],\n",
       "       [0.06052007, 0.6520808 , 0.2873993 ],\n",
       "       [0.05767743, 0.05816217, 0.8841604 ],\n",
       "       [0.09577259, 0.2512743 , 0.6529531 ],\n",
       "       [0.02999653, 0.89161736, 0.07838619],\n",
       "       [0.10047983, 0.53080505, 0.36871508],\n",
       "       [0.04938558, 0.17795996, 0.77265453],\n",
       "       [0.08454382, 0.2915444 , 0.6239118 ],\n",
       "       [0.12607223, 0.5763918 , 0.29753596],\n",
       "       [0.08498257, 0.47904322, 0.43597427],\n",
       "       [0.10373206, 0.27721167, 0.6190562 ],\n",
       "       [0.09352517, 0.5016065 , 0.4048683 ],\n",
       "       [0.09799623, 0.42325306, 0.4787508 ],\n",
       "       [0.03867926, 0.86966324, 0.09165746],\n",
       "       [0.08352187, 0.6486598 , 0.2678182 ],\n",
       "       [0.10576274, 0.4785868 , 0.4156505 ],\n",
       "       [0.13086759, 0.77785486, 0.09127759],\n",
       "       [0.04377655, 0.7149931 , 0.24123034],\n",
       "       [0.03874957, 0.8743403 , 0.08691005],\n",
       "       [0.05705748, 0.27787077, 0.6650718 ],\n",
       "       [0.04901447, 0.82629883, 0.1246867 ],\n",
       "       [0.04262641, 0.780129  , 0.17724463],\n",
       "       [0.05161897, 0.726628  , 0.22175297],\n",
       "       [0.02495794, 0.9074574 , 0.06758466],\n",
       "       [0.01383046, 0.97484845, 0.01132103],\n",
       "       [0.06901436, 0.5566697 , 0.37431595],\n",
       "       [0.08108039, 0.31473336, 0.6041863 ],\n",
       "       [0.08053444, 0.7748427 , 0.14462289],\n",
       "       [0.05886419, 0.5317768 , 0.40935895],\n",
       "       [0.05316355, 0.19456595, 0.75227046],\n",
       "       [0.032074  , 0.8606716 , 0.10725444],\n",
       "       [0.06242412, 0.7390998 , 0.19847614],\n",
       "       [0.07158741, 0.4638166 , 0.464596  ],\n",
       "       [0.04298811, 0.81206304, 0.14494883],\n",
       "       [0.0882505 , 0.6959941 , 0.21575539],\n",
       "       [0.04571721, 0.7174458 , 0.236837  ],\n",
       "       [0.04519831, 0.62575525, 0.32904646],\n",
       "       [0.05972281, 0.68634367, 0.2539335 ],\n",
       "       [0.10279039, 0.6109004 , 0.2863092 ],\n",
       "       [0.09162508, 0.33339846, 0.57497644],\n",
       "       [0.13063169, 0.49239612, 0.3769723 ],\n",
       "       [0.06485786, 0.1228461 , 0.81229603],\n",
       "       [0.07384182, 0.5988069 , 0.32735124],\n",
       "       [0.09895783, 0.3225866 , 0.57845557],\n",
       "       [0.09183594, 0.6993281 , 0.20883596],\n",
       "       [0.04885642, 0.6012319 , 0.3499117 ],\n",
       "       [0.01900004, 0.9628101 , 0.01818992],\n",
       "       [0.03872713, 0.79415137, 0.16712148],\n",
       "       [0.11281395, 0.6124864 , 0.27469957],\n",
       "       [0.06203693, 0.3155867 , 0.6223764 ],\n",
       "       [0.08302965, 0.769104  , 0.14786635],\n",
       "       [0.032074  , 0.8606716 , 0.10725444],\n",
       "       [0.0707348 , 0.20370388, 0.7255613 ],\n",
       "       [0.03286781, 0.27866516, 0.68846697],\n",
       "       [0.1052774 , 0.42560187, 0.4691207 ],\n",
       "       [0.08938464, 0.5029424 , 0.40767294],\n",
       "       [0.0553132 , 0.32377416, 0.6209126 ],\n",
       "       [0.049715  , 0.78534883, 0.16493608],\n",
       "       [0.08987064, 0.65976626, 0.25036308],\n",
       "       [0.06101412, 0.38879535, 0.5501905 ],\n",
       "       [0.03854401, 0.8725086 , 0.08894738],\n",
       "       [0.09059095, 0.36316845, 0.5462406 ],\n",
       "       [0.06946292, 0.68601394, 0.2445231 ],\n",
       "       [0.07504661, 0.21905892, 0.7058944 ],\n",
       "       [0.10711068, 0.19738093, 0.6955083 ],\n",
       "       [0.05625842, 0.17963143, 0.7641102 ],\n",
       "       [0.10020249, 0.34061706, 0.55918044],\n",
       "       [0.02503003, 0.93691325, 0.03805674],\n",
       "       [0.06518222, 0.5202906 , 0.41452715],\n",
       "       [0.05975012, 0.6733656 , 0.26688433],\n",
       "       [0.07291627, 0.47014394, 0.45693985],\n",
       "       [0.08248788, 0.2525133 , 0.6649988 ],\n",
       "       [0.11072537, 0.57387674, 0.31539792],\n",
       "       [0.08633752, 0.3295361 , 0.58412635],\n",
       "       [0.04151139, 0.15362947, 0.8048591 ],\n",
       "       [0.05409457, 0.6284461 , 0.3174593 ],\n",
       "       [0.08192497, 0.62093556, 0.29713944],\n",
       "       [0.04235806, 0.78031313, 0.17732882],\n",
       "       [0.03176152, 0.06313594, 0.90510255],\n",
       "       [0.04423559, 0.18789694, 0.76786745],\n",
       "       [0.07743705, 0.36639518, 0.5561677 ],\n",
       "       [0.06866938, 0.3516071 , 0.5797235 ],\n",
       "       [0.02999653, 0.89161736, 0.07838619],\n",
       "       [0.07581013, 0.40103215, 0.52315766],\n",
       "       [0.05635781, 0.16386671, 0.7797755 ],\n",
       "       [0.05217327, 0.768278  , 0.17954867],\n",
       "       [0.01900004, 0.9628101 , 0.01818992],\n",
       "       [0.07801278, 0.17247964, 0.7495075 ],\n",
       "       [0.06095143, 0.74016416, 0.19888441],\n",
       "       [0.02495794, 0.9074574 , 0.06758466],\n",
       "       [0.06819484, 0.20947857, 0.72232664],\n",
       "       [0.06236612, 0.42160437, 0.51602954],\n",
       "       [0.08848067, 0.6334173 , 0.27810195],\n",
       "       [0.07563296, 0.63032025, 0.29404676],\n",
       "       [0.06092131, 0.13753597, 0.80154276],\n",
       "       [0.03746549, 0.09544375, 0.86709076],\n",
       "       [0.08230323, 0.42050666, 0.49719015],\n",
       "       [0.09218943, 0.72699773, 0.18081284],\n",
       "       [0.07970025, 0.42902297, 0.49127677],\n",
       "       [0.03693781, 0.0791517 , 0.88391054],\n",
       "       [0.10410915, 0.46103168, 0.43485916],\n",
       "       [0.08388357, 0.7402482 , 0.1758682 ],\n",
       "       [0.08847014, 0.2170469 , 0.6944829 ],\n",
       "       [0.07828373, 0.13938001, 0.78233624],\n",
       "       [0.01790066, 0.9675878 , 0.01451155],\n",
       "       [0.01790066, 0.9675878 , 0.01451155],\n",
       "       [0.06770515, 0.7098119 , 0.22248292],\n",
       "       [0.06207139, 0.44091493, 0.49701363],\n",
       "       [0.08949574, 0.4174991 , 0.49300516],\n",
       "       [0.01856423, 0.96248454, 0.01895125],\n",
       "       [0.04152266, 0.7964323 , 0.16204506],\n",
       "       [0.06673332, 0.6627815 , 0.27048513],\n",
       "       [0.06159229, 0.2493566 , 0.6890511 ],\n",
       "       [0.01856423, 0.96248454, 0.01895125],\n",
       "       [0.06355051, 0.61343694, 0.32301253],\n",
       "       [0.05088402, 0.2554578 , 0.69365823],\n",
       "       [0.08734772, 0.5962094 , 0.31644288],\n",
       "       [0.06893691, 0.3684037 , 0.5626594 ],\n",
       "       [0.05975012, 0.6733656 , 0.26688433],\n",
       "       [0.05231657, 0.1634459 , 0.78423756],\n",
       "       [0.01163054, 0.98233956, 0.00602986],\n",
       "       [0.14306334, 0.30715173, 0.54978496],\n",
       "       [0.07066251, 0.65602386, 0.27331358],\n",
       "       [0.01790066, 0.9675878 , 0.01451155],\n",
       "       [0.11738877, 0.39129475, 0.4913165 ],\n",
       "       [0.11203764, 0.52814966, 0.3598127 ],\n",
       "       [0.0653863 , 0.51365477, 0.4209589 ],\n",
       "       [0.13153996, 0.4120166 , 0.4564434 ],\n",
       "       [0.05143626, 0.6661336 , 0.28243014],\n",
       "       [0.09466634, 0.3640084 , 0.5413252 ],\n",
       "       [0.02856271, 0.93868065, 0.03275667],\n",
       "       [0.12706487, 0.57100236, 0.3019328 ],\n",
       "       [0.05043409, 0.8164742 , 0.13309176],\n",
       "       [0.04878299, 0.76773113, 0.18348588],\n",
       "       [0.10195129, 0.2925208 , 0.605528  ],\n",
       "       [0.07969816, 0.54271984, 0.377582  ],\n",
       "       [0.09929657, 0.5126698 , 0.38803363],\n",
       "       [0.03686788, 0.06429726, 0.8988348 ],\n",
       "       [0.11831523, 0.5189849 , 0.36269987],\n",
       "       [0.07028657, 0.30697662, 0.6227369 ],\n",
       "       [0.01856423, 0.96248454, 0.01895125],\n",
       "       [0.10612344, 0.48307705, 0.4107995 ],\n",
       "       [0.05986332, 0.55633235, 0.3838043 ],\n",
       "       [0.09944012, 0.14506215, 0.7554977 ],\n",
       "       [0.07924292, 0.3437914 , 0.5769657 ],\n",
       "       [0.0519317 , 0.09858859, 0.84947973],\n",
       "       [0.07661922, 0.45628276, 0.46709797],\n",
       "       [0.10341426, 0.76881266, 0.12777302],\n",
       "       [0.03751029, 0.792464  , 0.1700257 ],\n",
       "       [0.06061887, 0.20636056, 0.73302054],\n",
       "       [0.04444957, 0.41989765, 0.5356528 ],\n",
       "       [0.07258704, 0.39008516, 0.5373277 ],\n",
       "       [0.05705471, 0.23898758, 0.70395774],\n",
       "       [0.08209295, 0.6686992 , 0.2492078 ],\n",
       "       [0.09521945, 0.4496843 , 0.4550962 ],\n",
       "       [0.06287035, 0.2780016 , 0.65912807],\n",
       "       [0.02342522, 0.95207036, 0.02450433],\n",
       "       [0.01790066, 0.9675878 , 0.01451155],\n",
       "       [0.06612582, 0.24238147, 0.69149274],\n",
       "       [0.11127543, 0.5091861 , 0.37953842],\n",
       "       [0.08402306, 0.13863587, 0.77734107],\n",
       "       [0.0693808 , 0.49779958, 0.43281955],\n",
       "       [0.05725497, 0.58364177, 0.35910332],\n",
       "       [0.09522958, 0.48960078, 0.41516972],\n",
       "       [0.06060598, 0.3300656 , 0.6093284 ],\n",
       "       [0.10975132, 0.37958592, 0.5106628 ],\n",
       "       [0.03409685, 0.87039095, 0.09551214],\n",
       "       [0.01856423, 0.96248454, 0.01895125],\n",
       "       [0.01790066, 0.9675878 , 0.01451155],\n",
       "       [0.09061769, 0.6785099 , 0.23087238],\n",
       "       [0.07436848, 0.5566538 , 0.36897776],\n",
       "       [0.0580557 , 0.7119608 , 0.22998354],\n",
       "       [0.04865527, 0.7729003 , 0.1784445 ],\n",
       "       [0.05391538, 0.79953897, 0.14654557],\n",
       "       [0.07413886, 0.66907007, 0.25679106],\n",
       "       [0.06403734, 0.45273852, 0.4832242 ],\n",
       "       [0.07341335, 0.21706301, 0.70952374],\n",
       "       [0.06888005, 0.32327363, 0.6078464 ],\n",
       "       [0.05583171, 0.22761433, 0.716554  ],\n",
       "       [0.10382606, 0.6006551 , 0.29551888],\n",
       "       [0.03912019, 0.14391676, 0.8169631 ],\n",
       "       [0.07901612, 0.5715676 , 0.34941623],\n",
       "       [0.0365477 , 0.8296503 , 0.13380207],\n",
       "       [0.13897471, 0.6169201 , 0.2441052 ]], dtype=float32)"
      ]
     },
     "execution_count": 71,
     "metadata": {},
     "output_type": "execute_result"
    }
   ],
   "source": [
    "y_pred = model_sr.predict(x_test)\n",
    "y_pred"
   ]
  },
  {
   "cell_type": "code",
   "execution_count": 77,
   "metadata": {},
   "outputs": [
    {
     "data": {
      "text/plain": [
       "array([1, 1, 1, 1, 1, 2, 1, 2, 1, 2, 2, 1, 1, 1, 1, 2, 1, 1, 2, 2, 1, 1,\n",
       "       1, 1, 2, 1, 2, 1, 1, 2, 2, 2, 1, 2, 2, 1, 2, 2, 1, 2, 2, 2, 2, 2,\n",
       "       2, 1, 1, 1, 2, 1, 1, 1, 1, 2, 2, 1, 1, 2, 2, 2, 2, 1, 1, 1, 1, 1,\n",
       "       2, 1, 2, 2, 2, 1, 1, 1, 1, 2, 1, 1, 1, 1, 1, 1, 1, 1, 2, 1, 1, 2,\n",
       "       2, 1, 1, 2, 2, 2, 2, 2, 1, 2, 2, 1, 1, 1, 2, 1, 2, 1, 1, 1, 2, 2,\n",
       "       1, 1, 1, 1, 1, 2, 1, 1, 2, 1, 1, 1, 2, 2, 2, 2, 2, 2, 1, 2, 2, 2,\n",
       "       1, 1, 1, 1, 1, 1, 1, 2, 2, 2, 1, 1, 2, 2, 1, 2, 2, 1, 1, 2, 2, 1,\n",
       "       1, 2, 1, 2, 1, 1, 1, 1, 1, 1, 2, 1, 1, 1, 1, 1, 1, 2, 1, 1, 2, 1,\n",
       "       1, 2, 1, 1, 1, 1, 1, 1, 2, 1, 2, 1, 2, 1, 1, 1, 1, 1, 2, 1, 1, 2,\n",
       "       2, 2, 1, 2, 1, 1, 2, 1, 2, 1, 2, 2, 2, 2, 1, 1, 1, 1, 2, 1, 2, 2,\n",
       "       1, 1, 1, 2, 2, 2, 2, 1, 2, 2, 1, 1, 2, 1, 1, 2, 2, 1, 1, 2, 2, 2,\n",
       "       1, 2, 2, 1, 1, 2, 2, 1, 1, 1, 2, 2, 1, 1, 1, 2, 1, 1, 2, 1, 2, 1,\n",
       "       2, 1, 2, 1, 1, 2, 1, 1, 2, 1, 2, 1, 1, 1, 1, 2, 1, 1, 2, 1, 2, 1,\n",
       "       1, 1, 2, 2, 2, 2, 1, 1, 2, 2, 2, 2, 1, 2, 2, 1, 1, 2, 1, 2, 1, 1,\n",
       "       1, 2, 2, 1, 1, 1, 1, 1, 1, 1, 1, 1, 2, 2, 2, 2, 1, 2, 1, 1, 1],\n",
       "      dtype=int64)"
      ]
     },
     "execution_count": 77,
     "metadata": {},
     "output_type": "execute_result"
    }
   ],
   "source": [
    "y_pred = model_sr.predict_classes(x_test)\n",
    "y_pred"
   ]
  },
  {
   "cell_type": "code",
   "execution_count": 78,
   "metadata": {},
   "outputs": [
    {
     "name": "stdout",
     "output_type": "stream",
     "text": [
      "             precision    recall  f1-score   support\n",
      "\n",
      "          0       0.00      0.00      0.00        30\n",
      "          1       0.64      0.70      0.67       172\n",
      "          2       0.53      0.57      0.55       127\n",
      "\n",
      "avg / total       0.54      0.59      0.56       329\n",
      "\n"
     ]
    },
    {
     "name": "stderr",
     "output_type": "stream",
     "text": [
      "C:\\Users\\nikhi\\Anaconda3\\lib\\site-packages\\sklearn\\metrics\\classification.py:1135: UndefinedMetricWarning: Precision and F-score are ill-defined and being set to 0.0 in labels with no predicted samples.\n",
      "  'precision', 'predicted', average, warn_for)\n"
     ]
    }
   ],
   "source": [
    "print(classification_report(y_test.argmax(axis=1), y_pred))"
   ]
  },
  {
   "cell_type": "code",
   "execution_count": 79,
   "metadata": {},
   "outputs": [
    {
     "data": {
      "text/plain": [
       "[]"
      ]
     },
     "execution_count": 79,
     "metadata": {},
     "output_type": "execute_result"
    },
    {
     "data": {
      "image/png": "[encoded data removed]",
      "text/plain": [
       "<Figure size 432x288 with 2 Axes>"
      ]
     },
     "metadata": {},
     "output_type": "display_data"
    }
   ],
   "source": [
    "import matplotlib.pyplot as plt     \n",
    "import seaborn as sns\n",
    "\n",
    "\n",
    "import seaborn as sns\n",
    "labels = ['Negative','Neutral', 'Positive']\n",
    "ax = sns.heatmap(confusion_matrix(y_test.argmax(axis=1), y_pred), annot=True, xticklabels=labels, yticklabels=labels, fmt='g')\n",
    "ax.set(xlabel='Predicted labels', ylabel='True labels')\n",
    "ax.plot()\n"
   ]
  },
  {
   "cell_type": "markdown",
   "metadata": {},
   "source": [
    "** Stacked LSTM **"
   ]
  },
  {
   "cell_type": "code",
   "execution_count": 83,
   "metadata": {},
   "outputs": [
    {
     "name": "stdout",
     "output_type": "stream",
     "text": [
      "_________________________________________________________________\n",
      "Layer (type)                 Output Shape              Param #   \n",
      "=================================================================\n",
      "embedding_8 (Embedding)      (None, 50, 64)            640000    \n",
      "_________________________________________________________________\n",
      "lstm_3 (LSTM)                (None, 50, 64)            33024     \n",
      "_________________________________________________________________\n",
      "lstm_4 (LSTM)                (None, 32)                12416     \n",
      "_________________________________________________________________\n",
      "dense_10 (Dense)             (None, 3)                 99        \n",
      "=================================================================\n",
      "Total params: 685,539\n",
      "Trainable params: 685,539\n",
      "Non-trainable params: 0\n",
      "_________________________________________________________________\n"
     ]
    }
   ],
   "source": [
    "from keras.layers import LSTM\n",
    "from keras.optimizers import adamax\n",
    "\n",
    "model_lstm = Sequential()\n",
    "\n",
    "model_lstm.add(Embedding(max_features, 64, input_length=maxlen))\n",
    "model_lstm.add(LSTM(64, dropout=0.2, recurrent_dropout=0.2, return_sequences=True))\n",
    "model_lstm.add(LSTM(32, dropout=0.2, recurrent_dropout=0.2))\n",
    "model_lstm.add(Dense(3, activation='softmax'))\n",
    "\n",
    "model_lstm.summary()\n",
    "model_lstm.compile(optimizer=adamax(lr=0.0001), loss='categorical_crossentropy', metrics=['accuracy'])"
   ]
  },
  {
   "cell_type": "code",
   "execution_count": 84,
   "metadata": {},
   "outputs": [
    {
     "name": "stdout",
     "output_type": "stream",
     "text": [
      "Train on 1052 samples, validate on 263 samples\n",
      "Epoch 1/20\n",
      "1052/1052 [==============================] - 13s 13ms/step - loss: 1.0653 - acc: 0.4705 - val_loss: 1.0260 - val_acc: 0.4981\n",
      "Epoch 2/20\n",
      "1052/1052 [==============================] - 14s 13ms/step - loss: 0.9580 - acc: 0.5048 - val_loss: 0.9098 - val_acc: 0.4981\n",
      "Epoch 3/20\n",
      "1052/1052 [==============================] - 15s 15ms/step - loss: 0.8890 - acc: 0.5038 - val_loss: 0.8879 - val_acc: 0.4981\n",
      "Epoch 4/20\n",
      "1052/1052 [==============================] - 15s 15ms/step - loss: 0.8810 - acc: 0.5048 - val_loss: 0.8782 - val_acc: 0.4981\n",
      "Epoch 5/20\n",
      "1052/1052 [==============================] - 16s 15ms/step - loss: 0.8780 - acc: 0.5038 - val_loss: 0.8696 - val_acc: 0.4981\n",
      "Epoch 6/20\n",
      "1052/1052 [==============================] - 16s 15ms/step - loss: 0.8705 - acc: 0.5067 - val_loss: 0.8615 - val_acc: 0.4905\n",
      "Epoch 7/20\n",
      "1052/1052 [==============================] - 16s 15ms/step - loss: 0.8552 - acc: 0.5295 - val_loss: 0.8542 - val_acc: 0.5323\n",
      "Epoch 8/20\n",
      "1052/1052 [==============================] - 16s 16ms/step - loss: 0.8475 - acc: 0.5665 - val_loss: 0.8474 - val_acc: 0.5741\n",
      "Epoch 9/20\n",
      "1052/1052 [==============================] - 21s 20ms/step - loss: 0.8341 - acc: 0.5998 - val_loss: 0.8412 - val_acc: 0.5894\n",
      "Epoch 10/20\n",
      "1052/1052 [==============================] - 17s 16ms/step - loss: 0.8352 - acc: 0.6074 - val_loss: 0.8358 - val_acc: 0.6008\n",
      "Epoch 11/20\n",
      "1052/1052 [==============================] - 19s 18ms/step - loss: 0.8208 - acc: 0.6103 - val_loss: 0.8310 - val_acc: 0.6160\n",
      "Epoch 12/20\n",
      "1052/1052 [==============================] - 18s 17ms/step - loss: 0.8276 - acc: 0.6236 - val_loss: 0.8273 - val_acc: 0.6198\n",
      "Epoch 13/20\n",
      "1052/1052 [==============================] - 18s 17ms/step - loss: 0.8127 - acc: 0.6274 - val_loss: 0.8240 - val_acc: 0.6160\n",
      "Epoch 14/20\n",
      "1052/1052 [==============================] - 18s 18ms/step - loss: 0.8126 - acc: 0.6321 - val_loss: 0.8213 - val_acc: 0.6160\n",
      "Epoch 15/20\n",
      "1052/1052 [==============================] - 20s 19ms/step - loss: 0.8123 - acc: 0.6207 - val_loss: 0.8192 - val_acc: 0.6084\n",
      "Epoch 16/20\n",
      "1052/1052 [==============================] - 21s 20ms/step - loss: 0.8055 - acc: 0.6264 - val_loss: 0.8177 - val_acc: 0.6122\n",
      "Epoch 17/20\n",
      "1052/1052 [==============================] - 19s 18ms/step - loss: 0.7990 - acc: 0.6359 - val_loss: 0.8157 - val_acc: 0.6122\n",
      "Epoch 18/20\n",
      "1052/1052 [==============================] - 20s 19ms/step - loss: 0.8015 - acc: 0.6321 - val_loss: 0.8146 - val_acc: 0.6122\n",
      "Epoch 19/20\n",
      "1052/1052 [==============================] - 21s 20ms/step - loss: 0.7950 - acc: 0.6350 - val_loss: 0.8138 - val_acc: 0.6122\n",
      "Epoch 20/20\n",
      "1052/1052 [==============================] - 19s 18ms/step - loss: 0.7945 - acc: 0.6293 - val_loss: 0.8120 - val_acc: 0.6084\n"
     ]
    }
   ],
   "source": [
    "history = model_lstm.fit(x_train, y_train, epochs=20, batch_size=5, validation_split=0.2)"
   ]
  },
  {
   "cell_type": "code",
   "execution_count": 85,
   "metadata": {},
   "outputs": [
    {
     "name": "stdout",
     "output_type": "stream",
     "text": [
      "dict_keys(['val_loss', 'val_acc', 'loss', 'acc'])\n"
     ]
    },
    {
     "data": {
      "image/png": "[encoded data removed]",
      "text/plain": [
       "<Figure size 432x288 with 1 Axes>"
      ]
     },
     "metadata": {},
     "output_type": "display_data"
    },
    {
     "data": {
      "image/png": "[encoded data removed]",
      "text/plain": [
       "<Figure size 432x288 with 1 Axes>"
      ]
     },
     "metadata": {},
     "output_type": "display_data"
    }
   ],
   "source": [
    "print(history.history.keys())\n",
    "# summarize history for accuracy\n",
    "plt.plot(history.history['acc'])\n",
    "plt.plot(history.history['val_acc'])\n",
    "plt.title('Model Accuracy')\n",
    "plt.ylabel('accuracy')\n",
    "plt.xlabel('epoch')\n",
    "plt.legend(['train', 'test'], loc='upper left')\n",
    "plt.show()\n",
    "# summarize history for loss\n",
    "plt.plot(history.history['loss'])\n",
    "plt.plot(history.history['val_loss'])\n",
    "plt.title('Model Loss')\n",
    "plt.ylabel('loss')\n",
    "plt.xlabel('epoch')\n",
    "plt.legend(['train', 'test'], loc='upper left')\n",
    "plt.show()\n"
   ]
  },
  {
   "cell_type": "code",
   "execution_count": 86,
   "metadata": {},
   "outputs": [
    {
     "data": {
      "text/plain": [
       "array([[0.0527857 , 0.5358396 , 0.41137463],\n",
       "       [0.00857939, 0.91366154, 0.07775905],\n",
       "       [0.00896366, 0.90937984, 0.08165645],\n",
       "       [0.00901793, 0.90939534, 0.08158673],\n",
       "       [0.08780676, 0.40405032, 0.50814295],\n",
       "       [0.04785598, 0.55988   , 0.39226404],\n",
       "       [0.10171065, 0.38020027, 0.51808906],\n",
       "       [0.11336412, 0.36150324, 0.5251326 ],\n",
       "       [0.0091479 , 0.90740764, 0.08344446],\n",
       "       [0.17956835, 0.30988458, 0.510547  ],\n",
       "       [0.15581936, 0.34992048, 0.49426022],\n",
       "       [0.15457658, 0.3291929 , 0.51623046],\n",
       "       [0.05126087, 0.5483315 , 0.40040764],\n",
       "       [0.04519171, 0.584354  , 0.37045434],\n",
       "       [0.00978887, 0.8985767 , 0.09163451],\n",
       "       [0.12020411, 0.365727  , 0.5140689 ],\n",
       "       [0.11172696, 0.3532564 , 0.53501666],\n",
       "       [0.00908187, 0.9079227 , 0.08299558],\n",
       "       [0.04963372, 0.5465813 , 0.40378493],\n",
       "       [0.11382347, 0.35221973, 0.53395677],\n",
       "       [0.00861983, 0.9139759 , 0.07740431],\n",
       "       [0.11441781, 0.35238302, 0.53319925],\n",
       "       [0.01882427, 0.7987407 , 0.182435  ],\n",
       "       [0.00917044, 0.90753573, 0.0832938 ],\n",
       "       [0.19576399, 0.3002041 , 0.5040319 ],\n",
       "       [0.01103894, 0.88499355, 0.10396753],\n",
       "       [0.10873856, 0.35397187, 0.53728956],\n",
       "       [0.178711  , 0.31934056, 0.5019484 ],\n",
       "       [0.00896366, 0.90937984, 0.08165645],\n",
       "       [0.1787165 , 0.32622367, 0.4950598 ],\n",
       "       [0.08010521, 0.42850447, 0.4913904 ],\n",
       "       [0.13662548, 0.34293985, 0.5204347 ],\n",
       "       [0.07532024, 0.43926504, 0.48541477],\n",
       "       [0.15619992, 0.3247038 , 0.51909626],\n",
       "       [0.16562031, 0.35091135, 0.4834683 ],\n",
       "       [0.00855908, 0.9144552 , 0.07698581],\n",
       "       [0.05064248, 0.5450625 , 0.40429503],\n",
       "       [0.10482931, 0.36828214, 0.52688855],\n",
       "       [0.10281357, 0.38213876, 0.51504767],\n",
       "       [0.05053285, 0.5472603 , 0.40220687],\n",
       "       [0.14202307, 0.352342  , 0.50563496],\n",
       "       [0.10146027, 0.37629294, 0.5222467 ],\n",
       "       [0.17035492, 0.31818122, 0.5114639 ],\n",
       "       [0.18037224, 0.32927632, 0.49035144],\n",
       "       [0.17481843, 0.3169373 , 0.5082443 ],\n",
       "       [0.00896366, 0.90937984, 0.08165645],\n",
       "       [0.1027209 , 0.37308368, 0.52419543],\n",
       "       [0.16383584, 0.339495  , 0.49666923],\n",
       "       [0.16930859, 0.32611755, 0.50457394],\n",
       "       [0.18776488, 0.31468847, 0.4975466 ],\n",
       "       [0.16419306, 0.32092854, 0.51487833],\n",
       "       [0.15694408, 0.34530675, 0.4977492 ],\n",
       "       [0.00919659, 0.9068518 , 0.08395153],\n",
       "       [0.13416956, 0.33140773, 0.5344227 ],\n",
       "       [0.07720613, 0.43244475, 0.4903491 ],\n",
       "       [0.17039748, 0.3176773 , 0.5119252 ],\n",
       "       [0.01165011, 0.87778294, 0.11056698],\n",
       "       [0.18151549, 0.3282926 , 0.49019185],\n",
       "       [0.07277095, 0.4382813 , 0.48894772],\n",
       "       [0.17254317, 0.33162257, 0.49583423],\n",
       "       [0.15191218, 0.35748985, 0.49059802],\n",
       "       [0.01085017, 0.8861283 , 0.10302158],\n",
       "       [0.00902648, 0.90827006, 0.08270339],\n",
       "       [0.1637078 , 0.35090983, 0.4853823 ],\n",
       "       [0.01329696, 0.86001855, 0.1266845 ],\n",
       "       [0.17066185, 0.33717114, 0.49216697],\n",
       "       [0.14579864, 0.33575115, 0.51845026],\n",
       "       [0.12163995, 0.35914811, 0.51921195],\n",
       "       [0.18709734, 0.32040116, 0.49250147],\n",
       "       [0.1860288 , 0.32202148, 0.49194968],\n",
       "       [0.07108358, 0.455711  , 0.47320536],\n",
       "       [0.00912482, 0.9073622 , 0.08351301],\n",
       "       [0.09473982, 0.38201383, 0.52324635],\n",
       "       [0.00855247, 0.9148807 , 0.07656685],\n",
       "       [0.00856577, 0.91439253, 0.07704173],\n",
       "       [0.12370182, 0.33563492, 0.54066324],\n",
       "       [0.12276508, 0.3459363 , 0.53129864],\n",
       "       [0.14308868, 0.34200197, 0.5149093 ],\n",
       "       [0.17774361, 0.3224474 , 0.49980897],\n",
       "       [0.02236154, 0.76449627, 0.21314223],\n",
       "       [0.17232855, 0.3239063 , 0.50376517],\n",
       "       [0.00903792, 0.9086103 , 0.08235189],\n",
       "       [0.1575107 , 0.33345097, 0.5090383 ],\n",
       "       [0.01420731, 0.848748  , 0.13704464],\n",
       "       [0.09919531, 0.38856548, 0.5122392 ],\n",
       "       [0.00886474, 0.9112324 , 0.07990281],\n",
       "       [0.00849277, 0.9152359 , 0.07627131],\n",
       "       [0.08523923, 0.39534298, 0.5194178 ],\n",
       "       [0.06550088, 0.47124088, 0.46325827],\n",
       "       [0.0810846 , 0.43173152, 0.4871839 ],\n",
       "       [0.01871823, 0.7993735 , 0.1819082 ],\n",
       "       [0.16266164, 0.33517292, 0.5021655 ],\n",
       "       [0.08659459, 0.4052128 , 0.5081926 ],\n",
       "       [0.16374336, 0.3340545 , 0.50220215],\n",
       "       [0.15229972, 0.3289276 , 0.5187727 ],\n",
       "       [0.17583184, 0.32180235, 0.50236577],\n",
       "       [0.00849277, 0.9152359 , 0.07627131],\n",
       "       [0.16733322, 0.32135785, 0.5113089 ],\n",
       "       [0.03544582, 0.64880943, 0.3157448 ],\n",
       "       [0.00886474, 0.9112324 , 0.07990281],\n",
       "       [0.15598647, 0.34770134, 0.4963121 ],\n",
       "       [0.00909718, 0.90746427, 0.08343857],\n",
       "       [0.10423299, 0.3599112 , 0.53585577],\n",
       "       [0.04405726, 0.5869799 , 0.36896276],\n",
       "       [0.1321491 , 0.3292038 , 0.53864706],\n",
       "       [0.00906835, 0.90849227, 0.08243935],\n",
       "       [0.17099817, 0.33181247, 0.4971893 ],\n",
       "       [0.15490057, 0.3388224 , 0.5062771 ],\n",
       "       [0.06062463, 0.49791867, 0.4414567 ],\n",
       "       [0.11125334, 0.35672033, 0.53202635],\n",
       "       [0.1661503 , 0.33525258, 0.4985971 ],\n",
       "       [0.02137726, 0.7755959 , 0.20302685],\n",
       "       [0.01080987, 0.88749206, 0.10169803],\n",
       "       [0.01281185, 0.86506516, 0.12212287],\n",
       "       [0.00896366, 0.90937984, 0.08165645],\n",
       "       [0.06355228, 0.48306516, 0.4533826 ],\n",
       "       [0.00886474, 0.9112324 , 0.07990281],\n",
       "       [0.01570243, 0.8324448 , 0.15185271],\n",
       "       [0.10534684, 0.3560024 , 0.5386507 ],\n",
       "       [0.04668557, 0.564621  , 0.38869348],\n",
       "       [0.18910564, 0.30654547, 0.5043489 ],\n",
       "       [0.01358315, 0.856332  , 0.13008489],\n",
       "       [0.15667318, 0.35745   , 0.48587677],\n",
       "       [0.05856904, 0.5063471 , 0.4350838 ],\n",
       "       [0.02689408, 0.7200179 , 0.25308803],\n",
       "       [0.17084453, 0.32790837, 0.5012471 ],\n",
       "       [0.16941088, 0.3318243 , 0.49876484],\n",
       "       [0.04804943, 0.5529364 , 0.39901415],\n",
       "       [0.01061203, 0.88930315, 0.10008487],\n",
       "       [0.14135993, 0.3546852 , 0.5039549 ],\n",
       "       [0.09661978, 0.38623387, 0.51714635],\n",
       "       [0.09600244, 0.37795272, 0.52604485],\n",
       "       [0.00937387, 0.9044694 , 0.08615676],\n",
       "       [0.16327582, 0.34690014, 0.48982403],\n",
       "       [0.0116568 , 0.8772813 , 0.11106186],\n",
       "       [0.17611252, 0.32739437, 0.49649313],\n",
       "       [0.13689788, 0.33118263, 0.5319195 ],\n",
       "       [0.16952497, 0.33367956, 0.49679554],\n",
       "       [0.03598611, 0.644143  , 0.3198709 ],\n",
       "       [0.080246  , 0.4328272 , 0.48692676],\n",
       "       [0.17248383, 0.33193678, 0.49557933],\n",
       "       [0.15761961, 0.3341908 , 0.5081896 ],\n",
       "       [0.02001096, 0.7892547 , 0.19073433],\n",
       "       [0.16147043, 0.31892082, 0.51960874],\n",
       "       [0.15421014, 0.3127637 , 0.5330262 ],\n",
       "       [0.17292312, 0.32061094, 0.5064659 ],\n",
       "       [0.01436901, 0.8483056 , 0.13732548],\n",
       "       [0.15828459, 0.35794917, 0.4837663 ],\n",
       "       [0.17128892, 0.3293661 , 0.49934497],\n",
       "       [0.00886474, 0.9112324 , 0.07990281],\n",
       "       [0.19106604, 0.30980894, 0.49912497],\n",
       "       [0.11020251, 0.35355663, 0.5362408 ],\n",
       "       [0.1364688 , 0.33162922, 0.53190196],\n",
       "       [0.16035223, 0.3184446 , 0.5212031 ],\n",
       "       [0.17947246, 0.31239977, 0.50812775],\n",
       "       [0.1762106 , 0.3302278 , 0.49356169],\n",
       "       [0.07186749, 0.44463977, 0.4834927 ],\n",
       "       [0.07213328, 0.4471903 , 0.4806764 ],\n",
       "       [0.04178365, 0.60413796, 0.35407838],\n",
       "       [0.06527956, 0.47948498, 0.45523548],\n",
       "       [0.03441247, 0.6644741 , 0.30111337],\n",
       "       [0.16084461, 0.34733242, 0.49182296],\n",
       "       [0.03169607, 0.68264455, 0.28565937],\n",
       "       [0.01054536, 0.88976234, 0.09969232],\n",
       "       [0.14797477, 0.36150244, 0.49052274],\n",
       "       [0.02176666, 0.77407694, 0.2041565 ],\n",
       "       [0.00907678, 0.90749174, 0.08343147],\n",
       "       [0.0090902 , 0.90820676, 0.08270308],\n",
       "       [0.00856479, 0.91439277, 0.07704253],\n",
       "       [0.00896366, 0.90937984, 0.08165645],\n",
       "       [0.02366665, 0.7492968 , 0.22703665],\n",
       "       [0.16703069, 0.33083197, 0.50213736],\n",
       "       [0.15988666, 0.3527925 , 0.4873208 ],\n",
       "       [0.15418124, 0.3218868 , 0.5239319 ],\n",
       "       [0.18479833, 0.31347236, 0.50172937],\n",
       "       [0.00855247, 0.9148807 , 0.07656685],\n",
       "       [0.01133776, 0.8816252 , 0.10703709],\n",
       "       [0.16890027, 0.33605093, 0.49504888],\n",
       "       [0.01162181, 0.8791313 , 0.10924685],\n",
       "       [0.05029588, 0.5406521 , 0.409052  ],\n",
       "       [0.00907996, 0.90809095, 0.0828291 ],\n",
       "       [0.01265066, 0.8676058 , 0.11974352],\n",
       "       [0.01821471, 0.8075307 , 0.17425455],\n",
       "       [0.15666422, 0.33915347, 0.5041823 ],\n",
       "       [0.05457167, 0.52582735, 0.419601  ],\n",
       "       [0.15279679, 0.33269966, 0.5145036 ],\n",
       "       [0.18126525, 0.32602605, 0.4927087 ],\n",
       "       [0.01206716, 0.8713883 , 0.11654446],\n",
       "       [0.16446376, 0.32487583, 0.5106604 ],\n",
       "       [0.1867383 , 0.31151387, 0.50174785],\n",
       "       [0.10060411, 0.37122154, 0.52817434],\n",
       "       [0.00913654, 0.9074309 , 0.08343261],\n",
       "       [0.00857217, 0.9143758 , 0.07705206],\n",
       "       [0.16017757, 0.3421113 , 0.49771115],\n",
       "       [0.09162596, 0.3906826 , 0.5176914 ],\n",
       "       [0.13216001, 0.3694606 , 0.49837938],\n",
       "       [0.00855247, 0.9148807 , 0.07656685],\n",
       "       [0.12103936, 0.34531134, 0.53364927],\n",
       "       [0.15981224, 0.33066475, 0.509523  ],\n",
       "       [0.1275123 , 0.34803316, 0.5244546 ],\n",
       "       [0.16126645, 0.3179277 , 0.52080584],\n",
       "       [0.13557723, 0.37070462, 0.4937182 ],\n",
       "       [0.00937387, 0.9044694 , 0.08615676],\n",
       "       [0.15524918, 0.3366617 , 0.5080892 ],\n",
       "       [0.02654556, 0.7250785 , 0.24837594],\n",
       "       [0.01093033, 0.8861524 , 0.10291728],\n",
       "       [0.17493731, 0.317139  , 0.50792366],\n",
       "       [0.14891613, 0.3524289 , 0.49865502],\n",
       "       [0.07350087, 0.44376707, 0.48273212],\n",
       "       [0.16084221, 0.33004755, 0.5091103 ],\n",
       "       [0.13109761, 0.34706205, 0.5218404 ],\n",
       "       [0.08506116, 0.41102493, 0.50391394],\n",
       "       [0.00900833, 0.90862364, 0.08236804],\n",
       "       [0.04457591, 0.587738  , 0.36768612],\n",
       "       [0.01204645, 0.87283075, 0.1151228 ],\n",
       "       [0.18508388, 0.3154428 , 0.49947336],\n",
       "       [0.07871233, 0.4268083 , 0.4944793 ],\n",
       "       [0.16622485, 0.32336488, 0.5104103 ],\n",
       "       [0.12214327, 0.34286234, 0.53499436],\n",
       "       [0.06977808, 0.45160863, 0.47861323],\n",
       "       [0.10793129, 0.37502247, 0.5170463 ],\n",
       "       [0.04914494, 0.55747104, 0.39338407],\n",
       "       [0.00941163, 0.9041307 , 0.0864577 ],\n",
       "       [0.16673313, 0.33470786, 0.49855906],\n",
       "       [0.19860643, 0.30271026, 0.49868336],\n",
       "       [0.03775259, 0.63007444, 0.332173  ],\n",
       "       [0.11784566, 0.35124224, 0.5309121 ],\n",
       "       [0.00886474, 0.9112324 , 0.07990281],\n",
       "       [0.09655806, 0.39344615, 0.5099958 ],\n",
       "       [0.10816198, 0.37394294, 0.51789504],\n",
       "       [0.01131442, 0.8810314 , 0.10765422],\n",
       "       [0.00913654, 0.9074309 , 0.08343261],\n",
       "       [0.14440905, 0.33617556, 0.51941544],\n",
       "       [0.01240378, 0.8690483 , 0.11854795],\n",
       "       [0.00856479, 0.91439277, 0.07704253],\n",
       "       [0.16736656, 0.31285065, 0.51978284],\n",
       "       [0.15338281, 0.35393447, 0.49268273],\n",
       "       [0.06206942, 0.49090895, 0.4470216 ],\n",
       "       [0.1576029 , 0.34476575, 0.49763137],\n",
       "       [0.14787166, 0.3437863 , 0.5083421 ],\n",
       "       [0.15677543, 0.3338439 , 0.50938064],\n",
       "       [0.06351341, 0.48096347, 0.45552307],\n",
       "       [0.06140301, 0.49109548, 0.4475016 ],\n",
       "       [0.10397378, 0.37448865, 0.52153754],\n",
       "       [0.1252021 , 0.34578508, 0.5290128 ],\n",
       "       [0.17502221, 0.32760024, 0.49737757],\n",
       "       [0.18615128, 0.31881443, 0.4950342 ],\n",
       "       [0.17849994, 0.3276011 , 0.49389902],\n",
       "       [0.15669197, 0.33314246, 0.5101655 ],\n",
       "       [0.00849277, 0.9152359 , 0.07627131],\n",
       "       [0.00849277, 0.9152359 , 0.07627131],\n",
       "       [0.15716408, 0.32776922, 0.51506674],\n",
       "       [0.1562789 , 0.3607701 , 0.48295096],\n",
       "       [0.04340576, 0.5850891 , 0.3715052 ],\n",
       "       [0.00917044, 0.90753573, 0.0832938 ],\n",
       "       [0.00903249, 0.90837   , 0.08259752],\n",
       "       [0.1832415 , 0.30786917, 0.5088894 ],\n",
       "       [0.1719542 , 0.32873678, 0.49930906],\n",
       "       [0.00917044, 0.90753573, 0.0832938 ],\n",
       "       [0.01103342, 0.8847998 , 0.10416678],\n",
       "       [0.16513865, 0.3109496 , 0.5239118 ],\n",
       "       [0.17273882, 0.33569986, 0.49156132],\n",
       "       [0.19440398, 0.31063616, 0.49495983],\n",
       "       [0.01204645, 0.87283075, 0.1151228 ],\n",
       "       [0.16743416, 0.33384052, 0.49872527],\n",
       "       [0.00903792, 0.9086103 , 0.08235189],\n",
       "       [0.18382135, 0.3046871 , 0.51149154],\n",
       "       [0.05978362, 0.5024953 , 0.43772113],\n",
       "       [0.00849277, 0.9152359 , 0.07627131],\n",
       "       [0.18620683, 0.30907214, 0.504721  ],\n",
       "       [0.16304752, 0.31581584, 0.5211367 ],\n",
       "       [0.13901098, 0.34096974, 0.52001923],\n",
       "       [0.05491186, 0.5223659 , 0.4227222 ],\n",
       "       [0.0123306 , 0.8709583 , 0.11671108],\n",
       "       [0.19048795, 0.31034765, 0.49916437],\n",
       "       [0.01423701, 0.85133   , 0.13443297],\n",
       "       [0.16921577, 0.3405333 , 0.49025086],\n",
       "       [0.02580388, 0.7352341 , 0.23896198],\n",
       "       [0.01018297, 0.8952296 , 0.09458745],\n",
       "       [0.04455016, 0.58238095, 0.3730689 ],\n",
       "       [0.1438482 , 0.34341878, 0.51273304],\n",
       "       [0.09172861, 0.3909534 , 0.517318  ],\n",
       "       [0.15091895, 0.325499  , 0.52358204],\n",
       "       [0.15802766, 0.31532755, 0.5266448 ],\n",
       "       [0.11029369, 0.35371444, 0.5359919 ],\n",
       "       [0.00917044, 0.90753573, 0.0832938 ],\n",
       "       [0.16793266, 0.33001274, 0.5020546 ],\n",
       "       [0.07962608, 0.42690387, 0.49347004],\n",
       "       [0.1674022 , 0.34106308, 0.4915347 ],\n",
       "       [0.03988528, 0.61518353, 0.34493124],\n",
       "       [0.18114169, 0.32268006, 0.49617827],\n",
       "       [0.18849337, 0.30876786, 0.5027387 ],\n",
       "       [0.16916607, 0.3253931 , 0.50544083],\n",
       "       [0.00860264, 0.9141234 , 0.07727386],\n",
       "       [0.15370502, 0.34946448, 0.49683046],\n",
       "       [0.10617315, 0.3573187 , 0.5365081 ],\n",
       "       [0.05294631, 0.5318449 , 0.41520876],\n",
       "       [0.15569004, 0.34822828, 0.49608165],\n",
       "       [0.16910239, 0.33833688, 0.49256074],\n",
       "       [0.16937648, 0.3394174 , 0.49120614],\n",
       "       [0.154015  , 0.3132435 , 0.5327415 ],\n",
       "       [0.0176305 , 0.8134445 , 0.16892499],\n",
       "       [0.00849277, 0.9152359 , 0.07627131],\n",
       "       [0.17978132, 0.32166544, 0.49855325],\n",
       "       [0.15666339, 0.32877383, 0.5145628 ],\n",
       "       [0.18751477, 0.3090992 , 0.5033861 ],\n",
       "       [0.10360584, 0.37565178, 0.5207424 ],\n",
       "       [0.01088369, 0.8868744 , 0.1022419 ],\n",
       "       [0.14970563, 0.3674445 , 0.4828499 ],\n",
       "       [0.17593619, 0.32981083, 0.49425298],\n",
       "       [0.08367234, 0.4105743 , 0.5057534 ],\n",
       "       [0.01323825, 0.85964435, 0.12711744],\n",
       "       [0.00917044, 0.90753573, 0.0832938 ],\n",
       "       [0.00849277, 0.9152359 , 0.07627131],\n",
       "       [0.14861467, 0.30851462, 0.54287076],\n",
       "       [0.15931624, 0.33502764, 0.5056561 ],\n",
       "       [0.01098446, 0.88457334, 0.10444224],\n",
       "       [0.00987499, 0.8994098 , 0.09071516],\n",
       "       [0.01461365, 0.8440586 , 0.14132772],\n",
       "       [0.12457477, 0.34903085, 0.5263943 ],\n",
       "       [0.05148747, 0.5452673 , 0.4032452 ],\n",
       "       [0.17574409, 0.32536724, 0.4988887 ],\n",
       "       [0.1100919 , 0.35915512, 0.53075296],\n",
       "       [0.06155388, 0.49895293, 0.43949324],\n",
       "       [0.17943442, 0.3269624 , 0.49360323],\n",
       "       [0.15431729, 0.35693806, 0.4887446 ],\n",
       "       [0.06547663, 0.47298038, 0.46154293],\n",
       "       [0.0090085 , 0.9087625 , 0.08222892],\n",
       "       [0.17587997, 0.30965182, 0.51446825]], dtype=float32)"
      ]
     },
     "execution_count": 86,
     "metadata": {},
     "output_type": "execute_result"
    }
   ],
   "source": [
    "y_pred = model_lstm.predict(x_test)\n",
    "y_pred"
   ]
  },
  {
   "cell_type": "code",
   "execution_count": 87,
   "metadata": {
    "scrolled": true
   },
   "outputs": [
    {
     "data": {
      "text/plain": [
       "array([1, 1, 1, 1, 2, 1, 2, 2, 1, 2, 2, 2, 1, 1, 1, 2, 2, 1, 1, 2, 1, 2,\n",
       "       1, 1, 2, 1, 2, 2, 1, 2, 2, 2, 2, 2, 2, 1, 1, 2, 2, 1, 2, 2, 2, 2,\n",
       "       2, 1, 2, 2, 2, 2, 2, 2, 1, 2, 2, 2, 1, 2, 2, 2, 2, 1, 1, 2, 1, 2,\n",
       "       2, 2, 2, 2, 2, 1, 2, 1, 1, 2, 2, 2, 2, 1, 2, 1, 2, 1, 2, 1, 1, 2,\n",
       "       1, 2, 1, 2, 2, 2, 2, 2, 1, 2, 1, 1, 2, 1, 2, 1, 2, 1, 2, 2, 1, 2,\n",
       "       2, 1, 1, 1, 1, 1, 1, 1, 2, 1, 2, 1, 2, 1, 1, 2, 2, 1, 1, 2, 2, 2,\n",
       "       1, 2, 1, 2, 2, 2, 1, 2, 2, 2, 1, 2, 2, 2, 1, 2, 2, 1, 2, 2, 2, 2,\n",
       "       2, 2, 2, 2, 1, 1, 1, 2, 1, 1, 2, 1, 1, 1, 1, 1, 1, 2, 2, 2, 2, 1,\n",
       "       1, 2, 1, 1, 1, 1, 1, 2, 1, 2, 2, 1, 2, 2, 2, 1, 1, 2, 2, 2, 1, 2,\n",
       "       2, 2, 2, 2, 1, 2, 1, 1, 2, 2, 2, 2, 2, 2, 1, 1, 1, 2, 2, 2, 2, 2,\n",
       "       2, 1, 1, 2, 2, 1, 2, 1, 2, 2, 1, 1, 2, 1, 1, 2, 2, 1, 2, 2, 2, 1,\n",
       "       1, 2, 2, 2, 2, 2, 2, 1, 1, 2, 2, 1, 1, 1, 2, 2, 1, 1, 2, 2, 2, 1,\n",
       "       2, 1, 2, 1, 1, 2, 2, 2, 1, 1, 2, 1, 2, 1, 1, 1, 2, 2, 2, 2, 2, 1,\n",
       "       2, 2, 2, 1, 2, 2, 2, 1, 2, 2, 1, 2, 2, 2, 2, 1, 1, 2, 2, 2, 2, 1,\n",
       "       2, 2, 2, 1, 1, 1, 2, 2, 1, 1, 1, 2, 1, 2, 2, 1, 2, 2, 1, 1, 2],\n",
       "      dtype=int64)"
      ]
     },
     "execution_count": 87,
     "metadata": {},
     "output_type": "execute_result"
    }
   ],
   "source": [
    "y_pred = model_lstm.predict_classes(x_test)\n",
    "y_pred "
   ]
  },
  {
   "cell_type": "code",
   "execution_count": 90,
   "metadata": {},
   "outputs": [
    {
     "name": "stdout",
     "output_type": "stream",
     "text": [
      "             precision    recall  f1-score   support\n",
      "\n",
      "          0       0.00      0.00      0.00        30\n",
      "          1       0.76      0.60      0.67       172\n",
      "          2       0.52      0.79      0.62       127\n",
      "\n",
      "avg / total       0.60      0.62      0.59       329\n",
      "\n"
     ]
    },
    {
     "name": "stderr",
     "output_type": "stream",
     "text": [
      "C:\\Users\\nikhi\\Anaconda3\\lib\\site-packages\\sklearn\\metrics\\classification.py:1135: UndefinedMetricWarning: Precision and F-score are ill-defined and being set to 0.0 in labels with no predicted samples.\n",
      "  'precision', 'predicted', average, warn_for)\n"
     ]
    }
   ],
   "source": [
    "print(classification_report(y_test.argmax(axis=1), y_pred))"
   ]
  },
  {
   "cell_type": "code",
   "execution_count": 91,
   "metadata": {},
   "outputs": [
    {
     "data": {
      "text/plain": [
       "[]"
      ]
     },
     "execution_count": 91,
     "metadata": {},
     "output_type": "execute_result"
    },
    {
     "data": {
      "image/png": "[encoded data removed]",
      "text/plain": [
       "<Figure size 432x288 with 2 Axes>"
      ]
     },
     "metadata": {},
     "output_type": "display_data"
    }
   ],
   "source": [
    "import matplotlib.pyplot as plt     \n",
    "import seaborn as sns\n",
    "\n",
    "\n",
    "import seaborn as sns\n",
    "labels = ['Negative','Neutral', 'Positive']\n",
    "ax = sns.heatmap(confusion_matrix(y_test.argmax(axis=1), y_pred), annot=True, xticklabels=labels, yticklabels=labels, fmt='g')\n",
    "ax.set(xlabel='Predicted labels', ylabel='True labels')\n",
    "ax.plot()\n"
   ]
  },
  {
   "cell_type": "markdown",
   "metadata": {},
   "source": [
    "** Bideictional GRU **"
   ]
  },
  {
   "cell_type": "code",
   "execution_count": 92,
   "metadata": {},
   "outputs": [],
   "source": [
    "from keras.layers import SpatialDropout1D, Bidirectional\n",
    "from keras.layers import Dense,Dropout,Embedding,LSTM,Conv1D,GlobalMaxPooling1D,Flatten,MaxPooling1D,GRU,SpatialDropout1D,Bidirectional"
   ]
  },
  {
   "cell_type": "code",
   "execution_count": 93,
   "metadata": {},
   "outputs": [
    {
     "name": "stdout",
     "output_type": "stream",
     "text": [
      "_________________________________________________________________\n",
      "Layer (type)                 Output Shape              Param #   \n",
      "=================================================================\n",
      "embedding_9 (Embedding)      (None, 50, 64)            640000    \n",
      "_________________________________________________________________\n",
      "spatial_dropout1d_1 (Spatial (None, 50, 64)            0         \n",
      "_________________________________________________________________\n",
      "bidirectional_1 (Bidirection (None, 128)               49536     \n",
      "_________________________________________________________________\n",
      "dropout_4 (Dropout)          (None, 128)               0         \n",
      "_________________________________________________________________\n",
      "dense_11 (Dense)             (None, 3)                 387       \n",
      "=================================================================\n",
      "Total params: 689,923\n",
      "Trainable params: 689,923\n",
      "Non-trainable params: 0\n",
      "_________________________________________________________________\n"
     ]
    }
   ],
   "source": [
    "max_features = 10000\n",
    "batch_size = 4\n",
    "model_GRU = Sequential()\n",
    "\n",
    "model_GRU.add(Embedding(max_features, 64, input_length=maxlen))\n",
    "model_GRU.add(SpatialDropout1D(0.25))\n",
    "model_GRU.add(Bidirectional(GRU(64)))\n",
    "model_GRU.add(Dropout(0.25))\n",
    "\n",
    "model_GRU.add(Dense(3, activation='softmax'))\n",
    "model_GRU.compile(loss='categorical_crossentropy', optimizer=adam(lr=0.0004), metrics=['accuracy'])\n",
    "model_GRU.summary()\n",
    "\n"
   ]
  },
  {
   "cell_type": "code",
   "execution_count": 94,
   "metadata": {},
   "outputs": [
    {
     "name": "stdout",
     "output_type": "stream",
     "text": [
      "Train on 1052 samples, validate on 263 samples\n",
      "Epoch 1/10\n",
      "1052/1052 [==============================] - 13s 12ms/step - loss: 0.9082 - acc: 0.5456 - val_loss: 0.8250 - val_acc: 0.6046\n",
      "Epoch 2/10\n",
      "1052/1052 [==============================] - 15s 14ms/step - loss: 0.7759 - acc: 0.6606 - val_loss: 0.7741 - val_acc: 0.6502 0s - loss: 0.7763 - acc: 0.660\n",
      "Epoch 3/10\n",
      "1052/1052 [==============================] - 15s 14ms/step - loss: 0.6355 - acc: 0.7652 - val_loss: 0.7694 - val_acc: 0.6540\n",
      "Epoch 4/10\n",
      "1052/1052 [==============================] - 15s 14ms/step - loss: 0.4597 - acc: 0.8384 - val_loss: 0.8863 - val_acc: 0.6312\n",
      "Epoch 5/10\n",
      "1052/1052 [==============================] - 14s 13ms/step - loss: 0.3558 - acc: 0.8593 - val_loss: 0.9860 - val_acc: 0.6388\n",
      "Epoch 6/10\n",
      "1052/1052 [==============================] - 13s 12ms/step - loss: 0.2496 - acc: 0.9040 - val_loss: 1.1644 - val_acc: 0.6198\n",
      "Epoch 7/10\n",
      "1052/1052 [==============================] - 13s 13ms/step - loss: 0.1468 - acc: 0.9553 - val_loss: 1.4740 - val_acc: 0.6388\n",
      "Epoch 8/10\n",
      "1052/1052 [==============================] - 13s 13ms/step - loss: 0.1167 - acc: 0.9629 - val_loss: 1.2903 - val_acc: 0.6426\n",
      "Epoch 9/10\n",
      "1052/1052 [==============================] - 13s 12ms/step - loss: 0.0664 - acc: 0.9819 - val_loss: 1.5393 - val_acc: 0.5932\n",
      "Epoch 10/10\n",
      "1052/1052 [==============================] - 13s 12ms/step - loss: 0.0710 - acc: 0.9810 - val_loss: 1.5181 - val_acc: 0.6350\n"
     ]
    }
   ],
   "source": [
    "history = model_GRU.fit(x_train, y_train,\n",
    "                    epochs=10,\n",
    "                    batch_size=batch_size,\n",
    "                    validation_split=0.2)"
   ]
  },
  {
   "cell_type": "code",
   "execution_count": 96,
   "metadata": {},
   "outputs": [
    {
     "name": "stdout",
     "output_type": "stream",
     "text": [
      "dict_keys(['val_loss', 'val_acc', 'loss', 'acc'])\n"
     ]
    },
    {
     "data": {
      "image/png": "[encoded data removed]",
      "text/plain": [
       "<Figure size 432x288 with 1 Axes>"
      ]
     },
     "metadata": {},
     "output_type": "display_data"
    },
    {
     "data": {
      "image/png": "[encoded data removed]",
      "text/plain": [
       "<Figure size 432x288 with 1 Axes>"
      ]
     },
     "metadata": {},
     "output_type": "display_data"
    }
   ],
   "source": [
    "print(history.history.keys())\n",
    "# summarize history for accuracy\n",
    "plt.plot(history.history['acc'])\n",
    "plt.plot(history.history['val_acc'])\n",
    "plt.title('Model Accuracy')\n",
    "plt.ylabel('accuracy')\n",
    "plt.xlabel('epoch')\n",
    "plt.legend(['train', 'test'], loc='upper left')\n",
    "plt.show()\n",
    "# summarize history for loss\n",
    "plt.plot(history.history['loss'])\n",
    "plt.plot(history.history['val_loss'])\n",
    "plt.title('Model Loss')\n",
    "plt.ylabel('loss')\n",
    "plt.xlabel('epoch')\n",
    "plt.legend(['train', 'test'], loc='upper left')\n",
    "plt.show()\n"
   ]
  },
  {
   "cell_type": "code",
   "execution_count": 97,
   "metadata": {},
   "outputs": [
    {
     "data": {
      "text/plain": [
       "array([1, 1, 1, 1, 2, 1, 2, 2, 1, 2, 2, 2, 1, 1, 1, 2, 2, 1, 1, 2, 1, 2,\n",
       "       1, 1, 2, 1, 2, 2, 1, 2, 2, 2, 2, 2, 2, 1, 1, 2, 2, 1, 2, 2, 2, 2,\n",
       "       2, 1, 2, 2, 2, 2, 2, 2, 1, 2, 2, 2, 1, 2, 2, 2, 2, 1, 1, 2, 1, 2,\n",
       "       2, 2, 2, 2, 2, 1, 2, 1, 1, 2, 2, 2, 2, 1, 2, 1, 2, 1, 2, 1, 1, 2,\n",
       "       1, 2, 1, 2, 2, 2, 2, 2, 1, 2, 1, 1, 2, 1, 2, 1, 2, 1, 2, 2, 1, 2,\n",
       "       2, 1, 1, 1, 1, 1, 1, 1, 2, 1, 2, 1, 2, 1, 1, 2, 2, 1, 1, 2, 2, 2,\n",
       "       1, 2, 1, 2, 2, 2, 1, 2, 2, 2, 1, 2, 2, 2, 1, 2, 2, 1, 2, 2, 2, 2,\n",
       "       2, 2, 2, 2, 1, 1, 1, 2, 1, 1, 2, 1, 1, 1, 1, 1, 1, 2, 2, 2, 2, 1,\n",
       "       1, 2, 1, 1, 1, 1, 1, 2, 1, 2, 2, 1, 2, 2, 2, 1, 1, 2, 2, 2, 1, 2,\n",
       "       2, 2, 2, 2, 1, 2, 1, 1, 2, 2, 2, 2, 2, 2, 1, 1, 1, 2, 2, 2, 2, 2,\n",
       "       2, 1, 1, 2, 2, 1, 2, 1, 2, 2, 1, 1, 2, 1, 1, 2, 2, 1, 2, 2, 2, 1,\n",
       "       1, 2, 2, 2, 2, 2, 2, 1, 1, 2, 2, 1, 1, 1, 2, 2, 1, 1, 2, 2, 2, 1,\n",
       "       2, 1, 2, 1, 1, 2, 2, 2, 1, 1, 2, 1, 2, 1, 1, 1, 2, 2, 2, 2, 2, 1,\n",
       "       2, 2, 2, 1, 2, 2, 2, 1, 2, 2, 1, 2, 2, 2, 2, 1, 1, 2, 2, 2, 2, 1,\n",
       "       2, 2, 2, 1, 1, 1, 2, 2, 1, 1, 1, 2, 1, 2, 2, 1, 2, 2, 1, 1, 2],\n",
       "      dtype=int64)"
      ]
     },
     "execution_count": 97,
     "metadata": {},
     "output_type": "execute_result"
    }
   ],
   "source": [
    "y_pred = model_lstm.predict_classes(x_test)\n",
    "y_pred "
   ]
  },
  {
   "cell_type": "code",
   "execution_count": 98,
   "metadata": {},
   "outputs": [
    {
     "name": "stdout",
     "output_type": "stream",
     "text": [
      "             precision    recall  f1-score   support\n",
      "\n",
      "          0       0.00      0.00      0.00        30\n",
      "          1       0.76      0.60      0.67       172\n",
      "          2       0.52      0.79      0.62       127\n",
      "\n",
      "avg / total       0.60      0.62      0.59       329\n",
      "\n"
     ]
    },
    {
     "name": "stderr",
     "output_type": "stream",
     "text": [
      "C:\\Users\\nikhi\\Anaconda3\\lib\\site-packages\\sklearn\\metrics\\classification.py:1135: UndefinedMetricWarning: Precision and F-score are ill-defined and being set to 0.0 in labels with no predicted samples.\n",
      "  'precision', 'predicted', average, warn_for)\n"
     ]
    }
   ],
   "source": [
    "print(classification_report(y_test.argmax(axis=1), y_pred))"
   ]
  },
  {
   "cell_type": "code",
   "execution_count": 99,
   "metadata": {},
   "outputs": [
    {
     "data": {
      "text/plain": [
       "[]"
      ]
     },
     "execution_count": 99,
     "metadata": {},
     "output_type": "execute_result"
    },
    {
     "data": {
      "image/png": "[encoded data removed]",
      "text/plain": [
       "<Figure size 432x288 with 2 Axes>"
      ]
     },
     "metadata": {},
     "output_type": "display_data"
    }
   ],
   "source": [
    "import matplotlib.pyplot as plt     \n",
    "import seaborn as sns\n",
    "\n",
    "\n",
    "import seaborn as sns\n",
    "labels = ['Negative','Neutral', 'Positive']\n",
    "ax = sns.heatmap(confusion_matrix(y_test.argmax(axis=1), y_pred), annot=True, xticklabels=labels, yticklabels=labels, fmt='g')\n",
    "ax.set(xlabel='Predicted labels', ylabel='True labels')\n",
    "ax.plot()\n"
   ]
  },
  {
   "cell_type": "markdown",
   "metadata": {},
   "source": [
    "Predicting for GE with the Stacked LSTM model due to its good convergence "
   ]
  },
  {
   "cell_type": "code",
   "execution_count": 111,
   "metadata": {
    "scrolled": true
   },
   "outputs": [
    {
     "data": {
      "text/html": [
       "<div>\n",
       "<style scoped>\n",
       "    .dataframe tbody tr th:only-of-type {\n",
       "        vertical-align: middle;\n",
       "    }\n",
       "\n",
       "    .dataframe tbody tr th {\n",
       "        vertical-align: top;\n",
       "    }\n",
       "\n",
       "    .dataframe thead th {\n",
       "        text-align: right;\n",
       "    }\n",
       "</style>\n",
       "<table border=\"1\" class=\"dataframe\">\n",
       "  <thead>\n",
       "    <tr style=\"text-align: right;\">\n",
       "      <th></th>\n",
       "      <th>text</th>\n",
       "      <th>sentiment</th>\n",
       "    </tr>\n",
       "  </thead>\n",
       "  <tbody>\n",
       "    <tr>\n",
       "      <th>0</th>\n",
       "      <td>Good day, ladies and gentlemen and welcome to ...</td>\n",
       "      <td>Neutral</td>\n",
       "    </tr>\n",
       "    <tr>\n",
       "      <th>1</th>\n",
       "      <td>I would now like to turn the program over to y...</td>\n",
       "      <td>Neutral</td>\n",
       "    </tr>\n",
       "    <tr>\n",
       "      <th>2</th>\n",
       "      <td>Let's start with the outlook because investors...</td>\n",
       "      <td>Neutral</td>\n",
       "    </tr>\n",
       "    <tr>\n",
       "      <th>3</th>\n",
       "      <td>Well Steve, I'd like to think that everything ...</td>\n",
       "      <td>Negative</td>\n",
       "    </tr>\n",
       "    <tr>\n",
       "      <th>4</th>\n",
       "      <td>With respect to Baker Hughes, I mean we talked...</td>\n",
       "      <td>Negative</td>\n",
       "    </tr>\n",
       "  </tbody>\n",
       "</table>\n",
       "</div>"
      ],
      "text/plain": [
       "                                                text sentiment\n",
       "0  Good day, ladies and gentlemen and welcome to ...   Neutral\n",
       "1  I would now like to turn the program over to y...   Neutral\n",
       "2  Let's start with the outlook because investors...   Neutral\n",
       "3  Well Steve, I'd like to think that everything ...  Negative\n",
       "4  With respect to Baker Hughes, I mean we talked...  Negative"
      ]
     },
     "execution_count": 111,
     "metadata": {},
     "output_type": "execute_result"
    }
   ],
   "source": [
    "transcript_GE = pd.read_json('GE_Earnings_Transcript.json')\n",
    "\n",
    "transcript_GE.reset_index().drop(columns='index', axis=1).head()"
   ]
  },
  {
   "cell_type": "code",
   "execution_count": 112,
   "metadata": {},
   "outputs": [
    {
     "data": {
      "text/plain": [
       "0"
      ]
     },
     "execution_count": 112,
     "metadata": {},
     "output_type": "execute_result"
    }
   ],
   "source": [
    "transcript_GE['sentiment'].isnull().sum()"
   ]
  },
  {
   "cell_type": "code",
   "execution_count": 115,
   "metadata": {},
   "outputs": [
    {
     "data": {
      "text/plain": [
       "0      good ladies gentlemen welcome general electric...\n",
       "1      would like turn program host steve winoker vic...\n",
       "10     start outlook investors want know expect perfo...\n",
       "100    well like think everything take strong view se...\n",
       "101    respect baker mean talked part billion pool op...\n",
       "Name: text, dtype: object"
      ]
     },
     "execution_count": 115,
     "metadata": {},
     "output_type": "execute_result"
    }
   ],
   "source": [
    "from nltk.corpus import stopwords\n",
    "\n",
    "transcript_GE['text'] = transcript_GE['text'].apply(lambda x: x.lower())\n",
    "stop = stopwords.words('english')\n",
    "transcript_GE['text'] = transcript_GE['text'].apply(lambda x : ' '.join(word for word in x.split() if word not in stop))\n",
    "transcript_GE['text'] = transcript_GE['text'].apply(lambda x: ' '.join(word for word in x.split() if word.isalpha()))\n",
    "transcript_GE['text'].head()"
   ]
  },
  {
   "cell_type": "code",
   "execution_count": 116,
   "metadata": {},
   "outputs": [
    {
     "data": {
      "text/plain": [
       "0      good lady gentleman welcome general electric f...\n",
       "1      would like turn program host steve winoker vic...\n",
       "10     start outlook investor want know expect perfor...\n",
       "100    well like think everything take strong view se...\n",
       "101    respect baker mean talk part billion pool opti...\n",
       "Name: text, dtype: object"
      ]
     },
     "execution_count": 116,
     "metadata": {},
     "output_type": "execute_result"
    }
   ],
   "source": [
    "from nltk.stem import WordNetLemmatizer\n",
    "\n",
    "lem = WordNetLemmatizer()\n",
    "\n",
    "transcript_GE['text'] = transcript_GE['text'].apply(lambda x: ' '.join(lem.lemmatize(word, pos='a') for word in x.split()))\n",
    "transcript_GE['text'] = transcript_GE['text'].apply(lambda x: ' '.join(lem.lemmatize(word, pos='v') for word in x.split()))\n",
    "transcript_GE['text'] = transcript_GE['text'].apply(lambda x: ' '.join(lem.lemmatize(word, pos='n') for word in x.split()))\n",
    "transcript_GE['text'].head()\n"
   ]
  },
  {
   "cell_type": "code",
   "execution_count": 118,
   "metadata": {},
   "outputs": [],
   "source": [
    "transcript_GE = transcript_GE.reset_index().drop(columns='index', axis=1)"
   ]
  },
  {
   "cell_type": "code",
   "execution_count": 119,
   "metadata": {},
   "outputs": [
    {
     "data": {
      "text/html": [
       "<div>\n",
       "<style scoped>\n",
       "    .dataframe tbody tr th:only-of-type {\n",
       "        vertical-align: middle;\n",
       "    }\n",
       "\n",
       "    .dataframe tbody tr th {\n",
       "        vertical-align: top;\n",
       "    }\n",
       "\n",
       "    .dataframe thead th {\n",
       "        text-align: right;\n",
       "    }\n",
       "</style>\n",
       "<table border=\"1\" class=\"dataframe\">\n",
       "  <thead>\n",
       "    <tr style=\"text-align: right;\">\n",
       "      <th></th>\n",
       "      <th>text</th>\n",
       "      <th>sentiment</th>\n",
       "    </tr>\n",
       "  </thead>\n",
       "  <tbody>\n",
       "    <tr>\n",
       "      <th>0</th>\n",
       "      <td>good lady gentleman welcome general electric f...</td>\n",
       "      <td>Neutral</td>\n",
       "    </tr>\n",
       "    <tr>\n",
       "      <th>1</th>\n",
       "      <td>would like turn program host steve winoker vic...</td>\n",
       "      <td>Neutral</td>\n",
       "    </tr>\n",
       "    <tr>\n",
       "      <th>2</th>\n",
       "      <td>start outlook investor want know expect perfor...</td>\n",
       "      <td>Neutral</td>\n",
       "    </tr>\n",
       "    <tr>\n",
       "      <th>3</th>\n",
       "      <td>well like think everything take strong view se...</td>\n",
       "      <td>Negative</td>\n",
       "    </tr>\n",
       "    <tr>\n",
       "      <th>4</th>\n",
       "      <td>respect baker mean talk part billion pool opti...</td>\n",
       "      <td>Negative</td>\n",
       "    </tr>\n",
       "  </tbody>\n",
       "</table>\n",
       "</div>"
      ],
      "text/plain": [
       "                                                text sentiment\n",
       "0  good lady gentleman welcome general electric f...   Neutral\n",
       "1  would like turn program host steve winoker vic...   Neutral\n",
       "2  start outlook investor want know expect perfor...   Neutral\n",
       "3  well like think everything take strong view se...  Negative\n",
       "4  respect baker mean talk part billion pool opti...  Negative"
      ]
     },
     "execution_count": 119,
     "metadata": {},
     "output_type": "execute_result"
    }
   ],
   "source": [
    "transcript_GE.head()"
   ]
  },
  {
   "cell_type": "code",
   "execution_count": 120,
   "metadata": {},
   "outputs": [],
   "source": [
    "transcript_GE['sentiment'] = transcript_GE['sentiment'].apply(lambda x: x.lower())"
   ]
  },
  {
   "cell_type": "code",
   "execution_count": 124,
   "metadata": {},
   "outputs": [],
   "source": [
    "tokeniz_ge = Tokenizer(num_words=10000)\n",
    "tokeniz_ge.fit_on_texts(transcript_GE['text'])"
   ]
  },
  {
   "cell_type": "code",
   "execution_count": 129,
   "metadata": {},
   "outputs": [
    {
     "data": {
      "text/plain": [
       "array([[   0,    0,    0, ...,  373,  700,  373],\n",
       "       [   0,    0,    0, ...,  102,    6,  490],\n",
       "       [   0,    0,    0, ...,   36,   27,  104],\n",
       "       ...,\n",
       "       [   0,    0,    0, ...,    0,  128,    5],\n",
       "       [   0,    0,    0, ...,    0,    0,    0],\n",
       "       [   0,    0,    0, ...,   34, 1201,  196]])"
      ]
     },
     "execution_count": 129,
     "metadata": {},
     "output_type": "execute_result"
    }
   ],
   "source": [
    "seq = tokeniz_ge.texts_to_sequences(transcript_GE['text'])\n",
    "X = pad_sequences(seq, maxlen=50)\n",
    "X"
   ]
  },
  {
   "cell_type": "code",
   "execution_count": 131,
   "metadata": {},
   "outputs": [
    {
     "data": {
      "text/plain": [
       "array([1, 1, 1, 0, 0, 0, 1, 1, 1, 1, 0, 0, 2, 2, 2, 2, 0, 2, 1, 1, 1, 1,\n",
       "       1, 2, 2, 0, 0, 2, 1, 0, 1, 2, 0, 1, 1, 2, 1, 0, 1, 1, 1, 1, 1, 1,\n",
       "       0, 2, 1, 1, 1, 1, 2, 1, 1, 1, 0, 1, 0, 0, 1, 2, 1, 0, 1, 1, 1, 1,\n",
       "       1, 1, 2, 1, 1, 1, 1, 1, 0, 1, 2, 1, 2, 2, 1, 2, 2, 1, 1, 1, 1, 1,\n",
       "       1, 0, 2, 0, 1, 0, 1, 1, 0, 1, 0, 1, 0, 2, 0, 2, 0, 1, 1, 0, 1, 0,\n",
       "       0, 1, 1, 2, 1, 1, 0, 0, 0, 0, 0, 1, 2, 2, 1, 0, 0, 0, 2, 2, 2, 2,\n",
       "       1, 1, 0, 2, 0, 0, 0, 2, 2, 0, 0, 0, 2, 2, 1, 1, 1, 0, 0, 2, 2, 1,\n",
       "       1, 1, 1, 1, 0, 0, 2, 2, 0, 2, 2, 2, 2, 0, 1, 2, 1, 1, 1, 2, 0, 2,\n",
       "       2, 2, 1, 1, 1, 1, 1, 2, 0, 0, 2, 1, 0, 2, 2, 0, 2, 2, 2, 2, 1, 1,\n",
       "       1, 1, 0], dtype=int64)"
      ]
     },
     "execution_count": 131,
     "metadata": {},
     "output_type": "execute_result"
    }
   ],
   "source": [
    "from sklearn.preprocessing import LabelEncoder\n",
    "\n",
    "l = LabelEncoder()\n",
    "Y = l.fit_transform(transcript_GE['sentiment'])\n",
    "Y"
   ]
  },
  {
   "cell_type": "code",
   "execution_count": 133,
   "metadata": {},
   "outputs": [
    {
     "data": {
      "text/plain": [
       "array([[0., 1., 0.],\n",
       "       [0., 1., 0.],\n",
       "       [0., 1., 0.],\n",
       "       [1., 0., 0.],\n",
       "       [1., 0., 0.],\n",
       "       [1., 0., 0.],\n",
       "       [0., 1., 0.],\n",
       "       [0., 1., 0.],\n",
       "       [0., 1., 0.],\n",
       "       [0., 1., 0.],\n",
       "       [1., 0., 0.],\n",
       "       [1., 0., 0.],\n",
       "       [0., 0., 1.],\n",
       "       [0., 0., 1.],\n",
       "       [0., 0., 1.],\n",
       "       [0., 0., 1.],\n",
       "       [1., 0., 0.],\n",
       "       [0., 0., 1.],\n",
       "       [0., 1., 0.],\n",
       "       [0., 1., 0.],\n",
       "       [0., 1., 0.],\n",
       "       [0., 1., 0.],\n",
       "       [0., 1., 0.],\n",
       "       [0., 0., 1.],\n",
       "       [0., 0., 1.],\n",
       "       [1., 0., 0.],\n",
       "       [1., 0., 0.],\n",
       "       [0., 0., 1.],\n",
       "       [0., 1., 0.],\n",
       "       [1., 0., 0.],\n",
       "       [0., 1., 0.],\n",
       "       [0., 0., 1.],\n",
       "       [1., 0., 0.],\n",
       "       [0., 1., 0.],\n",
       "       [0., 1., 0.],\n",
       "       [0., 0., 1.],\n",
       "       [0., 1., 0.],\n",
       "       [1., 0., 0.],\n",
       "       [0., 1., 0.],\n",
       "       [0., 1., 0.],\n",
       "       [0., 1., 0.],\n",
       "       [0., 1., 0.],\n",
       "       [0., 1., 0.],\n",
       "       [0., 1., 0.],\n",
       "       [1., 0., 0.],\n",
       "       [0., 0., 1.],\n",
       "       [0., 1., 0.],\n",
       "       [0., 1., 0.],\n",
       "       [0., 1., 0.],\n",
       "       [0., 1., 0.],\n",
       "       [0., 0., 1.],\n",
       "       [0., 1., 0.],\n",
       "       [0., 1., 0.],\n",
       "       [0., 1., 0.],\n",
       "       [1., 0., 0.],\n",
       "       [0., 1., 0.],\n",
       "       [1., 0., 0.],\n",
       "       [1., 0., 0.],\n",
       "       [0., 1., 0.],\n",
       "       [0., 0., 1.],\n",
       "       [0., 1., 0.],\n",
       "       [1., 0., 0.],\n",
       "       [0., 1., 0.],\n",
       "       [0., 1., 0.],\n",
       "       [0., 1., 0.],\n",
       "       [0., 1., 0.],\n",
       "       [0., 1., 0.],\n",
       "       [0., 1., 0.],\n",
       "       [0., 0., 1.],\n",
       "       [0., 1., 0.],\n",
       "       [0., 1., 0.],\n",
       "       [0., 1., 0.],\n",
       "       [0., 1., 0.],\n",
       "       [0., 1., 0.],\n",
       "       [1., 0., 0.],\n",
       "       [0., 1., 0.],\n",
       "       [0., 0., 1.],\n",
       "       [0., 1., 0.],\n",
       "       [0., 0., 1.],\n",
       "       [0., 0., 1.],\n",
       "       [0., 1., 0.],\n",
       "       [0., 0., 1.],\n",
       "       [0., 0., 1.],\n",
       "       [0., 1., 0.],\n",
       "       [0., 1., 0.],\n",
       "       [0., 1., 0.],\n",
       "       [0., 1., 0.],\n",
       "       [0., 1., 0.],\n",
       "       [0., 1., 0.],\n",
       "       [1., 0., 0.],\n",
       "       [0., 0., 1.],\n",
       "       [1., 0., 0.],\n",
       "       [0., 1., 0.],\n",
       "       [1., 0., 0.],\n",
       "       [0., 1., 0.],\n",
       "       [0., 1., 0.],\n",
       "       [1., 0., 0.],\n",
       "       [0., 1., 0.],\n",
       "       [1., 0., 0.],\n",
       "       [0., 1., 0.],\n",
       "       [1., 0., 0.],\n",
       "       [0., 0., 1.],\n",
       "       [1., 0., 0.],\n",
       "       [0., 0., 1.],\n",
       "       [1., 0., 0.],\n",
       "       [0., 1., 0.],\n",
       "       [0., 1., 0.],\n",
       "       [1., 0., 0.],\n",
       "       [0., 1., 0.],\n",
       "       [1., 0., 0.],\n",
       "       [1., 0., 0.],\n",
       "       [0., 1., 0.],\n",
       "       [0., 1., 0.],\n",
       "       [0., 0., 1.],\n",
       "       [0., 1., 0.],\n",
       "       [0., 1., 0.],\n",
       "       [1., 0., 0.],\n",
       "       [1., 0., 0.],\n",
       "       [1., 0., 0.],\n",
       "       [1., 0., 0.],\n",
       "       [1., 0., 0.],\n",
       "       [0., 1., 0.],\n",
       "       [0., 0., 1.],\n",
       "       [0., 0., 1.],\n",
       "       [0., 1., 0.],\n",
       "       [1., 0., 0.],\n",
       "       [1., 0., 0.],\n",
       "       [1., 0., 0.],\n",
       "       [0., 0., 1.],\n",
       "       [0., 0., 1.],\n",
       "       [0., 0., 1.],\n",
       "       [0., 0., 1.],\n",
       "       [0., 1., 0.],\n",
       "       [0., 1., 0.],\n",
       "       [1., 0., 0.],\n",
       "       [0., 0., 1.],\n",
       "       [1., 0., 0.],\n",
       "       [1., 0., 0.],\n",
       "       [1., 0., 0.],\n",
       "       [0., 0., 1.],\n",
       "       [0., 0., 1.],\n",
       "       [1., 0., 0.],\n",
       "       [1., 0., 0.],\n",
       "       [1., 0., 0.],\n",
       "       [0., 0., 1.],\n",
       "       [0., 0., 1.],\n",
       "       [0., 1., 0.],\n",
       "       [0., 1., 0.],\n",
       "       [0., 1., 0.],\n",
       "       [1., 0., 0.],\n",
       "       [1., 0., 0.],\n",
       "       [0., 0., 1.],\n",
       "       [0., 0., 1.],\n",
       "       [0., 1., 0.],\n",
       "       [0., 1., 0.],\n",
       "       [0., 1., 0.],\n",
       "       [0., 1., 0.],\n",
       "       [0., 1., 0.],\n",
       "       [1., 0., 0.],\n",
       "       [1., 0., 0.],\n",
       "       [0., 0., 1.],\n",
       "       [0., 0., 1.],\n",
       "       [1., 0., 0.],\n",
       "       [0., 0., 1.],\n",
       "       [0., 0., 1.],\n",
       "       [0., 0., 1.],\n",
       "       [0., 0., 1.],\n",
       "       [1., 0., 0.],\n",
       "       [0., 1., 0.],\n",
       "       [0., 0., 1.],\n",
       "       [0., 1., 0.],\n",
       "       [0., 1., 0.],\n",
       "       [0., 1., 0.],\n",
       "       [0., 0., 1.],\n",
       "       [1., 0., 0.],\n",
       "       [0., 0., 1.],\n",
       "       [0., 0., 1.],\n",
       "       [0., 0., 1.],\n",
       "       [0., 1., 0.],\n",
       "       [0., 1., 0.],\n",
       "       [0., 1., 0.],\n",
       "       [0., 1., 0.],\n",
       "       [0., 1., 0.],\n",
       "       [0., 0., 1.],\n",
       "       [1., 0., 0.],\n",
       "       [1., 0., 0.],\n",
       "       [0., 0., 1.],\n",
       "       [0., 1., 0.],\n",
       "       [1., 0., 0.],\n",
       "       [0., 0., 1.],\n",
       "       [0., 0., 1.],\n",
       "       [1., 0., 0.],\n",
       "       [0., 0., 1.],\n",
       "       [0., 0., 1.],\n",
       "       [0., 0., 1.],\n",
       "       [0., 0., 1.],\n",
       "       [0., 1., 0.],\n",
       "       [0., 1., 0.],\n",
       "       [0., 1., 0.],\n",
       "       [0., 1., 0.],\n",
       "       [1., 0., 0.]], dtype=float32)"
      ]
     },
     "execution_count": 133,
     "metadata": {},
     "output_type": "execute_result"
    }
   ],
   "source": [
    "from keras.utils import to_categorical\n",
    "\n",
    "y_ge = to_categorical(Y,3)\n",
    "y_ge"
   ]
  },
  {
   "cell_type": "code",
   "execution_count": 134,
   "metadata": {},
   "outputs": [
    {
     "data": {
      "text/plain": [
       "array([1, 1, 2, 2, 2, 2, 2, 1, 1, 1, 2, 2, 2, 2, 2, 2, 2, 2, 2, 2, 1, 1,\n",
       "       1, 2, 2, 2, 2, 2, 1, 2, 1, 2, 2, 1, 2, 2, 1, 2, 1, 1, 1, 2, 1, 2,\n",
       "       2, 2, 2, 1, 1, 1, 2, 1, 1, 1, 2, 1, 2, 2, 1, 2, 1, 1, 1, 1, 1, 1,\n",
       "       1, 1, 2, 1, 1, 1, 1, 1, 2, 1, 2, 1, 2, 2, 1, 2, 2, 1, 1, 1, 1, 1,\n",
       "       2, 2, 2, 2, 1, 2, 1, 1, 2, 1, 2, 1, 2, 2, 2, 2, 1, 1, 1, 1, 1, 2,\n",
       "       2, 1, 1, 2, 1, 2, 2, 1, 2, 2, 2, 2, 2, 2, 2, 2, 2, 2, 2, 2, 2, 2,\n",
       "       1, 1, 2, 2, 2, 2, 2, 2, 2, 2, 2, 2, 2, 2, 1, 2, 2, 2, 2, 2, 2, 2,\n",
       "       2, 2, 2, 1, 2, 2, 2, 2, 2, 2, 2, 2, 2, 2, 2, 2, 2, 1, 1, 2, 2, 2,\n",
       "       2, 2, 1, 2, 1, 1, 2, 2, 2, 2, 2, 1, 2, 2, 2, 2, 2, 2, 2, 1, 1, 1,\n",
       "       1, 1, 2], dtype=int64)"
      ]
     },
     "execution_count": 134,
     "metadata": {},
     "output_type": "execute_result"
    }
   ],
   "source": [
    "y_pred_ge = model_lstm.predict_classes(X)\n",
    "y_pred_ge"
   ]
  },
  {
   "cell_type": "code",
   "execution_count": 135,
   "metadata": {},
   "outputs": [
    {
     "name": "stdout",
     "output_type": "stream",
     "text": [
      "             precision    recall  f1-score   support\n",
      "\n",
      "          0       0.00      0.00      0.00        55\n",
      "          1       0.93      0.76      0.84        91\n",
      "          2       0.43      0.98      0.59        55\n",
      "\n",
      "avg / total       0.54      0.61      0.54       201\n",
      "\n"
     ]
    },
    {
     "name": "stderr",
     "output_type": "stream",
     "text": [
      "C:\\Users\\nikhi\\Anaconda3\\lib\\site-packages\\sklearn\\metrics\\classification.py:1135: UndefinedMetricWarning: Precision and F-score are ill-defined and being set to 0.0 in labels with no predicted samples.\n",
      "  'precision', 'predicted', average, warn_for)\n"
     ]
    }
   ],
   "source": [
    "print(classification_report(Y, y_pred_ge))"
   ]
  },
  {
   "cell_type": "code",
   "execution_count": 136,
   "metadata": {},
   "outputs": [
    {
     "data": {
      "text/plain": [
       "[]"
      ]
     },
     "execution_count": 136,
     "metadata": {},
     "output_type": "execute_result"
    },
    {
     "data": {
      "image/png": "[encoded data removed]",
      "text/plain": [
       "<Figure size 432x288 with 2 Axes>"
      ]
     },
     "metadata": {},
     "output_type": "display_data"
    }
   ],
   "source": [
    "import matplotlib.pyplot as plt     \n",
    "import seaborn as sns\n",
    "\n",
    "\n",
    "import seaborn as sns\n",
    "labels = ['Negative','Neutral', 'Positive']\n",
    "ax = sns.heatmap(confusion_matrix(Y, y_pred_ge), annot=True, xticklabels=labels, yticklabels=labels, fmt='g')\n",
    "ax.set(xlabel='Predicted labels', ylabel='True labels')\n",
    "ax.plot()\n"
   ]
  },
  {
   "cell_type": "code",
   "execution_count": 141,
   "metadata": {},
   "outputs": [
    {
     "name": "stdout",
     "output_type": "stream",
     "text": [
      "             precision    recall  f1-score   support\n",
      "\n",
      "          0       0.41      0.13      0.19        55\n",
      "          1       0.64      0.68      0.66        91\n",
      "          2       0.34      0.55      0.42        55\n",
      "\n",
      "avg / total       0.50      0.49      0.47       201\n",
      "\n"
     ]
    }
   ],
   "source": [
    "y_pred_ge = model_GRU.predict_classes(X)\n",
    "print(classification_report(Y, y_pred_ge))"
   ]
  },
  {
   "cell_type": "markdown",
   "metadata": {},
   "source": [
    "Highest Prediction is given by Stacked LSTM "
   ]
  }
 ],
 "metadata": {
  "kernelspec": {
   "display_name": "Python 3",
   "language": "python",
   "name": "python3"
  },
  "language_info": {
   "codemirror_mode": {
    "name": "ipython",
    "version": 3
   },
   "file_extension": ".py",
   "mimetype": "text/x-python",
   "name": "python",
   "nbconvert_exporter": "python",
   "pygments_lexer": "ipython3",
   "version": "3.6.5"
  }
 },
 "nbformat": 4,
 "nbformat_minor": 2
}
