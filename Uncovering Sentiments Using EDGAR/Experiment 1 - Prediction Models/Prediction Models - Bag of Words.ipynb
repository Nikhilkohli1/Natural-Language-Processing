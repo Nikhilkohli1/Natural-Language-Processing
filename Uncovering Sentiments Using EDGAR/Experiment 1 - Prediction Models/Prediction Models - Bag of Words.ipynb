{
 "cells": [
  {
   "cell_type": "markdown",
   "metadata": {},
   "source": [
    "**We will try 3 types of models - **\n",
    "1. BOW model\n",
    "2. Word embeddings (GLOVE)\n",
    "3. RNN\n",
    "\n",
    "**Experiment 1 **\n",
    "\n",
    "1. Mix all the paragraphs and split the data to a 80-20 split\n",
    "2. Build the 3 models listed earlier and compute the confusion matrix for the training and testing datasets.\n",
    "3. Discuss how your models perform.\n"
   ]
  },
  {
   "cell_type": "code",
   "execution_count": 5,
   "metadata": {},
   "outputs": [],
   "source": [
    "import pandas as pd\n",
    "import keras \n",
    "from keras.preprocessing.text import text_to_word_sequence\n",
    "from keras.activations import relu\n",
    "from keras.optimizers import adam, adadelta\n",
    "from keras.layers import Dense, Dropout\n",
    "from keras.preprocessing.sequence import pad_sequences\n",
    "from nltk.tokenize import word_tokenize"
   ]
  },
  {
   "cell_type": "markdown",
   "metadata": {},
   "source": [
    "** Bag of Words for feature extraction**"
   ]
  },
  {
   "cell_type": "code",
   "execution_count": 10,
   "metadata": {},
   "outputs": [
    {
     "data": {
      "text/html": [
       "<div>\n",
       "<style scoped>\n",
       "    .dataframe tbody tr th:only-of-type {\n",
       "        vertical-align: middle;\n",
       "    }\n",
       "\n",
       "    .dataframe tbody tr th {\n",
       "        vertical-align: top;\n",
       "    }\n",
       "\n",
       "    .dataframe thead th {\n",
       "        text-align: right;\n",
       "    }\n",
       "</style>\n",
       "<table border=\"1\" class=\"dataframe\">\n",
       "  <thead>\n",
       "    <tr style=\"text-align: right;\">\n",
       "      <th></th>\n",
       "      <th>sentiment</th>\n",
       "      <th>text</th>\n",
       "    </tr>\n",
       "  </thead>\n",
       "  <tbody>\n",
       "    <tr>\n",
       "      <th>0</th>\n",
       "      <td>positive</td>\n",
       "      <td>thank good welcome conference call fourth quar...</td>\n",
       "    </tr>\n",
       "    <tr>\n",
       "      <th>1</th>\n",
       "      <td>positive</td>\n",
       "      <td>look past expect channel inventory correction ...</td>\n",
       "    </tr>\n",
       "    <tr>\n",
       "      <th>2</th>\n",
       "      <td>neutral</td>\n",
       "      <td>last question come line harlan sur jp</td>\n",
       "    </tr>\n",
       "    <tr>\n",
       "      <th>3</th>\n",
       "      <td>negative</td>\n",
       "      <td>china game slow economic environment governmen...</td>\n",
       "    </tr>\n",
       "    <tr>\n",
       "      <th>4</th>\n",
       "      <td>negative</td>\n",
       "      <td>know could tear tease know consumer market rel...</td>\n",
       "    </tr>\n",
       "  </tbody>\n",
       "</table>\n",
       "</div>"
      ],
      "text/plain": [
       "  ...\n",
       "0 ...\n",
       "1 ...\n",
       "2 ...\n",
       "3 ...\n",
       "4 ...\n",
       "\n",
       "[5 rows x 2 columns]"
      ]
     },
     "execution_count": 10,
     "metadata": {},
     "output_type": "execute_result"
    }
   ],
   "source": [
    "transcript = pd.read_csv('Earnings_Call_Transcript.csv')\n",
    "transcript.drop(columns='Unnamed: 0', axis=1).head()"
   ]
  },
  {
   "cell_type": "code",
   "execution_count": 15,
   "metadata": {},
   "outputs": [
    {
     "data": {
      "text/plain": [
       "count         1618\n",
       "unique        1492\n",
       "top       operator\n",
       "freq            28\n",
       "Name: text, dtype: object"
      ]
     },
     "execution_count": 15,
     "metadata": {},
     "output_type": "execute_result"
    }
   ],
   "source": [
    "transcript['text'].describe()"
   ]
  },
  {
   "cell_type": "code",
   "execution_count": 16,
   "metadata": {},
   "outputs": [
    {
     "data": {
      "text/plain": [
       "count        1644\n",
       "unique          3\n",
       "top       neutral\n",
       "freq          833\n",
       "Name: sentiment, dtype: object"
      ]
     },
     "execution_count": 16,
     "metadata": {},
     "output_type": "execute_result"
    }
   ],
   "source": [
    "transcript['sentiment'].describe()"
   ]
  },
  {
   "cell_type": "code",
   "execution_count": 17,
   "metadata": {},
   "outputs": [
    {
     "data": {
      "text/plain": [
       "neutral     833\n",
       "positive    654\n",
       "negative    157\n",
       "Name: sentiment, dtype: int64"
      ]
     },
     "execution_count": 17,
     "metadata": {},
     "output_type": "execute_result"
    }
   ],
   "source": [
    "transcript['sentiment'].value_counts()"
   ]
  },
  {
   "cell_type": "code",
   "execution_count": 19,
   "metadata": {},
   "outputs": [
    {
     "data": {
      "text/plain": [
       "['thank',\n",
       " 'good',\n",
       " 'welcome',\n",
       " 'conference',\n",
       " 'call',\n",
       " 'fourth',\n",
       " 'quarter',\n",
       " 'fiscal',\n",
       " 'call',\n",
       " 'today',\n",
       " 'nvidia',\n",
       " 'president',\n",
       " 'chief',\n",
       " 'executive',\n",
       " 'officer',\n",
       " 'colette',\n",
       " 'executive',\n",
       " 'vice',\n",
       " 'president',\n",
       " 'chief',\n",
       " 'financial',\n",
       " 'like',\n",
       " 'remind',\n",
       " 'call',\n",
       " 'webcast',\n",
       " 'live',\n",
       " 'investor',\n",
       " 'relation',\n",
       " 'web']"
      ]
     },
     "execution_count": 19,
     "metadata": {},
     "output_type": "execute_result"
    }
   ],
   "source": [
    "tokens = text_to_word_sequence(transcript['text'][0])\n",
    "tokens"
   ]
  },
  {
   "cell_type": "markdown",
   "metadata": {},
   "source": [
    "The bag-of-words model is a simplifying representation used in natural language processing and information retrieval (IR). In this model, a text (such as a sentence or a document) is represented as the bag (multiset) of its words, disregarding grammar and even word order but keeping multiplicity"
   ]
  },
  {
   "cell_type": "code",
   "execution_count": 26,
   "metadata": {},
   "outputs": [
    {
     "data": {
      "text/plain": [
       "array([[0, 0, 0, ..., 0, 0, 0],\n",
       "       [0, 0, 0, ..., 0, 0, 0],\n",
       "       [0, 0, 0, ..., 0, 0, 0],\n",
       "       ...,\n",
       "       [0, 0, 0, ..., 0, 0, 0],\n",
       "       [0, 0, 0, ..., 0, 0, 0],\n",
       "       [0, 0, 0, ..., 0, 0, 0]], dtype=int64)"
      ]
     },
     "execution_count": 26,
     "metadata": {},
     "output_type": "execute_result"
    }
   ],
   "source": [
    "from sklearn.feature_extraction.text import CountVectorizer\n",
    "\n",
    "bow = CountVectorizer(max_features=20000)\n",
    "X = bow.fit_transform(transcript['text'].astype('str')).toarray()\n",
    "X"
   ]
  },
  {
   "cell_type": "code",
   "execution_count": 29,
   "metadata": {},
   "outputs": [
    {
     "data": {
      "text/plain": [
       "array([2, 2, 1, ..., 1, 0, 1], dtype=int64)"
      ]
     },
     "execution_count": 29,
     "metadata": {},
     "output_type": "execute_result"
    }
   ],
   "source": [
    "from sklearn.preprocessing import LabelEncoder\n",
    "\n",
    "le = LabelEncoder()\n",
    "Y = le.fit_transform(transcript['sentiment'])\n",
    "Y"
   ]
  },
  {
   "cell_type": "markdown",
   "metadata": {},
   "source": [
    "Lets us start building our first model using Logistic Regression"
   ]
  },
  {
   "cell_type": "code",
   "execution_count": 31,
   "metadata": {},
   "outputs": [],
   "source": [
    "from sklearn.model_selection import train_test_split\n",
    "\n",
    "x_train, x_test, y_train, y_test = train_test_split(X, Y, test_size=0.2, random_state=42)"
   ]
  },
  {
   "cell_type": "code",
   "execution_count": 33,
   "metadata": {},
   "outputs": [
    {
     "data": {
      "text/plain": [
       "LogisticRegression(C=1.0, class_weight=None, dual=False, fit_intercept=True,\n",
       "          intercept_scaling=1, max_iter=100, multi_class='ovr', n_jobs=1,\n",
       "          penalty='l2', random_state=None, solver='liblinear', tol=0.0001,\n",
       "          verbose=0, warm_start=False)"
      ]
     },
     "execution_count": 33,
     "metadata": {},
     "output_type": "execute_result"
    }
   ],
   "source": [
    "from sklearn.linear_model import LogisticRegression\n",
    "\n",
    "model = LogisticRegression()\n",
    "model.fit(x_train, y_train)"
   ]
  },
  {
   "cell_type": "code",
   "execution_count": 34,
   "metadata": {},
   "outputs": [
    {
     "data": {
      "text/plain": [
       "array([1, 1, 1, 1, 2, 1, 2, 2, 1, 2, 2, 2, 2, 1, 1, 1, 2, 1, 1, 2, 1, 2,\n",
       "       1, 1, 1, 1, 1, 2, 1, 0, 2, 2, 1, 1, 1, 1, 1, 2, 1, 2, 2, 1, 2, 0,\n",
       "       1, 1, 2, 2, 2, 0, 2, 1, 1, 1, 1, 2, 1, 2, 1, 1, 2, 1, 1, 2, 1, 2,\n",
       "       2, 1, 2, 2, 0, 1, 1, 1, 1, 2, 2, 0, 2, 1, 0, 1, 1, 1, 1, 1, 1, 2,\n",
       "       2, 1, 2, 1, 1, 1, 2, 2, 1, 1, 1, 1, 1, 1, 2, 1, 1, 1, 2, 2, 1, 2,\n",
       "       2, 2, 1, 1, 1, 2, 1, 1, 2, 2, 2, 1, 1, 1, 1, 2, 2, 2, 1, 1, 2, 2,\n",
       "       1, 2, 1, 2, 1, 1, 2, 1, 2, 1, 1, 2, 2, 2, 1, 1, 2, 1, 2, 2, 2, 0,\n",
       "       1, 2, 2, 2, 1, 0, 1, 2, 1, 1, 1, 1, 1, 1, 1, 1, 1, 2, 2, 1, 2, 1,\n",
       "       1, 2, 1, 1, 1, 1, 1, 2, 1, 1, 2, 1, 2, 1, 1, 1, 1, 2, 1, 2, 1, 2,\n",
       "       2, 1, 2, 1, 1, 1, 1, 1, 2, 1, 1, 2, 1, 1, 1, 0, 1, 2, 1, 2, 1, 1,\n",
       "       1, 1, 1, 2, 1, 1, 2, 1, 1, 2, 1, 1, 1, 1, 1, 2, 2, 2, 1, 1, 2, 2,\n",
       "       1, 2, 2, 2, 2, 1, 1, 1, 1, 2, 1, 2, 1, 1, 1, 2, 1, 1, 1, 1, 2, 1,\n",
       "       2, 1, 0, 1, 1, 2, 1, 2, 2, 1, 2, 1, 2, 1, 1, 2, 0, 1, 2, 1, 2, 1,\n",
       "       2, 2, 1, 1, 1, 2, 2, 1, 2, 1, 1, 2, 2, 0, 1, 1, 1, 2, 2, 2, 2, 1,\n",
       "       2, 1, 1, 1, 1, 1, 2, 1, 1, 1, 1, 1, 1, 2, 1, 1, 1, 2, 1, 1, 0],\n",
       "      dtype=int64)"
      ]
     },
     "execution_count": 34,
     "metadata": {},
     "output_type": "execute_result"
    }
   ],
   "source": [
    "y_pred = model.predict(x_test)\n",
    "y_pred"
   ]
  },
  {
   "cell_type": "code",
   "execution_count": 35,
   "metadata": {},
   "outputs": [],
   "source": [
    "from sklearn.model_selection import GridSearchCV\n",
    "from sklearn.metrics import confusion_matrix, classification_report"
   ]
  },
  {
   "cell_type": "code",
   "execution_count": 36,
   "metadata": {},
   "outputs": [
    {
     "name": "stdout",
     "output_type": "stream",
     "text": [
      "             precision    recall  f1-score   support\n",
      "\n",
      "          0       0.31      0.13      0.19        30\n",
      "          1       0.70      0.78      0.74       172\n",
      "          2       0.65      0.63      0.64       127\n",
      "\n",
      "avg / total       0.64      0.67      0.65       329\n",
      "\n"
     ]
    }
   ],
   "source": [
    "print(classification_report(y_test, y_pred))"
   ]
  },
  {
   "cell_type": "code",
   "execution_count": 45,
   "metadata": {},
   "outputs": [
    {
     "data": {
      "image/png": "[encoded data removed]",
      "text/plain": [
       "<Figure size 432x288 with 2 Axes>"
      ]
     },
     "metadata": {},
     "output_type": "display_data"
    }
   ],
   "source": [
    "import matplotlib.pyplot as plt     \n",
    "import seaborn as sns\n",
    "\n",
    "ax= plt.subplot()\n",
    "sns.heatmap(confusion_matrix(y_test, y_pred), annot=True, ax = ax, fmt='g'); #annot=True to annotate cells\n",
    "\n",
    "# labels, title and ticks\n",
    "ax.set_xlabel('Predicted labels');ax.set_ylabel('True labels'); \n",
    "ax.set_title('Confusion Matrix'); \n",
    "ax.xaxis.set_ticklabels(['Negative','Neutral', 'Positive']); \n",
    "ax.yaxis.set_ticklabels(['Negative','Neutral', 'Positive']);"
   ]
  },
  {
   "cell_type": "code",
   "execution_count": 46,
   "metadata": {},
   "outputs": [
    {
     "data": {
      "text/plain": [
       "0.6656534954407295"
      ]
     },
     "execution_count": 46,
     "metadata": {},
     "output_type": "execute_result"
    }
   ],
   "source": [
    "from sklearn.metrics import accuracy_score\n",
    "\n",
    "accuracy_score(y_test, y_pred)"
   ]
  },
  {
   "cell_type": "code",
   "execution_count": 47,
   "metadata": {},
   "outputs": [],
   "source": [
    "params = {'C': [1, 10, 0.1, 100], 'penalty': ['l1', 'l2']}"
   ]
  },
  {
   "cell_type": "code",
   "execution_count": 48,
   "metadata": {},
   "outputs": [
    {
     "data": {
      "text/plain": [
       "GridSearchCV(cv=10, error_score='raise',\n",
       "       estimator=LogisticRegression(C=1.0, class_weight=None, dual=False, fit_intercept=True,\n",
       "          intercept_scaling=1, max_iter=100, multi_class='ovr', n_jobs=1,\n",
       "          penalty='l2', random_state=None, solver='liblinear', tol=0.0001,\n",
       "          verbose=0, warm_start=False),\n",
       "       fit_params=None, iid=True, n_jobs=1,\n",
       "       param_grid={'C': [1, 10, 0.1, 100], 'penalty': ['l1', 'l2']},\n",
       "       pre_dispatch='2*n_jobs', refit=True, return_train_score='warn',\n",
       "       scoring=None, verbose=0)"
      ]
     },
     "execution_count": 48,
     "metadata": {},
     "output_type": "execute_result"
    }
   ],
   "source": [
    "grid_cv = GridSearchCV(estimator=model, param_grid=params, cv=10)\n",
    "grid_cv.fit(x_train, y_train)\n"
   ]
  },
  {
   "cell_type": "code",
   "execution_count": 49,
   "metadata": {},
   "outputs": [
    {
     "data": {
      "text/plain": [
       "{'C': 0.1, 'penalty': 'l2'}"
      ]
     },
     "execution_count": 49,
     "metadata": {},
     "output_type": "execute_result"
    }
   ],
   "source": [
    "grid_cv.best_params_"
   ]
  },
  {
   "cell_type": "code",
   "execution_count": 50,
   "metadata": {},
   "outputs": [],
   "source": [
    "y_pred = grid_cv.predict(x_test)"
   ]
  },
  {
   "cell_type": "code",
   "execution_count": 51,
   "metadata": {},
   "outputs": [
    {
     "data": {
      "image/png": "[encoded data removed]",
      "text/plain": [
       "<Figure size 432x288 with 2 Axes>"
      ]
     },
     "metadata": {},
     "output_type": "display_data"
    }
   ],
   "source": [
    "import matplotlib.pyplot as plt     \n",
    "import seaborn as sns\n",
    "\n",
    "ax= plt.subplot()\n",
    "sns.heatmap(confusion_matrix(y_test, y_pred), annot=True, ax = ax, fmt='g'); #annot=True to annotate cells\n",
    "\n",
    "# labels, title and ticks\n",
    "ax.set_xlabel('Predicted labels');ax.set_ylabel('True labels'); \n",
    "ax.set_title('Confusion Matrix'); \n",
    "ax.xaxis.set_ticklabels(['Negative','Neutral', 'Positive']); \n",
    "ax.yaxis.set_ticklabels(['Negative','Neutral', 'Positive']);"
   ]
  },
  {
   "cell_type": "code",
   "execution_count": 52,
   "metadata": {},
   "outputs": [
    {
     "data": {
      "text/plain": [
       "0.6899696048632219"
      ]
     },
     "execution_count": 52,
     "metadata": {},
     "output_type": "execute_result"
    }
   ],
   "source": [
    "from sklearn.metrics import accuracy_score\n",
    "\n",
    "accuracy_score(y_test, y_pred)"
   ]
  },
  {
   "cell_type": "code",
   "execution_count": 53,
   "metadata": {},
   "outputs": [
    {
     "name": "stdout",
     "output_type": "stream",
     "text": [
      "             precision    recall  f1-score   support\n",
      "\n",
      "          0       0.50      0.07      0.12        30\n",
      "          1       0.71      0.80      0.75       172\n",
      "          2       0.67      0.69      0.68       127\n",
      "\n",
      "avg / total       0.67      0.69      0.67       329\n",
      "\n"
     ]
    }
   ],
   "source": [
    "print(classification_report(y_test, y_pred))"
   ]
  },
  {
   "cell_type": "code",
   "execution_count": 54,
   "metadata": {},
   "outputs": [
    {
     "data": {
      "text/plain": [
       "SVC(C=1.0, cache_size=200, class_weight=None, coef0=0.0,\n",
       "  decision_function_shape='ovr', degree=3, gamma='auto', kernel='rbf',\n",
       "  max_iter=-1, probability=False, random_state=None, shrinking=True,\n",
       "  tol=0.001, verbose=False)"
      ]
     },
     "execution_count": 54,
     "metadata": {},
     "output_type": "execute_result"
    }
   ],
   "source": [
    "from sklearn.svm import SVC\n",
    "\n",
    "model = SVC()\n",
    "model.fit(x_train, y_train)"
   ]
  },
  {
   "cell_type": "code",
   "execution_count": 55,
   "metadata": {},
   "outputs": [
    {
     "data": {
      "text/plain": [
       "0.5258358662613982"
      ]
     },
     "execution_count": 55,
     "metadata": {},
     "output_type": "execute_result"
    }
   ],
   "source": [
    "y_pred = model.predict(x_test)\n",
    "accuracy_score(y_test, y_pred)"
   ]
  },
  {
   "cell_type": "markdown",
   "metadata": {},
   "source": [
    "XGBosst Classifier"
   ]
  },
  {
   "cell_type": "code",
   "execution_count": 73,
   "metadata": {},
   "outputs": [
    {
     "data": {
      "text/plain": [
       "XGBClassifier(base_score=0.5, booster='gbtree', colsample_bylevel=1,\n",
       "       colsample_bytree=1, gamma=0, learning_rate=0.1, max_delta_step=0,\n",
       "       max_depth=4, min_child_weight=1, missing=None, n_estimators=100,\n",
       "       n_jobs=1, nthread=None, objective='multi:softprob', random_state=0,\n",
       "       reg_alpha=0, reg_lambda=1, scale_pos_weight=1, seed=None,\n",
       "       silent=True, subsample=1)"
      ]
     },
     "execution_count": 73,
     "metadata": {},
     "output_type": "execute_result"
    }
   ],
   "source": [
    "from xgboost import XGBClassifier\n",
    "\n",
    "model = XGBClassifier(max_depth=4, n_estimators=100)\n",
    "model.fit(x_train, y_train)"
   ]
  },
  {
   "cell_type": "code",
   "execution_count": 74,
   "metadata": {},
   "outputs": [
    {
     "data": {
      "text/plain": [
       "0.6838905775075987"
      ]
     },
     "execution_count": 74,
     "metadata": {},
     "output_type": "execute_result"
    }
   ],
   "source": [
    "y_pred = model.predict(x_test)\n",
    "accuracy_score(y_test, y_pred)"
   ]
  },
  {
   "cell_type": "code",
   "execution_count": null,
   "metadata": {},
   "outputs": [],
   "source": []
  },
  {
   "cell_type": "code",
   "execution_count": 61,
   "metadata": {},
   "outputs": [],
   "source": [
    "params = {'max_depth': [4, 8, 10, 20], 'n_estimators': [10, 50, 100, 200]}"
   ]
  },
  {
   "cell_type": "code",
   "execution_count": 63,
   "metadata": {},
   "outputs": [],
   "source": [
    "#grid_cv = GridSearchCV(estimator=model, param_grid=params, cv=4)\n",
    "#grid_cv.fit(x_train, y_train)\n"
   ]
  },
  {
   "cell_type": "code",
   "execution_count": 64,
   "metadata": {},
   "outputs": [],
   "source": [
    "#y_pred = grid_cv.predict(x_test)"
   ]
  },
  {
   "cell_type": "code",
   "execution_count": 75,
   "metadata": {},
   "outputs": [
    {
     "data": {
      "image/png": "[encoded data removed]",
      "text/plain": [
       "<Figure size 432x288 with 2 Axes>"
      ]
     },
     "metadata": {},
     "output_type": "display_data"
    }
   ],
   "source": [
    "import matplotlib.pyplot as plt     \n",
    "import seaborn as sns\n",
    "\n",
    "ax= plt.subplot()\n",
    "sns.heatmap(confusion_matrix(y_test, y_pred), annot=True, ax = ax, fmt='g'); #annot=True to annotate cells\n",
    "\n",
    "# labels, title and ticks\n",
    "ax.set_xlabel('Predicted labels');ax.set_ylabel('True labels'); \n",
    "ax.set_title('Confusion Matrix'); \n",
    "ax.xaxis.set_ticklabels(['Negative','Neutral', 'Positive']); \n",
    "ax.yaxis.set_ticklabels(['Negative','Neutral', 'Positive']);"
   ]
  },
  {
   "cell_type": "code",
   "execution_count": 76,
   "metadata": {},
   "outputs": [
    {
     "name": "stdout",
     "output_type": "stream",
     "text": [
      "             precision    recall  f1-score   support\n",
      "\n",
      "          0       0.25      0.03      0.06        30\n",
      "          1       0.71      0.80      0.75       172\n",
      "          2       0.65      0.69      0.67       127\n",
      "\n",
      "avg / total       0.65      0.68      0.66       329\n",
      "\n"
     ]
    }
   ],
   "source": [
    "print(classification_report(y_test, y_pred))"
   ]
  },
  {
   "cell_type": "code",
   "execution_count": null,
   "metadata": {},
   "outputs": [],
   "source": []
  },
  {
   "cell_type": "markdown",
   "metadata": {},
   "source": [
    "** Neural Network **"
   ]
  },
  {
   "cell_type": "code",
   "execution_count": 91,
   "metadata": {},
   "outputs": [
    {
     "data": {
      "text/plain": [
       "(1315,)"
      ]
     },
     "execution_count": 91,
     "metadata": {},
     "output_type": "execute_result"
    }
   ],
   "source": [
    "y_train.shape"
   ]
  },
  {
   "cell_type": "code",
   "execution_count": 93,
   "metadata": {},
   "outputs": [],
   "source": [
    "from keras.utils import to_categorical\n",
    "\n",
    "y_train = keras.utils.to_categorical(y_train , num_classes=3).astype('float32')\n",
    "y_test = keras.utils.to_categorical(y_test , num_classes=3).astype('float32')"
   ]
  },
  {
   "cell_type": "code",
   "execution_count": 95,
   "metadata": {},
   "outputs": [
    {
     "data": {
      "text/plain": [
       "array([[0., 1., 0.],\n",
       "       [0., 1., 0.],\n",
       "       [0., 0., 1.],\n",
       "       ...,\n",
       "       [0., 0., 1.],\n",
       "       [0., 1., 0.],\n",
       "       [0., 1., 0.]], dtype=float32)"
      ]
     },
     "execution_count": 95,
     "metadata": {},
     "output_type": "execute_result"
    }
   ],
   "source": [
    "y_train"
   ]
  },
  {
   "cell_type": "code",
   "execution_count": 114,
   "metadata": {},
   "outputs": [],
   "source": [
    "from keras.models import Sequential\n",
    "\n",
    "model = Sequential()"
   ]
  },
  {
   "cell_type": "code",
   "execution_count": 97,
   "metadata": {},
   "outputs": [
    {
     "data": {
      "text/plain": [
       "3790"
      ]
     },
     "execution_count": 97,
     "metadata": {},
     "output_type": "execute_result"
    }
   ],
   "source": [
    " x_train.shape[1]"
   ]
  },
  {
   "cell_type": "code",
   "execution_count": 115,
   "metadata": {},
   "outputs": [
    {
     "name": "stdout",
     "output_type": "stream",
     "text": [
      "_________________________________________________________________\n",
      "Layer (type)                 Output Shape              Param #   \n",
      "=================================================================\n",
      "dense_38 (Dense)             (None, 64)                242624    \n",
      "_________________________________________________________________\n",
      "dropout_26 (Dropout)         (None, 64)                0         \n",
      "_________________________________________________________________\n",
      "dense_39 (Dense)             (None, 128)               8320      \n",
      "_________________________________________________________________\n",
      "dropout_27 (Dropout)         (None, 128)               0         \n",
      "_________________________________________________________________\n",
      "dense_40 (Dense)             (None, 64)                8256      \n",
      "_________________________________________________________________\n",
      "dropout_28 (Dropout)         (None, 64)                0         \n",
      "_________________________________________________________________\n",
      "dense_41 (Dense)             (None, 32)                2080      \n",
      "_________________________________________________________________\n",
      "dropout_29 (Dropout)         (None, 32)                0         \n",
      "_________________________________________________________________\n",
      "dense_42 (Dense)             (None, 3)                 99        \n",
      "=================================================================\n",
      "Total params: 261,379\n",
      "Trainable params: 261,379\n",
      "Non-trainable params: 0\n",
      "_________________________________________________________________\n"
     ]
    }
   ],
   "source": [
    "model.add(Dense(64, activation='relu',kernel_initializer='uniform', input_shape= (x_train.shape[1],)))\n",
    "model.add(Dropout(0.2))\n",
    "model.add(Dense(128, kernel_initializer='uniform',activation = 'relu'))\n",
    "model.add(Dropout(0.1))\n",
    "model.add(Dense(64, kernel_initializer='uniform',activation = 'relu'))\n",
    "model.add(Dropout(0.2))\n",
    "model.add(Dense(32, kernel_initializer='uniform',activation = 'relu'))\n",
    "model.add(Dropout(0.3))\n",
    "model.add(Dense(3, activation='softmax'))\n",
    "\n",
    "#model.compile(optimizer=adam(lr=0.00001), loss='categorical_crossentropy', metrics=['accuracy'])\n",
    "model.compile(optimizer=adadelta(lr=0.00001, decay=1e-6), loss='categorical_crossentropy', metrics=['accuracy'])\n",
    "model.summary()"
   ]
  },
  {
   "cell_type": "code",
   "execution_count": 116,
   "metadata": {},
   "outputs": [
    {
     "name": "stdout",
     "output_type": "stream",
     "text": [
      "Train on 1052 samples, validate on 263 samples\n",
      "Epoch 1/10\n",
      "1052/1052 [==============================] - 5s 4ms/step - loss: 1.0983 - acc: 0.4021 - val_loss: 1.0984 - val_acc: 0.3992\n",
      "Epoch 2/10\n",
      "1052/1052 [==============================] - 4s 4ms/step - loss: 1.0983 - acc: 0.4059 - val_loss: 1.0984 - val_acc: 0.3992\n",
      "Epoch 3/10\n",
      "1052/1052 [==============================] - 4s 4ms/step - loss: 1.0984 - acc: 0.3954 - val_loss: 1.0984 - val_acc: 0.4030\n",
      "Epoch 4/10\n",
      "1052/1052 [==============================] - 4s 4ms/step - loss: 1.0984 - acc: 0.4135 - val_loss: 1.0984 - val_acc: 0.4030\n",
      "Epoch 5/10\n",
      "1052/1052 [==============================] - 4s 4ms/step - loss: 1.0983 - acc: 0.3973 - val_loss: 1.0984 - val_acc: 0.4030\n",
      "Epoch 6/10\n",
      "1052/1052 [==============================] - 5s 4ms/step - loss: 1.0984 - acc: 0.3888 - val_loss: 1.0984 - val_acc: 0.4030\n",
      "Epoch 7/10\n",
      "1052/1052 [==============================] - 4s 4ms/step - loss: 1.0983 - acc: 0.3878 - val_loss: 1.0984 - val_acc: 0.4030\n",
      "Epoch 8/10\n",
      "1052/1052 [==============================] - 4s 4ms/step - loss: 1.0983 - acc: 0.3983 - val_loss: 1.0984 - val_acc: 0.4030\n",
      "Epoch 9/10\n",
      "1052/1052 [==============================] - 4s 4ms/step - loss: 1.0984 - acc: 0.4144 - val_loss: 1.0984 - val_acc: 0.4030\n",
      "Epoch 10/10\n",
      "1052/1052 [==============================] - 5s 4ms/step - loss: 1.0983 - acc: 0.4125 - val_loss: 1.0984 - val_acc: 0.4030\n"
     ]
    }
   ],
   "source": [
    "history = model.fit(x_train, y_train, validation_split = 0.2, epochs=10, batch_size=2)"
   ]
  },
  {
   "cell_type": "code",
   "execution_count": 122,
   "metadata": {},
   "outputs": [
    {
     "name": "stdout",
     "output_type": "stream",
     "text": [
      "_________________________________________________________________\n",
      "Layer (type)                 Output Shape              Param #   \n",
      "=================================================================\n",
      "dense_51 (Dense)             (None, 64)                242624    \n",
      "_________________________________________________________________\n",
      "dropout_36 (Dropout)         (None, 64)                0         \n",
      "_________________________________________________________________\n",
      "dense_52 (Dense)             (None, 32)                2080      \n",
      "_________________________________________________________________\n",
      "dropout_37 (Dropout)         (None, 32)                0         \n",
      "_________________________________________________________________\n",
      "dense_53 (Dense)             (None, 32)                1056      \n",
      "_________________________________________________________________\n",
      "dropout_38 (Dropout)         (None, 32)                0         \n",
      "_________________________________________________________________\n",
      "dense_54 (Dense)             (None, 3)                 99        \n",
      "=================================================================\n",
      "Total params: 245,859\n",
      "Trainable params: 245,859\n",
      "Non-trainable params: 0\n",
      "_________________________________________________________________\n"
     ]
    }
   ],
   "source": [
    "model = Sequential()\n",
    "\n",
    "model.add(Dense(64, activation='relu', input_shape= (x_train.shape[1],)))\n",
    "model.add(Dropout(0.2))\n",
    "model.add(Dense(32, activation = 'relu'))\n",
    "model.add(Dropout(0.2))\n",
    "model.add(Dense(32,activation = 'relu'))\n",
    "model.add(Dropout(0.2))\n",
    "model.add(Dense(3, activation='softmax'))\n",
    "\n",
    "#model.compile(optimizer=adam(lr=0.00001), loss='categorical_crossentropy', metrics=['accuracy'])\n",
    "model.compile(optimizer=adam(lr=0.00001, decay=1e-6), loss='categorical_crossentropy', metrics=['accuracy'])\n",
    "model.summary()"
   ]
  },
  {
   "cell_type": "code",
   "execution_count": 123,
   "metadata": {},
   "outputs": [
    {
     "name": "stdout",
     "output_type": "stream",
     "text": [
      "Train on 920 samples, validate on 395 samples\n",
      "Epoch 1/10\n",
      "920/920 [==============================] - 2s 3ms/step - loss: 1.0983 - acc: 0.3500 - val_loss: 1.0954 - val_acc: 0.4000\n",
      "Epoch 2/10\n",
      "920/920 [==============================] - 1s 1ms/step - loss: 1.0919 - acc: 0.4076 - val_loss: 1.0905 - val_acc: 0.4734\n",
      "Epoch 3/10\n",
      "920/920 [==============================] - 1s 1ms/step - loss: 1.0864 - acc: 0.4413 - val_loss: 1.0859 - val_acc: 0.5114\n",
      "Epoch 4/10\n",
      "920/920 [==============================] - 1s 1ms/step - loss: 1.0830 - acc: 0.4413 - val_loss: 1.0813 - val_acc: 0.5367\n",
      "Epoch 5/10\n",
      "920/920 [==============================] - 1s 1ms/step - loss: 1.0807 - acc: 0.4685 - val_loss: 1.0769 - val_acc: 0.5519\n",
      "Epoch 6/10\n",
      "920/920 [==============================] - 1s 1ms/step - loss: 1.0749 - acc: 0.4902 - val_loss: 1.0725 - val_acc: 0.5544\n",
      "Epoch 7/10\n",
      "920/920 [==============================] - 1s 1ms/step - loss: 1.0666 - acc: 0.5109 - val_loss: 1.0679 - val_acc: 0.5671\n",
      "Epoch 8/10\n",
      "920/920 [==============================] - 1s 1ms/step - loss: 1.0614 - acc: 0.5511 - val_loss: 1.0628 - val_acc: 0.5671\n",
      "Epoch 9/10\n",
      "920/920 [==============================] - 1s 1ms/step - loss: 1.0588 - acc: 0.5533 - val_loss: 1.0579 - val_acc: 0.5671\n",
      "Epoch 10/10\n",
      "920/920 [==============================] - 1s 1ms/step - loss: 1.0497 - acc: 0.5804 - val_loss: 1.0531 - val_acc: 0.5747\n"
     ]
    }
   ],
   "source": [
    "history = model.fit(x_train, y_train, validation_split = 0.3, epochs=10, batch_size=5)"
   ]
  },
  {
   "cell_type": "code",
   "execution_count": 124,
   "metadata": {},
   "outputs": [
    {
     "name": "stdout",
     "output_type": "stream",
     "text": [
      "dict_keys(['val_loss', 'val_acc', 'loss', 'acc'])\n"
     ]
    },
    {
     "data": {
      "image/png": "[encoded data removed]",
      "text/plain": [
       "<Figure size 432x288 with 1 Axes>"
      ]
     },
     "metadata": {},
     "output_type": "display_data"
    },
    {
     "data": {
      "image/png": "[encoded data removed]",
      "text/plain": [
       "<Figure size 432x288 with 1 Axes>"
      ]
     },
     "metadata": {},
     "output_type": "display_data"
    }
   ],
   "source": [
    "print(history.history.keys())\n",
    "# summarize history for accuracy\n",
    "plt.plot(history.history['acc'])\n",
    "plt.plot(history.history['val_acc'])\n",
    "plt.title('Model Accuracy')\n",
    "plt.ylabel('accuracy')\n",
    "plt.xlabel('epoch')\n",
    "plt.legend(['train', 'test'], loc='upper left')\n",
    "plt.show()\n",
    "# summarize history for loss\n",
    "plt.plot(history.history['loss'])\n",
    "plt.plot(history.history['val_loss'])\n",
    "plt.title('Model Loss')\n",
    "plt.ylabel('loss')\n",
    "plt.xlabel('epoch')\n",
    "plt.legend(['train', 'test'], loc='upper left')\n",
    "plt.show()\n"
   ]
  },
  {
   "cell_type": "code",
   "execution_count": 126,
   "metadata": {},
   "outputs": [
    {
     "data": {
      "text/plain": [
       "array([[0.3062495 , 0.3446439 , 0.3491066 ],\n",
       "       [0.31130806, 0.3495342 , 0.33915773],\n",
       "       [0.3109601 , 0.34887788, 0.340162  ],\n",
       "       [0.3091911 , 0.35031623, 0.34049267],\n",
       "       [0.2974338 , 0.3607651 , 0.3418011 ],\n",
       "       [0.31075028, 0.34454566, 0.344704  ],\n",
       "       [0.2985966 , 0.3421069 , 0.3592965 ],\n",
       "       [0.28966558, 0.3422539 , 0.3680806 ],\n",
       "       [0.31057987, 0.3483405 , 0.34107965],\n",
       "       [0.28830755, 0.3587491 , 0.35294333],\n",
       "       [0.28821537, 0.34940332, 0.36238137],\n",
       "       [0.27774265, 0.3492593 , 0.37299812],\n",
       "       [0.2941603 , 0.34983188, 0.35600784],\n",
       "       [0.30253163, 0.348921  , 0.34854737],\n",
       "       [0.31302813, 0.3489856 , 0.33798626],\n",
       "       [0.3026403 , 0.34164962, 0.35571012],\n",
       "       [0.3227305 , 0.34500593, 0.3322636 ],\n",
       "       [0.31342667, 0.35191068, 0.3346627 ],\n",
       "       [0.3113746 , 0.34169427, 0.34693113],\n",
       "       [0.29504716, 0.35481715, 0.35013565],\n",
       "       [0.31046277, 0.3514156 , 0.3381216 ],\n",
       "       [0.29395267, 0.3711602 , 0.33488712],\n",
       "       [0.3084715 , 0.34928373, 0.34224477],\n",
       "       [0.30997384, 0.34674236, 0.3432839 ],\n",
       "       [0.31165853, 0.3514833 , 0.3368582 ],\n",
       "       [0.3070058 , 0.35797054, 0.33502364],\n",
       "       [0.28620434, 0.361649  , 0.35214657],\n",
       "       [0.28675085, 0.33761692, 0.37563217],\n",
       "       [0.3109601 , 0.34887788, 0.340162  ],\n",
       "       [0.2886052 , 0.33454224, 0.37685254],\n",
       "       [0.32038242, 0.3354752 , 0.34414238],\n",
       "       [0.2783252 , 0.35733348, 0.36434135],\n",
       "       [0.30054423, 0.34638292, 0.35307285],\n",
       "       [0.2964841 , 0.3459385 , 0.35757738],\n",
       "       [0.26887447, 0.35700893, 0.37411657],\n",
       "       [0.30759114, 0.3570256 , 0.3353832 ],\n",
       "       [0.2999919 , 0.36203906, 0.337969  ],\n",
       "       [0.29043883, 0.35446933, 0.3550918 ],\n",
       "       [0.28347403, 0.34043205, 0.37609392],\n",
       "       [0.3088664 , 0.35220012, 0.33893344],\n",
       "       [0.29919443, 0.3357781 , 0.36502746],\n",
       "       [0.3026747 , 0.351265  , 0.3460603 ],\n",
       "       [0.31089628, 0.34500834, 0.34409535],\n",
       "       [0.29577732, 0.35579434, 0.3484283 ],\n",
       "       [0.3017813 , 0.33673662, 0.36148214],\n",
       "       [0.3109601 , 0.34887788, 0.340162  ],\n",
       "       [0.27835733, 0.38183147, 0.3398112 ],\n",
       "       [0.27419862, 0.38821793, 0.3375835 ],\n",
       "       [0.30189198, 0.3363766 , 0.3617314 ],\n",
       "       [0.29563695, 0.35831276, 0.34605032],\n",
       "       [0.2932189 , 0.34284768, 0.3639334 ],\n",
       "       [0.3070738 , 0.37816975, 0.31475648],\n",
       "       [0.30788833, 0.35525262, 0.33685902],\n",
       "       [0.3093826 , 0.3527084 , 0.337909  ],\n",
       "       [0.3011631 , 0.35272545, 0.34611154],\n",
       "       [0.27943173, 0.36884728, 0.351721  ],\n",
       "       [0.30653095, 0.3440866 , 0.34938243],\n",
       "       [0.26899365, 0.35191903, 0.37908736],\n",
       "       [0.3018047 , 0.34722936, 0.35096598],\n",
       "       [0.3030347 , 0.36308816, 0.3338772 ],\n",
       "       [0.25101924, 0.34749743, 0.40148336],\n",
       "       [0.31088978, 0.3424537 , 0.34665656],\n",
       "       [0.31380206, 0.35196668, 0.3342313 ],\n",
       "       [0.29343888, 0.3403568 , 0.3662043 ],\n",
       "       [0.29963166, 0.36302608, 0.33734223],\n",
       "       [0.26233602, 0.3769045 , 0.36075953],\n",
       "       [0.31817776, 0.33878553, 0.3430367 ],\n",
       "       [0.29848543, 0.3394149 , 0.36209968],\n",
       "       [0.30611485, 0.3413268 , 0.35255837],\n",
       "       [0.27918684, 0.33341345, 0.38739973],\n",
       "       [0.2940387 , 0.35916522, 0.34679604],\n",
       "       [0.30770263, 0.34781364, 0.34448376],\n",
       "       [0.3084032 , 0.33467427, 0.35692257],\n",
       "       [0.30759653, 0.354789  , 0.33761445],\n",
       "       [0.30676258, 0.35184988, 0.34138748],\n",
       "       [0.30314112, 0.35072428, 0.34613463],\n",
       "       [0.3184466 , 0.33959866, 0.34195474],\n",
       "       [0.29372555, 0.33061537, 0.37565908],\n",
       "       [0.2520653 , 0.40536174, 0.3425729 ],\n",
       "       [0.30734816, 0.35616684, 0.33648497],\n",
       "       [0.29358476, 0.34637722, 0.36003798],\n",
       "       [0.31429827, 0.35183093, 0.33387077],\n",
       "       [0.29173106, 0.36550453, 0.34276444],\n",
       "       [0.30077788, 0.35749394, 0.3417282 ],\n",
       "       [0.31190383, 0.34387252, 0.3442236 ],\n",
       "       [0.30851933, 0.3545395 , 0.33694115],\n",
       "       [0.30980644, 0.35516518, 0.3350284 ],\n",
       "       [0.2765398 , 0.35055363, 0.37290657],\n",
       "       [0.29433137, 0.34697133, 0.35869732],\n",
       "       [0.30132732, 0.36667562, 0.33199707],\n",
       "       [0.30958298, 0.3391948 , 0.35122228],\n",
       "       [0.3080488 , 0.3329559 , 0.35899526],\n",
       "       [0.3022883 , 0.3591756 , 0.33853605],\n",
       "       [0.3129    , 0.35221314, 0.33488688],\n",
       "       [0.24496463, 0.39537528, 0.35966   ],\n",
       "       [0.28434926, 0.35412598, 0.36152473],\n",
       "       [0.30980644, 0.35516518, 0.3350284 ],\n",
       "       [0.25008947, 0.35651976, 0.3933908 ],\n",
       "       [0.31336233, 0.35314843, 0.33348924],\n",
       "       [0.30851933, 0.3545395 , 0.33694115],\n",
       "       [0.28729644, 0.33837056, 0.374333  ],\n",
       "       [0.30730185, 0.3555825 , 0.33711568],\n",
       "       [0.2888587 , 0.36917913, 0.3419621 ],\n",
       "       [0.31569573, 0.3372841 , 0.3470202 ],\n",
       "       [0.29393956, 0.35223794, 0.35382244],\n",
       "       [0.3140278 , 0.348135  , 0.33783722],\n",
       "       [0.27841923, 0.35855055, 0.36303017],\n",
       "       [0.29265282, 0.34786817, 0.35947895],\n",
       "       [0.3026855 , 0.32614562, 0.3711689 ],\n",
       "       [0.31301805, 0.3461535 , 0.34082842],\n",
       "       [0.29657203, 0.3581997 , 0.34522828],\n",
       "       [0.3079531 , 0.35138947, 0.3406575 ],\n",
       "       [0.30728048, 0.3561307 , 0.33658883],\n",
       "       [0.29745537, 0.37365162, 0.32889304],\n",
       "       [0.3109601 , 0.34887788, 0.340162  ],\n",
       "       [0.30356392, 0.34767544, 0.3487606 ],\n",
       "       [0.30851933, 0.3545395 , 0.33694115],\n",
       "       [0.30179453, 0.36059275, 0.33761266],\n",
       "       [0.29903582, 0.3510767 , 0.3498875 ],\n",
       "       [0.32301283, 0.3357268 , 0.34126037],\n",
       "       [0.2595931 , 0.35755616, 0.3828507 ],\n",
       "       [0.29929855, 0.35927492, 0.3414266 ],\n",
       "       [0.29953906, 0.34339505, 0.3570659 ],\n",
       "       [0.30051878, 0.33936596, 0.3601152 ],\n",
       "       [0.3050315 , 0.35142908, 0.3435394 ],\n",
       "       [0.2823696 , 0.38345957, 0.33417085],\n",
       "       [0.27459148, 0.35346177, 0.37194672],\n",
       "       [0.3050449 , 0.35241792, 0.34253716],\n",
       "       [0.30425718, 0.35755405, 0.33818874],\n",
       "       [0.2960864 , 0.34531984, 0.3585938 ],\n",
       "       [0.27779904, 0.3818802 , 0.34032074],\n",
       "       [0.29388693, 0.34582666, 0.36028647],\n",
       "       [0.30766356, 0.35904542, 0.33329105],\n",
       "       [0.2730046 , 0.35097942, 0.37601596],\n",
       "       [0.30234542, 0.36301267, 0.33464187],\n",
       "       [0.2904313 , 0.34137797, 0.36819074],\n",
       "       [0.2743898 , 0.37699783, 0.34861234],\n",
       "       [0.27700415, 0.3515432 , 0.3714526 ],\n",
       "       [0.3054484 , 0.3444884 , 0.35006317],\n",
       "       [0.32287166, 0.34645075, 0.33067757],\n",
       "       [0.31325907, 0.33704147, 0.34969956],\n",
       "       [0.30092233, 0.3460309 , 0.35304677],\n",
       "       [0.29298648, 0.36548135, 0.34153217],\n",
       "       [0.29726586, 0.35361585, 0.34911835],\n",
       "       [0.30800438, 0.33102   , 0.36097556],\n",
       "       [0.2741468 , 0.3599364 , 0.36591682],\n",
       "       [0.30851328, 0.35189578, 0.3395909 ],\n",
       "       [0.26788747, 0.3540172 , 0.37809536],\n",
       "       [0.2642452 , 0.39089987, 0.34485495],\n",
       "       [0.30851933, 0.3545395 , 0.33694115],\n",
       "       [0.2772055 , 0.35063872, 0.3721558 ],\n",
       "       [0.28961086, 0.35714704, 0.35324216],\n",
       "       [0.2727564 , 0.39831114, 0.3289325 ],\n",
       "       [0.28198865, 0.3474897 , 0.37052158],\n",
       "       [0.3008934 , 0.36507997, 0.33402666],\n",
       "       [0.2692594 , 0.37423718, 0.35650346],\n",
       "       [0.31218925, 0.35477692, 0.33303383],\n",
       "       [0.29777637, 0.35287425, 0.34934935],\n",
       "       [0.30320802, 0.35394958, 0.3428424 ],\n",
       "       [0.28704518, 0.3490864 , 0.36386842],\n",
       "       [0.30419254, 0.35581908, 0.33998832],\n",
       "       [0.28103128, 0.35073838, 0.36823034],\n",
       "       [0.30390784, 0.34071252, 0.35537964],\n",
       "       [0.30946454, 0.3537882 , 0.3367473 ],\n",
       "       [0.31149378, 0.32903087, 0.35947537],\n",
       "       [0.29089835, 0.37532115, 0.33378044],\n",
       "       [0.31416938, 0.3482587 , 0.33757195],\n",
       "       [0.30329645, 0.35768744, 0.33901614],\n",
       "       [0.31111154, 0.34985277, 0.3390357 ],\n",
       "       [0.3109601 , 0.34887788, 0.340162  ],\n",
       "       [0.29540592, 0.36093786, 0.34365624],\n",
       "       [0.28968892, 0.3398084 , 0.37050265],\n",
       "       [0.2726037 , 0.309104  , 0.41829225],\n",
       "       [0.29012844, 0.35362884, 0.35624278],\n",
       "       [0.26916882, 0.35612208, 0.37470916],\n",
       "       [0.30759653, 0.354789  , 0.33761445],\n",
       "       [0.30568486, 0.35045624, 0.34385893],\n",
       "       [0.26147848, 0.3726394 , 0.3658822 ],\n",
       "       [0.29610902, 0.3697386 , 0.3341524 ],\n",
       "       [0.30045158, 0.35083193, 0.34871656],\n",
       "       [0.31083864, 0.3489721 , 0.3401892 ],\n",
       "       [0.313688  , 0.3527965 , 0.33351552],\n",
       "       [0.31306794, 0.35071215, 0.33621997],\n",
       "       [0.31208888, 0.35610172, 0.3318094 ],\n",
       "       [0.2901919 , 0.3572205 , 0.35258767],\n",
       "       [0.3040694 , 0.33893815, 0.35699242],\n",
       "       [0.3021472 , 0.33859852, 0.3592543 ],\n",
       "       [0.31051075, 0.3528781 , 0.33661124],\n",
       "       [0.27753198, 0.36039767, 0.36207038],\n",
       "       [0.31540626, 0.33683825, 0.3477555 ],\n",
       "       [0.28767848, 0.36736017, 0.34496135],\n",
       "       [0.3094544 , 0.35286185, 0.33768377],\n",
       "       [0.30979106, 0.35532853, 0.3348804 ],\n",
       "       [0.30833665, 0.3337542 , 0.3579091 ],\n",
       "       [0.2958089 , 0.3528367 , 0.35135436],\n",
       "       [0.26178178, 0.3770716 , 0.36114663],\n",
       "       [0.30759653, 0.354789  , 0.33761445],\n",
       "       [0.29712275, 0.33948797, 0.36338922],\n",
       "       [0.31839877, 0.33280125, 0.34879994],\n",
       "       [0.29433566, 0.35608903, 0.3495753 ],\n",
       "       [0.30415657, 0.36377355, 0.33206984],\n",
       "       [0.30595732, 0.3635643 , 0.33047837],\n",
       "       [0.30766356, 0.35904542, 0.33329105],\n",
       "       [0.31236064, 0.3680087 , 0.31963068],\n",
       "       [0.30187196, 0.36144003, 0.336688  ],\n",
       "       [0.30453995, 0.3596489 , 0.33581114],\n",
       "       [0.29380447, 0.3518403 , 0.35435525],\n",
       "       [0.29427722, 0.34889945, 0.35682333],\n",
       "       [0.30862227, 0.3492019 , 0.34217584],\n",
       "       [0.2929445 , 0.36446095, 0.34259453],\n",
       "       [0.29494506, 0.36376944, 0.34128544],\n",
       "       [0.30394486, 0.35050306, 0.34555212],\n",
       "       [0.31430802, 0.3500794 , 0.33561257],\n",
       "       [0.3128814 , 0.34966597, 0.33745265],\n",
       "       [0.30157465, 0.36115384, 0.33727145],\n",
       "       [0.2768497 , 0.38918176, 0.33396858],\n",
       "       [0.30569565, 0.3524626 , 0.34184182],\n",
       "       [0.2770649 , 0.360205  , 0.3627301 ],\n",
       "       [0.28462586, 0.3655476 , 0.3498266 ],\n",
       "       [0.30614176, 0.3540369 , 0.33982134],\n",
       "       [0.2969673 , 0.36242637, 0.34060633],\n",
       "       [0.3090177 , 0.35564396, 0.3353384 ],\n",
       "       [0.3112715 , 0.3542951 , 0.33443347],\n",
       "       [0.29232985, 0.3469125 , 0.36075768],\n",
       "       [0.28262508, 0.36893237, 0.34844252],\n",
       "       [0.29692447, 0.36715305, 0.33592242],\n",
       "       [0.2788475 , 0.33047104, 0.39068156],\n",
       "       [0.30851933, 0.3545395 , 0.33694115],\n",
       "       [0.28697863, 0.3534703 , 0.35955104],\n",
       "       [0.30229795, 0.33681598, 0.36088613],\n",
       "       [0.29689628, 0.37013695, 0.3329668 ],\n",
       "       [0.3094544 , 0.35286185, 0.33768377],\n",
       "       [0.29949266, 0.34845746, 0.35204995],\n",
       "       [0.31759283, 0.34919572, 0.33321145],\n",
       "       [0.31111154, 0.34985277, 0.3390357 ],\n",
       "       [0.3039549 , 0.3340322 , 0.36201283],\n",
       "       [0.2577771 , 0.43699557, 0.3052273 ],\n",
       "       [0.31358278, 0.34432265, 0.34209457],\n",
       "       [0.3209774 , 0.34357634, 0.33544627],\n",
       "       [0.28200382, 0.3655539 , 0.3524423 ],\n",
       "       [0.29550263, 0.35763067, 0.34686664],\n",
       "       [0.29790565, 0.34492922, 0.35716513],\n",
       "       [0.3124686 , 0.34814587, 0.33938563],\n",
       "       [0.28645235, 0.3613604 , 0.35218728],\n",
       "       [0.3014063 , 0.36119568, 0.33739802],\n",
       "       [0.26781145, 0.36341622, 0.36877236],\n",
       "       [0.28545892, 0.34110358, 0.37343746],\n",
       "       [0.29021055, 0.34144026, 0.36834928],\n",
       "       [0.28621897, 0.36371565, 0.35006547],\n",
       "       [0.30980644, 0.35516518, 0.3350284 ],\n",
       "       [0.30980644, 0.35516518, 0.3350284 ],\n",
       "       [0.2854261 , 0.35565758, 0.35891625],\n",
       "       [0.25968882, 0.37460294, 0.36570823],\n",
       "       [0.3098469 , 0.3533209 , 0.33683226],\n",
       "       [0.30997384, 0.34674236, 0.3432839 ],\n",
       "       [0.30772886, 0.35404843, 0.33822274],\n",
       "       [0.29480994, 0.35729116, 0.34789887],\n",
       "       [0.31161368, 0.34565052, 0.34273577],\n",
       "       [0.30997384, 0.34674236, 0.3432839 ],\n",
       "       [0.30680257, 0.35457525, 0.33862212],\n",
       "       [0.29217085, 0.33910036, 0.3687288 ],\n",
       "       [0.29095456, 0.3375983 , 0.37144715],\n",
       "       [0.28270975, 0.34884837, 0.36844188],\n",
       "       [0.30157465, 0.36115384, 0.33727145],\n",
       "       [0.26528168, 0.35500312, 0.3797152 ],\n",
       "       [0.31429827, 0.35183093, 0.33387077],\n",
       "       [0.30186754, 0.35853726, 0.33959523],\n",
       "       [0.3113722 , 0.33745658, 0.35117126],\n",
       "       [0.30980644, 0.35516518, 0.3350284 ],\n",
       "       [0.290545  , 0.33527958, 0.37417543],\n",
       "       [0.30570745, 0.33333313, 0.36095938],\n",
       "       [0.29375765, 0.32905635, 0.37718594],\n",
       "       [0.28584662, 0.3702553 , 0.34389812],\n",
       "       [0.30001745, 0.3690581 , 0.33092445],\n",
       "       [0.28702807, 0.3549778 , 0.35799417],\n",
       "       [0.3048962 , 0.35247123, 0.34263262],\n",
       "       [0.28926   , 0.32997704, 0.38076293],\n",
       "       [0.30494663, 0.34411627, 0.3509371 ],\n",
       "       [0.30808172, 0.35329342, 0.3386249 ],\n",
       "       [0.27899417, 0.37322518, 0.3477806 ],\n",
       "       [0.30325237, 0.32014695, 0.37660074],\n",
       "       [0.28520674, 0.3748015 , 0.3399918 ],\n",
       "       [0.2941039 , 0.34161896, 0.3642771 ],\n",
       "       [0.27400997, 0.3840329 , 0.34195715],\n",
       "       [0.27624127, 0.38104305, 0.34271565],\n",
       "       [0.30997384, 0.34674236, 0.3432839 ],\n",
       "       [0.2909304 , 0.34862304, 0.3604466 ],\n",
       "       [0.30996725, 0.33984113, 0.35019162],\n",
       "       [0.28692418, 0.37133527, 0.34174052],\n",
       "       [0.29041922, 0.36489534, 0.3446855 ],\n",
       "       [0.25934455, 0.36656526, 0.37409022],\n",
       "       [0.29956147, 0.3153462 , 0.38509238],\n",
       "       [0.28616115, 0.35788485, 0.355954  ],\n",
       "       [0.30555308, 0.3539411 , 0.34050587],\n",
       "       [0.27925396, 0.34831536, 0.37243068],\n",
       "       [0.2657379 , 0.3701239 , 0.36413822],\n",
       "       [0.304931  , 0.34658125, 0.34848773],\n",
       "       [0.26011476, 0.35557878, 0.38430643],\n",
       "       [0.2920088 , 0.36489192, 0.34309933],\n",
       "       [0.2529773 , 0.36377394, 0.3832488 ],\n",
       "       [0.29102635, 0.34898272, 0.35999086],\n",
       "       [0.2947664 , 0.3699124 , 0.33532125],\n",
       "       [0.30980644, 0.35516518, 0.3350284 ],\n",
       "       [0.28707615, 0.3333846 , 0.37953928],\n",
       "       [0.30458152, 0.31581047, 0.37960804],\n",
       "       [0.2951483 , 0.33485106, 0.3700007 ],\n",
       "       [0.3001285 , 0.34445834, 0.35541314],\n",
       "       [0.3057922 , 0.35887244, 0.3353354 ],\n",
       "       [0.28579593, 0.34729382, 0.36691028],\n",
       "       [0.2851019 , 0.39667544, 0.31822276],\n",
       "       [0.30783376, 0.34026894, 0.35189736],\n",
       "       [0.30467027, 0.35788924, 0.3374405 ],\n",
       "       [0.30997384, 0.34674236, 0.3432839 ],\n",
       "       [0.30980644, 0.35516518, 0.3350284 ],\n",
       "       [0.29006782, 0.34098852, 0.36894363],\n",
       "       [0.2870395 , 0.36151034, 0.35145012],\n",
       "       [0.31236526, 0.35345683, 0.33417794],\n",
       "       [0.3131085 , 0.3512216 , 0.3356699 ],\n",
       "       [0.3078522 , 0.3548253 , 0.33732244],\n",
       "       [0.2972339 , 0.3425633 , 0.3602028 ],\n",
       "       [0.31360465, 0.3432164 , 0.343179  ],\n",
       "       [0.29984504, 0.3466061 , 0.3535488 ],\n",
       "       [0.30641663, 0.352171  , 0.34141234],\n",
       "       [0.3093683 , 0.34874126, 0.34189042],\n",
       "       [0.27671558, 0.35186893, 0.37141547],\n",
       "       [0.24962811, 0.39975274, 0.3506192 ],\n",
       "       [0.3015018 , 0.35433233, 0.34416592],\n",
       "       [0.30981585, 0.35446426, 0.3357199 ],\n",
       "       [0.31410804, 0.36095   , 0.324942  ]], dtype=float32)"
      ]
     },
     "execution_count": 126,
     "metadata": {},
     "output_type": "execute_result"
    }
   ],
   "source": [
    "y_pred = model.predict(x_test)\n",
    "y_pred"
   ]
  },
  {
   "cell_type": "code",
   "execution_count": 127,
   "metadata": {},
   "outputs": [
    {
     "data": {
      "text/plain": [
       "array([2, 1, 1, 1, 1, 2, 2, 2, 1, 1, 2, 2, 2, 1, 1, 2, 1, 1, 2, 1, 1, 1,\n",
       "       1, 1, 1, 1, 1, 2, 1, 2, 2, 2, 2, 2, 2, 1, 1, 2, 2, 1, 2, 1, 1, 1,\n",
       "       2, 1, 1, 1, 2, 1, 2, 1, 1, 1, 1, 1, 2, 2, 2, 1, 2, 2, 1, 2, 1, 1,\n",
       "       2, 2, 2, 2, 1, 1, 2, 1, 1, 1, 2, 2, 1, 1, 2, 1, 1, 1, 2, 1, 1, 2,\n",
       "       2, 1, 2, 2, 1, 1, 1, 2, 1, 2, 1, 1, 2, 1, 1, 2, 2, 1, 2, 2, 2, 1,\n",
       "       1, 1, 1, 1, 1, 2, 1, 1, 1, 2, 2, 1, 2, 2, 1, 1, 2, 1, 1, 2, 1, 2,\n",
       "       1, 2, 1, 2, 1, 2, 2, 1, 2, 2, 1, 1, 2, 2, 1, 2, 1, 1, 2, 1, 1, 2,\n",
       "       1, 1, 1, 1, 1, 2, 1, 2, 2, 1, 2, 1, 1, 1, 1, 1, 1, 2, 2, 2, 2, 1,\n",
       "       1, 1, 1, 1, 1, 1, 1, 1, 1, 2, 2, 1, 2, 2, 1, 1, 1, 2, 1, 1, 1, 2,\n",
       "       2, 1, 1, 1, 1, 1, 1, 1, 2, 2, 1, 1, 1, 1, 1, 1, 1, 1, 1, 2, 1, 1,\n",
       "       1, 1, 1, 2, 1, 1, 2, 1, 2, 2, 1, 1, 2, 1, 1, 2, 1, 1, 1, 1, 1, 2,\n",
       "       1, 1, 1, 2, 2, 2, 1, 1, 1, 2, 1, 1, 1, 1, 1, 1, 1, 1, 2, 2, 2, 1,\n",
       "       2, 1, 1, 2, 1, 2, 2, 2, 1, 1, 2, 1, 2, 2, 1, 1, 2, 1, 2, 1, 1, 1,\n",
       "       2, 2, 1, 1, 2, 2, 1, 1, 2, 1, 2, 2, 1, 2, 2, 1, 1, 2, 2, 2, 2, 1,\n",
       "       2, 1, 2, 1, 1, 1, 2, 1, 1, 1, 1, 2, 1, 2, 1, 1, 2, 1, 1, 1, 1],\n",
       "      dtype=int64)"
      ]
     },
     "execution_count": 127,
     "metadata": {},
     "output_type": "execute_result"
    }
   ],
   "source": [
    "y_pred = model.predict_classes(x_test)\n",
    "y_pred"
   ]
  },
  {
   "cell_type": "code",
   "execution_count": 129,
   "metadata": {},
   "outputs": [
    {
     "name": "stdout",
     "output_type": "stream",
     "text": [
      "             precision    recall  f1-score   support\n",
      "\n",
      "          0       0.00      0.00      0.00        30\n",
      "          1       0.64      0.74      0.69       172\n",
      "          2       0.52      0.53      0.52       127\n",
      "\n",
      "avg / total       0.54      0.59      0.56       329\n",
      "\n"
     ]
    },
    {
     "name": "stderr",
     "output_type": "stream",
     "text": [
      "C:\\Users\\nikhi\\Anaconda3\\lib\\site-packages\\sklearn\\metrics\\classification.py:1135: UndefinedMetricWarning: Precision and F-score are ill-defined and being set to 0.0 in labels with no predicted samples.\n",
      "  'precision', 'predicted', average, warn_for)\n"
     ]
    }
   ],
   "source": [
    "print(classification_report(y_test.argmax(axis=1), y_pred))"
   ]
  },
  {
   "cell_type": "code",
   "execution_count": 131,
   "metadata": {},
   "outputs": [
    {
     "data": {
      "text/plain": [
       "[]"
      ]
     },
     "execution_count": 131,
     "metadata": {},
     "output_type": "execute_result"
    },
    {
     "data": {
      "image/png": "[encoded data removed]",
      "text/plain": [
       "<Figure size 432x288 with 2 Axes>"
      ]
     },
     "metadata": {},
     "output_type": "display_data"
    }
   ],
   "source": [
    "import matplotlib.pyplot as plt     \n",
    "import seaborn as sns\n",
    "\n",
    "\n",
    "import seaborn as sns\n",
    "labels = ['Negative','Neutral', 'Positive']\n",
    "ax = sns.heatmap(confusion_matrix(y_test.argmax(axis=1), y_pred), annot=True, xticklabels=labels, yticklabels=labels, fmt='g')\n",
    "ax.set(xlabel='Predicted labels', ylabel='True labels')\n",
    "ax.plot()\n"
   ]
  },
  {
   "cell_type": "markdown",
   "metadata": {},
   "source": [
    "**Out of these, XGBoost gave the best Accuracy of 68.3% ** \n",
    "\n",
    "Lets try now different Feature Extraction techniques like Tf-Idf , Word Embedding, pre trained Word embeddings "
   ]
  }
 ],
 "metadata": {
  "kernelspec": {
   "display_name": "Python 3",
   "language": "python",
   "name": "python3"
  },
  "language_info": {
   "codemirror_mode": {
    "name": "ipython",
    "version": 3
   },
   "file_extension": ".py",
   "mimetype": "text/x-python",
   "name": "python",
   "nbconvert_exporter": "python",
   "pygments_lexer": "ipython3",
   "version": "3.6.5"
  }
 },
 "nbformat": 4,
 "nbformat_minor": 2
}
