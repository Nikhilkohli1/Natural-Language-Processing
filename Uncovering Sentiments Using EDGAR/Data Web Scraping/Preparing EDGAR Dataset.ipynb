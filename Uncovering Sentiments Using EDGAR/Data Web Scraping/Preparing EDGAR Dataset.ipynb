{
 "cells": [
  {
   "cell_type": "code",
   "execution_count": 1,
   "metadata": {},
   "outputs": [],
   "source": [
    "import json\n",
    "import pandas as pd\n",
    "import os \n",
    "import time"
   ]
  },
  {
   "cell_type": "code",
   "execution_count": 69,
   "metadata": {},
   "outputs": [
    {
     "data": {
      "text/plain": [
       "['Team10_NVIDIA.json',\n",
       " 'Team11_Boeing.json',\n",
       " 'Team12_Chevron.json',\n",
       " 'Team1_Google.json',\n",
       " 'Team2_Amazon.json',\n",
       " 'Team3_Facebook.json',\n",
       " 'Team4_Netflix.json',\n",
       " 'Team5_Microsoft.json',\n",
       " 'Team6_Tesla.json',\n",
       " 'Team7_Walmart.json',\n",
       " 'Team8_Kroger.json',\n",
       " 'Team9_GoldmanSachs.json']"
      ]
     },
     "execution_count": 69,
     "metadata": {},
     "output_type": "execute_result"
    }
   ],
   "source": [
    "lis = os.listdir('./json_data/')\n",
    "lis"
   ]
  },
  {
   "cell_type": "code",
   "execution_count": 99,
   "metadata": {},
   "outputs": [],
   "source": [
    "df = pd.DataFrame()\n",
    "df_temp = pd.DataFrame()"
   ]
  },
  {
   "cell_type": "code",
   "execution_count": 100,
   "metadata": {},
   "outputs": [
    {
     "name": "stdout",
     "output_type": "stream",
     "text": [
      "Opening file : Team10_NVIDIA.json\n",
      "encoding with utf8\n",
      "Opening file : Team11_Boeing.json\n",
      "encoding with utf8\n",
      "Opening file : Team12_Chevron.json\n",
      "encoding with default\n",
      "Opening file : Team1_Google.json\n",
      "encoding with utf8\n",
      "Opening file : Team2_Amazon.json\n",
      "encoding with default\n",
      "Opening file : Team3_Facebook.json\n",
      "encoding with utf8\n",
      "Opening file : Team4_Netflix.json\n",
      "encoding with utf8\n",
      "Opening file : Team5_Microsoft.json\n",
      "encoding with utf8\n",
      "Opening file : Team6_Tesla.json\n",
      "encoding with default\n",
      "Opening file : Team7_Walmart.json\n",
      "encoding with utf8\n",
      "Opening file : Team8_Kroger.json\n",
      "encoding with utf8\n",
      "Opening file : Team9_GoldmanSachs.json\n",
      "encoding with utf8\n"
     ]
    }
   ],
   "source": [
    "for f in lis:\n",
    "    path = \"./json_data/\"+f\n",
    "    print(\"Opening file :\",f)\n",
    "    try:\n",
    "        with open(path,encoding=\"utf8\") as file:\n",
    "            df_temp = pd.DataFrame(json.load(file))\n",
    "            print(\"encoding with utf8\")\n",
    "    except:\n",
    "        try:\n",
    "            print(\"encoding with default\")\n",
    "            with open(path) as file:\n",
    "                df_temp = pd.DataFrame(json.load(file))\n",
    "        except Exception as e:\n",
    "            print(\"something Happened\",e)\n",
    "    df = df.reset_index().drop(\"index\",axis = 1)\n",
    "    df = df.append(df_temp,ignore_index=False)"
   ]
  },
  {
   "cell_type": "code",
   "execution_count": 102,
   "metadata": {},
   "outputs": [
    {
     "data": {
      "text/plain": [
       "sentiment    1643\n",
       "text         1644\n",
       "dtype: int64"
      ]
     },
     "execution_count": 102,
     "metadata": {},
     "output_type": "execute_result"
    }
   ],
   "source": [
    "df.count()"
   ]
  },
  {
   "cell_type": "code",
   "execution_count": 107,
   "metadata": {},
   "outputs": [
    {
     "data": {
      "text/html": [
       "<div>\n",
       "<style scoped>\n",
       "    .dataframe tbody tr th:only-of-type {\n",
       "        vertical-align: middle;\n",
       "    }\n",
       "\n",
       "    .dataframe tbody tr th {\n",
       "        vertical-align: top;\n",
       "    }\n",
       "\n",
       "    .dataframe thead th {\n",
       "        text-align: right;\n",
       "    }\n",
       "</style>\n",
       "<table border=\"1\" class=\"dataframe\">\n",
       "  <thead>\n",
       "    <tr style=\"text-align: right;\">\n",
       "      <th></th>\n",
       "      <th>sentiment</th>\n",
       "      <th>text</th>\n",
       "    </tr>\n",
       "  </thead>\n",
       "  <tbody>\n",
       "    <tr>\n",
       "      <th>658</th>\n",
       "      <td>NaN</td>\n",
       "      <td>Eric, I also think it’s a good data point aro...</td>\n",
       "    </tr>\n",
       "    <tr>\n",
       "      <th>1426</th>\n",
       "      <td>None</td>\n",
       "      <td>And when you're talking tonnage when we look a...</td>\n",
       "    </tr>\n",
       "  </tbody>\n",
       "</table>\n",
       "</div>"
      ],
      "text/plain": [
       "     sentiment                                               text\n",
       "658        NaN   Eric, I also think it’s a good data point aro...\n",
       "1426      None  And when you're talking tonnage when we look a..."
      ]
     },
     "execution_count": 107,
     "metadata": {},
     "output_type": "execute_result"
    }
   ],
   "source": [
    "df[df['sentiment'].isnull()]"
   ]
  },
  {
   "cell_type": "code",
   "execution_count": 109,
   "metadata": {},
   "outputs": [
    {
     "data": {
      "text/plain": [
       "' Eric, I also think it’s a good data point around the fact that we are growing the entertainment business. So, the idea that it’s good for the industry to know, it’s good for the creative community to know, it’s good for fans to know that we’re – at a time when we’re growing big audience films like that, the box office by way of example, the North American box office has grown in the fourth quarter. So – and in fact had some records. So I think it’s a very exciting time. And we thought it’d be a good idea to give you some idea of the scale of that and how to put it in context. '"
      ]
     },
     "execution_count": 109,
     "metadata": {},
     "output_type": "execute_result"
    }
   ],
   "source": [
    "df['text'][658]\n"
   ]
  },
  {
   "cell_type": "code",
   "execution_count": 112,
   "metadata": {},
   "outputs": [],
   "source": [
    "df['sentiment'][658] = 'positive'"
   ]
  },
  {
   "cell_type": "code",
   "execution_count": 110,
   "metadata": {},
   "outputs": [
    {
     "data": {
      "text/plain": [
       "\"And when you're talking tonnage when we look at the ID's you're excluding about 50 basis points from specialty pharma contribution, is that correct or no?\""
      ]
     },
     "execution_count": 110,
     "metadata": {},
     "output_type": "execute_result"
    }
   ],
   "source": [
    "df['text'][1426]"
   ]
  },
  {
   "cell_type": "code",
   "execution_count": 113,
   "metadata": {},
   "outputs": [],
   "source": [
    "df['sentiment'][1426] = 'neutral'"
   ]
  },
  {
   "cell_type": "code",
   "execution_count": 114,
   "metadata": {},
   "outputs": [
    {
     "data": {
      "text/html": [
       "<div>\n",
       "<style scoped>\n",
       "    .dataframe tbody tr th:only-of-type {\n",
       "        vertical-align: middle;\n",
       "    }\n",
       "\n",
       "    .dataframe tbody tr th {\n",
       "        vertical-align: top;\n",
       "    }\n",
       "\n",
       "    .dataframe thead th {\n",
       "        text-align: right;\n",
       "    }\n",
       "</style>\n",
       "<table border=\"1\" class=\"dataframe\">\n",
       "  <thead>\n",
       "    <tr style=\"text-align: right;\">\n",
       "      <th></th>\n",
       "      <th>sentiment</th>\n",
       "      <th>text</th>\n",
       "    </tr>\n",
       "  </thead>\n",
       "  <tbody>\n",
       "  </tbody>\n",
       "</table>\n",
       "</div>"
      ],
      "text/plain": [
       "Empty DataFrame\n",
       "Columns: [sentiment, text]\n",
       "Index: []"
      ]
     },
     "execution_count": 114,
     "metadata": {},
     "output_type": "execute_result"
    }
   ],
   "source": [
    "df[df['sentiment'].isnull()]"
   ]
  },
  {
   "cell_type": "code",
   "execution_count": 115,
   "metadata": {},
   "outputs": [
    {
     "data": {
      "text/plain": [
       "array(['positive', 'neutral', 'negative', 'Neutral', 'Negative',\n",
       "       'Positive', 'neutra;', 'neutral ', 'positive ', 'postive',\n",
       "       'Negetive', 'Neural'], dtype=object)"
      ]
     },
     "execution_count": 115,
     "metadata": {},
     "output_type": "execute_result"
    }
   ],
   "source": [
    "df.sentiment.unique()"
   ]
  },
  {
   "cell_type": "code",
   "execution_count": 118,
   "metadata": {},
   "outputs": [],
   "source": [
    "df['sentiment'] = df['sentiment'].apply(lambda x : x.lower())\n",
    "df['sentiment'] = df['sentiment'].replace(['neutra;', 'neural','neutral '], 'neutral')\n",
    "df['sentiment'] = df['sentiment'].replace(['postive','positive '], 'positive')\n",
    "df['sentiment'] = df['sentiment'].replace(['negetive'], 'negative')"
   ]
  },
  {
   "cell_type": "code",
   "execution_count": 119,
   "metadata": {},
   "outputs": [
    {
     "data": {
      "text/plain": [
       "array(['positive', 'neutral', 'negative'], dtype=object)"
      ]
     },
     "execution_count": 119,
     "metadata": {},
     "output_type": "execute_result"
    }
   ],
   "source": [
    "df.sentiment.unique()"
   ]
  },
  {
   "cell_type": "code",
   "execution_count": 120,
   "metadata": {},
   "outputs": [
    {
     "name": "stdout",
     "output_type": "stream",
     "text": [
      "<class 'pandas.core.frame.DataFrame'>\n",
      "Index: 1645 entries, 0 to 99\n",
      "Data columns (total 2 columns):\n",
      "sentiment    1645 non-null object\n",
      "text         1644 non-null object\n",
      "dtypes: object(2)\n",
      "memory usage: 118.6+ KB\n"
     ]
    }
   ],
   "source": [
    "df.info()"
   ]
  },
  {
   "cell_type": "code",
   "execution_count": 121,
   "metadata": {},
   "outputs": [
    {
     "data": {
      "text/html": [
       "<div>\n",
       "<style scoped>\n",
       "    .dataframe tbody tr th:only-of-type {\n",
       "        vertical-align: middle;\n",
       "    }\n",
       "\n",
       "    .dataframe tbody tr th {\n",
       "        vertical-align: top;\n",
       "    }\n",
       "\n",
       "    .dataframe thead th {\n",
       "        text-align: right;\n",
       "    }\n",
       "</style>\n",
       "<table border=\"1\" class=\"dataframe\">\n",
       "  <thead>\n",
       "    <tr style=\"text-align: right;\">\n",
       "      <th></th>\n",
       "      <th>sentiment</th>\n",
       "      <th>text</th>\n",
       "    </tr>\n",
       "  </thead>\n",
       "  <tbody>\n",
       "    <tr>\n",
       "      <th>684</th>\n",
       "      <td>positive</td>\n",
       "      <td>NaN</td>\n",
       "    </tr>\n",
       "  </tbody>\n",
       "</table>\n",
       "</div>"
      ],
      "text/plain": [
       "    sentiment text\n",
       "684  positive  NaN"
      ]
     },
     "execution_count": 121,
     "metadata": {},
     "output_type": "execute_result"
    }
   ],
   "source": [
    "df[df['text'].isnull()]"
   ]
  },
  {
   "cell_type": "code",
   "execution_count": 122,
   "metadata": {},
   "outputs": [],
   "source": [
    "df.dropna(inplace=True)"
   ]
  },
  {
   "cell_type": "code",
   "execution_count": 123,
   "metadata": {},
   "outputs": [
    {
     "name": "stdout",
     "output_type": "stream",
     "text": [
      "<class 'pandas.core.frame.DataFrame'>\n",
      "Index: 1644 entries, 0 to 99\n",
      "Data columns (total 2 columns):\n",
      "sentiment    1644 non-null object\n",
      "text         1644 non-null object\n",
      "dtypes: object(2)\n",
      "memory usage: 38.5+ KB\n"
     ]
    }
   ],
   "source": [
    "df.info()"
   ]
  },
  {
   "cell_type": "code",
   "execution_count": 125,
   "metadata": {},
   "outputs": [],
   "source": [
    "df.to_json(path_or_buf =\"final_json_data.json\",orient='records')"
   ]
  },
  {
   "cell_type": "code",
   "execution_count": null,
   "metadata": {},
   "outputs": [],
   "source": []
  }
 ],
 "metadata": {
  "kernelspec": {
   "display_name": "Python 3",
   "language": "python",
   "name": "python3"
  },
  "language_info": {
   "codemirror_mode": {
    "name": "ipython",
    "version": 3
   },
   "file_extension": ".py",
   "mimetype": "text/x-python",
   "name": "python",
   "nbconvert_exporter": "python",
   "pygments_lexer": "ipython3",
   "version": "3.6.5"
  }
 },
 "nbformat": 4,
 "nbformat_minor": 2
}
