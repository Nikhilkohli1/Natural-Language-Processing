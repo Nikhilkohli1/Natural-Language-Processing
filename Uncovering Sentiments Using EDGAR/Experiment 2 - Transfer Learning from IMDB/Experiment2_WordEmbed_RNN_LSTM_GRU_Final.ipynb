{
  "nbformat": 4,
  "nbformat_minor": 0,
  "metadata": {
    "colab": {
      "name": "Assign3_Experiment2_WordEmbed_RNN_LSTM_GRU_Final.ipynb",
      "version": "0.3.2",
      "provenance": [],
      "collapsed_sections": []
    },
    "kernelspec": {
      "name": "python3",
      "display_name": "Python 3"
    },
    "accelerator": "GPU"
  },
  "cells": [
    {
      "metadata": {
        "id": "CA3knPyCNA6F",
        "colab_type": "text"
      },
      "cell_type": "markdown",
      "source": [
        "Training using Word Embedding and Using LSTM Layers "
      ]
    },
    {
      "metadata": {
        "id": "h9u5jynaM4W7",
        "colab_type": "code",
        "colab": {}
      },
      "cell_type": "code",
      "source": [
        "from keras.layers import Embedding\n",
        "from keras.datasets import imdb\n",
        "from keras import preprocessing\n"
      ],
      "execution_count": 0,
      "outputs": []
    },
    {
      "metadata": {
        "id": "y22ToEPxOBRw",
        "colab_type": "code",
        "outputId": "97d885cf-d9c8-4a2e-c88b-4c4abb4c0de0",
        "colab": {
          "base_uri": "https://localhost:8080/",
          "height": 86
        }
      },
      "cell_type": "code",
      "source": [
        "max_features = 10000\n",
        "maxlen = 200\n",
        "batch_size = 64\n",
        "\n",
        "(x_train, y_train), (x_test, y_test) = imdb.load_data(num_words=max_features)\n",
        "\n",
        "x_train = preprocessing.sequence.pad_sequences(x_train, maxlen=maxlen)\n",
        "x_test = preprocessing.sequence.pad_sequences(x_test, maxlen=maxlen)\n",
        "\n",
        "print(len(x_train), 'train sequences')\n",
        "print(len(x_test), 'test sequences')\n",
        "\n",
        "print('input_train shape:', x_train.shape)\n",
        "print('input_test shape:', x_test.shape)"
      ],
      "execution_count": 20,
      "outputs": [
        {
          "output_type": "stream",
          "text": [
            "25000 train sequences\n",
            "25000 test sequences\n",
            "input_train shape: (25000, 200)\n",
            "input_test shape: (25000, 200)\n"
          ],
          "name": "stdout"
        }
      ]
    },
    {
      "metadata": {
        "id": "RGx6Xwx_QbxP",
        "colab_type": "code",
        "outputId": "eb12f40a-6cbc-431d-818b-928598fa6e1a",
        "colab": {
          "base_uri": "https://localhost:8080/",
          "height": 138
        }
      },
      "cell_type": "code",
      "source": [
        "x_train\n"
      ],
      "execution_count": 21,
      "outputs": [
        {
          "output_type": "execute_result",
          "data": {
            "text/plain": [
              "array([[   5,   25,  100, ...,   19,  178,   32],\n",
              "       [   0,    0,    0, ...,   16,  145,   95],\n",
              "       [   0,    0,    0, ...,    7,  129,  113],\n",
              "       ...,\n",
              "       [   0,    0,    0, ...,    4, 3586,    2],\n",
              "       [   0,    0,    0, ...,   12,    9,   23],\n",
              "       [   0,    0,    0, ...,  204,  131,    9]], dtype=int32)"
            ]
          },
          "metadata": {
            "tags": []
          },
          "execution_count": 21
        }
      ]
    },
    {
      "metadata": {
        "id": "WhupH9QmOqzq",
        "colab_type": "code",
        "outputId": "342f68ff-6f61-40f5-9e10-39f386408a33",
        "colab": {
          "base_uri": "https://localhost:8080/",
          "height": 675
        }
      },
      "cell_type": "code",
      "source": [
        "from keras.models import Sequential\n",
        "from keras.layers import Flatten, Dense, Dropout\n",
        "\n",
        "model = Sequential()\n",
        "model.add(Embedding(10000, 64, input_length=maxlen))\n",
        "\n",
        "model.add(Flatten())\n",
        "model.add(Dense(32, activation='relu'))\n",
        "model.add(Dropout(0.25))\n",
        "model.add(Dense(1, activation='sigmoid'))\n",
        "model.compile(optimizer='adam', loss='binary_crossentropy', metrics=['accuracy'])\n",
        "model.summary()\n",
        "\n",
        "history = model.fit(x_train, y_train,\n",
        "                    epochs=10,\n",
        "                    batch_size=64,\n",
        "                    validation_split=0.2)"
      ],
      "execution_count": 22,
      "outputs": [
        {
          "output_type": "stream",
          "text": [
            "_________________________________________________________________\n",
            "Layer (type)                 Output Shape              Param #   \n",
            "=================================================================\n",
            "embedding_5 (Embedding)      (None, 200, 64)           640000    \n",
            "_________________________________________________________________\n",
            "flatten_3 (Flatten)          (None, 12800)             0         \n",
            "_________________________________________________________________\n",
            "dense_7 (Dense)              (None, 32)                409632    \n",
            "_________________________________________________________________\n",
            "dropout_3 (Dropout)          (None, 32)                0         \n",
            "_________________________________________________________________\n",
            "dense_8 (Dense)              (None, 1)                 33        \n",
            "=================================================================\n",
            "Total params: 1,049,665\n",
            "Trainable params: 1,049,665\n",
            "Non-trainable params: 0\n",
            "_________________________________________________________________\n",
            "Train on 20000 samples, validate on 5000 samples\n",
            "Epoch 1/10\n",
            "20000/20000 [==============================] - 3s 137us/step - loss: 0.4448 - acc: 0.7693 - val_loss: 0.3003 - val_acc: 0.8698\n",
            "Epoch 2/10\n",
            "20000/20000 [==============================] - 2s 107us/step - loss: 0.1242 - acc: 0.9582 - val_loss: 0.3444 - val_acc: 0.8614\n",
            "Epoch 3/10\n",
            "20000/20000 [==============================] - 2s 108us/step - loss: 0.0188 - acc: 0.9969 - val_loss: 0.3988 - val_acc: 0.8634\n",
            "Epoch 4/10\n",
            "20000/20000 [==============================] - 2s 107us/step - loss: 0.0037 - acc: 0.9997 - val_loss: 0.4433 - val_acc: 0.8666\n",
            "Epoch 5/10\n",
            "20000/20000 [==============================] - 2s 107us/step - loss: 0.0016 - acc: 0.9999 - val_loss: 0.4609 - val_acc: 0.8710\n",
            "Epoch 6/10\n",
            "20000/20000 [==============================] - 2s 107us/step - loss: 8.8277e-04 - acc: 1.0000 - val_loss: 0.4825 - val_acc: 0.8710\n",
            "Epoch 7/10\n",
            "20000/20000 [==============================] - 2s 108us/step - loss: 5.8665e-04 - acc: 1.0000 - val_loss: 0.5023 - val_acc: 0.8708\n",
            "Epoch 8/10\n",
            "20000/20000 [==============================] - 2s 107us/step - loss: 3.9945e-04 - acc: 1.0000 - val_loss: 0.5214 - val_acc: 0.8712\n",
            "Epoch 9/10\n",
            "20000/20000 [==============================] - 2s 107us/step - loss: 2.7689e-04 - acc: 1.0000 - val_loss: 0.5376 - val_acc: 0.8720\n",
            "Epoch 10/10\n",
            "20000/20000 [==============================] - 2s 108us/step - loss: 2.0876e-04 - acc: 1.0000 - val_loss: 0.5480 - val_acc: 0.8726\n"
          ],
          "name": "stdout"
        }
      ]
    },
    {
      "metadata": {
        "id": "yBm4cCuhZkBO",
        "colab_type": "text"
      },
      "cell_type": "markdown",
      "source": [
        "Adding learing rate"
      ]
    },
    {
      "metadata": {
        "id": "rHUq4R3xYQF2",
        "colab_type": "code",
        "outputId": "4d42b34a-ae6b-4500-8361-54cc3bb0a59c",
        "colab": {
          "base_uri": "https://localhost:8080/",
          "height": 675
        }
      },
      "cell_type": "code",
      "source": [
        "from keras.models import Sequential\n",
        "from keras.layers import Flatten, Dense, Dropout\n",
        "from keras.optimizers import adam\n",
        "\n",
        "model = Sequential()\n",
        "model.add(Embedding(max_features, 64, input_length=maxlen))\n",
        "\n",
        "model.add(Flatten())\n",
        "model.add(Dense(32, activation='relu'))\n",
        "model.add(Dropout(0.25))\n",
        "model.add(Dense(1, activation='sigmoid'))\n",
        "model.compile(optimizer=adam(lr=0.0001), loss='binary_crossentropy', metrics=['accuracy'])\n",
        "model.summary()\n",
        "\n",
        "train_history = model.fit(x_train, y_train,\n",
        "                    epochs=10,\n",
        "                    batch_size=256,\n",
        "                    validation_split=0.2)"
      ],
      "execution_count": 23,
      "outputs": [
        {
          "output_type": "stream",
          "text": [
            "_________________________________________________________________\n",
            "Layer (type)                 Output Shape              Param #   \n",
            "=================================================================\n",
            "embedding_6 (Embedding)      (None, 200, 64)           640000    \n",
            "_________________________________________________________________\n",
            "flatten_4 (Flatten)          (None, 12800)             0         \n",
            "_________________________________________________________________\n",
            "dense_9 (Dense)              (None, 32)                409632    \n",
            "_________________________________________________________________\n",
            "dropout_4 (Dropout)          (None, 32)                0         \n",
            "_________________________________________________________________\n",
            "dense_10 (Dense)             (None, 1)                 33        \n",
            "=================================================================\n",
            "Total params: 1,049,665\n",
            "Trainable params: 1,049,665\n",
            "Non-trainable params: 0\n",
            "_________________________________________________________________\n",
            "Train on 20000 samples, validate on 5000 samples\n",
            "Epoch 1/10\n",
            "20000/20000 [==============================] - 1s 65us/step - loss: 0.6921 - acc: 0.5188 - val_loss: 0.6903 - val_acc: 0.5384\n",
            "Epoch 2/10\n",
            "20000/20000 [==============================] - 1s 35us/step - loss: 0.6829 - acc: 0.5882 - val_loss: 0.6827 - val_acc: 0.5726\n",
            "Epoch 3/10\n",
            "20000/20000 [==============================] - 1s 34us/step - loss: 0.6595 - acc: 0.6671 - val_loss: 0.6487 - val_acc: 0.6706\n",
            "Epoch 4/10\n",
            "20000/20000 [==============================] - 1s 35us/step - loss: 0.5971 - acc: 0.7641 - val_loss: 0.5718 - val_acc: 0.7714\n",
            "Epoch 5/10\n",
            "20000/20000 [==============================] - 1s 35us/step - loss: 0.4989 - acc: 0.8270 - val_loss: 0.4797 - val_acc: 0.8120\n",
            "Epoch 6/10\n",
            "20000/20000 [==============================] - 1s 34us/step - loss: 0.4048 - acc: 0.8642 - val_loss: 0.4117 - val_acc: 0.8404\n",
            "Epoch 7/10\n",
            "20000/20000 [==============================] - 1s 35us/step - loss: 0.3378 - acc: 0.8839 - val_loss: 0.3679 - val_acc: 0.8562\n",
            "Epoch 8/10\n",
            "20000/20000 [==============================] - 1s 34us/step - loss: 0.2887 - acc: 0.9012 - val_loss: 0.3413 - val_acc: 0.8646\n",
            "Epoch 9/10\n",
            "20000/20000 [==============================] - 1s 34us/step - loss: 0.2519 - acc: 0.9157 - val_loss: 0.3237 - val_acc: 0.8718\n",
            "Epoch 10/10\n",
            "20000/20000 [==============================] - 1s 34us/step - loss: 0.2237 - acc: 0.9276 - val_loss: 0.3130 - val_acc: 0.8718\n"
          ],
          "name": "stdout"
        }
      ]
    },
    {
      "metadata": {
        "id": "cnhH40_LYi_E",
        "colab_type": "code",
        "outputId": "21a2401d-30d4-48ea-a246-14b9bb1928a5",
        "colab": {
          "base_uri": "https://localhost:8080/",
          "height": 787
        }
      },
      "cell_type": "code",
      "source": [
        "import matplotlib.pyplot as plt\n",
        "#print(metrics.accuracy_score(Y_test, Y_predicted))\n",
        "\n",
        "score = model.evaluate(x_test, y_test, verbose=3)\n",
        "print('Test Loss: ', score[0])\n",
        "print('Test Accuracy', score[1])\n",
        "\n",
        "\n",
        "# list all data in history\n",
        "print(train_history.history.keys())\n",
        "# summarize history for accuracy\n",
        "plt.plot(train_history.history['acc'])\n",
        "plt.plot(train_history.history['val_acc'])\n",
        "plt.title('Model Accuracy')\n",
        "plt.ylabel('accuracy')\n",
        "plt.xlabel('epoch')\n",
        "plt.legend(['train', 'test'], loc='upper left')\n",
        "plt.show()\n",
        "# summarize history for loss\n",
        "plt.plot(train_history.history['loss'])\n",
        "plt.plot(train_history.history['val_loss'])\n",
        "plt.title('Model Loss')\n",
        "plt.ylabel('loss')\n",
        "plt.xlabel('epoch')\n",
        "plt.legend(['train', 'test'], loc='upper left')\n",
        "plt.show()\n"
      ],
      "execution_count": 24,
      "outputs": [
        {
          "output_type": "stream",
          "text": [
            "Test Loss:  0.31511781105041503\n",
            "Test Accuracy 0.86752\n",
            "dict_keys(['val_loss', 'val_acc', 'loss', 'acc'])\n"
          ],
          "name": "stdout"
        },
        {
          "output_type": "display_data",
          "data": {
            "image/png": "[encoded data removed]",
            "text/plain": [
              "<Figure size 576x396 with 1 Axes>"
            ]
          },
          "metadata": {
            "tags": []
          }
        },
        {
          "output_type": "display_data",
          "data": {
            "image/png": "[encoded data removed]",
            "text/plain": [
              "<Figure size 576x396 with 1 Axes>"
            ]
          },
          "metadata": {
            "tags": []
          }
        }
      ]
    },
    {
      "metadata": {
        "id": "9AhfKBrVSj6N",
        "colab_type": "code",
        "outputId": "6664d1a4-da12-4835-c674-e51ce3363cf9",
        "colab": {
          "base_uri": "https://localhost:8080/",
          "height": 381
        }
      },
      "cell_type": "code",
      "source": [
        "#SImple RNN model \n",
        "from keras.layers import Dense, SimpleRNN\n",
        "\n",
        "model_sr = Sequential()\n",
        "model_sr.add(Embedding(max_features, 32))\n",
        "model_sr.add(SimpleRNN(32))\n",
        "model_sr.add(Dense(1, activation='sigmoid'))\n",
        "\n",
        "model_sr.compile(optimizer=adam(0.0001), loss='binary_crossentropy', metrics=['accuracy'])\n",
        "history = model_sr.fit(x_train, y_train,\n",
        "                    epochs=10,\n",
        "                    batch_size=64,\n",
        "                    validation_split=0.2)"
      ],
      "execution_count": 25,
      "outputs": [
        {
          "output_type": "stream",
          "text": [
            "Train on 20000 samples, validate on 5000 samples\n",
            "Epoch 1/10\n",
            "20000/20000 [==============================] - 31s 2ms/step - loss: 0.6666 - acc: 0.5806 - val_loss: 0.5795 - val_acc: 0.7254\n",
            "Epoch 2/10\n",
            "20000/20000 [==============================] - 31s 2ms/step - loss: 0.5014 - acc: 0.7830 - val_loss: 0.4654 - val_acc: 0.8088\n",
            "Epoch 3/10\n",
            "20000/20000 [==============================] - 30s 2ms/step - loss: 0.4016 - acc: 0.8429 - val_loss: 0.4218 - val_acc: 0.8242\n",
            "Epoch 4/10\n",
            "20000/20000 [==============================] - 31s 2ms/step - loss: 0.3411 - acc: 0.8717 - val_loss: 0.3823 - val_acc: 0.8438\n",
            "Epoch 5/10\n",
            "20000/20000 [==============================] - 30s 2ms/step - loss: 0.2946 - acc: 0.8912 - val_loss: 0.3737 - val_acc: 0.8422\n",
            "Epoch 6/10\n",
            "20000/20000 [==============================] - 30s 2ms/step - loss: 0.2520 - acc: 0.9138 - val_loss: 0.3661 - val_acc: 0.8492\n",
            "Epoch 7/10\n",
            "20000/20000 [==============================] - 31s 2ms/step - loss: 0.2202 - acc: 0.9270 - val_loss: 0.3623 - val_acc: 0.8522\n",
            "Epoch 8/10\n",
            "20000/20000 [==============================] - 30s 2ms/step - loss: 0.1967 - acc: 0.9361 - val_loss: 0.3580 - val_acc: 0.8512\n",
            "Epoch 9/10\n",
            "20000/20000 [==============================] - 30s 2ms/step - loss: 0.1774 - acc: 0.9449 - val_loss: 0.3627 - val_acc: 0.8564\n",
            "Epoch 10/10\n",
            "20000/20000 [==============================] - 31s 2ms/step - loss: 0.1652 - acc: 0.9495 - val_loss: 0.3620 - val_acc: 0.8526\n"
          ],
          "name": "stdout"
        }
      ]
    },
    {
      "metadata": {
        "id": "ustkoGlWOq4l",
        "colab_type": "code",
        "outputId": "edd573fe-c099-44bf-8624-86f2fac95d2c",
        "colab": {
          "base_uri": "https://localhost:8080/",
          "height": 787
        }
      },
      "cell_type": "code",
      "source": [
        "import matplotlib.pyplot as plt\n",
        "#print(metrics.accuracy_score(Y_test, Y_predicted))\n",
        "\n",
        "score = model_sr.evaluate(x_test, y_test, verbose=3)\n",
        "print('Test Loss: ', score[0])\n",
        "print('Test Accuracy', score[1])\n",
        "\n",
        "\n",
        "# list all data in history\n",
        "print(history.history.keys())\n",
        "# summarize history for accuracy\n",
        "plt.plot(history.history['acc'])\n",
        "plt.plot(history.history['val_acc'])\n",
        "plt.title('Model Accuracy')\n",
        "plt.ylabel('accuracy')\n",
        "plt.xlabel('epoch')\n",
        "plt.legend(['train', 'test'], loc='upper left')\n",
        "plt.show()\n",
        "# summarize history for loss\n",
        "plt.plot(train_history.history['loss'])\n",
        "plt.plot(train_history.history['val_loss'])\n",
        "plt.title('Model Loss')\n",
        "plt.ylabel('loss')\n",
        "plt.xlabel('epoch')\n",
        "plt.legend(['train', 'test'], loc='upper left')\n",
        "plt.show()\n"
      ],
      "execution_count": 26,
      "outputs": [
        {
          "output_type": "stream",
          "text": [
            "Test Loss:  0.37954836071014403\n",
            "Test Accuracy 0.84692\n",
            "dict_keys(['val_loss', 'val_acc', 'loss', 'acc'])\n"
          ],
          "name": "stdout"
        },
        {
          "output_type": "display_data",
          "data": {
            "image/png": "[encoded data removed]",
            "text/plain": [
              "<Figure size 576x396 with 1 Axes>"
            ]
          },
          "metadata": {
            "tags": []
          }
        },
        {
          "output_type": "display_data",
          "data": {
            "image/png": "[encoded data removed]",
            "text/plain": [
              "<Figure size 576x396 with 1 Axes>"
            ]
          },
          "metadata": {
            "tags": []
          }
        }
      ]
    },
    {
      "metadata": {
        "id": "0oosXMObi4oX",
        "colab_type": "code",
        "colab": {}
      },
      "cell_type": "code",
      "source": [
        "y_pred = model_sr.predict_classes(x_test)"
      ],
      "execution_count": 0,
      "outputs": []
    },
    {
      "metadata": {
        "id": "c8nhjbMFj-ue",
        "colab_type": "code",
        "outputId": "dd223610-601f-4c24-c9f8-c8d10dadce14",
        "colab": {
          "base_uri": "https://localhost:8080/",
          "height": 138
        }
      },
      "cell_type": "code",
      "source": [
        "y_pred"
      ],
      "execution_count": 28,
      "outputs": [
        {
          "output_type": "execute_result",
          "data": {
            "text/plain": [
              "array([[0],\n",
              "       [1],\n",
              "       [0],\n",
              "       ...,\n",
              "       [0],\n",
              "       [0],\n",
              "       [1]], dtype=int32)"
            ]
          },
          "metadata": {
            "tags": []
          },
          "execution_count": 28
        }
      ]
    },
    {
      "metadata": {
        "id": "A2nnLVMikFAu",
        "colab_type": "code",
        "outputId": "5f5c3ef2-91ba-49d5-ff28-2db02796f530",
        "colab": {
          "base_uri": "https://localhost:8080/",
          "height": 51
        }
      },
      "cell_type": "code",
      "source": [
        "from sklearn.metrics import confusion_matrix\n",
        "\n",
        "confusion_matrix(y_test, y_pred)"
      ],
      "execution_count": 29,
      "outputs": [
        {
          "output_type": "execute_result",
          "data": {
            "text/plain": [
              "array([[10732,  1768],\n",
              "       [ 2059, 10441]])"
            ]
          },
          "metadata": {
            "tags": []
          },
          "execution_count": 29
        }
      ]
    },
    {
      "metadata": {
        "id": "SOUxISwMkS5J",
        "colab_type": "code",
        "outputId": "3652a908-b8f8-4592-a4fd-f4c3ca1422b0",
        "colab": {
          "base_uri": "https://localhost:8080/",
          "height": 173
        }
      },
      "cell_type": "code",
      "source": [
        "from sklearn.metrics import classification_report\n",
        "\n",
        "print(classification_report(y_test, y_pred))"
      ],
      "execution_count": 30,
      "outputs": [
        {
          "output_type": "stream",
          "text": [
            "              precision    recall  f1-score   support\n",
            "\n",
            "           0       0.84      0.86      0.85     12500\n",
            "           1       0.86      0.84      0.85     12500\n",
            "\n",
            "   micro avg       0.85      0.85      0.85     25000\n",
            "   macro avg       0.85      0.85      0.85     25000\n",
            "weighted avg       0.85      0.85      0.85     25000\n",
            "\n"
          ],
          "name": "stdout"
        }
      ]
    },
    {
      "metadata": {
        "id": "hvp0d3-ynPK0",
        "colab_type": "code",
        "outputId": "5628dd61-ec62-4fc6-f298-c83d3c434815",
        "colab": {
          "base_uri": "https://localhost:8080/",
          "height": 393
        }
      },
      "cell_type": "code",
      "source": [
        "import matplotlib.pyplot as plt\n",
        "import seaborn as sns\n",
        "\n",
        "ax= plt.subplot()\n",
        "#cm = classification_report(y_test, y_pred_lstm)\n",
        "sns.heatmap(confusion_matrix(y_test, y_pred), annot=True, ax = ax, fmt='g'); #annot=True to annotate cells\n",
        "\n",
        "# labels, title and ticks\n",
        "ax.set_xlabel('Predicted labels');ax.set_ylabel('True labels'); \n",
        "ax.set_title('Confusion Matrix'); \n",
        "ax.xaxis.set_ticklabels(['Negative', 'Positive'])\n",
        "ax.yaxis.set_ticklabels(['Positive', 'Negative'])"
      ],
      "execution_count": 32,
      "outputs": [
        {
          "output_type": "execute_result",
          "data": {
            "text/plain": [
              "[Text(0, 0.5, 'Positive'), Text(0, 1.5, 'Negative')]"
            ]
          },
          "metadata": {
            "tags": []
          },
          "execution_count": 32
        },
        {
          "output_type": "display_data",
          "data": {
            "image/png": "[encoded data removed]",
            "text/plain": [
              "<Figure size 576x396 with 2 Axes>"
            ]
          },
          "metadata": {
            "tags": []
          }
        }
      ]
    },
    {
      "metadata": {
        "id": "LRCFG2rbmTsj",
        "colab_type": "code",
        "colab": {}
      },
      "cell_type": "code",
      "source": [
        ""
      ],
      "execution_count": 0,
      "outputs": []
    },
    {
      "metadata": {
        "id": "Qjm4CBtvtN3k",
        "colab_type": "text"
      },
      "cell_type": "markdown",
      "source": [
        "**STACKED** **LSTM** "
      ]
    },
    {
      "metadata": {
        "id": "pZNEAdZAOq6V",
        "colab_type": "code",
        "outputId": "f7f98bca-379a-4413-a9e8-d45444288b87",
        "colab": {
          "base_uri": "https://localhost:8080/",
          "height": 381
        }
      },
      "cell_type": "code",
      "source": [
        "from keras.layers import LSTM\n",
        "\n",
        "model_lstm = Sequential()\n",
        "model_lstm.add(Embedding(max_features, 64))\n",
        "model_lstm.add(LSTM(64, dropout=0.2, recurrent_dropout=0.2, return_sequences=True))\n",
        "#model_lstm.add(Dropout(0.2))\n",
        "model_lstm.add(LSTM(32, dropout=0.2, recurrent_dropout=0.2))\n",
        "\n",
        "model_lstm.add(Dense(1, activation='sigmoid'))\n",
        "\n",
        "model_lstm.compile(optimizer=adam(lr=0.0001),\n",
        "              loss='binary_crossentropy',\n",
        "              metrics=['accuracy'])\n",
        "\n",
        "history = model_lstm.fit(x_train, y_train,\n",
        "                    epochs=10,\n",
        "                    batch_size=64,\n",
        "                    validation_split=0.2)"
      ],
      "execution_count": 35,
      "outputs": [
        {
          "output_type": "stream",
          "text": [
            "Train on 20000 samples, validate on 5000 samples\n",
            "Epoch 1/10\n",
            "20000/20000 [==============================] - 256s 13ms/step - loss: 0.6676 - acc: 0.6006 - val_loss: 0.5039 - val_acc: 0.7766\n",
            "Epoch 2/10\n",
            "20000/20000 [==============================] - 255s 13ms/step - loss: 0.4531 - acc: 0.8010 - val_loss: 0.4109 - val_acc: 0.8192\n",
            "Epoch 3/10\n",
            "20000/20000 [==============================] - 253s 13ms/step - loss: 0.3728 - acc: 0.8487 - val_loss: 0.3881 - val_acc: 0.8340\n",
            "Epoch 4/10\n",
            "20000/20000 [==============================] - 253s 13ms/step - loss: 0.3384 - acc: 0.8649 - val_loss: 0.3805 - val_acc: 0.8360\n",
            "Epoch 5/10\n",
            "20000/20000 [==============================] - 253s 13ms/step - loss: 0.3131 - acc: 0.8774 - val_loss: 0.3693 - val_acc: 0.8442\n",
            "Epoch 6/10\n",
            "20000/20000 [==============================] - 256s 13ms/step - loss: 0.2849 - acc: 0.8916 - val_loss: 0.3725 - val_acc: 0.8440\n",
            "Epoch 7/10\n",
            "20000/20000 [==============================] - 252s 13ms/step - loss: 0.2644 - acc: 0.9003 - val_loss: 0.3751 - val_acc: 0.8444\n",
            "Epoch 8/10\n",
            "20000/20000 [==============================] - 253s 13ms/step - loss: 0.2472 - acc: 0.9102 - val_loss: 0.3877 - val_acc: 0.8362\n",
            "Epoch 9/10\n",
            "20000/20000 [==============================] - 252s 13ms/step - loss: 0.2342 - acc: 0.9150 - val_loss: 0.3926 - val_acc: 0.8376\n",
            "Epoch 10/10\n",
            "20000/20000 [==============================] - 253s 13ms/step - loss: 0.2255 - acc: 0.9201 - val_loss: 0.3990 - val_acc: 0.8354\n"
          ],
          "name": "stdout"
        }
      ]
    },
    {
      "metadata": {
        "id": "tqgoeZrgOrA6",
        "colab_type": "code",
        "outputId": "32d5bad7-f465-471a-ac19-c79f0938df17",
        "colab": {
          "base_uri": "https://localhost:8080/",
          "height": 787
        }
      },
      "cell_type": "code",
      "source": [
        "import matplotlib.pyplot as plt\n",
        "#print(metrics.accuracy_score(Y_test, Y_predicted))\n",
        "\n",
        "score = model_lstm.evaluate(x_test, y_test, verbose=3)\n",
        "print('Test Loss: ', score[0])\n",
        "print('Test Accuracy', score[1])\n",
        "\n",
        "\n",
        "# list all data in history\n",
        "print(history.history.keys())\n",
        "# summarize history for accuracy\n",
        "plt.plot(history.history['acc'])\n",
        "plt.plot(history.history['val_acc'])\n",
        "plt.title('Model Accuracy')\n",
        "plt.ylabel('accuracy')\n",
        "plt.xlabel('epoch')\n",
        "plt.legend(['train', 'test'], loc='upper left')\n",
        "plt.show()\n",
        "# summarize history for loss\n",
        "plt.plot(train_history.history['loss'])\n",
        "plt.plot(train_history.history['val_loss'])\n",
        "plt.title('Model Loss')\n",
        "plt.ylabel('loss')\n",
        "plt.xlabel('epoch')\n",
        "plt.legend(['train', 'test'], loc='upper left')\n",
        "plt.show()\n"
      ],
      "execution_count": 36,
      "outputs": [
        {
          "output_type": "stream",
          "text": [
            "Test Loss:  0.40192584995269776\n",
            "Test Accuracy 0.8354\n",
            "dict_keys(['val_loss', 'val_acc', 'loss', 'acc'])\n"
          ],
          "name": "stdout"
        },
        {
          "output_type": "display_data",
          "data": {
            "image/png": "[encoded data removed]",
            "text/plain": [
              "<Figure size 576x396 with 1 Axes>"
            ]
          },
          "metadata": {
            "tags": []
          }
        },
        {
          "output_type": "display_data",
          "data": {
            "image/png": "[encoded data removed]",
            "text/plain": [
              "<Figure size 576x396 with 1 Axes>"
            ]
          },
          "metadata": {
            "tags": []
          }
        }
      ]
    },
    {
      "metadata": {
        "id": "ZZfidTWKuf6c",
        "colab_type": "code",
        "outputId": "f2a8c0da-08fc-4fda-a2f3-2a72ba4cd367",
        "colab": {
          "base_uri": "https://localhost:8080/",
          "height": 138
        }
      },
      "cell_type": "code",
      "source": [
        "y_pred_lstm = model.predict_classes(x_test)\n",
        "y_pred_lstm "
      ],
      "execution_count": 37,
      "outputs": [
        {
          "output_type": "execute_result",
          "data": {
            "text/plain": [
              "array([[0],\n",
              "       [1],\n",
              "       [0],\n",
              "       ...,\n",
              "       [0],\n",
              "       [0],\n",
              "       [1]], dtype=int32)"
            ]
          },
          "metadata": {
            "tags": []
          },
          "execution_count": 37
        }
      ]
    },
    {
      "metadata": {
        "id": "0JaEksdOuuer",
        "colab_type": "code",
        "outputId": "e968b1ae-087a-43e0-c083-f787a49adfdb",
        "colab": {
          "base_uri": "https://localhost:8080/",
          "height": 51
        }
      },
      "cell_type": "code",
      "source": [
        "from sklearn.metrics import confusion_matrix\n",
        "\n",
        "confusion_matrix(y_test, y_pred_lstm)"
      ],
      "execution_count": 38,
      "outputs": [
        {
          "output_type": "execute_result",
          "data": {
            "text/plain": [
              "array([[10656,  1844],\n",
              "       [ 1468, 11032]])"
            ]
          },
          "metadata": {
            "tags": []
          },
          "execution_count": 38
        }
      ]
    },
    {
      "metadata": {
        "id": "vrPJm_3xu4ZY",
        "colab_type": "code",
        "outputId": "4fd9420d-6633-4041-9e7e-982983d06e5e",
        "colab": {
          "base_uri": "https://localhost:8080/",
          "height": 173
        }
      },
      "cell_type": "code",
      "source": [
        "from sklearn.metrics import classification_report\n",
        "\n",
        "print(classification_report(y_test, y_pred_lstm))"
      ],
      "execution_count": 39,
      "outputs": [
        {
          "output_type": "stream",
          "text": [
            "              precision    recall  f1-score   support\n",
            "\n",
            "           0       0.88      0.85      0.87     12500\n",
            "           1       0.86      0.88      0.87     12500\n",
            "\n",
            "   micro avg       0.87      0.87      0.87     25000\n",
            "   macro avg       0.87      0.87      0.87     25000\n",
            "weighted avg       0.87      0.87      0.87     25000\n",
            "\n"
          ],
          "name": "stdout"
        }
      ]
    },
    {
      "metadata": {
        "id": "VW2WATSYvajG",
        "colab_type": "code",
        "outputId": "7dd4e777-7abb-4e28-b9ad-b640eec461e4",
        "colab": {
          "base_uri": "https://localhost:8080/",
          "height": 393
        }
      },
      "cell_type": "code",
      "source": [
        "import matplotlib.pyplot as plt\n",
        "import seaborn as sns\n",
        "\n",
        "ax= plt.subplot()\n",
        "#cm = classification_report(y_test, y_pred_lstm)\n",
        "sns.heatmap(confusion_matrix(y_test, y_pred_lstm), annot=True, ax = ax, fmt='g'); #annot=True to annotate cells\n",
        "\n",
        "# labels, title and ticks\n",
        "ax.set_xlabel('Predicted labels');ax.set_ylabel('True labels'); \n",
        "ax.set_title('Confusion Matrix'); \n",
        "ax.xaxis.set_ticklabels(['Negative', 'Positive'])\n",
        "ax.yaxis.set_ticklabels(['Positive', 'Negative'])"
      ],
      "execution_count": 40,
      "outputs": [
        {
          "output_type": "execute_result",
          "data": {
            "text/plain": [
              "[Text(0, 0.5, 'Positive'), Text(0, 1.5, 'Negative')]"
            ]
          },
          "metadata": {
            "tags": []
          },
          "execution_count": 40
        },
        {
          "output_type": "display_data",
          "data": {
            "image/png": "[encoded data removed]",
            "text/plain": [
              "<Figure size 576x396 with 2 Axes>"
            ]
          },
          "metadata": {
            "tags": []
          }
        }
      ]
    },
    {
      "metadata": {
        "id": "Ct9hZgslotwV",
        "colab_type": "text"
      },
      "cell_type": "markdown",
      "source": [
        "**BIDIRECTIONAL** **GRU**"
      ]
    },
    {
      "metadata": {
        "id": "gltQ4I56osq9",
        "colab_type": "code",
        "colab": {}
      },
      "cell_type": "code",
      "source": [
        "from keras.layers import SpatialDropout1D, Bidirectional\n",
        "from keras.layers import Dense,Dropout,Embedding,LSTM,Conv1D,GlobalMaxPooling1D,Flatten,MaxPooling1D,GRU,SpatialDropout1D,Bidirectional"
      ],
      "execution_count": 0,
      "outputs": []
    },
    {
      "metadata": {
        "id": "OoouFZYOorIX",
        "colab_type": "code",
        "outputId": "2557573a-7dc3-43ec-fd0a-fba986da5bbe",
        "colab": {
          "base_uri": "https://localhost:8080/",
          "height": 311
        }
      },
      "cell_type": "code",
      "source": [
        "max_features = 10000\n",
        "maxlen = 200\n",
        "batch_size = 64\n",
        "\n",
        "model_GRU = Sequential()\n",
        "\n",
        "model_GRU.add(Embedding(max_features, 64, input_length=maxlen))\n",
        "model_GRU.add(SpatialDropout1D(0.25))\n",
        "model_GRU.add(Bidirectional(GRU(100)))\n",
        "model_GRU.add(Dropout(0.25))\n",
        "\n",
        "model_GRU.add(Dense(1, activation='sigmoid'))\n",
        "model_GRU.compile(loss='binary_crossentropy', optimizer=adam(lr=0.0004), metrics=['accuracy'])\n",
        "model_GRU.summary()\n",
        "\n"
      ],
      "execution_count": 70,
      "outputs": [
        {
          "output_type": "stream",
          "text": [
            "_________________________________________________________________\n",
            "Layer (type)                 Output Shape              Param #   \n",
            "=================================================================\n",
            "embedding_13 (Embedding)     (None, 200, 64)           640000    \n",
            "_________________________________________________________________\n",
            "spatial_dropout1d_3 (Spatial (None, 200, 64)           0         \n",
            "_________________________________________________________________\n",
            "bidirectional_3 (Bidirection (None, 200)               99000     \n",
            "_________________________________________________________________\n",
            "dropout_7 (Dropout)          (None, 200)               0         \n",
            "_________________________________________________________________\n",
            "dense_17 (Dense)             (None, 1)                 201       \n",
            "=================================================================\n",
            "Total params: 739,201\n",
            "Trainable params: 739,201\n",
            "Non-trainable params: 0\n",
            "_________________________________________________________________\n"
          ],
          "name": "stdout"
        }
      ]
    },
    {
      "metadata": {
        "id": "0bT5Cfpf0RKX",
        "colab_type": "code",
        "outputId": "e5e0ea4b-c40f-4379-cfcf-16f0790265d2",
        "colab": {
          "base_uri": "https://localhost:8080/",
          "height": 207
        }
      },
      "cell_type": "code",
      "source": [
        "history = model_GRU.fit(x_train, y_train,\n",
        "                    epochs=5,\n",
        "                    batch_size=batch_size,\n",
        "                    validation_split=0.2)"
      ],
      "execution_count": 71,
      "outputs": [
        {
          "output_type": "stream",
          "text": [
            "Train on 20000 samples, validate on 5000 samples\n",
            "Epoch 1/5\n",
            "20000/20000 [==============================] - 233s 12ms/step - loss: 0.5053 - acc: 0.7238 - val_loss: 0.3138 - val_acc: 0.8684\n",
            "Epoch 2/5\n",
            "20000/20000 [==============================] - 228s 11ms/step - loss: 0.2624 - acc: 0.8957 - val_loss: 0.3170 - val_acc: 0.8752\n",
            "Epoch 3/5\n",
            "20000/20000 [==============================] - 227s 11ms/step - loss: 0.2046 - acc: 0.9224 - val_loss: 0.3110 - val_acc: 0.8768\n",
            "Epoch 4/5\n",
            "20000/20000 [==============================] - 227s 11ms/step - loss: 0.1621 - acc: 0.9405 - val_loss: 0.3456 - val_acc: 0.8724\n",
            "Epoch 5/5\n",
            "20000/20000 [==============================] - 231s 12ms/step - loss: 0.1352 - acc: 0.9518 - val_loss: 0.3772 - val_acc: 0.8754\n"
          ],
          "name": "stdout"
        }
      ]
    },
    {
      "metadata": {
        "id": "WxzLSUV9Ohqk",
        "colab_type": "code",
        "colab": {}
      },
      "cell_type": "code",
      "source": [
        ""
      ],
      "execution_count": 0,
      "outputs": []
    },
    {
      "metadata": {
        "id": "3nZ4OxPRCBn_",
        "colab_type": "code",
        "outputId": "6fbf70ab-d023-4d1c-8369-1fffcc0e75f6",
        "colab": {
          "base_uri": "https://localhost:8080/",
          "height": 787
        }
      },
      "cell_type": "code",
      "source": [
        "import matplotlib.pyplot as plt\n",
        "#print(metrics.accuracy_score(Y_test, Y_predicted))\n",
        "\n",
        "score = model_GRU.evaluate(x_test, y_test, verbose=3)\n",
        "print('Test Loss: ', score[0])\n",
        "print('Test Accuracy', score[1])\n",
        "\n",
        "\n",
        "# list all data in history\n",
        "print(history.history.keys())\n",
        "# summarize history for accuracy\n",
        "plt.plot(history.history['acc'])\n",
        "plt.plot(history.history['val_acc'])\n",
        "plt.title('Model Accuracy')\n",
        "plt.ylabel('accuracy')\n",
        "plt.xlabel('epoch')\n",
        "plt.legend(['train', 'test'], loc='upper left')\n",
        "plt.show()\n",
        "# summarize history for loss\n",
        "plt.plot(train_history.history['loss'])\n",
        "plt.plot(train_history.history['val_loss'])\n",
        "plt.title('Model Loss')\n",
        "plt.ylabel('loss')\n",
        "plt.xlabel('epoch')\n",
        "plt.legend(['train', 'test'], loc='upper left')\n",
        "plt.show()\n"
      ],
      "execution_count": 44,
      "outputs": [
        {
          "output_type": "stream",
          "text": [
            "Test Loss:  0.5497311110496521\n",
            "Test Accuracy 0.8486\n",
            "dict_keys(['val_loss', 'val_acc', 'loss', 'acc'])\n"
          ],
          "name": "stdout"
        },
        {
          "output_type": "display_data",
          "data": {
            "image/png": "[encoded data removed]",
            "text/plain": [
              "<Figure size 576x396 with 1 Axes>"
            ]
          },
          "metadata": {
            "tags": []
          }
        },
        {
          "output_type": "display_data",
          "data": {
            "image/png": "[encoded data removed]",
            "text/plain": [
              "<Figure size 576x396 with 1 Axes>"
            ]
          },
          "metadata": {
            "tags": []
          }
        }
      ]
    },
    {
      "metadata": {
        "id": "vh97-mJ7B8pq",
        "colab_type": "code",
        "outputId": "0b8a96aa-fc64-481a-fb06-a3cbc4ae0d68",
        "colab": {
          "base_uri": "https://localhost:8080/",
          "height": 138
        }
      },
      "cell_type": "code",
      "source": [
        "y_pred_GRU = model_GRU.predict_classes(x_test)\n",
        "y_pred_GRU "
      ],
      "execution_count": 45,
      "outputs": [
        {
          "output_type": "execute_result",
          "data": {
            "text/plain": [
              "array([[0],\n",
              "       [1],\n",
              "       [1],\n",
              "       ...,\n",
              "       [0],\n",
              "       [0],\n",
              "       [1]], dtype=int32)"
            ]
          },
          "metadata": {
            "tags": []
          },
          "execution_count": 45
        }
      ]
    },
    {
      "metadata": {
        "id": "Dry2CtIuC-1-",
        "colab_type": "code",
        "outputId": "949db057-a5d6-4072-e51c-8e713c889ebf",
        "colab": {
          "base_uri": "https://localhost:8080/",
          "height": 34
        }
      },
      "cell_type": "code",
      "source": [
        "from sklearn.metrics import accuracy_score\n",
        "\n",
        "print(accuracy_score(y_test, y_pred_GRU))"
      ],
      "execution_count": 46,
      "outputs": [
        {
          "output_type": "stream",
          "text": [
            "0.8486\n"
          ],
          "name": "stdout"
        }
      ]
    },
    {
      "metadata": {
        "id": "A42ctJiWClOQ",
        "colab_type": "code",
        "outputId": "cdf436a1-fcde-4d66-d859-09541b9e777b",
        "colab": {
          "base_uri": "https://localhost:8080/",
          "height": 51
        }
      },
      "cell_type": "code",
      "source": [
        "from sklearn.metrics import confusion_matrix\n",
        "\n",
        "confusion_matrix(y_test, y_pred_GRU)"
      ],
      "execution_count": 47,
      "outputs": [
        {
          "output_type": "execute_result",
          "data": {
            "text/plain": [
              "array([[10623,  1877],\n",
              "       [ 1908, 10592]])"
            ]
          },
          "metadata": {
            "tags": []
          },
          "execution_count": 47
        }
      ]
    },
    {
      "metadata": {
        "id": "yMv1byASClRq",
        "colab_type": "code",
        "outputId": "a070fc5e-3894-4874-fe56-f9b0bac6cc7d",
        "colab": {
          "base_uri": "https://localhost:8080/",
          "height": 173
        }
      },
      "cell_type": "code",
      "source": [
        "from sklearn.metrics import classification_report\n",
        "\n",
        "print(classification_report(y_test, y_pred_GRU))"
      ],
      "execution_count": 48,
      "outputs": [
        {
          "output_type": "stream",
          "text": [
            "              precision    recall  f1-score   support\n",
            "\n",
            "           0       0.85      0.85      0.85     12500\n",
            "           1       0.85      0.85      0.85     12500\n",
            "\n",
            "   micro avg       0.85      0.85      0.85     25000\n",
            "   macro avg       0.85      0.85      0.85     25000\n",
            "weighted avg       0.85      0.85      0.85     25000\n",
            "\n"
          ],
          "name": "stdout"
        }
      ]
    },
    {
      "metadata": {
        "id": "c-ItbOqFClUr",
        "colab_type": "code",
        "outputId": "f88c7b2b-f3f5-48b1-8199-a75be45408fb",
        "colab": {
          "base_uri": "https://localhost:8080/",
          "height": 393
        }
      },
      "cell_type": "code",
      "source": [
        "import matplotlib.pyplot as plt\n",
        "import seaborn as sns\n",
        "\n",
        "ax= plt.subplot()\n",
        "sns.heatmap(confusion_matrix(y_test, y_pred_GRU), annot=True, ax = ax, fmt='g'); #annot=True to annotate cells\n",
        "\n",
        "# labels, title and ticks\n",
        "ax.set_xlabel('Predicted labels');ax.set_ylabel('True labels'); \n",
        "ax.set_title('Confusion Matrix'); \n",
        "ax.xaxis.set_ticklabels(['Negative', 'Positive'])\n",
        "ax.yaxis.set_ticklabels(['Positive', 'Negative'])"
      ],
      "execution_count": 49,
      "outputs": [
        {
          "output_type": "execute_result",
          "data": {
            "text/plain": [
              "[Text(0, 0.5, 'Positive'), Text(0, 1.5, 'Negative')]"
            ]
          },
          "metadata": {
            "tags": []
          },
          "execution_count": 49
        },
        {
          "output_type": "display_data",
          "data": {
            "image/png": "[encoded data removed]",
            "text/plain": [
              "<Figure size 576x396 with 2 Axes>"
            ]
          },
          "metadata": {
            "tags": []
          }
        }
      ]
    },
    {
      "metadata": {
        "id": "L4CgR3PtSDIs",
        "colab_type": "text"
      },
      "cell_type": "markdown",
      "source": [
        "Predicting the Best model on GE Dataset"
      ]
    },
    {
      "metadata": {
        "id": "ZeDC9_nMClMv",
        "colab_type": "code",
        "colab": {}
      },
      "cell_type": "code",
      "source": [
        "import nltk\n",
        "import string\n",
        "import numpy as np\n",
        "import pandas as pd"
      ],
      "execution_count": 0,
      "outputs": []
    },
    {
      "metadata": {
        "id": "T720IbVTPwjJ",
        "colab_type": "code",
        "colab": {
          "base_uri": "https://localhost:8080/",
          "height": 34
        },
        "outputId": "fa359063-5262-4696-c5c0-62cd4957616b"
      },
      "cell_type": "code",
      "source": [
        "from google.colab import drive\n",
        "drive.mount('/content/drive')"
      ],
      "execution_count": 51,
      "outputs": [
        {
          "output_type": "stream",
          "text": [
            "Drive already mounted at /content/drive; to attempt to forcibly remount, call drive.mount(\"/content/drive\", force_remount=True).\n"
          ],
          "name": "stdout"
        }
      ]
    },
    {
      "metadata": {
        "id": "oXXqOtN1S4N5",
        "colab_type": "code",
        "colab": {
          "base_uri": "https://localhost:8080/",
          "height": 206
        },
        "outputId": "92149c4b-b7ae-4f58-d3bf-33ecdb198ceb"
      },
      "cell_type": "code",
      "source": [
        "transcript_GE = pd.read_json('/content/drive/My Drive/Cognitive Data Colab/GE_Earnings_Transcript.json')\n",
        "\n",
        "  \n",
        "#Remove all the columns with Neutral Sentiment \n",
        "transcript_GE = transcript_GE[transcript_GE['sentiment'] != 'Neutral']\n",
        "transcript_GE.head()"
      ],
      "execution_count": 52,
      "outputs": [
        {
          "output_type": "execute_result",
          "data": {
            "text/html": [
              "<div>\n",
              "<style scoped>\n",
              "    .dataframe tbody tr th:only-of-type {\n",
              "        vertical-align: middle;\n",
              "    }\n",
              "\n",
              "    .dataframe tbody tr th {\n",
              "        vertical-align: top;\n",
              "    }\n",
              "\n",
              "    .dataframe thead th {\n",
              "        text-align: right;\n",
              "    }\n",
              "</style>\n",
              "<table border=\"1\" class=\"dataframe\">\n",
              "  <thead>\n",
              "    <tr style=\"text-align: right;\">\n",
              "      <th></th>\n",
              "      <th>sentiment</th>\n",
              "      <th>text</th>\n",
              "    </tr>\n",
              "  </thead>\n",
              "  <tbody>\n",
              "    <tr>\n",
              "      <th>100</th>\n",
              "      <td>Negative</td>\n",
              "      <td>Well Steve, I'd like to think that everything ...</td>\n",
              "    </tr>\n",
              "    <tr>\n",
              "      <th>101</th>\n",
              "      <td>Negative</td>\n",
              "      <td>With respect to Baker Hughes, I mean we talked...</td>\n",
              "    </tr>\n",
              "    <tr>\n",
              "      <th>102</th>\n",
              "      <td>Negative</td>\n",
              "      <td>Thanks. And just as a follow-up. I didn't have...</td>\n",
              "    </tr>\n",
              "    <tr>\n",
              "      <th>107</th>\n",
              "      <td>Negative</td>\n",
              "      <td>Morning. Maybe as the first question on Power....</td>\n",
              "    </tr>\n",
              "    <tr>\n",
              "      <th>108</th>\n",
              "      <td>Negative</td>\n",
              "      <td>Sure, sure. Let me do that and again this is v...</td>\n",
              "    </tr>\n",
              "  </tbody>\n",
              "</table>\n",
              "</div>"
            ],
            "text/plain": [
              "    sentiment                                               text\n",
              "100  Negative  Well Steve, I'd like to think that everything ...\n",
              "101  Negative  With respect to Baker Hughes, I mean we talked...\n",
              "102  Negative  Thanks. And just as a follow-up. I didn't have...\n",
              "107  Negative  Morning. Maybe as the first question on Power....\n",
              "108  Negative  Sure, sure. Let me do that and again this is v..."
            ]
          },
          "metadata": {
            "tags": []
          },
          "execution_count": 52
        }
      ]
    },
    {
      "metadata": {
        "id": "fGgP6lRapXR2",
        "colab_type": "code",
        "colab": {
          "base_uri": "https://localhost:8080/",
          "height": 206
        },
        "outputId": "90a6f8d4-99bf-47c8-9e68-188d15887aa8"
      },
      "cell_type": "code",
      "source": [
        "  \n",
        "#Remove all the columns with Neutral Sentiment \n",
        "transcript_GE = transcript_GE[transcript_GE['sentiment'] != 'Neutral']\n",
        "transcript_GE.head()"
      ],
      "execution_count": 53,
      "outputs": [
        {
          "output_type": "execute_result",
          "data": {
            "text/html": [
              "<div>\n",
              "<style scoped>\n",
              "    .dataframe tbody tr th:only-of-type {\n",
              "        vertical-align: middle;\n",
              "    }\n",
              "\n",
              "    .dataframe tbody tr th {\n",
              "        vertical-align: top;\n",
              "    }\n",
              "\n",
              "    .dataframe thead th {\n",
              "        text-align: right;\n",
              "    }\n",
              "</style>\n",
              "<table border=\"1\" class=\"dataframe\">\n",
              "  <thead>\n",
              "    <tr style=\"text-align: right;\">\n",
              "      <th></th>\n",
              "      <th>sentiment</th>\n",
              "      <th>text</th>\n",
              "    </tr>\n",
              "  </thead>\n",
              "  <tbody>\n",
              "    <tr>\n",
              "      <th>100</th>\n",
              "      <td>Negative</td>\n",
              "      <td>Well Steve, I'd like to think that everything ...</td>\n",
              "    </tr>\n",
              "    <tr>\n",
              "      <th>101</th>\n",
              "      <td>Negative</td>\n",
              "      <td>With respect to Baker Hughes, I mean we talked...</td>\n",
              "    </tr>\n",
              "    <tr>\n",
              "      <th>102</th>\n",
              "      <td>Negative</td>\n",
              "      <td>Thanks. And just as a follow-up. I didn't have...</td>\n",
              "    </tr>\n",
              "    <tr>\n",
              "      <th>107</th>\n",
              "      <td>Negative</td>\n",
              "      <td>Morning. Maybe as the first question on Power....</td>\n",
              "    </tr>\n",
              "    <tr>\n",
              "      <th>108</th>\n",
              "      <td>Negative</td>\n",
              "      <td>Sure, sure. Let me do that and again this is v...</td>\n",
              "    </tr>\n",
              "  </tbody>\n",
              "</table>\n",
              "</div>"
            ],
            "text/plain": [
              "    sentiment                                               text\n",
              "100  Negative  Well Steve, I'd like to think that everything ...\n",
              "101  Negative  With respect to Baker Hughes, I mean we talked...\n",
              "102  Negative  Thanks. And just as a follow-up. I didn't have...\n",
              "107  Negative  Morning. Maybe as the first question on Power....\n",
              "108  Negative  Sure, sure. Let me do that and again this is v..."
            ]
          },
          "metadata": {
            "tags": []
          },
          "execution_count": 53
        }
      ]
    },
    {
      "metadata": {
        "id": "o9cQEA6FpRhh",
        "colab_type": "code",
        "colab": {
          "base_uri": "https://localhost:8080/",
          "height": 103
        },
        "outputId": "d19ec19e-f180-4510-dac5-8ddcf28cae6a"
      },
      "cell_type": "code",
      "source": [
        "from sklearn.preprocessing import LabelEncoder\n",
        "\n",
        "le = LabelEncoder()\n",
        "Y_le = le.fit_transform(transcript_GE['sentiment'])\n",
        "Y_le"
      ],
      "execution_count": 54,
      "outputs": [
        {
          "output_type": "execute_result",
          "data": {
            "text/plain": [
              "array([0, 0, 0, 0, 0, 1, 1, 1, 1, 0, 1, 1, 1, 0, 0, 1, 0, 1, 0, 1, 0, 0,\n",
              "       1, 1, 0, 0, 0, 1, 0, 1, 0, 1, 1, 1, 1, 1, 0, 1, 0, 0, 0, 0, 0, 1,\n",
              "       0, 1, 0, 0, 0, 0, 1, 0, 0, 0, 0, 0, 1, 1, 0, 0, 0, 1, 1, 1, 1, 0,\n",
              "       1, 0, 0, 0, 1, 1, 0, 0, 0, 1, 1, 0, 0, 1, 1, 0, 0, 1, 1, 0, 1, 1,\n",
              "       1, 1, 0, 1, 1, 0, 1, 1, 1, 1, 0, 0, 1, 0, 1, 1, 0, 1, 1, 1, 1, 0])"
            ]
          },
          "metadata": {
            "tags": []
          },
          "execution_count": 54
        }
      ]
    },
    {
      "metadata": {
        "id": "-Jq8OPBEPEcX",
        "colab_type": "code",
        "colab": {}
      },
      "cell_type": "code",
      "source": [
        "import pandas as pd \n",
        "import keras\n",
        "from keras.preprocessing.text import Tokenizer, text_to_word_sequence\n",
        "from keras.preprocessing.sequence import pad_sequences\n",
        "from nltk.tokenize import word_tokenize\n",
        "\n",
        "vocabulary_size = 10000\n",
        "tokenizer = Tokenizer(num_words= vocabulary_size)\n",
        "tokenizer.fit_on_texts(transcript_GE['text'])"
      ],
      "execution_count": 0,
      "outputs": []
    },
    {
      "metadata": {
        "id": "swQPMLxipiZS",
        "colab_type": "code",
        "colab": {}
      },
      "cell_type": "code",
      "source": [
        "sequences = tokenizer.texts_to_sequences(transcript_GE['text'])\n",
        "data = pad_sequences(sequences, maxlen=150)"
      ],
      "execution_count": 0,
      "outputs": []
    },
    {
      "metadata": {
        "id": "LtiGuUcBpfBk",
        "colab_type": "code",
        "colab": {
          "base_uri": "https://localhost:8080/",
          "height": 138
        },
        "outputId": "09f5cb7f-733d-47d8-e6c8-8be14d40bd48"
      },
      "cell_type": "code",
      "source": [
        "X_tra_GE = data\n",
        "X_tra_GE"
      ],
      "execution_count": 58,
      "outputs": [
        {
          "output_type": "execute_result",
          "data": {
            "text/plain": [
              "array([[  0,   0,   0, ...,  26,  31, 960],\n",
              "       [  0,   0,   0, ...,  17,   9, 479],\n",
              "       [  0,   0,   0, ...,  23, 483, 484],\n",
              "       ...,\n",
              "       [  0,   0,   0, ...,   3, 143, 304],\n",
              "       [  0,   0,   0, ..., 144,  34, 853],\n",
              "       [  0,   0,   0, ...,   1, 381, 149]], dtype=int32)"
            ]
          },
          "metadata": {
            "tags": []
          },
          "execution_count": 58
        }
      ]
    },
    {
      "metadata": {
        "id": "KT4F8oxF0cZW",
        "colab_type": "code",
        "colab": {
          "base_uri": "https://localhost:8080/",
          "height": 103
        },
        "outputId": "b57c80a6-af8f-41b0-e3c6-f8e31ac6552d"
      },
      "cell_type": "code",
      "source": [
        "from sklearn.preprocessing import LabelEncoder\n",
        "\n",
        "le = LabelEncoder()\n",
        "Y_le = le.fit_transform(transcript_GE['sentiment'])\n",
        "Y_le"
      ],
      "execution_count": 59,
      "outputs": [
        {
          "output_type": "execute_result",
          "data": {
            "text/plain": [
              "array([0, 0, 0, 0, 0, 1, 1, 1, 1, 0, 1, 1, 1, 0, 0, 1, 0, 1, 0, 1, 0, 0,\n",
              "       1, 1, 0, 0, 0, 1, 0, 1, 0, 1, 1, 1, 1, 1, 0, 1, 0, 0, 0, 0, 0, 1,\n",
              "       0, 1, 0, 0, 0, 0, 1, 0, 0, 0, 0, 0, 1, 1, 0, 0, 0, 1, 1, 1, 1, 0,\n",
              "       1, 0, 0, 0, 1, 1, 0, 0, 0, 1, 1, 0, 0, 1, 1, 0, 0, 1, 1, 0, 1, 1,\n",
              "       1, 1, 0, 1, 1, 0, 1, 1, 1, 1, 0, 0, 1, 0, 1, 1, 0, 1, 1, 1, 1, 0])"
            ]
          },
          "metadata": {
            "tags": []
          },
          "execution_count": 59
        }
      ]
    },
    {
      "metadata": {
        "id": "xxkXYc6JQjZ2",
        "colab_type": "code",
        "colab": {
          "base_uri": "https://localhost:8080/",
          "height": 34
        },
        "outputId": "6f16c73b-2637-48dc-87c9-dd5d72991b7f"
      },
      "cell_type": "code",
      "source": [
        "Y_pred_GE_sr = model_sr.predict(X_tra_GE)\n",
        "\n",
        "\n",
        "Y_pred_GE_sr1 =  pd.DataFrame(Y_pred_GE_sr,columns=['sentiment_score'])\n",
        "Y_pred_GE_sr1\n",
        "\n",
        "Y_pred_GE_sr1.loc[ Y_pred_GE_sr1['sentiment_score'] >= 0.5, 'sentiment'] = 1\n",
        "Y_pred_GE_sr1.loc[ Y_pred_GE_sr1['sentiment_score'] < 0.5, 'sentiment'] = 0\n",
        "Y_pred_GE_sr1\n",
        "\n",
        "accuracy_score(Y_le, Y_pred_GE_sr1.sentiment)"
      ],
      "execution_count": 60,
      "outputs": [
        {
          "output_type": "execute_result",
          "data": {
            "text/plain": [
              "0.509090909090909"
            ]
          },
          "metadata": {
            "tags": []
          },
          "execution_count": 60
        }
      ]
    },
    {
      "metadata": {
        "id": "X1xstrAjpwv4",
        "colab_type": "code",
        "colab": {
          "base_uri": "https://localhost:8080/",
          "height": 393
        },
        "outputId": "58ad56d6-e5b9-4a74-bc2b-c8fc135b787a"
      },
      "cell_type": "code",
      "source": [
        "import matplotlib.pyplot as plt\n",
        "import seaborn as sns\n",
        "\n",
        "ax= plt.subplot()\n",
        "#cm = classification_report(y_test, y_pred_lstm)\n",
        "sns.heatmap(confusion_matrix(Y_le, Y_pred_GE_sr1.sentiment), annot=True, ax = ax, fmt='g'); #annot=True to annotate cells\n",
        "\n",
        "# labels, title and ticks\n",
        "ax.set_xlabel('Predicted labels');ax.set_ylabel('True labels'); \n",
        "ax.set_title('Confusion Matrix'); \n",
        "ax.xaxis.set_ticklabels(['Negative', 'Positive'])\n",
        "ax.yaxis.set_ticklabels(['Positive', 'Negative'])"
      ],
      "execution_count": 61,
      "outputs": [
        {
          "output_type": "execute_result",
          "data": {
            "text/plain": [
              "[Text(0, 0.5, 'Positive'), Text(0, 1.5, 'Negative')]"
            ]
          },
          "metadata": {
            "tags": []
          },
          "execution_count": 61
        },
        {
          "output_type": "display_data",
          "data": {
            "image/png": "[encoded data removed]",
            "text/plain": [
              "<Figure size 576x396 with 2 Axes>"
            ]
          },
          "metadata": {
            "tags": []
          }
        }
      ]
    },
    {
      "metadata": {
        "id": "2JaEO-G28rsG",
        "colab_type": "code",
        "colab": {
          "base_uri": "https://localhost:8080/",
          "height": 138
        },
        "outputId": "e7839ff6-e452-4ad9-b47e-c0f9a9df8b09"
      },
      "cell_type": "code",
      "source": [
        "sequences = tokenizer.texts_to_sequences(transcript_GE['text'])\n",
        "data = pad_sequences(sequences, maxlen=200)\n",
        "\n",
        "X_tra_GE = data\n",
        "X_tra_GE"
      ],
      "execution_count": 72,
      "outputs": [
        {
          "output_type": "execute_result",
          "data": {
            "text/plain": [
              "array([[  0,   0,   0, ...,  26,  31, 960],\n",
              "       [  0,   0,   0, ...,  17,   9, 479],\n",
              "       [  0,   0,   0, ...,  23, 483, 484],\n",
              "       ...,\n",
              "       [  0,   0,   0, ...,   3, 143, 304],\n",
              "       [  0,   0,   0, ..., 144,  34, 853],\n",
              "       [  0,   0,   0, ...,   1, 381, 149]], dtype=int32)"
            ]
          },
          "metadata": {
            "tags": []
          },
          "execution_count": 72
        }
      ]
    },
    {
      "metadata": {
        "id": "gPlMnvQK0nrM",
        "colab_type": "code",
        "colab": {
          "base_uri": "https://localhost:8080/",
          "height": 34
        },
        "outputId": "29faf345-2001-468c-ede0-bc674b69e0bf"
      },
      "cell_type": "code",
      "source": [
        "Y_pred_GE_gru = model_GRU.predict(X_tra_GE)\n",
        "\n",
        "\n",
        "Y_pred_GE_gru1 =  pd.DataFrame(Y_pred_GE_gru,columns=['sentiment_score'])\n",
        "Y_pred_GE_gru1\n",
        "\n",
        "Y_pred_GE_gru1.loc[ Y_pred_GE_gru1['sentiment_score'] >= 0.5, 'sentiment'] = 1\n",
        "Y_pred_GE_gru1.loc[ Y_pred_GE_gru1['sentiment_score'] < 0.5, 'sentiment'] = 0\n",
        "Y_pred_GE_gru1\n",
        "\n",
        "accuracy_score(Y_le, Y_pred_GE_gru1.sentiment)"
      ],
      "execution_count": 73,
      "outputs": [
        {
          "output_type": "execute_result",
          "data": {
            "text/plain": [
              "0.44545454545454544"
            ]
          },
          "metadata": {
            "tags": []
          },
          "execution_count": 73
        }
      ]
    },
    {
      "metadata": {
        "id": "uUNR-2uX1Lzf",
        "colab_type": "code",
        "colab": {
          "base_uri": "https://localhost:8080/",
          "height": 34
        },
        "outputId": "7a8e897a-e24d-48c1-f6ed-3834efa0d48a"
      },
      "cell_type": "code",
      "source": [
        "Y_pred_GE_lstm = model_lstm.predict(X_tra_GE)\n",
        "\n",
        "\n",
        "Y_pred_GE_lstm1 =  pd.DataFrame(Y_pred_GE_lstm,columns=['sentiment_score'])\n",
        "Y_pred_GE_lstm1\n",
        "\n",
        "Y_pred_GE_lstm1.loc[ Y_pred_GE_lstm1['sentiment_score'] >= 0.5, 'sentiment'] = 1\n",
        "Y_pred_GE_lstm1.loc[ Y_pred_GE_lstm1['sentiment_score'] < 0.5, 'sentiment'] = 0\n",
        "Y_pred_GE_lstm1\n",
        "\n",
        "accuracy_score(Y_le, Y_pred_GE_lstm1.sentiment)"
      ],
      "execution_count": 76,
      "outputs": [
        {
          "output_type": "execute_result",
          "data": {
            "text/plain": [
              "0.5181818181818182"
            ]
          },
          "metadata": {
            "tags": []
          },
          "execution_count": 76
        }
      ]
    },
    {
      "metadata": {
        "id": "j7hFcqlR9DDg",
        "colab_type": "code",
        "colab": {
          "base_uri": "https://localhost:8080/",
          "height": 393
        },
        "outputId": "4da14c37-9f69-43b4-c7c8-6aa0028b4763"
      },
      "cell_type": "code",
      "source": [
        "import matplotlib.pyplot as plt\n",
        "import seaborn as sns\n",
        "\n",
        "ax= plt.subplot()\n",
        "#cm = classification_report(y_test, y_pred_lstm)\n",
        "sns.heatmap(confusion_matrix(Y_le, Y_pred_GE_lstm1.sentiment), annot=True, ax = ax, fmt='g'); #annot=True to annotate cells\n",
        "\n",
        "# labels, title and ticks\n",
        "ax.set_xlabel('Predicted labels');ax.set_ylabel('True labels'); \n",
        "ax.set_title('Confusion Matrix'); \n",
        "ax.xaxis.set_ticklabels(['Negative', 'Positive'])\n",
        "ax.yaxis.set_ticklabels(['Positive', 'Negative'])"
      ],
      "execution_count": 74,
      "outputs": [
        {
          "output_type": "execute_result",
          "data": {
            "text/plain": [
              "[Text(0, 0.5, 'Positive'), Text(0, 1.5, 'Negative')]"
            ]
          },
          "metadata": {
            "tags": []
          },
          "execution_count": 74
        },
        {
          "output_type": "display_data",
          "data": {
            "image/png": "[encoded data removed]",
            "text/plain": [
              "<Figure size 576x396 with 2 Axes>"
            ]
          },
          "metadata": {
            "tags": []
          }
        }
      ]
    }
  ]
}