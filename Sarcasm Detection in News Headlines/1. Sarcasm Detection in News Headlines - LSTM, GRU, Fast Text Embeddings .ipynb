{
 "cells": [
  {
   "cell_type": "markdown",
   "metadata": {},
   "source": [
    "# Abstract\n",
    "\n",
    "\n",
    "### Can you identify Sarcastic sentences? \n",
    "### Can you distinguish between Fake news and Legitimate news?\n",
    "\n",
    "Since news headlines are written by professionals in a formal manner, there are no spelling mistakes and informal usage. This reduces the sparsity and also increases the chance of finding pre-trained embeddings.\n",
    "\n",
    "Furthermore, since the sole purpose of TheOnion is to publish sarcastic news, we get high-quality labels with much less noise as compared to Twitter datasets.\n",
    "\n",
    "### Dataset \n",
    "\n",
    "The Dataset used for this task is 'News Headlines Dataset for Sarcasm Detection' from Kaggle.\n",
    "\n",
    "Each record consists of three attributes:\n",
    "\n",
    "- is_sarcastic: 1 if the record is sarcastic otherwise 0\n",
    "\n",
    "- headline: the headline of the news article\n",
    "\n",
    "- article_link: link to the original news article. Useful in collecting supplementary data\n",
    "\n",
    "### Deep Learning Framework\n",
    "\n",
    "I will be using Tensorflow to implement the Deep Learning Models for this Project. "
   ]
  },
  {
   "cell_type": "markdown",
   "metadata": {},
   "source": [
    "### Import libraries"
   ]
  },
  {
   "cell_type": "code",
   "execution_count": 53,
   "metadata": {},
   "outputs": [],
   "source": [
    "import json\n",
    "import pandas as pd\n",
    "import os\n",
    "import seaborn as sns\n",
    "import matplotlib.pyplot as plt\n",
    "from sklearn.model_selection import train_test_split\n",
    "\n",
    "import tensorflow as tf\n",
    "from tensorflow.keras.preprocessing.text import Tokenizer\n",
    "from tensorflow.keras.preprocessing.sequence import pad_sequences\n",
    "\n",
    "import warnings\n",
    "warnings.filterwarnings(\"ignore\")"
   ]
  },
  {
   "cell_type": "code",
   "execution_count": 2,
   "metadata": {},
   "outputs": [],
   "source": [
    "os.chdir(r'N:\\NATURAL LANGUAGE PROCESSING\\NLP Projects\\Sarcasm Detection in News Headlines')"
   ]
  },
  {
   "cell_type": "code",
   "execution_count": 3,
   "metadata": {},
   "outputs": [
    {
     "data": {
      "text/html": [
       "<div>\n",
       "<style scoped>\n",
       "    .dataframe tbody tr th:only-of-type {\n",
       "        vertical-align: middle;\n",
       "    }\n",
       "\n",
       "    .dataframe tbody tr th {\n",
       "        vertical-align: top;\n",
       "    }\n",
       "\n",
       "    .dataframe thead th {\n",
       "        text-align: right;\n",
       "    }\n",
       "</style>\n",
       "<table border=\"1\" class=\"dataframe\">\n",
       "  <thead>\n",
       "    <tr style=\"text-align: right;\">\n",
       "      <th></th>\n",
       "      <th>is_sarcastic</th>\n",
       "      <th>headline</th>\n",
       "      <th>article_link</th>\n",
       "    </tr>\n",
       "  </thead>\n",
       "  <tbody>\n",
       "    <tr>\n",
       "      <th>0</th>\n",
       "      <td>1</td>\n",
       "      <td>thirtysomething scientists unveil doomsday clo...</td>\n",
       "      <td>https://www.theonion.com/thirtysomething-scien...</td>\n",
       "    </tr>\n",
       "    <tr>\n",
       "      <th>1</th>\n",
       "      <td>0</td>\n",
       "      <td>dem rep. totally nails why congress is falling...</td>\n",
       "      <td>https://www.huffingtonpost.com/entry/donna-edw...</td>\n",
       "    </tr>\n",
       "    <tr>\n",
       "      <th>2</th>\n",
       "      <td>0</td>\n",
       "      <td>eat your veggies: 9 deliciously different recipes</td>\n",
       "      <td>https://www.huffingtonpost.com/entry/eat-your-...</td>\n",
       "    </tr>\n",
       "    <tr>\n",
       "      <th>3</th>\n",
       "      <td>1</td>\n",
       "      <td>inclement weather prevents liar from getting t...</td>\n",
       "      <td>https://local.theonion.com/inclement-weather-p...</td>\n",
       "    </tr>\n",
       "    <tr>\n",
       "      <th>4</th>\n",
       "      <td>1</td>\n",
       "      <td>mother comes pretty close to using word 'strea...</td>\n",
       "      <td>https://www.theonion.com/mother-comes-pretty-c...</td>\n",
       "    </tr>\n",
       "  </tbody>\n",
       "</table>\n",
       "</div>"
      ],
      "text/plain": [
       "   is_sarcastic                                           headline  \\\n",
       "0             1  thirtysomething scientists unveil doomsday clo...   \n",
       "1             0  dem rep. totally nails why congress is falling...   \n",
       "2             0  eat your veggies: 9 deliciously different recipes   \n",
       "3             1  inclement weather prevents liar from getting t...   \n",
       "4             1  mother comes pretty close to using word 'strea...   \n",
       "\n",
       "                                        article_link  \n",
       "0  https://www.theonion.com/thirtysomething-scien...  \n",
       "1  https://www.huffingtonpost.com/entry/donna-edw...  \n",
       "2  https://www.huffingtonpost.com/entry/eat-your-...  \n",
       "3  https://local.theonion.com/inclement-weather-p...  \n",
       "4  https://www.theonion.com/mother-comes-pretty-c...  "
      ]
     },
     "execution_count": 3,
     "metadata": {},
     "output_type": "execute_result"
    }
   ],
   "source": [
    "df_News = pd.read_json('Sarcasm_Headlines_Dataset_v2.json', lines=True)\n",
    "df_News.head()"
   ]
  },
  {
   "cell_type": "markdown",
   "metadata": {},
   "source": [
    "### Exploratory Data Analysis"
   ]
  },
  {
   "cell_type": "code",
   "execution_count": 4,
   "metadata": {},
   "outputs": [
    {
     "data": {
      "text/plain": [
       "(28619, 3)"
      ]
     },
     "execution_count": 4,
     "metadata": {},
     "output_type": "execute_result"
    }
   ],
   "source": [
    "df_News.shape"
   ]
  },
  {
   "cell_type": "code",
   "execution_count": 5,
   "metadata": {},
   "outputs": [
    {
     "name": "stdout",
     "output_type": "stream",
     "text": [
      "<class 'pandas.core.frame.DataFrame'>\n",
      "RangeIndex: 28619 entries, 0 to 28618\n",
      "Data columns (total 3 columns):\n",
      "is_sarcastic    28619 non-null int64\n",
      "headline        28619 non-null object\n",
      "article_link    28619 non-null object\n",
      "dtypes: int64(1), object(2)\n",
      "memory usage: 670.9+ KB\n"
     ]
    }
   ],
   "source": [
    "df_News.info()"
   ]
  },
  {
   "cell_type": "code",
   "execution_count": 6,
   "metadata": {},
   "outputs": [
    {
     "data": {
      "text/html": [
       "<div>\n",
       "<style scoped>\n",
       "    .dataframe tbody tr th:only-of-type {\n",
       "        vertical-align: middle;\n",
       "    }\n",
       "\n",
       "    .dataframe tbody tr th {\n",
       "        vertical-align: top;\n",
       "    }\n",
       "\n",
       "    .dataframe thead th {\n",
       "        text-align: right;\n",
       "    }\n",
       "</style>\n",
       "<table border=\"1\" class=\"dataframe\">\n",
       "  <thead>\n",
       "    <tr style=\"text-align: right;\">\n",
       "      <th></th>\n",
       "      <th>is_sarcastic</th>\n",
       "      <th>headline</th>\n",
       "      <th>article_link</th>\n",
       "    </tr>\n",
       "  </thead>\n",
       "  <tbody>\n",
       "    <tr>\n",
       "      <th>0</th>\n",
       "      <td>1</td>\n",
       "      <td>thirtysomething scientists unveil doomsday clo...</td>\n",
       "      <td>https://www.theonion.com/thirtysomething-scien...</td>\n",
       "    </tr>\n",
       "    <tr>\n",
       "      <th>3</th>\n",
       "      <td>1</td>\n",
       "      <td>inclement weather prevents liar from getting t...</td>\n",
       "      <td>https://local.theonion.com/inclement-weather-p...</td>\n",
       "    </tr>\n",
       "    <tr>\n",
       "      <th>4</th>\n",
       "      <td>1</td>\n",
       "      <td>mother comes pretty close to using word 'strea...</td>\n",
       "      <td>https://www.theonion.com/mother-comes-pretty-c...</td>\n",
       "    </tr>\n",
       "    <tr>\n",
       "      <th>7</th>\n",
       "      <td>1</td>\n",
       "      <td>richard branson's global-warming donation near...</td>\n",
       "      <td>https://www.theonion.com/richard-bransons-glob...</td>\n",
       "    </tr>\n",
       "    <tr>\n",
       "      <th>8</th>\n",
       "      <td>1</td>\n",
       "      <td>shadow government getting too large to meet in...</td>\n",
       "      <td>https://politics.theonion.com/shadow-governmen...</td>\n",
       "    </tr>\n",
       "  </tbody>\n",
       "</table>\n",
       "</div>"
      ],
      "text/plain": [
       "   is_sarcastic                                           headline  \\\n",
       "0             1  thirtysomething scientists unveil doomsday clo...   \n",
       "3             1  inclement weather prevents liar from getting t...   \n",
       "4             1  mother comes pretty close to using word 'strea...   \n",
       "7             1  richard branson's global-warming donation near...   \n",
       "8             1  shadow government getting too large to meet in...   \n",
       "\n",
       "                                        article_link  \n",
       "0  https://www.theonion.com/thirtysomething-scien...  \n",
       "3  https://local.theonion.com/inclement-weather-p...  \n",
       "4  https://www.theonion.com/mother-comes-pretty-c...  \n",
       "7  https://www.theonion.com/richard-bransons-glob...  \n",
       "8  https://politics.theonion.com/shadow-governmen...  "
      ]
     },
     "execution_count": 6,
     "metadata": {},
     "output_type": "execute_result"
    }
   ],
   "source": [
    "# looking at some sarcastic and legitimate news\n",
    "df_News[df_News.is_sarcastic == 1].head(5)"
   ]
  },
  {
   "cell_type": "code",
   "execution_count": 7,
   "metadata": {},
   "outputs": [
    {
     "data": {
      "text/html": [
       "<div>\n",
       "<style scoped>\n",
       "    .dataframe tbody tr th:only-of-type {\n",
       "        vertical-align: middle;\n",
       "    }\n",
       "\n",
       "    .dataframe tbody tr th {\n",
       "        vertical-align: top;\n",
       "    }\n",
       "\n",
       "    .dataframe thead th {\n",
       "        text-align: right;\n",
       "    }\n",
       "</style>\n",
       "<table border=\"1\" class=\"dataframe\">\n",
       "  <thead>\n",
       "    <tr style=\"text-align: right;\">\n",
       "      <th></th>\n",
       "      <th>is_sarcastic</th>\n",
       "      <th>headline</th>\n",
       "      <th>article_link</th>\n",
       "    </tr>\n",
       "  </thead>\n",
       "  <tbody>\n",
       "    <tr>\n",
       "      <th>1</th>\n",
       "      <td>0</td>\n",
       "      <td>dem rep. totally nails why congress is falling...</td>\n",
       "      <td>https://www.huffingtonpost.com/entry/donna-edw...</td>\n",
       "    </tr>\n",
       "    <tr>\n",
       "      <th>2</th>\n",
       "      <td>0</td>\n",
       "      <td>eat your veggies: 9 deliciously different recipes</td>\n",
       "      <td>https://www.huffingtonpost.com/entry/eat-your-...</td>\n",
       "    </tr>\n",
       "    <tr>\n",
       "      <th>5</th>\n",
       "      <td>0</td>\n",
       "      <td>my white inheritance</td>\n",
       "      <td>https://www.huffingtonpost.com/entry/my-white-...</td>\n",
       "    </tr>\n",
       "    <tr>\n",
       "      <th>6</th>\n",
       "      <td>0</td>\n",
       "      <td>5 ways to file your taxes with less stress</td>\n",
       "      <td>https://www.huffingtonpost.com/entry/5-ways-to...</td>\n",
       "    </tr>\n",
       "    <tr>\n",
       "      <th>9</th>\n",
       "      <td>0</td>\n",
       "      <td>lots of parents know this scenario</td>\n",
       "      <td>https://www.huffingtonpost.comhttp://pubx.co/6...</td>\n",
       "    </tr>\n",
       "  </tbody>\n",
       "</table>\n",
       "</div>"
      ],
      "text/plain": [
       "   is_sarcastic                                           headline  \\\n",
       "1             0  dem rep. totally nails why congress is falling...   \n",
       "2             0  eat your veggies: 9 deliciously different recipes   \n",
       "5             0                               my white inheritance   \n",
       "6             0         5 ways to file your taxes with less stress   \n",
       "9             0                 lots of parents know this scenario   \n",
       "\n",
       "                                        article_link  \n",
       "1  https://www.huffingtonpost.com/entry/donna-edw...  \n",
       "2  https://www.huffingtonpost.com/entry/eat-your-...  \n",
       "5  https://www.huffingtonpost.com/entry/my-white-...  \n",
       "6  https://www.huffingtonpost.com/entry/5-ways-to...  \n",
       "9  https://www.huffingtonpost.comhttp://pubx.co/6...  "
      ]
     },
     "execution_count": 7,
     "metadata": {},
     "output_type": "execute_result"
    }
   ],
   "source": [
    "df_News[df_News.is_sarcastic == 0].head(5)"
   ]
  },
  {
   "cell_type": "markdown",
   "metadata": {},
   "source": [
    "#### Target Column Distribution"
   ]
  },
  {
   "cell_type": "code",
   "execution_count": 8,
   "metadata": {},
   "outputs": [
    {
     "data": {
      "text/plain": [
       "0    14985\n",
       "1    13634\n",
       "Name: is_sarcastic, dtype: int64"
      ]
     },
     "execution_count": 8,
     "metadata": {},
     "output_type": "execute_result"
    }
   ],
   "source": [
    "df_News.is_sarcastic.value_counts()"
   ]
  },
  {
   "cell_type": "markdown",
   "metadata": {},
   "source": [
    "The dataset appears to be balanced for Sarcastic and legitimate news"
   ]
  },
  {
   "cell_type": "code",
   "execution_count": 9,
   "metadata": {},
   "outputs": [
    {
     "data": {
      "text/plain": [
       "<matplotlib.axes._subplots.AxesSubplot at 0x1a32f00f710>"
      ]
     },
     "execution_count": 9,
     "metadata": {},
     "output_type": "execute_result"
    },
    {
     "data": {
      "image/png": "[encoded data removed]",
      "text/plain": [
       "<Figure size 432x288 with 1 Axes>"
      ]
     },
     "metadata": {
      "needs_background": "light"
     },
     "output_type": "display_data"
    }
   ],
   "source": [
    "sns.countplot(df_News.is_sarcastic)"
   ]
  },
  {
   "cell_type": "code",
   "execution_count": 10,
   "metadata": {},
   "outputs": [
    {
     "data": {
      "text/plain": [
       "<matplotlib.image.AxesImage at 0x1a32ebcdfd0>"
      ]
     },
     "execution_count": 10,
     "metadata": {},
     "output_type": "execute_result"
    },
    {
     "data": {
      "image/png": "[encoded data removed]",
      "text/plain": [
       "<Figure size 432x288 with 1 Axes>"
      ]
     },
     "metadata": {
      "needs_background": "light"
     },
     "output_type": "display_data"
    }
   ],
   "source": [
    "from wordcloud import WordCloud, STOPWORDS\n",
    "\n",
    "wordcloud = WordCloud(background_color='black',\n",
    "                    stopwords = STOPWORDS,\n",
    "                    max_words = 100,\n",
    "                    random_state = 101, \n",
    "                    width=1800, \n",
    "                    height=1000)\n",
    "wordcloud.generate(str(df_News['headline']))\n",
    "plt.imshow(wordcloud)"
   ]
  },
  {
   "cell_type": "markdown",
   "metadata": {},
   "source": [
    "#### Headline length distribution"
   ]
  },
  {
   "cell_type": "code",
   "execution_count": 11,
   "metadata": {},
   "outputs": [],
   "source": [
    "df_News['headline_len'] = df_News.headline.apply(lambda x: len(x.split()))"
   ]
  },
  {
   "cell_type": "code",
   "execution_count": 12,
   "metadata": {},
   "outputs": [],
   "source": [
    "sarcastic = df_News[df_News.is_sarcastic == 1]\n",
    "legit = df_News[df_News.is_sarcastic == 0]"
   ]
  },
  {
   "cell_type": "code",
   "execution_count": 13,
   "metadata": {},
   "outputs": [
    {
     "data": {
      "image/png": "[encoded data removed]",
      "text/plain": [
       "<Figure size 576x360 with 1 Axes>"
      ]
     },
     "metadata": {
      "needs_background": "light"
     },
     "output_type": "display_data"
    }
   ],
   "source": [
    "plt.figure(figsize=(8,5))\n",
    "sns.distplot(sarcastic.headline_len, hist= True, label= 'Sarcastic')\n",
    "sns.distplot(legit.headline_len, hist= True, label= 'legitimate')\n",
    "plt.legend()\n",
    "plt.title('News Headline Length Distribution by Class', fontsize = 10)\n",
    "plt.show()"
   ]
  },
  {
   "cell_type": "markdown",
   "metadata": {},
   "source": [
    "### Data Cleaning & Pre-processing\n",
    "\n",
    "I will be doing just some basic Pre-processing, as these are News Headlines which are written by Professionals in a formal way, so to not remove anything which can help with context, I will only remove punctuations and apply lemmatization"
   ]
  },
  {
   "cell_type": "code",
   "execution_count": 14,
   "metadata": {},
   "outputs": [],
   "source": [
    "df_News = df_News.drop(columns=['article_link'])"
   ]
  },
  {
   "cell_type": "code",
   "execution_count": 15,
   "metadata": {},
   "outputs": [],
   "source": [
    "from nltk.stem.wordnet import WordNetLemmatizer\n",
    "import re, string\n",
    "from nltk.corpus import stopwords\n",
    "\n",
    "lem = WordNetLemmatizer()\n",
    "stop_words = set(stopwords.words(\"english\"))\n",
    "punctuations = string.punctuation"
   ]
  },
  {
   "cell_type": "code",
   "execution_count": 16,
   "metadata": {},
   "outputs": [],
   "source": [
    "def clean_text(news):\n",
    "    \"\"\"\n",
    "    This function receives Text and returns clean word-list\n",
    "    \"\"\"\n",
    "    news = news.lower()\n",
    "    news = re.sub(\"\\\\n\", \"\", news)\n",
    "    #news = re.sub(\"\\W+\", \" \", news)\n",
    "    \n",
    "    #Split the sentences into words\n",
    "    words = list(news.split())\n",
    "    \n",
    "    words = [lem.lemmatize(word, \"v\") for word in words]\n",
    "    words = [w for w in words if w not in punctuations]\n",
    "    #words = [w for w in words if w not in stop_words]\n",
    "    #words = [''.join(x for x in w if x.isalpha()) for w in words]\n",
    "\n",
    "    clean_sen = \" \".join(words)\n",
    "    \n",
    "    return clean_sen"
   ]
  },
  {
   "cell_type": "code",
   "execution_count": 17,
   "metadata": {},
   "outputs": [
    {
     "data": {
      "text/html": [
       "<div>\n",
       "<style scoped>\n",
       "    .dataframe tbody tr th:only-of-type {\n",
       "        vertical-align: middle;\n",
       "    }\n",
       "\n",
       "    .dataframe tbody tr th {\n",
       "        vertical-align: top;\n",
       "    }\n",
       "\n",
       "    .dataframe thead th {\n",
       "        text-align: right;\n",
       "    }\n",
       "</style>\n",
       "<table border=\"1\" class=\"dataframe\">\n",
       "  <thead>\n",
       "    <tr style=\"text-align: right;\">\n",
       "      <th></th>\n",
       "      <th>is_sarcastic</th>\n",
       "      <th>headline</th>\n",
       "      <th>headline_len</th>\n",
       "      <th>news_headline</th>\n",
       "    </tr>\n",
       "  </thead>\n",
       "  <tbody>\n",
       "    <tr>\n",
       "      <th>0</th>\n",
       "      <td>1</td>\n",
       "      <td>thirtysomething scientists unveil doomsday clo...</td>\n",
       "      <td>8</td>\n",
       "      <td>thirtysomething scientists unveil doomsday clo...</td>\n",
       "    </tr>\n",
       "    <tr>\n",
       "      <th>1</th>\n",
       "      <td>0</td>\n",
       "      <td>dem rep. totally nails why congress is falling...</td>\n",
       "      <td>13</td>\n",
       "      <td>dem rep. totally nail why congress be fall sho...</td>\n",
       "    </tr>\n",
       "    <tr>\n",
       "      <th>2</th>\n",
       "      <td>0</td>\n",
       "      <td>eat your veggies: 9 deliciously different recipes</td>\n",
       "      <td>7</td>\n",
       "      <td>eat your veggies: 9 deliciously different recipes</td>\n",
       "    </tr>\n",
       "    <tr>\n",
       "      <th>3</th>\n",
       "      <td>1</td>\n",
       "      <td>inclement weather prevents liar from getting t...</td>\n",
       "      <td>8</td>\n",
       "      <td>inclement weather prevent liar from get to work</td>\n",
       "    </tr>\n",
       "    <tr>\n",
       "      <th>4</th>\n",
       "      <td>1</td>\n",
       "      <td>mother comes pretty close to using word 'strea...</td>\n",
       "      <td>9</td>\n",
       "      <td>mother come pretty close to use word 'streamin...</td>\n",
       "    </tr>\n",
       "  </tbody>\n",
       "</table>\n",
       "</div>"
      ],
      "text/plain": [
       "   is_sarcastic                                           headline  \\\n",
       "0             1  thirtysomething scientists unveil doomsday clo...   \n",
       "1             0  dem rep. totally nails why congress is falling...   \n",
       "2             0  eat your veggies: 9 deliciously different recipes   \n",
       "3             1  inclement weather prevents liar from getting t...   \n",
       "4             1  mother comes pretty close to using word 'strea...   \n",
       "\n",
       "   headline_len                                      news_headline  \n",
       "0             8  thirtysomething scientists unveil doomsday clo...  \n",
       "1            13  dem rep. totally nail why congress be fall sho...  \n",
       "2             7  eat your veggies: 9 deliciously different recipes  \n",
       "3             8    inclement weather prevent liar from get to work  \n",
       "4             9  mother come pretty close to use word 'streamin...  "
      ]
     },
     "execution_count": 17,
     "metadata": {},
     "output_type": "execute_result"
    }
   ],
   "source": [
    "df_News['news_headline'] = df_News.headline.apply(lambda news: clean_text(news)) \n",
    "df_News.head()"
   ]
  },
  {
   "cell_type": "code",
   "execution_count": 18,
   "metadata": {},
   "outputs": [
    {
     "data": {
      "text/plain": [
       "is_sarcastic\n",
       "0     9.815616\n",
       "1    10.307540\n",
       "Name: headline_len, dtype: float64"
      ]
     },
     "execution_count": 18,
     "metadata": {},
     "output_type": "execute_result"
    }
   ],
   "source": [
    "df_News.groupby(['is_sarcastic']).headline_len.mean()"
   ]
  },
  {
   "cell_type": "markdown",
   "metadata": {},
   "source": [
    "Lets prepare the data for Predictive Modeling now"
   ]
  },
  {
   "cell_type": "markdown",
   "metadata": {},
   "source": [
    "### Stratified Split\n",
    "\n",
    "I am using Stratified split to sample approx equal number of instances for training for both the categories of Target. "
   ]
  },
  {
   "cell_type": "code",
   "execution_count": 19,
   "metadata": {},
   "outputs": [],
   "source": [
    "headlines = df_News['news_headline']\n",
    "labels = df_News['is_sarcastic'] "
   ]
  },
  {
   "cell_type": "code",
   "execution_count": 20,
   "metadata": {},
   "outputs": [],
   "source": [
    "train_sentences, test_sentences, train_labels, test_labels = train_test_split(headlines, labels, test_size=0.2, stratify=labels, random_state=42)"
   ]
  },
  {
   "cell_type": "code",
   "execution_count": 21,
   "metadata": {},
   "outputs": [
    {
     "data": {
      "text/plain": [
       "0    11988\n",
       "1    10907\n",
       "Name: is_sarcastic, dtype: int64"
      ]
     },
     "execution_count": 21,
     "metadata": {},
     "output_type": "execute_result"
    }
   ],
   "source": [
    "train_labels.value_counts()"
   ]
  },
  {
   "cell_type": "markdown",
   "metadata": {},
   "source": [
    "### Converting News Headlines into Sequences of tokens"
   ]
  },
  {
   "cell_type": "code",
   "execution_count": 22,
   "metadata": {},
   "outputs": [],
   "source": [
    "#Defining Hyperparameters to be used\n",
    "\n",
    "max_words = 20000     # how many unique words to use (i.e num rows in embedding vector)\n",
    "max_len = 60       # max number of words in a headline to use\n",
    "oov_token = '<00V>'    # for the words which are not in training samples\n",
    "padding_type = 'post'   # padding type\n",
    "trunc_type = 'post'    # truncation for headlines longer than max length\n",
    "embed_size = 64    # how big is each word vector"
   ]
  },
  {
   "cell_type": "code",
   "execution_count": 23,
   "metadata": {},
   "outputs": [],
   "source": [
    "tokenizer = Tokenizer(num_words=max_words, oov_token=oov_token)\n",
    "tokenizer.fit_on_texts(train_sentences)\n",
    "\n",
    "#word_index = tokenizer.word_index"
   ]
  },
  {
   "cell_type": "code",
   "execution_count": 24,
   "metadata": {},
   "outputs": [],
   "source": [
    "train_sequences = tokenizer.texts_to_sequences(train_sentences)\n",
    "train_sequences = pad_sequences(train_sequences, maxlen=max_len, padding=padding_type, truncating=trunc_type)\n",
    "\n",
    "test_sequences = tokenizer.texts_to_sequences(test_sentences)\n",
    "test_sequences = pad_sequences(test_sequences, maxlen=max_len, padding=padding_type, truncating=trunc_type)"
   ]
  },
  {
   "cell_type": "code",
   "execution_count": 25,
   "metadata": {},
   "outputs": [
    {
     "data": {
      "text/plain": [
       "array([[ 4249,  1037,  2950, ...,     0,     0,     0],\n",
       "       [ 2067,  6634,  8466, ...,     0,     0,     0],\n",
       "       [ 2580,  1232,  1114, ...,     0,     0,     0],\n",
       "       ...,\n",
       "       [  999,  2767,   963, ...,     0,     0,     0],\n",
       "       [  302, 12050,   346, ...,     0,     0,     0],\n",
       "       [  177,    95,   722, ...,     0,     0,     0]])"
      ]
     },
     "execution_count": 25,
     "metadata": {},
     "output_type": "execute_result"
    }
   ],
   "source": [
    "train_sequences"
   ]
  },
  {
   "cell_type": "markdown",
   "metadata": {},
   "source": [
    "## Predictive Modeling\n",
    "\n",
    "Our aim is to build a binary Classification model which given a sequence of text, can classify it as Sarcastic or not, or Fake news or real news. \n",
    "\n",
    "- ### A. I will try below different models and see which works best. \n",
    "\n",
    "    1. Neural Network with Embedding\n",
    "    2. RNN(Recurrent Neural Network)\n",
    "    3. LSTM(Long-short term Memory) with GlobalAveragePooling\n",
    "    4. LSTM with GlobalMaxPooling\n",
    "    5. Stacked LSTM\n",
    "    6. Bidirectional LSTM\n",
    "    7. GRU(Gated Recurrent Unit)\n",
    "    8. Stacked Bidirectional LSTM\n",
    "    9. Best Model from above with pre-trained Embeddings\n",
    " \n",
    " "
   ]
  },
  {
   "cell_type": "markdown",
   "metadata": {},
   "source": [
    "### 1. Neural Network with Embedding"
   ]
  },
  {
   "cell_type": "code",
   "execution_count": 26,
   "metadata": {},
   "outputs": [
    {
     "name": "stdout",
     "output_type": "stream",
     "text": [
      "_________________________________________________________________\n",
      "Layer (type)                 Output Shape              Param #   \n",
      "=================================================================\n",
      "embedding (Embedding)        (None, 60, 64)            1280000   \n",
      "_________________________________________________________________\n",
      "global_max_pooling1d (Global (None, 64)                0         \n",
      "_________________________________________________________________\n",
      "dense (Dense)                (None, 16)                1040      \n",
      "_________________________________________________________________\n",
      "dropout (Dropout)            (None, 16)                0         \n",
      "_________________________________________________________________\n",
      "dense_1 (Dense)              (None, 1)                 17        \n",
      "=================================================================\n",
      "Total params: 1,281,057\n",
      "Trainable params: 1,281,057\n",
      "Non-trainable params: 0\n",
      "_________________________________________________________________\n"
     ]
    }
   ],
   "source": [
    "from tensorflow.keras.callbacks import ReduceLROnPlateau \n",
    "\n",
    "model = tf.keras.Sequential([\n",
    "    tf.keras.layers.Embedding(max_words, embed_size, input_length=max_len),\n",
    "    tf.keras.layers.GlobalMaxPooling1D(),\n",
    "    tf.keras.layers.Dense(16, activation='relu'),\n",
    "    tf.keras.layers.Dropout(0.2),\n",
    "    tf.keras.layers.Dense(1, activation='sigmoid')\n",
    "])\n",
    "\n",
    "\n",
    "rlrp = ReduceLROnPlateau(monitor='val_loss', factor=0.1, patience=2)\n",
    "model.compile(loss='binary_crossentropy', optimizer='adam', metrics=['accuracy'])\n",
    "model.summary()"
   ]
  },
  {
   "cell_type": "code",
   "execution_count": 27,
   "metadata": {},
   "outputs": [
    {
     "name": "stdout",
     "output_type": "stream",
     "text": [
      "Train on 22895 samples, validate on 5724 samples\n",
      "Epoch 1/10\n",
      "22895/22895 [==============================] - 19s 849us/step - loss: 0.6234 - acc: 0.6457 - val_loss: 0.4997 - val_acc: 0.7780\n",
      "Epoch 2/10\n",
      "22895/22895 [==============================] - 17s 729us/step - loss: 0.4240 - acc: 0.8160 - val_loss: 0.3946 - val_acc: 0.8176\n",
      "Epoch 3/10\n",
      "22895/22895 [==============================] - 17s 729us/step - loss: 0.2971 - acc: 0.8831 - val_loss: 0.3576 - val_acc: 0.8356\n",
      "Epoch 4/10\n",
      "22895/22895 [==============================] - 17s 722us/step - loss: 0.2042 - acc: 0.9287 - val_loss: 0.3550 - val_acc: 0.8426\n",
      "Epoch 5/10\n",
      "22895/22895 [==============================] - 16s 709us/step - loss: 0.1386 - acc: 0.9551 - val_loss: 0.3786 - val_acc: 0.8422\n",
      "Epoch 6/10\n",
      "22895/22895 [==============================] - 17s 760us/step - loss: 0.0917 - acc: 0.9743 - val_loss: 0.4034 - val_acc: 0.8435\n",
      "Epoch 7/10\n",
      "22895/22895 [==============================] - 17s 724us/step - loss: 0.0592 - acc: 0.9855 - val_loss: 0.4085 - val_acc: 0.8428\n",
      "Epoch 8/10\n",
      "22895/22895 [==============================] - 17s 747us/step - loss: 0.0552 - acc: 0.9869 - val_loss: 0.4188 - val_acc: 0.8401\n",
      "Epoch 9/10\n",
      "22895/22895 [==============================] - 17s 734us/step - loss: 0.0544 - acc: 0.9871 - val_loss: 0.4179 - val_acc: 0.8417\n",
      "Epoch 10/10\n",
      "22895/22895 [==============================] - 17s 756us/step - loss: 0.0511 - acc: 0.9887 - val_loss: 0.4196 - val_acc: 0.8424\n"
     ]
    }
   ],
   "source": [
    "history = model.fit(train_sequences, train_labels, batch_size=32, epochs=10, \n",
    "                    validation_data=(test_sequences, test_labels), \n",
    "                    callbacks=[rlrp] ,verbose=1)"
   ]
  },
  {
   "cell_type": "code",
   "execution_count": 28,
   "metadata": {},
   "outputs": [
    {
     "name": "stdout",
     "output_type": "stream",
     "text": [
      "5724/5724 [==============================] - 0s 22us/step\n",
      "Test Loss:  0.41957801492958946\n",
      "Test Accuracy 0.8424178895877009\n",
      "dict_keys(['val_loss', 'val_acc', 'loss', 'acc', 'lr'])\n"
     ]
    },
    {
     "data": {
      "image/png": "[encoded data removed]",
      "text/plain": [
       "<Figure size 432x288 with 1 Axes>"
      ]
     },
     "metadata": {
      "needs_background": "light"
     },
     "output_type": "display_data"
    },
    {
     "data": {
      "image/png": "[encoded data removed]",
      "text/plain": [
       "<Figure size 432x288 with 1 Axes>"
      ]
     },
     "metadata": {
      "needs_background": "light"
     },
     "output_type": "display_data"
    }
   ],
   "source": [
    "score = model.evaluate(test_sequences, test_labels)\n",
    "print('Test Loss: ', score[0])\n",
    "print('Test Accuracy', score[1])\n",
    "\n",
    "\n",
    "# list all data in history\n",
    "print(history.history.keys())\n",
    "# summarize history for accuracy\n",
    "plt.plot(history.history['acc'])\n",
    "plt.plot(history.history['val_acc'])\n",
    "plt.title('Model Accuracy')\n",
    "plt.ylabel('accuracy')\n",
    "plt.xlabel('epoch')\n",
    "plt.legend(['train', 'test'], loc='upper left')\n",
    "plt.show()\n",
    "# summarize history for loss\n",
    "plt.plot(history.history['loss'])\n",
    "plt.plot(history.history['val_loss'])\n",
    "plt.title('Model Loss')\n",
    "plt.ylabel('loss')\n",
    "plt.xlabel('epoch')\n",
    "plt.legend(['train', 'test'], loc='upper left')\n",
    "plt.show()"
   ]
  },
  {
   "cell_type": "markdown",
   "metadata": {},
   "source": [
    "### 2. RNN (Recurrent Neural Network)"
   ]
  },
  {
   "cell_type": "code",
   "execution_count": 29,
   "metadata": {},
   "outputs": [
    {
     "name": "stdout",
     "output_type": "stream",
     "text": [
      "_________________________________________________________________\n",
      "Layer (type)                 Output Shape              Param #   \n",
      "=================================================================\n",
      "embedding_1 (Embedding)      (None, 60, 64)            1280000   \n",
      "_________________________________________________________________\n",
      "spatial_dropout1d (SpatialDr (None, 60, 64)            0         \n",
      "_________________________________________________________________\n",
      "simple_rnn (SimpleRNN)       (None, 60, 32)            3104      \n",
      "_________________________________________________________________\n",
      "global_max_pooling1d_1 (Glob (None, 32)                0         \n",
      "_________________________________________________________________\n",
      "dense_2 (Dense)              (None, 16)                528       \n",
      "_________________________________________________________________\n",
      "dropout_1 (Dropout)          (None, 16)                0         \n",
      "_________________________________________________________________\n",
      "dense_3 (Dense)              (None, 1)                 17        \n",
      "=================================================================\n",
      "Total params: 1,283,649\n",
      "Trainable params: 1,283,649\n",
      "Non-trainable params: 0\n",
      "_________________________________________________________________\n"
     ]
    }
   ],
   "source": [
    "model_rnn = tf.keras.Sequential([\n",
    "    tf.keras.layers.Embedding(max_words, embed_size, input_length=max_len),\n",
    "    tf.keras.layers.SpatialDropout1D(0.2),\n",
    "    tf.keras.layers.SimpleRNN(32, dropout=0.2, recurrent_dropout=0.2, return_sequences=True),\n",
    "    tf.keras.layers.GlobalMaxPooling1D(),\n",
    "    tf.keras.layers.Dense(16, activation='relu'),\n",
    "    tf.keras.layers.Dropout(0.2),\n",
    "    tf.keras.layers.Dense(1, activation='sigmoid')\n",
    "])\n",
    "\n",
    "\n",
    "rlrp = ReduceLROnPlateau(monitor='val_loss', factor=0.1, patience=2)\n",
    "model_rnn.compile(loss='binary_crossentropy', optimizer='adam', metrics=['accuracy'])\n",
    "model_rnn.summary()"
   ]
  },
  {
   "cell_type": "code",
   "execution_count": 30,
   "metadata": {},
   "outputs": [
    {
     "name": "stdout",
     "output_type": "stream",
     "text": [
      "Train on 22895 samples, validate on 5724 samples\n",
      "Epoch 1/10\n",
      "22895/22895 [==============================] - 31s 1ms/step - loss: 0.6855 - acc: 0.5456 - val_loss: 0.6127 - val_acc: 0.6312\n",
      "Epoch 2/10\n",
      "22895/22895 [==============================] - 33s 1ms/step - loss: 0.5630 - acc: 0.6998 - val_loss: 0.4986 - val_acc: 0.7505\n",
      "Epoch 3/10\n",
      "22895/22895 [==============================] - 30s 1ms/step - loss: 0.4778 - acc: 0.7651 - val_loss: 0.4577 - val_acc: 0.7820\n",
      "Epoch 4/10\n",
      "22895/22895 [==============================] - 30s 1ms/step - loss: 0.4143 - acc: 0.8116 - val_loss: 0.4279 - val_acc: 0.8043\n",
      "Epoch 5/10\n",
      "22895/22895 [==============================] - 33s 1ms/step - loss: 0.3666 - acc: 0.8401 - val_loss: 0.4009 - val_acc: 0.8180\n",
      "Epoch 6/10\n",
      "22895/22895 [==============================] - 31s 1ms/step - loss: 0.3200 - acc: 0.8636 - val_loss: 0.3906 - val_acc: 0.8235\n",
      "Epoch 7/10\n",
      "22895/22895 [==============================] - 31s 1ms/step - loss: 0.2886 - acc: 0.8830 - val_loss: 0.4019 - val_acc: 0.8246\n",
      "Epoch 8/10\n",
      "22895/22895 [==============================] - 31s 1ms/step - loss: 0.2565 - acc: 0.8971 - val_loss: 0.3940 - val_acc: 0.8297\n",
      "Epoch 9/10\n",
      "22895/22895 [==============================] - 31s 1ms/step - loss: 0.2260 - acc: 0.9102 - val_loss: 0.4155 - val_acc: 0.8335\n",
      "Epoch 10/10\n",
      "22895/22895 [==============================] - 32s 1ms/step - loss: 0.2221 - acc: 0.9141 - val_loss: 0.4183 - val_acc: 0.8332\n"
     ]
    }
   ],
   "source": [
    "history_rnn = model_rnn.fit(train_sequences, train_labels, batch_size=32, epochs=10, \n",
    "                    validation_data=(test_sequences, test_labels), \n",
    "                    callbacks=[rlrp] ,verbose=1)"
   ]
  },
  {
   "cell_type": "code",
   "execution_count": 31,
   "metadata": {},
   "outputs": [
    {
     "name": "stdout",
     "output_type": "stream",
     "text": [
      "5724/5724 [==============================] - 1s 197us/step\n",
      "Test Loss:  0.41830251589261264\n",
      "Test Accuracy 0.8331586302451368\n",
      "dict_keys(['val_loss', 'val_acc', 'loss', 'acc', 'lr'])\n"
     ]
    },
    {
     "data": {
      "image/png": "[encoded data removed]",
      "text/plain": [
       "<Figure size 432x288 with 1 Axes>"
      ]
     },
     "metadata": {
      "needs_background": "light"
     },
     "output_type": "display_data"
    },
    {
     "data": {
      "image/png": "[encoded data removed]",
      "text/plain": [
       "<Figure size 432x288 with 1 Axes>"
      ]
     },
     "metadata": {
      "needs_background": "light"
     },
     "output_type": "display_data"
    }
   ],
   "source": [
    "score = model_rnn.evaluate(test_sequences, test_labels)\n",
    "print('Test Loss: ', score[0])\n",
    "print('Test Accuracy', score[1])\n",
    "\n",
    "\n",
    "# list all data in history\n",
    "print(history_rnn.history.keys())\n",
    "# summarize history for accuracy\n",
    "plt.plot(history_rnn.history['acc'])\n",
    "plt.plot(history_rnn.history['val_acc'])\n",
    "plt.title('Model Accuracy')\n",
    "plt.ylabel('accuracy')\n",
    "plt.xlabel('epoch')\n",
    "plt.legend(['train', 'test'], loc='upper left')\n",
    "plt.show()\n",
    "# summarize history for loss\n",
    "plt.plot(history_rnn.history['loss'])\n",
    "plt.plot(history_rnn.history['val_loss'])\n",
    "plt.title('Model Loss')\n",
    "plt.ylabel('loss')\n",
    "plt.xlabel('epoch')\n",
    "plt.legend(['train', 'test'], loc='upper left')\n",
    "plt.show()"
   ]
  },
  {
   "cell_type": "markdown",
   "metadata": {},
   "source": [
    "### 3. LSTM (Long Short Term Memory) with GlobalMaxPooling & SpatialDropout"
   ]
  },
  {
   "cell_type": "code",
   "execution_count": 32,
   "metadata": {},
   "outputs": [
    {
     "name": "stdout",
     "output_type": "stream",
     "text": [
      "_________________________________________________________________\n",
      "Layer (type)                 Output Shape              Param #   \n",
      "=================================================================\n",
      "embedding_2 (Embedding)      (None, 60, 64)            1280000   \n",
      "_________________________________________________________________\n",
      "spatial_dropout1d_1 (Spatial (None, 60, 64)            0         \n",
      "_________________________________________________________________\n",
      "lstm (LSTM)                  (None, 60, 32)            12416     \n",
      "_________________________________________________________________\n",
      "global_max_pooling1d_2 (Glob (None, 32)                0         \n",
      "_________________________________________________________________\n",
      "dense_4 (Dense)              (None, 16)                528       \n",
      "_________________________________________________________________\n",
      "dropout_2 (Dropout)          (None, 16)                0         \n",
      "_________________________________________________________________\n",
      "dense_5 (Dense)              (None, 1)                 17        \n",
      "=================================================================\n",
      "Total params: 1,292,961\n",
      "Trainable params: 1,292,961\n",
      "Non-trainable params: 0\n",
      "_________________________________________________________________\n"
     ]
    }
   ],
   "source": [
    "from tensorflow.keras.callbacks import ReduceLROnPlateau \n",
    "\n",
    "model_lstm = tf.keras.Sequential([\n",
    "    tf.keras.layers.Embedding(max_words, embed_size, input_length=max_len),\n",
    "    tf.keras.layers.SpatialDropout1D(0.2),\n",
    "    tf.keras.layers.LSTM(32, dropout=0.2, recurrent_dropout=0.2, return_sequences=True),\n",
    "    tf.keras.layers.GlobalMaxPooling1D(),\n",
    "    tf.keras.layers.Dense(16, activation='relu'),\n",
    "    tf.keras.layers.Dropout(0.2),\n",
    "    tf.keras.layers.Dense(1, activation='sigmoid')\n",
    "])\n",
    "\n",
    "\n",
    "rlrp = ReduceLROnPlateau(monitor='val_loss', factor=0.1, patience=2)\n",
    "model_lstm.compile(loss='binary_crossentropy', optimizer='adam', metrics=['accuracy'])\n",
    "model_lstm.summary()"
   ]
  },
  {
   "cell_type": "code",
   "execution_count": 33,
   "metadata": {},
   "outputs": [
    {
     "name": "stdout",
     "output_type": "stream",
     "text": [
      "Train on 22895 samples, validate on 5724 samples\n",
      "Epoch 1/10\n",
      "22895/22895 [==============================] - 71s 3ms/step - loss: 0.6255 - acc: 0.6300 - val_loss: 0.5207 - val_acc: 0.7327\n",
      "Epoch 2/10\n",
      "22895/22895 [==============================] - 70s 3ms/step - loss: 0.4913 - acc: 0.7606 - val_loss: 0.4386 - val_acc: 0.7939\n",
      "Epoch 3/10\n",
      "22895/22895 [==============================] - 71s 3ms/step - loss: 0.4188 - acc: 0.8086 - val_loss: 0.4011 - val_acc: 0.8153\n",
      "Epoch 4/10\n",
      "22895/22895 [==============================] - 70s 3ms/step - loss: 0.3580 - acc: 0.8460 - val_loss: 0.3716 - val_acc: 0.8367\n",
      "Epoch 5/10\n",
      "22895/22895 [==============================] - 71s 3ms/step - loss: 0.2948 - acc: 0.8794 - val_loss: 0.3643 - val_acc: 0.8457\n",
      "Epoch 6/10\n",
      "22895/22895 [==============================] - 70s 3ms/step - loss: 0.2419 - acc: 0.9049 - val_loss: 0.3703 - val_acc: 0.8443\n",
      "Epoch 7/10\n",
      "22895/22895 [==============================] - 69s 3ms/step - loss: 0.2077 - acc: 0.9220 - val_loss: 0.3522 - val_acc: 0.8595\n",
      "Epoch 8/10\n",
      "22895/22895 [==============================] - 71s 3ms/step - loss: 0.1762 - acc: 0.9338 - val_loss: 0.3708 - val_acc: 0.8574\n",
      "Epoch 9/10\n",
      "22895/22895 [==============================] - 69s 3ms/step - loss: 0.1527 - acc: 0.9431 - val_loss: 0.3753 - val_acc: 0.8555\n",
      "Epoch 10/10\n",
      "22895/22895 [==============================] - 70s 3ms/step - loss: 0.1199 - acc: 0.9598 - val_loss: 0.3893 - val_acc: 0.8566\n"
     ]
    }
   ],
   "source": [
    "history_lstm = model_lstm.fit(train_sequences, train_labels, batch_size=32, epochs=10, \n",
    "                    validation_data=(test_sequences, test_labels), \n",
    "                    callbacks=[rlrp] ,verbose=1)"
   ]
  },
  {
   "cell_type": "code",
   "execution_count": 34,
   "metadata": {},
   "outputs": [
    {
     "name": "stdout",
     "output_type": "stream",
     "text": [
      "5724/5724 [==============================] - 2s 436us/step\n",
      "Test Loss:  0.38927802770476005\n",
      "Test Accuracy 0.8565688331088847\n",
      "dict_keys(['val_loss', 'val_acc', 'loss', 'acc', 'lr'])\n"
     ]
    },
    {
     "data": {
      "image/png": "[encoded data removed]",
      "text/plain": [
       "<Figure size 432x288 with 1 Axes>"
      ]
     },
     "metadata": {
      "needs_background": "light"
     },
     "output_type": "display_data"
    },
    {
     "data": {
      "image/png": "[encoded data removed]",
      "text/plain": [
       "<Figure size 432x288 with 1 Axes>"
      ]
     },
     "metadata": {
      "needs_background": "light"
     },
     "output_type": "display_data"
    }
   ],
   "source": [
    "score = model_lstm.evaluate(test_sequences, test_labels)\n",
    "print('Test Loss: ', score[0])\n",
    "print('Test Accuracy', score[1])\n",
    "\n",
    "\n",
    "# list all data in history\n",
    "print(history_lstm.history.keys())\n",
    "# summarize history for accuracy\n",
    "plt.plot(history_lstm.history['acc'])\n",
    "plt.plot(history_lstm.history['val_acc'])\n",
    "plt.title('Model Accuracy')\n",
    "plt.ylabel('accuracy')\n",
    "plt.xlabel('epoch')\n",
    "plt.legend(['train', 'test'], loc='upper left')\n",
    "plt.show()\n",
    "# summarize history for loss\n",
    "plt.plot(history_lstm.history['loss'])\n",
    "plt.plot(history_lstm.history['val_loss'])\n",
    "plt.title('Model Loss')\n",
    "plt.ylabel('loss')\n",
    "plt.xlabel('epoch')\n",
    "plt.legend(['train', 'test'], loc='upper left')\n",
    "plt.show()"
   ]
  },
  {
   "cell_type": "markdown",
   "metadata": {},
   "source": [
    "### 4. LSTM with GlobalAveragePool"
   ]
  },
  {
   "cell_type": "code",
   "execution_count": 35,
   "metadata": {},
   "outputs": [
    {
     "name": "stdout",
     "output_type": "stream",
     "text": [
      "_________________________________________________________________\n",
      "Layer (type)                 Output Shape              Param #   \n",
      "=================================================================\n",
      "embedding_3 (Embedding)      (None, 60, 64)            1280000   \n",
      "_________________________________________________________________\n",
      "spatial_dropout1d_2 (Spatial (None, 60, 64)            0         \n",
      "_________________________________________________________________\n",
      "lstm_1 (LSTM)                (None, 60, 32)            12416     \n",
      "_________________________________________________________________\n",
      "global_average_pooling1d (Gl (None, 32)                0         \n",
      "_________________________________________________________________\n",
      "dense_6 (Dense)              (None, 16)                528       \n",
      "_________________________________________________________________\n",
      "dropout_3 (Dropout)          (None, 16)                0         \n",
      "_________________________________________________________________\n",
      "dense_7 (Dense)              (None, 1)                 17        \n",
      "=================================================================\n",
      "Total params: 1,292,961\n",
      "Trainable params: 1,292,961\n",
      "Non-trainable params: 0\n",
      "_________________________________________________________________\n"
     ]
    }
   ],
   "source": [
    "from tensorflow.keras.callbacks import ReduceLROnPlateau \n",
    "\n",
    "model_lstm_avg = tf.keras.Sequential([\n",
    "    tf.keras.layers.Embedding(max_words, embed_size, input_length=max_len),\n",
    "    tf.keras.layers.SpatialDropout1D(0.2),\n",
    "    tf.keras.layers.LSTM(32, dropout=0.2, recurrent_dropout=0.2, return_sequences=True),\n",
    "    tf.keras.layers.GlobalAveragePooling1D(),\n",
    "    tf.keras.layers.Dense(16, activation='relu'),\n",
    "    tf.keras.layers.Dropout(0.2),\n",
    "    tf.keras.layers.Dense(1, activation='sigmoid')\n",
    "])\n",
    "\n",
    "\n",
    "rlrp = ReduceLROnPlateau(monitor='val_loss', factor=0.1, patience=2)\n",
    "model_lstm_avg.compile(loss='binary_crossentropy', optimizer='adam', metrics=['accuracy'])\n",
    "model_lstm_avg.summary()"
   ]
  },
  {
   "cell_type": "code",
   "execution_count": 36,
   "metadata": {},
   "outputs": [
    {
     "name": "stdout",
     "output_type": "stream",
     "text": [
      "Train on 22895 samples, validate on 5724 samples\n",
      "Epoch 1/10\n",
      "22895/22895 [==============================] - 71s 3ms/step - loss: 0.6926 - acc: 0.5226 - val_loss: 0.6917 - val_acc: 0.5236\n",
      "Epoch 2/10\n",
      "22895/22895 [==============================] - 71s 3ms/step - loss: 0.6005 - acc: 0.6542 - val_loss: 0.4465 - val_acc: 0.8021\n",
      "Epoch 3/10\n",
      "22895/22895 [==============================] - 72s 3ms/step - loss: 0.4369 - acc: 0.8077 - val_loss: 0.3843 - val_acc: 0.8260\n",
      "Epoch 4/10\n",
      "22895/22895 [==============================] - 72s 3ms/step - loss: 0.3497 - acc: 0.8568 - val_loss: 0.3747 - val_acc: 0.8347\n",
      "Epoch 5/10\n",
      "22895/22895 [==============================] - 71s 3ms/step - loss: 0.2915 - acc: 0.8873 - val_loss: 0.3415 - val_acc: 0.8522\n",
      "Epoch 6/10\n",
      "22895/22895 [==============================] - 70s 3ms/step - loss: 0.2519 - acc: 0.9039 - val_loss: 0.3539 - val_acc: 0.8553\n",
      "Epoch 7/10\n",
      "22895/22895 [==============================] - 71s 3ms/step - loss: 0.2187 - acc: 0.9199 - val_loss: 0.3662 - val_acc: 0.8595\n",
      "Epoch 8/10\n",
      "22895/22895 [==============================] - 70s 3ms/step - loss: 0.1857 - acc: 0.9337 - val_loss: 0.3789 - val_acc: 0.8601\n",
      "Epoch 9/10\n",
      "22895/22895 [==============================] - 70s 3ms/step - loss: 0.1796 - acc: 0.9361 - val_loss: 0.3850 - val_acc: 0.8552\n",
      "Epoch 10/10\n",
      "22895/22895 [==============================] - 71s 3ms/step - loss: 0.1811 - acc: 0.9380 - val_loss: 0.3780 - val_acc: 0.8576\n"
     ]
    }
   ],
   "source": [
    "history_lstm_avg = model_lstm_avg.fit(train_sequences, train_labels, batch_size=32, epochs=10, \n",
    "                    validation_data=(test_sequences, test_labels), \n",
    "                    callbacks=[rlrp] ,verbose=1)"
   ]
  },
  {
   "cell_type": "code",
   "execution_count": 37,
   "metadata": {},
   "outputs": [
    {
     "name": "stdout",
     "output_type": "stream",
     "text": [
      "5724/5724 [==============================] - 3s 446us/step\n",
      "Test Loss:  0.37798365786057264\n",
      "Test Accuracy 0.8576170511382347\n",
      "dict_keys(['val_loss', 'val_acc', 'loss', 'acc', 'lr'])\n"
     ]
    },
    {
     "data": {
      "image/png": "[encoded data removed]",
      "text/plain": [
       "<Figure size 432x288 with 1 Axes>"
      ]
     },
     "metadata": {
      "needs_background": "light"
     },
     "output_type": "display_data"
    },
    {
     "data": {
      "image/png": "[encoded data removed]",
      "text/plain": [
       "<Figure size 432x288 with 1 Axes>"
      ]
     },
     "metadata": {
      "needs_background": "light"
     },
     "output_type": "display_data"
    }
   ],
   "source": [
    "score = model_lstm_avg.evaluate(test_sequences, test_labels)\n",
    "print('Test Loss: ', score[0])\n",
    "print('Test Accuracy', score[1])\n",
    "\n",
    "\n",
    "# list all data in history\n",
    "print(history_lstm_avg.history.keys())\n",
    "# summarize history for accuracy\n",
    "plt.plot(history_lstm_avg.history['acc'])\n",
    "plt.plot(history_lstm_avg.history['val_acc'])\n",
    "plt.title('Model Accuracy')\n",
    "plt.ylabel('accuracy')\n",
    "plt.xlabel('epoch')\n",
    "plt.legend(['train', 'test'], loc='upper left')\n",
    "plt.show()\n",
    "# summarize history for loss\n",
    "plt.plot(history_lstm_avg.history['loss'])\n",
    "plt.plot(history_lstm_avg.history['val_loss'])\n",
    "plt.title('Model Loss')\n",
    "plt.ylabel('loss')\n",
    "plt.xlabel('epoch')\n",
    "plt.legend(['train', 'test'], loc='upper left')\n",
    "plt.show()"
   ]
  },
  {
   "cell_type": "markdown",
   "metadata": {},
   "source": [
    "### 5. LSTM with only one FC Dense Layer"
   ]
  },
  {
   "cell_type": "code",
   "execution_count": 38,
   "metadata": {},
   "outputs": [
    {
     "name": "stdout",
     "output_type": "stream",
     "text": [
      "_________________________________________________________________\n",
      "Layer (type)                 Output Shape              Param #   \n",
      "=================================================================\n",
      "embedding_4 (Embedding)      (None, 60, 64)            1280000   \n",
      "_________________________________________________________________\n",
      "spatial_dropout1d_3 (Spatial (None, 60, 64)            0         \n",
      "_________________________________________________________________\n",
      "lstm_2 (LSTM)                (None, 60, 32)            12416     \n",
      "_________________________________________________________________\n",
      "global_max_pooling1d_3 (Glob (None, 32)                0         \n",
      "_________________________________________________________________\n",
      "dense_8 (Dense)              (None, 1)                 33        \n",
      "=================================================================\n",
      "Total params: 1,292,449\n",
      "Trainable params: 1,292,449\n",
      "Non-trainable params: 0\n",
      "_________________________________________________________________\n"
     ]
    }
   ],
   "source": [
    "from tensorflow.keras.callbacks import ReduceLROnPlateau \n",
    "\n",
    "model_lstm1 = tf.keras.Sequential([\n",
    "    tf.keras.layers.Embedding(max_words, embed_size, input_length=max_len),\n",
    "    tf.keras.layers.SpatialDropout1D(0.2),\n",
    "    tf.keras.layers.LSTM(32, dropout=0.2, recurrent_dropout=0.2, return_sequences=True),\n",
    "    tf.keras.layers.GlobalMaxPooling1D(),\n",
    "    tf.keras.layers.Dense(1, activation='sigmoid')\n",
    "])\n",
    "\n",
    "\n",
    "rlrp = ReduceLROnPlateau(monitor='val_loss', factor=0.1, patience=2)\n",
    "model_lstm1.compile(loss='binary_crossentropy', optimizer='adam', metrics=['accuracy'])\n",
    "model_lstm1.summary()"
   ]
  },
  {
   "cell_type": "code",
   "execution_count": 39,
   "metadata": {},
   "outputs": [
    {
     "name": "stdout",
     "output_type": "stream",
     "text": [
      "Train on 22895 samples, validate on 5724 samples\n",
      "Epoch 1/10\n",
      "22895/22895 [==============================] - 74s 3ms/step - loss: 0.6073 - acc: 0.6469 - val_loss: 0.4999 - val_acc: 0.7621\n",
      "Epoch 2/10\n",
      "22895/22895 [==============================] - 72s 3ms/step - loss: 0.4529 - acc: 0.7799 - val_loss: 0.4157 - val_acc: 0.8089\n",
      "Epoch 3/10\n",
      "22895/22895 [==============================] - 72s 3ms/step - loss: 0.3746 - acc: 0.8306 - val_loss: 0.3645 - val_acc: 0.8374\n",
      "Epoch 4/10\n",
      "22895/22895 [==============================] - 72s 3ms/step - loss: 0.3012 - acc: 0.8744 - val_loss: 0.3479 - val_acc: 0.8496\n",
      "Epoch 5/10\n",
      "22895/22895 [==============================] - 71s 3ms/step - loss: 0.2515 - acc: 0.8970 - val_loss: 0.3340 - val_acc: 0.8576\n",
      "Epoch 6/10\n",
      "22895/22895 [==============================] - 71s 3ms/step - loss: 0.2099 - acc: 0.9175 - val_loss: 0.3397 - val_acc: 0.8585\n",
      "Epoch 7/10\n",
      "22895/22895 [==============================] - 71s 3ms/step - loss: 0.1806 - acc: 0.9299 - val_loss: 0.3597 - val_acc: 0.8590\n",
      "Epoch 8/10\n",
      "22895/22895 [==============================] - 71s 3ms/step - loss: 0.1474 - acc: 0.9460 - val_loss: 0.3580 - val_acc: 0.8590\n",
      "Epoch 9/10\n",
      "22895/22895 [==============================] - 72s 3ms/step - loss: 0.1466 - acc: 0.9459 - val_loss: 0.3540 - val_acc: 0.8609\n",
      "Epoch 10/10\n",
      "22895/22895 [==============================] - 71s 3ms/step - loss: 0.1411 - acc: 0.9468 - val_loss: 0.3537 - val_acc: 0.8616\n"
     ]
    }
   ],
   "source": [
    "history_lstm1 = model_lstm1.fit(train_sequences, train_labels, batch_size=32, epochs=10, \n",
    "                    validation_data=(test_sequences, test_labels), \n",
    "                    callbacks=[rlrp] ,verbose=1)"
   ]
  },
  {
   "cell_type": "code",
   "execution_count": 40,
   "metadata": {},
   "outputs": [
    {
     "name": "stdout",
     "output_type": "stream",
     "text": [
      "5724/5724 [==============================] - 3s 470us/step\n",
      "Test Loss:  0.35365042821416315\n",
      "Test Accuracy 0.8616352202507435\n",
      "dict_keys(['val_loss', 'val_acc', 'loss', 'acc', 'lr'])\n"
     ]
    },
    {
     "data": {
      "image/png": "[encoded data removed]",
      "text/plain": [
       "<Figure size 432x288 with 1 Axes>"
      ]
     },
     "metadata": {
      "needs_background": "light"
     },
     "output_type": "display_data"
    },
    {
     "data": {
      "image/png": "[encoded data removed]",
      "text/plain": [
       "<Figure size 432x288 with 1 Axes>"
      ]
     },
     "metadata": {
      "needs_background": "light"
     },
     "output_type": "display_data"
    }
   ],
   "source": [
    "score = model_lstm1.evaluate(test_sequences, test_labels)\n",
    "print('Test Loss: ', score[0])\n",
    "print('Test Accuracy', score[1])\n",
    "\n",
    "\n",
    "# list all data in history\n",
    "print(history_lstm1.history.keys())\n",
    "# summarize history for accuracy\n",
    "plt.plot(history_lstm1.history['acc'])\n",
    "plt.plot(history_lstm1.history['val_acc'])\n",
    "plt.title('Model Accuracy')\n",
    "plt.ylabel('accuracy')\n",
    "plt.xlabel('epoch')\n",
    "plt.legend(['train', 'test'], loc='upper left')\n",
    "plt.show()\n",
    "# summarize history for loss\n",
    "plt.plot(history_lstm1.history['loss'])\n",
    "plt.plot(history_lstm1.history['val_loss'])\n",
    "plt.title('Model Loss')\n",
    "plt.ylabel('loss')\n",
    "plt.xlabel('epoch')\n",
    "plt.legend(['train', 'test'], loc='upper left')\n",
    "plt.show()"
   ]
  },
  {
   "cell_type": "markdown",
   "metadata": {},
   "source": [
    "### 6. Stacked LSTM "
   ]
  },
  {
   "cell_type": "code",
   "execution_count": 41,
   "metadata": {},
   "outputs": [
    {
     "name": "stdout",
     "output_type": "stream",
     "text": [
      "_________________________________________________________________\n",
      "Layer (type)                 Output Shape              Param #   \n",
      "=================================================================\n",
      "embedding_5 (Embedding)      (None, 60, 64)            1280000   \n",
      "_________________________________________________________________\n",
      "spatial_dropout1d_4 (Spatial (None, 60, 64)            0         \n",
      "_________________________________________________________________\n",
      "lstm_3 (LSTM)                (None, 60, 32)            12416     \n",
      "_________________________________________________________________\n",
      "lstm_4 (LSTM)                (None, 60, 32)            8320      \n",
      "_________________________________________________________________\n",
      "global_max_pooling1d_4 (Glob (None, 32)                0         \n",
      "_________________________________________________________________\n",
      "dense_9 (Dense)              (None, 16)                528       \n",
      "_________________________________________________________________\n",
      "dropout_4 (Dropout)          (None, 16)                0         \n",
      "_________________________________________________________________\n",
      "dense_10 (Dense)             (None, 1)                 17        \n",
      "=================================================================\n",
      "Total params: 1,301,281\n",
      "Trainable params: 1,301,281\n",
      "Non-trainable params: 0\n",
      "_________________________________________________________________\n"
     ]
    }
   ],
   "source": [
    "from tensorflow.keras.callbacks import ReduceLROnPlateau \n",
    "\n",
    "model_st_lstm = tf.keras.Sequential([\n",
    "    tf.keras.layers.Embedding(max_words, embed_size, input_length=max_len),\n",
    "    tf.keras.layers.SpatialDropout1D(0.2),\n",
    "    tf.keras.layers.LSTM(32, dropout=0.2, recurrent_dropout=0.2, return_sequences=True),\n",
    "    tf.keras.layers.LSTM(32, dropout=0.2, recurrent_dropout=0.2, return_sequences=True),\n",
    "    tf.keras.layers.GlobalMaxPooling1D(),\n",
    "    tf.keras.layers.Dense(16, activation='relu'),\n",
    "    tf.keras.layers.Dropout(0.2),\n",
    "    tf.keras.layers.Dense(1, activation='sigmoid')\n",
    "])\n",
    "\n",
    "\n",
    "rlrp = ReduceLROnPlateau(monitor='val_loss', factor=0.1, patience=2)\n",
    "model_st_lstm.compile(loss='binary_crossentropy', optimizer='adam', metrics=['accuracy'])\n",
    "model_st_lstm.summary()"
   ]
  },
  {
   "cell_type": "code",
   "execution_count": 42,
   "metadata": {},
   "outputs": [
    {
     "name": "stdout",
     "output_type": "stream",
     "text": [
      "Train on 22895 samples, validate on 5724 samples\n",
      "Epoch 1/10\n",
      "22895/22895 [==============================] - 109s 5ms/step - loss: 0.6408 - acc: 0.6042 - val_loss: 0.5200 - val_acc: 0.7358\n",
      "Epoch 2/10\n",
      "22895/22895 [==============================] - 106s 5ms/step - loss: 0.4803 - acc: 0.7630 - val_loss: 0.4276 - val_acc: 0.7956\n",
      "Epoch 3/10\n",
      "22895/22895 [==============================] - 107s 5ms/step - loss: 0.3907 - acc: 0.8245 - val_loss: 0.3769 - val_acc: 0.8307\n",
      "Epoch 4/10\n",
      "22895/22895 [==============================] - 108s 5ms/step - loss: 0.3141 - acc: 0.8691 - val_loss: 0.3561 - val_acc: 0.8475\n",
      "Epoch 5/10\n",
      "22895/22895 [==============================] - 110s 5ms/step - loss: 0.2686 - acc: 0.8946 - val_loss: 0.3703 - val_acc: 0.8429\n",
      "Epoch 6/10\n",
      "22895/22895 [==============================] - 134s 6ms/step - loss: 0.2278 - acc: 0.9126 - val_loss: 0.3742 - val_acc: 0.8559\n",
      "Epoch 7/10\n",
      "22895/22895 [==============================] - 120s 5ms/step - loss: 0.1874 - acc: 0.9299 - val_loss: 0.3771 - val_acc: 0.8532\n",
      "Epoch 8/10\n",
      "22895/22895 [==============================] - 107s 5ms/step - loss: 0.1826 - acc: 0.9334 - val_loss: 0.3840 - val_acc: 0.8557\n",
      "Epoch 9/10\n",
      "22895/22895 [==============================] - 107s 5ms/step - loss: 0.1820 - acc: 0.9316 - val_loss: 0.3823 - val_acc: 0.8567\n",
      "Epoch 10/10\n",
      "22895/22895 [==============================] - 108s 5ms/step - loss: 0.1757 - acc: 0.9357 - val_loss: 0.3828 - val_acc: 0.8559\n"
     ]
    }
   ],
   "source": [
    "history_st_lstm = model_st_lstm.fit(train_sequences, train_labels, batch_size=32, epochs=10, \n",
    "                    validation_data=(test_sequences, test_labels), \n",
    "                    callbacks=[rlrp] ,verbose=1)"
   ]
  },
  {
   "cell_type": "code",
   "execution_count": 43,
   "metadata": {},
   "outputs": [
    {
     "name": "stdout",
     "output_type": "stream",
     "text": [
      "5724/5724 [==============================] - 5s 848us/step\n",
      "Test Loss:  0.38278050426000654\n",
      "Test Accuracy 0.8558700208810557\n",
      "dict_keys(['val_loss', 'val_acc', 'loss', 'acc', 'lr'])\n"
     ]
    },
    {
     "data": {
      "image/png": "[encoded data removed]",
      "text/plain": [
       "<Figure size 432x288 with 1 Axes>"
      ]
     },
     "metadata": {
      "needs_background": "light"
     },
     "output_type": "display_data"
    },
    {
     "data": {
      "image/png": "[encoded data removed]",
      "text/plain": [
       "<Figure size 432x288 with 1 Axes>"
      ]
     },
     "metadata": {
      "needs_background": "light"
     },
     "output_type": "display_data"
    }
   ],
   "source": [
    "score = model_st_lstm.evaluate(test_sequences, test_labels)\n",
    "print('Test Loss: ', score[0])\n",
    "print('Test Accuracy', score[1])\n",
    "\n",
    "\n",
    "# list all data in history\n",
    "print(history_st_lstm.history.keys())\n",
    "# summarize history for accuracy\n",
    "plt.plot(history_st_lstm.history['acc'])\n",
    "plt.plot(history_st_lstm.history['val_acc'])\n",
    "plt.title('Model Accuracy')\n",
    "plt.ylabel('accuracy')\n",
    "plt.xlabel('epoch')\n",
    "plt.legend(['train', 'test'], loc='upper left')\n",
    "plt.show()\n",
    "# summarize history for loss\n",
    "plt.plot(history_st_lstm.history['loss'])\n",
    "plt.plot(history_st_lstm.history['val_loss'])\n",
    "plt.title('Model Loss')\n",
    "plt.ylabel('loss')\n",
    "plt.xlabel('epoch')\n",
    "plt.legend(['train', 'test'], loc='upper left')\n",
    "plt.show()"
   ]
  },
  {
   "cell_type": "markdown",
   "metadata": {},
   "source": [
    "### 7. GRU (Gated Recurrent Unit)"
   ]
  },
  {
   "cell_type": "code",
   "execution_count": 44,
   "metadata": {},
   "outputs": [
    {
     "name": "stdout",
     "output_type": "stream",
     "text": [
      "_________________________________________________________________\n",
      "Layer (type)                 Output Shape              Param #   \n",
      "=================================================================\n",
      "embedding_6 (Embedding)      (None, 60, 64)            1280000   \n",
      "_________________________________________________________________\n",
      "gru (GRU)                    (None, 60, 32)            9312      \n",
      "_________________________________________________________________\n",
      "global_max_pooling1d_5 (Glob (None, 32)                0         \n",
      "_________________________________________________________________\n",
      "dense_11 (Dense)             (None, 16)                528       \n",
      "_________________________________________________________________\n",
      "dropout_5 (Dropout)          (None, 16)                0         \n",
      "_________________________________________________________________\n",
      "dense_12 (Dense)             (None, 1)                 17        \n",
      "=================================================================\n",
      "Total params: 1,289,857\n",
      "Trainable params: 1,289,857\n",
      "Non-trainable params: 0\n",
      "_________________________________________________________________\n"
     ]
    }
   ],
   "source": [
    "model_gru = tf.keras.Sequential([\n",
    "    tf.keras.layers.Embedding(max_words, embed_size, input_length=max_len),\n",
    "    tf.keras.layers.GRU(32, dropout=0.2, recurrent_dropout=0.2, return_sequences=True),\n",
    "    tf.keras.layers.GlobalMaxPooling1D(),\n",
    "    tf.keras.layers.Dense(16, activation='relu'),\n",
    "    tf.keras.layers.Dropout(0.2),\n",
    "    tf.keras.layers.Dense(1, activation='sigmoid')\n",
    "])\n",
    "\n",
    "\n",
    "rlrp = ReduceLROnPlateau(monitor='val_loss', factor=0.1, patience=2)\n",
    "model_gru.compile(loss='binary_crossentropy', optimizer='adam', metrics=['accuracy'])\n",
    "model_gru.summary()"
   ]
  },
  {
   "cell_type": "code",
   "execution_count": 45,
   "metadata": {},
   "outputs": [
    {
     "name": "stdout",
     "output_type": "stream",
     "text": [
      "Train on 22895 samples, validate on 5724 samples\n",
      "Epoch 1/15\n",
      "22895/22895 [==============================] - 64s 3ms/step - loss: 0.5973 - acc: 0.6568 - val_loss: 0.4705 - val_acc: 0.7713\n",
      "Epoch 2/15\n",
      "22895/22895 [==============================] - 62s 3ms/step - loss: 0.4260 - acc: 0.8001 - val_loss: 0.3834 - val_acc: 0.8222\n",
      "Epoch 3/15\n",
      "22895/22895 [==============================] - 62s 3ms/step - loss: 0.3292 - acc: 0.8584 - val_loss: 0.3684 - val_acc: 0.8339\n",
      "Epoch 4/15\n",
      "22895/22895 [==============================] - 61s 3ms/step - loss: 0.2591 - acc: 0.8972 - val_loss: 0.3870 - val_acc: 0.8318\n",
      "Epoch 5/15\n",
      "22895/22895 [==============================] - 62s 3ms/step - loss: 0.2099 - acc: 0.9181 - val_loss: 0.3845 - val_acc: 0.8384\n",
      "Epoch 6/15\n",
      "22895/22895 [==============================] - 62s 3ms/step - loss: 0.1640 - acc: 0.9426 - val_loss: 0.3920 - val_acc: 0.8466\n",
      "Epoch 7/15\n",
      "22895/22895 [==============================] - 62s 3ms/step - loss: 0.1556 - acc: 0.9430 - val_loss: 0.3994 - val_acc: 0.8463\n",
      "Epoch 8/15\n",
      "22895/22895 [==============================] - 62s 3ms/step - loss: 0.1474 - acc: 0.9479 - val_loss: 0.4001 - val_acc: 0.8463\n",
      "Epoch 9/15\n",
      "22895/22895 [==============================] - 63s 3ms/step - loss: 0.1490 - acc: 0.9464 - val_loss: 0.4012 - val_acc: 0.8459\n",
      "Epoch 10/15\n",
      "22895/22895 [==============================] - 62s 3ms/step - loss: 0.1469 - acc: 0.9484 - val_loss: 0.4013 - val_acc: 0.8461\n",
      "Epoch 11/15\n",
      "22895/22895 [==============================] - 63s 3ms/step - loss: 0.1452 - acc: 0.9476 - val_loss: 0.4016 - val_acc: 0.8459\n",
      "Epoch 12/15\n",
      "22895/22895 [==============================] - 62s 3ms/step - loss: 0.1455 - acc: 0.9476 - val_loss: 0.4016 - val_acc: 0.8459\n",
      "Epoch 13/15\n",
      "22895/22895 [==============================] - 62s 3ms/step - loss: 0.1472 - acc: 0.9451 - val_loss: 0.4016 - val_acc: 0.8459\n",
      "Epoch 14/15\n",
      "22895/22895 [==============================] - 59s 3ms/step - loss: 0.1484 - acc: 0.9476 - val_loss: 0.4016 - val_acc: 0.8459\n",
      "Epoch 15/15\n",
      "22895/22895 [==============================] - 57s 2ms/step - loss: 0.1458 - acc: 0.9478 - val_loss: 0.4016 - val_acc: 0.8459\n"
     ]
    }
   ],
   "source": [
    "history_gru = model_gru.fit(train_sequences, train_labels, batch_size=32, epochs=15, \n",
    "                    validation_data=(test_sequences, test_labels), \n",
    "                    callbacks=[rlrp] ,verbose=1)"
   ]
  },
  {
   "cell_type": "code",
   "execution_count": 46,
   "metadata": {},
   "outputs": [
    {
     "name": "stdout",
     "output_type": "stream",
     "text": [
      "5724/5724 [==============================] - 2s 319us/step\n",
      "Test Loss:  0.4016297634542613\n",
      "Test Accuracy 0.8459119496855346\n",
      "dict_keys(['val_loss', 'val_acc', 'loss', 'acc', 'lr'])\n"
     ]
    },
    {
     "data": {
      "image/png": "[encoded data removed]",
      "text/plain": [
       "<Figure size 432x288 with 1 Axes>"
      ]
     },
     "metadata": {
      "needs_background": "light"
     },
     "output_type": "display_data"
    },
    {
     "data": {
      "image/png": "[encoded data removed]",
      "text/plain": [
       "<Figure size 432x288 with 1 Axes>"
      ]
     },
     "metadata": {
      "needs_background": "light"
     },
     "output_type": "display_data"
    }
   ],
   "source": [
    "score = model_gru.evaluate(test_sequences, test_labels)\n",
    "print('Test Loss: ', score[0])\n",
    "print('Test Accuracy', score[1])\n",
    "\n",
    "\n",
    "# list all data in history\n",
    "print(history_gru.history.keys())\n",
    "# summarize history for accuracy\n",
    "plt.plot(history_gru.history['acc'])\n",
    "plt.plot(history_gru.history['val_acc'])\n",
    "plt.title('Model Accuracy')\n",
    "plt.ylabel('accuracy')\n",
    "plt.xlabel('epoch')\n",
    "plt.legend(['train', 'test'], loc='upper left')\n",
    "plt.show()\n",
    "# summarize history for loss\n",
    "plt.plot(history_gru.history['loss'])\n",
    "plt.plot(history_gru.history['val_loss'])\n",
    "plt.title('Model Loss')\n",
    "plt.ylabel('loss')\n",
    "plt.xlabel('epoch')\n",
    "plt.legend(['train', 'test'], loc='upper left')\n",
    "plt.show()"
   ]
  },
  {
   "cell_type": "markdown",
   "metadata": {},
   "source": [
    "### 8. Bidirectional LSTM"
   ]
  },
  {
   "cell_type": "code",
   "execution_count": 54,
   "metadata": {},
   "outputs": [
    {
     "name": "stdout",
     "output_type": "stream",
     "text": [
      "_________________________________________________________________\n",
      "Layer (type)                 Output Shape              Param #   \n",
      "=================================================================\n",
      "embedding_9 (Embedding)      (None, 60, 64)            1280000   \n",
      "_________________________________________________________________\n",
      "bidirectional_3 (Bidirection (None, 60, 64)            24832     \n",
      "_________________________________________________________________\n",
      "global_max_pooling1d_7 (Glob (None, 64)                0         \n",
      "_________________________________________________________________\n",
      "dense_16 (Dense)             (None, 16)                1040      \n",
      "_________________________________________________________________\n",
      "dropout_7 (Dropout)          (None, 16)                0         \n",
      "_________________________________________________________________\n",
      "dense_17 (Dense)             (None, 1)                 17        \n",
      "=================================================================\n",
      "Total params: 1,305,889\n",
      "Trainable params: 1,305,889\n",
      "Non-trainable params: 0\n",
      "_________________________________________________________________\n"
     ]
    }
   ],
   "source": [
    "from tensorflow.keras.callbacks import ReduceLROnPlateau \n",
    "\n",
    "model_bidir = tf.keras.Sequential([\n",
    "    tf.keras.layers.Embedding(max_words, embed_size, input_length=max_len),\n",
    "    tf.keras.layers.Bidirectional(tf.keras.layers.LSTM(32, return_sequences=True)),\n",
    "    tf.keras.layers.GlobalMaxPool1D(),\n",
    "    tf.keras.layers.Dense(16, activation='relu'),\n",
    "    tf.keras.layers.Dropout(0.2),\n",
    "    tf.keras.layers.Dense(1, activation='sigmoid')\n",
    "])\n",
    "\n",
    "\n",
    "rlrp = ReduceLROnPlateau(monitor='val_loss', factor=0.1, patience=2)\n",
    "model_bidir.compile(loss='binary_crossentropy', optimizer='adam', metrics=['accuracy'])\n",
    "model_bidir.summary()"
   ]
  },
  {
   "cell_type": "code",
   "execution_count": 55,
   "metadata": {},
   "outputs": [
    {
     "name": "stdout",
     "output_type": "stream",
     "text": [
      "Train on 22895 samples, validate on 5724 samples\n",
      "Epoch 1/10\n",
      "22895/22895 [==============================] - 61s 3ms/step - loss: 0.5207 - acc: 0.7246 - val_loss: 0.3897 - val_acc: 0.8223\n",
      "Epoch 2/10\n",
      "22895/22895 [==============================] - 62s 3ms/step - loss: 0.3147 - acc: 0.8704 - val_loss: 0.3416 - val_acc: 0.8484\n",
      "Epoch 3/10\n",
      "22895/22895 [==============================] - 67s 3ms/step - loss: 0.2102 - acc: 0.9199 - val_loss: 0.3552 - val_acc: 0.8491\n",
      "Epoch 4/10\n",
      "22895/22895 [==============================] - 71s 3ms/step - loss: 0.1428 - acc: 0.9491 - val_loss: 0.4019 - val_acc: 0.8452\n",
      "Epoch 5/10\n",
      "22895/22895 [==============================] - 76s 3ms/step - loss: 0.0781 - acc: 0.9770 - val_loss: 0.4330 - val_acc: 0.8546\n",
      "Epoch 6/10\n",
      "22895/22895 [==============================] - 74s 3ms/step - loss: 0.0689 - acc: 0.9796 - val_loss: 0.4538 - val_acc: 0.8529\n",
      "Epoch 7/10\n",
      "22895/22895 [==============================] - 73s 3ms/step - loss: 0.0609 - acc: 0.9832 - val_loss: 0.4606 - val_acc: 0.8527\n",
      "Epoch 8/10\n",
      "22895/22895 [==============================] - 74s 3ms/step - loss: 0.0609 - acc: 0.9837 - val_loss: 0.4645 - val_acc: 0.8527\n",
      "Epoch 9/10\n",
      "22895/22895 [==============================] - 73s 3ms/step - loss: 0.0594 - acc: 0.9836 - val_loss: 0.4647 - val_acc: 0.8534\n",
      "Epoch 10/10\n",
      "22895/22895 [==============================] - 73s 3ms/step - loss: 0.0600 - acc: 0.9831 - val_loss: 0.4651 - val_acc: 0.8541\n"
     ]
    }
   ],
   "source": [
    "history_bidir = model_bidir.fit(train_sequences, train_labels, batch_size=32, epochs=10, \n",
    "                    validation_data=(test_sequences, test_labels), \n",
    "                    callbacks=[rlrp] ,verbose=1)"
   ]
  },
  {
   "cell_type": "code",
   "execution_count": 56,
   "metadata": {},
   "outputs": [
    {
     "name": "stdout",
     "output_type": "stream",
     "text": [
      "5724/5724 [==============================] - 3s 508us/step\n",
      "Test Loss:  0.46509092967048715\n",
      "Test Accuracy 0.8541229908321388\n",
      "dict_keys(['val_loss', 'val_acc', 'loss', 'acc', 'lr'])\n"
     ]
    },
    {
     "data": {
      "image/png": "[encoded data removed]",
      "text/plain": [
       "<Figure size 432x288 with 1 Axes>"
      ]
     },
     "metadata": {
      "needs_background": "light"
     },
     "output_type": "display_data"
    },
    {
     "data": {
      "image/png": "[encoded data removed]",
      "text/plain": [
       "<Figure size 432x288 with 1 Axes>"
      ]
     },
     "metadata": {
      "needs_background": "light"
     },
     "output_type": "display_data"
    }
   ],
   "source": [
    "score = model_bidir.evaluate(test_sequences, test_labels)\n",
    "print('Test Loss: ', score[0])\n",
    "print('Test Accuracy', score[1])\n",
    "\n",
    "\n",
    "# list all data in history\n",
    "print(history_bidir.history.keys())\n",
    "# summarize history for accuracy\n",
    "plt.plot(history_bidir.history['acc'])\n",
    "plt.plot(history_bidir.history['val_acc'])\n",
    "plt.title('Model Accuracy')\n",
    "plt.ylabel('accuracy')\n",
    "plt.xlabel('epoch')\n",
    "plt.legend(['train', 'test'], loc='upper left')\n",
    "plt.show()\n",
    "# summarize history for loss\n",
    "plt.plot(history_bidir.history['loss'])\n",
    "plt.plot(history_bidir.history['val_loss'])\n",
    "plt.title('Model Loss')\n",
    "plt.ylabel('loss')\n",
    "plt.xlabel('epoch')\n",
    "plt.legend(['train', 'test'], loc='upper left')\n",
    "plt.show()"
   ]
  },
  {
   "cell_type": "markdown",
   "metadata": {},
   "source": [
    "### 9. Stacked Bidirectional LSTM "
   ]
  },
  {
   "cell_type": "code",
   "execution_count": 57,
   "metadata": {},
   "outputs": [
    {
     "name": "stdout",
     "output_type": "stream",
     "text": [
      "_________________________________________________________________\n",
      "Layer (type)                 Output Shape              Param #   \n",
      "=================================================================\n",
      "embedding_10 (Embedding)     (None, 60, 64)            1280000   \n",
      "_________________________________________________________________\n",
      "bidirectional_4 (Bidirection (None, 60, 64)            24832     \n",
      "_________________________________________________________________\n",
      "bidirectional_5 (Bidirection (None, 64)                24832     \n",
      "_________________________________________________________________\n",
      "dense_18 (Dense)             (None, 1)                 65        \n",
      "=================================================================\n",
      "Total params: 1,329,729\n",
      "Trainable params: 1,329,729\n",
      "Non-trainable params: 0\n",
      "_________________________________________________________________\n"
     ]
    }
   ],
   "source": [
    "from tensorflow.keras.callbacks import ReduceLROnPlateau \n",
    "\n",
    "model_st_bidir = tf.keras.Sequential([\n",
    "    tf.keras.layers.Embedding(max_words, embed_size, input_length=max_len),\n",
    "    tf.keras.layers.Bidirectional(tf.keras.layers.LSTM(32, return_sequences=True)),\n",
    "    tf.keras.layers.Bidirectional(tf.keras.layers.LSTM(32)),\n",
    "    tf.keras.layers.Dense(1, activation='sigmoid')\n",
    "])\n",
    "\n",
    "\n",
    "rlrp = ReduceLROnPlateau(monitor='val_loss', factor=0.1, patience=2)\n",
    "model_st_bidir.compile(loss='binary_crossentropy', optimizer='adam', metrics=['accuracy'])\n",
    "model_st_bidir.summary()"
   ]
  },
  {
   "cell_type": "code",
   "execution_count": 58,
   "metadata": {},
   "outputs": [
    {
     "name": "stdout",
     "output_type": "stream",
     "text": [
      "Train on 22895 samples, validate on 5724 samples\n",
      "Epoch 1/10\n",
      "22895/22895 [==============================] - 130s 6ms/step - loss: 0.4791 - acc: 0.7537 - val_loss: 0.3751 - val_acc: 0.8332\n",
      "Epoch 2/10\n",
      "22895/22895 [==============================] - 117s 5ms/step - loss: 0.2844 - acc: 0.8777 - val_loss: 0.3522 - val_acc: 0.8400\n",
      "Epoch 3/10\n",
      "22895/22895 [==============================] - 120s 5ms/step - loss: 0.1847 - acc: 0.9282 - val_loss: 0.3571 - val_acc: 0.8450\n",
      "Epoch 4/10\n",
      "22895/22895 [==============================] - 121s 5ms/step - loss: 0.1155 - acc: 0.9586 - val_loss: 0.3997 - val_acc: 0.8536\n",
      "Epoch 5/10\n",
      "22895/22895 [==============================] - 121s 5ms/step - loss: 0.0550 - acc: 0.9829 - val_loss: 0.4906 - val_acc: 0.8522\n",
      "Epoch 6/10\n",
      "22895/22895 [==============================] - 123s 5ms/step - loss: 0.0463 - acc: 0.9858 - val_loss: 0.5588 - val_acc: 0.8494\n",
      "Epoch 7/10\n",
      "22895/22895 [==============================] - 120s 5ms/step - loss: 0.0393 - acc: 0.9889 - val_loss: 0.5592 - val_acc: 0.8506\n",
      "Epoch 8/10\n",
      "22895/22895 [==============================] - 120s 5ms/step - loss: 0.0386 - acc: 0.9890 - val_loss: 0.5646 - val_acc: 0.8494\n",
      "Epoch 9/10\n",
      "22895/22895 [==============================] - 123s 5ms/step - loss: 0.0378 - acc: 0.9896 - val_loss: 0.5651 - val_acc: 0.8494\n",
      "Epoch 10/10\n",
      "22895/22895 [==============================] - 121s 5ms/step - loss: 0.0377 - acc: 0.9894 - val_loss: 0.5658 - val_acc: 0.8491\n"
     ]
    }
   ],
   "source": [
    "history_st_bidir = model_st_bidir.fit(train_sequences, train_labels, batch_size=32, epochs=10, \n",
    "                    validation_data=(test_sequences, test_labels), \n",
    "                    callbacks=[rlrp] ,verbose=1)"
   ]
  },
  {
   "cell_type": "code",
   "execution_count": 59,
   "metadata": {},
   "outputs": [
    {
     "name": "stdout",
     "output_type": "stream",
     "text": [
      "5724/5724 [==============================] - 6s 1ms/step\n",
      "Test Loss:  0.5657638216626802\n",
      "Test Accuracy 0.84905660369028\n",
      "dict_keys(['val_loss', 'val_acc', 'loss', 'acc', 'lr'])\n"
     ]
    },
    {
     "data": {
      "image/png": "[encoded data removed]",
      "text/plain": [
       "<Figure size 432x288 with 1 Axes>"
      ]
     },
     "metadata": {
      "needs_background": "light"
     },
     "output_type": "display_data"
    },
    {
     "data": {
      "image/png": "[encoded data removed]",
      "text/plain": [
       "<Figure size 432x288 with 1 Axes>"
      ]
     },
     "metadata": {
      "needs_background": "light"
     },
     "output_type": "display_data"
    }
   ],
   "source": [
    "score = model_st_bidir.evaluate(test_sequences, test_labels)\n",
    "print('Test Loss: ', score[0])\n",
    "print('Test Accuracy', score[1])\n",
    "\n",
    "\n",
    "# list all data in history\n",
    "print(history_st_bidir.history.keys())\n",
    "# summarize history for accuracy\n",
    "plt.plot(history_st_bidir.history['acc'])\n",
    "plt.plot(history_st_bidir.history['val_acc'])\n",
    "plt.title('Model Accuracy')\n",
    "plt.ylabel('accuracy')\n",
    "plt.xlabel('epoch')\n",
    "plt.legend(['train', 'test'], loc='upper left')\n",
    "plt.show()\n",
    "# summarize history for loss\n",
    "plt.plot(history_st_bidir.history['loss'])\n",
    "plt.plot(history_st_bidir.history['val_loss'])\n",
    "plt.title('Model Loss')\n",
    "plt.ylabel('loss')\n",
    "plt.xlabel('epoch')\n",
    "plt.legend(['train', 'test'], loc='upper left')\n",
    "plt.show()"
   ]
  },
  {
   "cell_type": "markdown",
   "metadata": {},
   "source": [
    "### 10. Birectional LSTM without GlobalPooling and only 1 FC Dense layer"
   ]
  },
  {
   "cell_type": "code",
   "execution_count": 60,
   "metadata": {},
   "outputs": [
    {
     "name": "stdout",
     "output_type": "stream",
     "text": [
      "_________________________________________________________________\n",
      "Layer (type)                 Output Shape              Param #   \n",
      "=================================================================\n",
      "embedding_11 (Embedding)     (None, 60, 64)            1280000   \n",
      "_________________________________________________________________\n",
      "bidirectional_6 (Bidirection (None, 128)               66048     \n",
      "_________________________________________________________________\n",
      "dense_19 (Dense)             (None, 1)                 129       \n",
      "=================================================================\n",
      "Total params: 1,346,177\n",
      "Trainable params: 1,346,177\n",
      "Non-trainable params: 0\n",
      "_________________________________________________________________\n"
     ]
    }
   ],
   "source": [
    "from tensorflow.keras.callbacks import ReduceLROnPlateau \n",
    "\n",
    "model_bidir_tune = tf.keras.Sequential([\n",
    "    tf.keras.layers.Embedding(max_words, embed_size, input_length=max_len),\n",
    "    tf.keras.layers.Bidirectional(tf.keras.layers.LSTM(64)),\n",
    "    tf.keras.layers.Dense(1, activation='sigmoid')\n",
    "])\n",
    "\n",
    "\n",
    "rlrp = ReduceLROnPlateau(monitor='val_loss', factor=0.1, patience=2)\n",
    "model_bidir_tune.compile(loss='binary_crossentropy', optimizer='adam', metrics=['accuracy'])\n",
    "model_bidir_tune.summary()"
   ]
  },
  {
   "cell_type": "code",
   "execution_count": 61,
   "metadata": {},
   "outputs": [
    {
     "name": "stdout",
     "output_type": "stream",
     "text": [
      "Train on 22895 samples, validate on 5724 samples\n",
      "Epoch 1/10\n",
      "22895/22895 [==============================] - 113s 5ms/step - loss: 0.4858 - acc: 0.7475 - val_loss: 0.3656 - val_acc: 0.8374\n",
      "Epoch 2/10\n",
      "22895/22895 [==============================] - 91s 4ms/step - loss: 0.2713 - acc: 0.8857 - val_loss: 0.3366 - val_acc: 0.8473\n",
      "Epoch 3/10\n",
      "22895/22895 [==============================] - 92s 4ms/step - loss: 0.1756 - acc: 0.9312 - val_loss: 0.3575 - val_acc: 0.8595\n",
      "Epoch 4/10\n",
      "22895/22895 [==============================] - 94s 4ms/step - loss: 0.1140 - acc: 0.9591 - val_loss: 0.4039 - val_acc: 0.8466\n",
      "Epoch 5/10\n",
      "22895/22895 [==============================] - 91s 4ms/step - loss: 0.0548 - acc: 0.9837 - val_loss: 0.4262 - val_acc: 0.8580\n",
      "Epoch 6/10\n",
      "22895/22895 [==============================] - 92s 4ms/step - loss: 0.0474 - acc: 0.9869 - val_loss: 0.4463 - val_acc: 0.8557\n",
      "Epoch 7/10\n",
      "22895/22895 [==============================] - 92s 4ms/step - loss: 0.0409 - acc: 0.9894 - val_loss: 0.4540 - val_acc: 0.8588\n",
      "Epoch 8/10\n",
      "22895/22895 [==============================] - 92s 4ms/step - loss: 0.0404 - acc: 0.9893 - val_loss: 0.4571 - val_acc: 0.8588\n",
      "Epoch 9/10\n",
      "22895/22895 [==============================] - 92s 4ms/step - loss: 0.0397 - acc: 0.9898 - val_loss: 0.4573 - val_acc: 0.8587\n",
      "Epoch 10/10\n",
      "22895/22895 [==============================] - 92s 4ms/step - loss: 0.0396 - acc: 0.9898 - val_loss: 0.4577 - val_acc: 0.8588\n"
     ]
    }
   ],
   "source": [
    "history_bidir_tune = model_bidir_tune.fit(train_sequences, train_labels, batch_size=32, epochs=10, \n",
    "                    validation_data=(test_sequences, test_labels), \n",
    "                    callbacks=[rlrp] ,verbose=1)"
   ]
  },
  {
   "cell_type": "code",
   "execution_count": 62,
   "metadata": {},
   "outputs": [
    {
     "name": "stdout",
     "output_type": "stream",
     "text": [
      "5724/5724 [==============================] - 4s 636us/step\n",
      "Test Loss:  0.4576683584665769\n",
      "Test Accuracy 0.8588399719642144\n",
      "dict_keys(['val_loss', 'val_acc', 'loss', 'acc', 'lr'])\n"
     ]
    },
    {
     "data": {
      "image/png": "[encoded data removed]",
      "text/plain": [
       "<Figure size 432x288 with 1 Axes>"
      ]
     },
     "metadata": {
      "needs_background": "light"
     },
     "output_type": "display_data"
    },
    {
     "data": {
      "image/png": "[encoded data removed]",
      "text/plain": [
       "<Figure size 432x288 with 1 Axes>"
      ]
     },
     "metadata": {
      "needs_background": "light"
     },
     "output_type": "display_data"
    }
   ],
   "source": [
    "score = model_bidir_tune.evaluate(test_sequences, test_labels)\n",
    "print('Test Loss: ', score[0])\n",
    "print('Test Accuracy', score[1])\n",
    "\n",
    "\n",
    "# list all data in history\n",
    "print(history_bidir_tune.history.keys())\n",
    "# summarize history for accuracy\n",
    "plt.plot(history_bidir_tune.history['acc'])\n",
    "plt.plot(history_bidir_tune.history['val_acc'])\n",
    "plt.title('Model Accuracy')\n",
    "plt.ylabel('accuracy')\n",
    "plt.xlabel('epoch')\n",
    "plt.legend(['train', 'test'], loc='upper left')\n",
    "plt.show()\n",
    "# summarize history for loss\n",
    "plt.plot(history_bidir_tune.history['loss'])\n",
    "plt.plot(history_bidir_tune.history['val_loss'])\n",
    "plt.title('Model Loss')\n",
    "plt.ylabel('loss')\n",
    "plt.xlabel('epoch')\n",
    "plt.legend(['train', 'test'], loc='upper left')\n",
    "plt.show()"
   ]
  },
  {
   "cell_type": "markdown",
   "metadata": {},
   "source": [
    "### Tuning the Best models"
   ]
  },
  {
   "cell_type": "code",
   "execution_count": 66,
   "metadata": {},
   "outputs": [
    {
     "name": "stdout",
     "output_type": "stream",
     "text": [
      "_________________________________________________________________\n",
      "Layer (type)                 Output Shape              Param #   \n",
      "=================================================================\n",
      "embedding_13 (Embedding)     (None, 60, 64)            1280000   \n",
      "_________________________________________________________________\n",
      "spatial_dropout1d_6 (Spatial (None, 60, 64)            0         \n",
      "_________________________________________________________________\n",
      "bidirectional_7 (Bidirection (None, 60, 64)            24832     \n",
      "_________________________________________________________________\n",
      "global_average_pooling1d_2 ( (None, 64)                0         \n",
      "_________________________________________________________________\n",
      "dense_21 (Dense)             (None, 1)                 65        \n",
      "=================================================================\n",
      "Total params: 1,304,897\n",
      "Trainable params: 1,304,897\n",
      "Non-trainable params: 0\n",
      "_________________________________________________________________\n"
     ]
    }
   ],
   "source": [
    "from tensorflow.keras.callbacks import ReduceLROnPlateau \n",
    "\n",
    "model_lstm2 = tf.keras.Sequential([\n",
    "    tf.keras.layers.Embedding(max_words, embed_size, input_length=max_len),\n",
    "    tf.keras.layers.SpatialDropout1D(0.2),\n",
    "    tf.keras.layers.Bidirectional(tf.keras.layers.LSTM(32, return_sequences=True)),\n",
    "    tf.keras.layers.GlobalAveragePooling1D(),\n",
    "    tf.keras.layers.Dense(1, activation='sigmoid')\n",
    "])\n",
    "\n",
    "\n",
    "rlrp = ReduceLROnPlateau(monitor='val_loss', factor=0.1, patience=2)\n",
    "model_lstm2.compile(loss='binary_crossentropy', optimizer='adam', metrics=['accuracy'])\n",
    "model_lstm2.summary()"
   ]
  },
  {
   "cell_type": "code",
   "execution_count": 67,
   "metadata": {},
   "outputs": [
    {
     "name": "stdout",
     "output_type": "stream",
     "text": [
      "Train on 22895 samples, validate on 5724 samples\n",
      "Epoch 1/10\n",
      "22895/22895 [==============================] - 60s 3ms/step - loss: 0.6305 - acc: 0.6064 - val_loss: 0.4519 - val_acc: 0.7834\n",
      "Epoch 2/10\n",
      "22895/22895 [==============================] - 62s 3ms/step - loss: 0.3971 - acc: 0.8186 - val_loss: 0.3587 - val_acc: 0.8374\n",
      "Epoch 3/10\n",
      "22895/22895 [==============================] - 72s 3ms/step - loss: 0.2922 - acc: 0.8776 - val_loss: 0.3368 - val_acc: 0.8580\n",
      "Epoch 4/10\n",
      "22895/22895 [==============================] - 78s 3ms/step - loss: 0.2305 - acc: 0.9078 - val_loss: 0.3350 - val_acc: 0.8618\n",
      "Epoch 5/10\n",
      "22895/22895 [==============================] - 67s 3ms/step - loss: 0.1874 - acc: 0.9290 - val_loss: 0.3475 - val_acc: 0.8592\n",
      "Epoch 6/10\n",
      "22895/22895 [==============================] - 66s 3ms/step - loss: 0.1535 - acc: 0.9430 - val_loss: 0.3782 - val_acc: 0.8566\n",
      "Epoch 7/10\n",
      "22895/22895 [==============================] - 67s 3ms/step - loss: 0.1146 - acc: 0.9592 - val_loss: 0.4013 - val_acc: 0.8597\n",
      "Epoch 8/10\n",
      "22895/22895 [==============================] - 72s 3ms/step - loss: 0.1093 - acc: 0.9622 - val_loss: 0.4119 - val_acc: 0.8604\n",
      "Epoch 9/10\n",
      "22895/22895 [==============================] - 67s 3ms/step - loss: 0.1059 - acc: 0.9649 - val_loss: 0.4105 - val_acc: 0.8602\n",
      "Epoch 10/10\n",
      "22895/22895 [==============================] - 68s 3ms/step - loss: 0.1063 - acc: 0.9638 - val_loss: 0.4097 - val_acc: 0.8602\n"
     ]
    }
   ],
   "source": [
    "history_lstm2 = model_lstm2.fit(train_sequences, train_labels, batch_size=32, epochs=10, \n",
    "                    validation_data=(test_sequences, test_labels), \n",
    "                    callbacks=[rlrp] ,verbose=1)"
   ]
  },
  {
   "cell_type": "code",
   "execution_count": 65,
   "metadata": {},
   "outputs": [
    {
     "name": "stdout",
     "output_type": "stream",
     "text": [
      "5724/5724 [==============================] - 2s 436us/step\n",
      "Test Loss:  0.4135424006368463\n",
      "Test Accuracy 0.8555206148712723\n",
      "dict_keys(['val_loss', 'val_acc', 'loss', 'acc', 'lr'])\n"
     ]
    },
    {
     "data": {
      "image/png": "[encoded data removed]",
      "text/plain": [
       "<Figure size 432x288 with 1 Axes>"
      ]
     },
     "metadata": {
      "needs_background": "light"
     },
     "output_type": "display_data"
    },
    {
     "data": {
      "image/png": "[encoded data removed]",
      "text/plain": [
       "<Figure size 432x288 with 1 Axes>"
      ]
     },
     "metadata": {
      "needs_background": "light"
     },
     "output_type": "display_data"
    }
   ],
   "source": [
    "score = model_lstm2.evaluate(test_sequences, test_labels)\n",
    "print('Test Loss: ', score[0])\n",
    "print('Test Accuracy', score[1])\n",
    "\n",
    "\n",
    "# list all data in history\n",
    "print(history_lstm2.history.keys())\n",
    "# summarize history for accuracy\n",
    "plt.plot(history_lstm2.history['acc'])\n",
    "plt.plot(history_lstm2.history['val_acc'])\n",
    "plt.title('Model Accuracy')\n",
    "plt.ylabel('accuracy')\n",
    "plt.xlabel('epoch')\n",
    "plt.legend(['train', 'test'], loc='upper left')\n",
    "plt.show()\n",
    "# summarize history for loss\n",
    "plt.plot(history_lstm2.history['loss'])\n",
    "plt.plot(history_lstm2.history['val_loss'])\n",
    "plt.title('Model Loss')\n",
    "plt.ylabel('loss')\n",
    "plt.xlabel('epoch')\n",
    "plt.legend(['train', 'test'], loc='upper left')\n",
    "plt.show()"
   ]
  },
  {
   "cell_type": "code",
   "execution_count": 69,
   "metadata": {},
   "outputs": [
    {
     "name": "stdout",
     "output_type": "stream",
     "text": [
      "_________________________________________________________________\n",
      "Layer (type)                 Output Shape              Param #   \n",
      "=================================================================\n",
      "embedding_14 (Embedding)     (None, 60, 64)            1280000   \n",
      "_________________________________________________________________\n",
      "spatial_dropout1d_7 (Spatial (None, 60, 64)            0         \n",
      "_________________________________________________________________\n",
      "lstm_14 (LSTM)               (None, 60, 32)            12416     \n",
      "_________________________________________________________________\n",
      "global_max_pooling1d_8 (Glob (None, 32)                0         \n",
      "_________________________________________________________________\n",
      "dense_22 (Dense)             (None, 16)                528       \n",
      "_________________________________________________________________\n",
      "dropout_8 (Dropout)          (None, 16)                0         \n",
      "_________________________________________________________________\n",
      "dense_23 (Dense)             (None, 1)                 17        \n",
      "=================================================================\n",
      "Total params: 1,292,961\n",
      "Trainable params: 1,292,961\n",
      "Non-trainable params: 0\n",
      "_________________________________________________________________\n"
     ]
    }
   ],
   "source": [
    "from tensorflow.keras.callbacks import ReduceLROnPlateau \n",
    "\n",
    "model_lstm_tuned = tf.keras.Sequential([\n",
    "    tf.keras.layers.Embedding(max_words, embed_size, input_length=max_len),\n",
    "    tf.keras.layers.SpatialDropout1D(0.2),\n",
    "    tf.keras.layers.LSTM(32, dropout=0.3, recurrent_dropout=0.3, return_sequences=True),\n",
    "    tf.keras.layers.GlobalMaxPooling1D(),\n",
    "    tf.keras.layers.Dense(16, activation='relu'),\n",
    "    tf.keras.layers.Dropout(0.3),\n",
    "    tf.keras.layers.Dense(1, activation='sigmoid')\n",
    "])\n",
    "\n",
    "\n",
    "rlrp = ReduceLROnPlateau(monitor='val_loss', factor=0.1, patience=2)\n",
    "model_lstm_tuned.compile(loss='binary_crossentropy', optimizer='adam', metrics=['accuracy'])\n",
    "model_lstm_tuned.summary()"
   ]
  },
  {
   "cell_type": "code",
   "execution_count": 70,
   "metadata": {},
   "outputs": [
    {
     "name": "stdout",
     "output_type": "stream",
     "text": [
      "Train on 22895 samples, validate on 5724 samples\n",
      "Epoch 1/10\n",
      "22895/22895 [==============================] - 63s 3ms/step - loss: 0.6399 - acc: 0.6145 - val_loss: 0.5288 - val_acc: 0.7353\n",
      "Epoch 2/10\n",
      "22895/22895 [==============================] - 64s 3ms/step - loss: 0.5076 - acc: 0.7506 - val_loss: 0.4573 - val_acc: 0.7745\n",
      "Epoch 3/10\n",
      "22895/22895 [==============================] - 60s 3ms/step - loss: 0.4320 - acc: 0.8051 - val_loss: 0.4096 - val_acc: 0.8111\n",
      "Epoch 4/10\n",
      "22895/22895 [==============================] - 63s 3ms/step - loss: 0.3612 - acc: 0.8462 - val_loss: 0.3744 - val_acc: 0.8330\n",
      "Epoch 5/10\n",
      "22895/22895 [==============================] - 66s 3ms/step - loss: 0.3015 - acc: 0.8788 - val_loss: 0.3550 - val_acc: 0.8417\n",
      "Epoch 6/10\n",
      "22895/22895 [==============================] - 68s 3ms/step - loss: 0.2544 - acc: 0.9028 - val_loss: 0.3614 - val_acc: 0.8512\n",
      "Epoch 7/10\n",
      "22895/22895 [==============================] - 68s 3ms/step - loss: 0.2207 - acc: 0.9165 - val_loss: 0.3547 - val_acc: 0.8548\n",
      "Epoch 8/10\n",
      "22895/22895 [==============================] - 71s 3ms/step - loss: 0.1850 - acc: 0.9324 - val_loss: 0.3663 - val_acc: 0.8560\n",
      "Epoch 9/10\n",
      "22895/22895 [==============================] - 72s 3ms/step - loss: 0.1680 - acc: 0.9392 - val_loss: 0.3749 - val_acc: 0.8562\n",
      "Epoch 10/10\n",
      "22895/22895 [==============================] - 72s 3ms/step - loss: 0.1367 - acc: 0.9529 - val_loss: 0.3929 - val_acc: 0.8569\n"
     ]
    }
   ],
   "source": [
    "history_lstm_tuned = model_lstm_tuned.fit(train_sequences, train_labels, batch_size=32, epochs=10, \n",
    "                    validation_data=(test_sequences, test_labels), \n",
    "                    callbacks=[rlrp] ,verbose=1)"
   ]
  },
  {
   "cell_type": "code",
   "execution_count": 71,
   "metadata": {},
   "outputs": [
    {
     "name": "stdout",
     "output_type": "stream",
     "text": [
      "5724/5724 [==============================] - 3s 480us/step\n",
      "Test Loss:  0.3928747713815741\n",
      "Test Accuracy 0.856918239118668\n",
      "dict_keys(['val_loss', 'val_acc', 'loss', 'acc', 'lr'])\n"
     ]
    },
    {
     "data": {
      "image/png": "[encoded data removed]",
      "text/plain": [
       "<Figure size 432x288 with 1 Axes>"
      ]
     },
     "metadata": {
      "needs_background": "light"
     },
     "output_type": "display_data"
    },
    {
     "data": {
      "image/png": "[encoded data removed]",
      "text/plain": [
       "<Figure size 432x288 with 1 Axes>"
      ]
     },
     "metadata": {
      "needs_background": "light"
     },
     "output_type": "display_data"
    }
   ],
   "source": [
    "score = model_lstm_tuned.evaluate(test_sequences, test_labels)\n",
    "print('Test Loss: ', score[0])\n",
    "print('Test Accuracy', score[1])\n",
    "\n",
    "\n",
    "# list all data in history\n",
    "print(history_lstm_tuned.history.keys())\n",
    "# summarize history for accuracy\n",
    "plt.plot(history_lstm_tuned.history['acc'])\n",
    "plt.plot(history_lstm_tuned.history['val_acc'])\n",
    "plt.title('Model Accuracy')\n",
    "plt.ylabel('accuracy')\n",
    "plt.xlabel('epoch')\n",
    "plt.legend(['train', 'test'], loc='upper left')\n",
    "plt.show()\n",
    "# summarize history for loss\n",
    "plt.plot(history_lstm_tuned.history['loss'])\n",
    "plt.plot(history_lstm_tuned.history['val_loss'])\n",
    "plt.title('Model Loss')\n",
    "plt.ylabel('loss')\n",
    "plt.xlabel('epoch')\n",
    "plt.legend(['train', 'test'], loc='upper left')\n",
    "plt.show()"
   ]
  },
  {
   "cell_type": "markdown",
   "metadata": {},
   "source": [
    "### 10. Best model from above with Pre-Trained Word Embeddings (Wiki News Fast text)"
   ]
  },
  {
   "cell_type": "code",
   "execution_count": 103,
   "metadata": {},
   "outputs": [],
   "source": [
    "import numpy as np\n",
    "\n",
    "EMBEDDING_FILE = 'wiki-news-300d-1M.vec'\n",
    "\n",
    "def get_coefs(word,*arr):\n",
    "    return word, np.asarray(arr, dtype='float32')\n",
    "\n",
    "embeddings_index = dict(get_coefs(*o.split(\" \")) \n",
    "                        for o in open(EMBEDDING_FILE, encoding=\"utf-8\") if len(o)>100)\n",
    "\n",
    "all_embs = np.stack(embeddings_index.values())\n",
    "emb_mean,emb_std = all_embs.mean(), all_embs.std()\n",
    "embed_size = all_embs.shape[1]\n",
    "\n",
    "word_index = tokenizer.word_index\n",
    "nb_words = min(max_words, len(word_index))\n",
    "embedding_matrix = np.random.normal(emb_mean, emb_std, (nb_words, embed_size))\n",
    "\n",
    "for word, i in word_index.items():\n",
    "    if i >= max_words:\n",
    "        continue\n",
    "    embedding_vector = embeddings_index.get(word)\n",
    "    if embedding_vector is not None:\n",
    "        embedding_matrix[i] = embedding_vector"
   ]
  },
  {
   "cell_type": "code",
   "execution_count": 108,
   "metadata": {},
   "outputs": [
    {
     "name": "stdout",
     "output_type": "stream",
     "text": [
      "_________________________________________________________________\n",
      "Layer (type)                 Output Shape              Param #   \n",
      "=================================================================\n",
      "embedding_16 (Embedding)     (None, 60, 300)           6000000   \n",
      "_________________________________________________________________\n",
      "spatial_dropout1d_9 (Spatial (None, 60, 300)           0         \n",
      "_________________________________________________________________\n",
      "lstm_16 (LSTM)               (None, 60, 32)            42624     \n",
      "_________________________________________________________________\n",
      "global_average_pooling1d_4 ( (None, 32)                0         \n",
      "_________________________________________________________________\n",
      "dense_26 (Dense)             (None, 16)                528       \n",
      "_________________________________________________________________\n",
      "dropout_10 (Dropout)         (None, 16)                0         \n",
      "_________________________________________________________________\n",
      "dense_27 (Dense)             (None, 1)                 17        \n",
      "=================================================================\n",
      "Total params: 6,043,169\n",
      "Trainable params: 6,043,169\n",
      "Non-trainable params: 0\n",
      "_________________________________________________________________\n"
     ]
    }
   ],
   "source": [
    "model_wiki = tf.keras.Sequential([\n",
    "    tf.keras.layers.Embedding(max_words, embed_size, input_length=max_len, weights=[embedding_matrix]),\n",
    "    tf.keras.layers.SpatialDropout1D(0.2),\n",
    "    tf.keras.layers.LSTM(32, dropout=0.2, recurrent_dropout=0.2, return_sequences=True),\n",
    "    tf.keras.layers.GlobalAveragePooling1D(),\n",
    "    tf.keras.layers.Dense(16, activation='relu'),\n",
    "    tf.keras.layers.Dropout(0.3),\n",
    "    tf.keras.layers.Dense(1, activation='sigmoid')\n",
    "])\n",
    "\n",
    "\n",
    "rlrp = ReduceLROnPlateau(monitor='val_loss', factor=0.1, patience=2)\n",
    "model_wiki.compile(loss='binary_crossentropy', optimizer='adam', metrics=['accuracy'])\n",
    "model_wiki.summary()"
   ]
  },
  {
   "cell_type": "code",
   "execution_count": 111,
   "metadata": {},
   "outputs": [
    {
     "name": "stdout",
     "output_type": "stream",
     "text": [
      "Train on 22895 samples, validate on 5724 samples\n",
      "Epoch 1/3\n",
      "22895/22895 [==============================] - 194s 8ms/step - loss: 0.0569 - acc: 0.9824 - val_loss: 0.5196 - val_acc: 0.8594\n",
      "Epoch 2/3\n",
      "22895/22895 [==============================] - 203s 9ms/step - loss: 0.0528 - acc: 0.9839 - val_loss: 0.5587 - val_acc: 0.8580\n",
      "Epoch 3/3\n",
      "22895/22895 [==============================] - 207s 9ms/step - loss: 0.0488 - acc: 0.9856 - val_loss: 0.5732 - val_acc: 0.8553\n"
     ]
    }
   ],
   "source": [
    "history_wiki = model_wiki.fit(train_sequences, train_labels, batch_size=32, epochs=3, \n",
    "                    validation_data=(test_sequences, test_labels), \n",
    "                    callbacks=[rlrp] ,verbose=1)"
   ]
  },
  {
   "cell_type": "code",
   "execution_count": 110,
   "metadata": {},
   "outputs": [
    {
     "name": "stdout",
     "output_type": "stream",
     "text": [
      "5724/5724 [==============================] - 9s 2ms/step\n",
      "Test Loss:  0.5063309388757169\n",
      "Test Accuracy 0.8572676449618416\n",
      "dict_keys(['val_loss', 'val_acc', 'loss', 'acc', 'lr'])\n"
     ]
    },
    {
     "data": {
      "image/png": "[encoded data removed]",
      "text/plain": [
       "<Figure size 432x288 with 1 Axes>"
      ]
     },
     "metadata": {
      "needs_background": "light"
     },
     "output_type": "display_data"
    },
    {
     "data": {
      "image/png": "[encoded data removed]",
      "text/plain": [
       "<Figure size 432x288 with 1 Axes>"
      ]
     },
     "metadata": {
      "needs_background": "light"
     },
     "output_type": "display_data"
    }
   ],
   "source": [
    "score = model_wiki.evaluate(test_sequences, test_labels)\n",
    "print('Test Loss: ', score[0])\n",
    "print('Test Accuracy', score[1])\n",
    "\n",
    "\n",
    "# list all data in history\n",
    "print(history_wiki.history.keys())\n",
    "# summarize history for accuracy\n",
    "plt.plot(history_wiki.history['acc'])\n",
    "plt.plot(history_wiki.history['val_acc'])\n",
    "plt.title('Model Accuracy')\n",
    "plt.ylabel('accuracy')\n",
    "plt.xlabel('epoch')\n",
    "plt.legend(['train', 'test'], loc='upper left')\n",
    "plt.show()\n",
    "# summarize history for loss\n",
    "plt.plot(history_wiki.history['loss'])\n",
    "plt.plot(history_wiki.history['val_loss'])\n",
    "plt.title('Model Loss')\n",
    "plt.ylabel('loss')\n",
    "plt.xlabel('epoch')\n",
    "plt.legend(['train', 'test'], loc='upper left')\n",
    "plt.show()"
   ]
  },
  {
   "cell_type": "markdown",
   "metadata": {},
   "source": [
    "### Saving the best model"
   ]
  },
  {
   "cell_type": "code",
   "execution_count": 72,
   "metadata": {},
   "outputs": [],
   "source": [
    "model_lstm1.save('model_sarcasm.h5')"
   ]
  },
  {
   "cell_type": "markdown",
   "metadata": {},
   "source": [
    "### Prediction Pipeline using the Best Model"
   ]
  },
  {
   "cell_type": "code",
   "execution_count": 73,
   "metadata": {},
   "outputs": [],
   "source": [
    "from tensorflow.keras.models import load_model"
   ]
  },
  {
   "cell_type": "code",
   "execution_count": 75,
   "metadata": {},
   "outputs": [
    {
     "name": "stdout",
     "output_type": "stream",
     "text": [
      "_________________________________________________________________\n",
      "Layer (type)                 Output Shape              Param #   \n",
      "=================================================================\n",
      "embedding_4 (Embedding)      (None, 60, 64)            1280000   \n",
      "_________________________________________________________________\n",
      "spatial_dropout1d_3 (Spatial (None, 60, 64)            0         \n",
      "_________________________________________________________________\n",
      "lstm_2 (LSTM)                (None, 60, 32)            12416     \n",
      "_________________________________________________________________\n",
      "global_max_pooling1d_3 (Glob (None, 32)                0         \n",
      "_________________________________________________________________\n",
      "dense_8 (Dense)              (None, 1)                 33        \n",
      "=================================================================\n",
      "Total params: 1,292,449\n",
      "Trainable params: 1,292,449\n",
      "Non-trainable params: 0\n",
      "_________________________________________________________________\n"
     ]
    }
   ],
   "source": [
    "model = load_model('model_sarcasm.h5')\n",
    "model.summary()"
   ]
  },
  {
   "cell_type": "code",
   "execution_count": 96,
   "metadata": {},
   "outputs": [],
   "source": [
    "max_len = 60       # max number of words in a headline to use\n",
    "padding_type = 'post'   # padding type\n",
    "trunc_type = 'post'    # truncation for headlines longer than max length\n",
    "embed_size = 64    # how big is each word vector\n",
    "\n",
    "def predict_sarcasm(sentences):\n",
    "    clean_sentences = list(map(clean_text, sentences))\n",
    "    print('Cleaned Sentences - ', clean_sentences)\n",
    "    sequence = tokenizer.texts_to_sequences(clean_sentences)\n",
    "    sequence = pad_sequences(sequence, maxlen=max_len, padding=padding_type, truncating=trunc_type)\n",
    "    \n",
    "    predictions = model.predict(sequence)\n",
    "    print(predictions)\n",
    "    \n",
    "    prediction_labels = []\n",
    "    for pred in predictions:\n",
    "        if pred >=0.5:\n",
    "            prediction_labels.append('Sarcastic News')\n",
    "        else:\n",
    "            prediction_labels.append('Legit News')\n",
    "\n",
    "    return prediction_labels"
   ]
  },
  {
   "cell_type": "code",
   "execution_count": 98,
   "metadata": {},
   "outputs": [
    {
     "name": "stdout",
     "output_type": "stream",
     "text": [
      "Cleaned Sentences -  ['alien be fear by humans doomsday war', 'the weather today be bright and sunny']\n",
      "[[7.4092495e-01]\n",
      " [1.0025646e-04]]\n"
     ]
    },
    {
     "data": {
      "text/plain": [
       "['Sarcastic News', 'Legit News']"
      ]
     },
     "execution_count": 98,
     "metadata": {},
     "output_type": "execute_result"
    }
   ],
   "source": [
    "predict_sarcasm(['Aliens are feared by humans doomsday war', \n",
    "                'The weather today is bright and sunny'])"
   ]
  },
  {
   "cell_type": "markdown",
   "metadata": {},
   "source": [
    "## Conclusion\n",
    "\n",
    "I have tried various variations of different models and also did a bit of Hyperparameter tuning, the best model is the one which used LSTM, GlobalMaxPooling and Spatial Dropout. The embeddings in this are trained from scratch from the corpus. \n",
    "\n",
    "The Best Test Accuracy is - 86.16%\n",
    "The best Test Loss - 0.3536\n",
    "\n",
    "In the next Notebook, I will join the two Data Sources together and see how much that affects performance."
   ]
  },
  {
   "cell_type": "markdown",
   "metadata": {},
   "source": [
    "## License "
   ]
  },
  {
   "cell_type": "markdown",
   "metadata": {},
   "source": [
    "MIT License\n",
    "\n",
    "Copyright (c) 2020 Nikhil Kohli\n",
    "\n",
    "Permission is hereby granted, free of charge, to any person obtaining a copy of this software and associated documentation files (the \"Software\"), to deal in the Software without restriction, including without limitation the rights to use, copy, modify, merge, publish, distribute, sublicense, and/or sell copies of the Software, and to permit persons to whom the Software is furnished to do so, subject to the following conditions:\n",
    "\n",
    "The above copyright notice and this permission notice shall be included in all copies or substantial portions of the Software.\n",
    "\n",
    "THE SOFTWARE IS PROVIDED \"AS IS\", WITHOUT WARRANTY OF ANY KIND, EXPRESS OR IMPLIED, INCLUDING BUT NOT LIMITED TO THE WARRANTIES OF MERCHANTABILITY, FITNESS FOR A PARTICULAR PURPOSE AND NONINFRINGEMENT. IN NO EVENT SHALL THE AUTHORS OR COPYRIGHT HOLDERS BE LIABLE FOR ANY CLAIM, DAMAGES OR OTHER LIABILITY, WHETHER IN AN ACTION OF CONTRACT, TORT OR OTHERWISE, ARISING FROM, OUT OF OR IN CONNECTION WITH THE SOFTWARE OR THE USE OR OTHER DEALINGS IN THE SOFTWARE."
   ]
  }
 ],
 "metadata": {
  "kernelspec": {
   "display_name": "Python 3",
   "language": "python",
   "name": "python3"
  },
  "language_info": {
   "codemirror_mode": {
    "name": "ipython",
    "version": 3
   },
   "file_extension": ".py",
   "mimetype": "text/x-python",
   "name": "python",
   "nbconvert_exporter": "python",
   "pygments_lexer": "ipython3",
   "version": "3.6.5"
  }
 },
 "nbformat": 4,
 "nbformat_minor": 2
}
